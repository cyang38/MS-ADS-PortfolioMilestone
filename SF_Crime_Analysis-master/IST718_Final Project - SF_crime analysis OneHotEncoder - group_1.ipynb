{
 "cells": [
  {
   "cell_type": "markdown",
   "metadata": {},
   "source": [
    "# IST718 Big Data Final Project - SF_crime\n",
    "##### Project1 - Chiau Yin Yang, Qing Chen, Zilong Chen\n",
    "\n",
    "We ran our models on databricks and download the python notebook for submission"
   ]
  },
  {
   "cell_type": "code",
   "execution_count": 2,
   "metadata": {},
   "outputs": [
    {
     "data": {
      "text/html": [
       "<style scoped>\n",
       "  .ansiout {\n",
       "    display: block;\n",
       "    unicode-bidi: embed;\n",
       "    white-space: pre-wrap;\n",
       "    word-wrap: break-word;\n",
       "    word-break: break-all;\n",
       "    font-family: \"Source Code Pro\", \"Menlo\", monospace;;\n",
       "    font-size: 13px;\n",
       "    color: #555;\n",
       "    margin-left: 4px;\n",
       "    line-height: 19px;\n",
       "  }\n",
       "</style>\n",
       "<div class=\"ansiout\"></div>"
      ]
     },
     "metadata": {},
     "output_type": "display_data"
    }
   ],
   "source": [
    "# import package\n",
    "from csv import reader\n",
    "from pyspark.sql import SparkSession\n",
    "import pyspark\n",
    "\n",
    "spark = SparkSession.builder.getOrCreate()\n",
    "sc = spark.sparkContext\n",
    "\n",
    "from pyspark.ml import feature, regression, Pipeline\n",
    "from pyspark.ml.clustering import KMeans\n",
    "from pyspark.ml.feature import VectorAssembler\n",
    "from pyspark.sql import functions as fn, Row\n",
    "from pyspark.sql.types import *\n",
    "from pyspark import sql\n",
    "from pyspark.ml.classification import LogisticRegression, RandomForestClassifier\n",
    "\n",
    "import numpy as np\n",
    "import pandas as pd\n",
    "import seaborn as sb\n",
    "import matplotlib.pyplot as plt\n",
    "import warnings\n",
    "\n",
    "import os"
   ]
  },
  {
   "cell_type": "markdown",
   "metadata": {},
   "source": [
    "## Convert Data to Spark DataFrame"
   ]
  },
  {
   "cell_type": "code",
   "execution_count": 4,
   "metadata": {},
   "outputs": [
    {
     "data": {
      "text/html": [
       "<style scoped>\n",
       "  .ansiout {\n",
       "    display: block;\n",
       "    unicode-bidi: embed;\n",
       "    white-space: pre-wrap;\n",
       "    word-wrap: break-word;\n",
       "    word-break: break-all;\n",
       "    font-family: \"Source Code Pro\", \"Menlo\", monospace;;\n",
       "    font-size: 13px;\n",
       "    color: #555;\n",
       "    margin-left: 4px;\n",
       "    line-height: 19px;\n",
       "  }\n",
       "</style>\n",
       "<div class=\"ansiout\"></div>"
      ]
     },
     "metadata": {},
     "output_type": "display_data"
    }
   ],
   "source": [
    "from pyspark.sql import SparkSession\n",
    "spark = SparkSession \\\n",
    "    .builder \\\n",
    "    .appName(\"crime analysis\") \\\n",
    "    .config(\"spark.some.config.option\", \"some-value\") \\\n",
    "    .getOrCreate()\n",
    "\n",
    "df = spark.read.format(\"csv\").option(\"header\", \"true\").load(\"FileStore/tables/Police_Department_Incident_Reports__Historical_2003_to_May_2018.csv\")\n"
   ]
  },
  {
   "cell_type": "code",
   "execution_count": 5,
   "metadata": {},
   "outputs": [
    {
     "data": {
      "text/html": [
       "<style scoped>\n",
       "  .table-result-container {\n",
       "    max-height: 300px;\n",
       "    overflow: auto;\n",
       "  }\n",
       "  table, th, td {\n",
       "    border: 1px solid black;\n",
       "    border-collapse: collapse;\n",
       "  }\n",
       "  th, td {\n",
       "    padding: 5px;\n",
       "  }\n",
       "  th {\n",
       "    text-align: left;\n",
       "  }\n",
       "</style><div class='table-result-container'><table class='table-result'><thead style='background-color: white'><tr><th>path</th><th>name</th><th>size</th></tr></thead><tbody><tr><td>dbfs:/FileStore/tables/Police_Department_Incident_Reports__Historical_2003_to_May_2018.csv</td><td>Police_Department_Incident_Reports__Historical_2003_to_May_2018.csv</td><td>300601428</td></tr><tr><td>dbfs:/FileStore/tables/crime_type_predefined-1fa1e.csv</td><td>crime_type_predefined-1fa1e.csv</td><td>615</td></tr></tbody></table></div>"
      ]
     },
     "metadata": {},
     "output_type": "display_data"
    }
   ],
   "source": [
    "# check list of file\n",
    "%fs ls FileStore/tables"
   ]
  },
  {
   "cell_type": "code",
   "execution_count": 6,
   "metadata": {},
   "outputs": [
    {
     "data": {
      "text/html": [
       "<style scoped>\n",
       "  .ansiout {\n",
       "    display: block;\n",
       "    unicode-bidi: embed;\n",
       "    white-space: pre-wrap;\n",
       "    word-wrap: break-word;\n",
       "    word-break: break-all;\n",
       "    font-family: \"Source Code Pro\", \"Menlo\", monospace;;\n",
       "    font-size: 13px;\n",
       "    color: #555;\n",
       "    margin-left: 4px;\n",
       "    line-height: 19px;\n",
       "  }\n",
       "</style>\n",
       "<div class=\"ansiout\">+----------+------------+--------------------+---------+----------+-----+----------+----------+--------------------+-----------------+----------------+--------------------+--------------+\n",
       "IncidntNum|    Category|            Descript|DayOfWeek|      Date| Time|PdDistrict|Resolution|             Address|                X|               Y|            Location|          PdId|\n",
       "+----------+------------+--------------------+---------+----------+-----+----------+----------+--------------------+-----------------+----------------+--------------------+--------------+\n",
       " 150060275|NON-CRIMINAL|       LOST PROPERTY|   Monday|01/19/2015|14:00|   MISSION|      NONE|18TH ST / VALENCI...| -122.42158168137|37.7617007179518|(37.7617007179518...|15006027571000|\n",
       " 150098210|     ROBBERY|ROBBERY, BODILY F...|   Sunday|02/01/2015|15:45|TENDERLOIN|      NONE|300 Block of LEAV...|-122.414406029855|37.7841907151119|(37.7841907151119...|15009821003074|\n",
       " 150098210|     ASSAULT|AGGRAVATED ASSAUL...|   Sunday|02/01/2015|15:45|TENDERLOIN|      NONE|300 Block of LEAV...|-122.414406029855|37.7841907151119|(37.7841907151119...|15009821004014|\n",
       "+----------+------------+--------------------+---------+----------+-----+----------+----------+--------------------+-----------------+----------------+--------------------+--------------+\n",
       "only showing top 3 rows\n",
       "\n",
       "1453354\n",
       "</div>"
      ]
     },
     "metadata": {},
     "output_type": "display_data"
    }
   ],
   "source": [
    "# show dataframe\n",
    "df.show(3)\n",
    "print(df.count())"
   ]
  },
  {
   "cell_type": "code",
   "execution_count": 7,
   "metadata": {},
   "outputs": [
    {
     "data": {
      "text/html": [
       "<style scoped>\n",
       "  .ansiout {\n",
       "    display: block;\n",
       "    unicode-bidi: embed;\n",
       "    white-space: pre-wrap;\n",
       "    word-wrap: break-word;\n",
       "    word-break: break-all;\n",
       "    font-family: \"Source Code Pro\", \"Menlo\", monospace;;\n",
       "    font-size: 13px;\n",
       "    color: #555;\n",
       "    margin-left: 4px;\n",
       "    line-height: 19px;\n",
       "  }\n",
       "</style>\n",
       "<div class=\"ansiout\"><span class=\"ansired\">Out[</span><span class=\"ansired\">24</span><span class=\"ansired\">]: </span>1453353\n",
       "</div>"
      ]
     },
     "metadata": {},
     "output_type": "display_data"
    }
   ],
   "source": [
    "# drop na\n",
    "df1 = df.na.drop()\n",
    "df1.count()"
   ]
  },
  {
   "cell_type": "markdown",
   "metadata": {},
   "source": [
    "## Data Preprocessing - converting date-time\n",
    "    - Analysis data by time"
   ]
  },
  {
   "cell_type": "code",
   "execution_count": 9,
   "metadata": {},
   "outputs": [
    {
     "data": {
      "text/html": [
       "<style scoped>\n",
       "  .ansiout {\n",
       "    display: block;\n",
       "    unicode-bidi: embed;\n",
       "    white-space: pre-wrap;\n",
       "    word-wrap: break-word;\n",
       "    word-break: break-all;\n",
       "    font-family: \"Source Code Pro\", \"Menlo\", monospace;;\n",
       "    font-size: 13px;\n",
       "    color: #555;\n",
       "    margin-left: 4px;\n",
       "    line-height: 19px;\n",
       "  }\n",
       "</style>\n",
       "<div class=\"ansiout\"></div>"
      ]
     },
     "metadata": {},
     "output_type": "display_data"
    }
   ],
   "source": [
    "from pyspark.sql.types import DateType\n",
    "from pyspark.sql.functions import year, month, dayofmonth\n",
    "from pyspark.sql.functions import udf\n",
    "from datetime import datetime\n",
    "# Convert Date type from string to unix_timestamp\n",
    "func = udf (lambda x: datetime.strptime(x, '%m/%d/%Y'), DateType())\n",
    "# Add 'Year', 'Month', 'Day' columns to the dataframe\n",
    "df_with_timestamp = df1.withColumn('Spark_Date', func(df.Date))\n",
    "df_with_timestamp = df_with_timestamp.withColumn('Year', year(df_with_timestamp.Spark_Date)).withColumn('Month', month(df_with_timestamp.Spark_Date))\n",
    "df_with_timestamp = df_with_timestamp.withColumn('Day', dayofmonth(df_with_timestamp.Spark_Date))\n"
   ]
  },
  {
   "cell_type": "code",
   "execution_count": 10,
   "metadata": {},
   "outputs": [
    {
     "data": {
      "text/html": [
       "<style scoped>\n",
       "  .ansiout {\n",
       "    display: block;\n",
       "    unicode-bidi: embed;\n",
       "    white-space: pre-wrap;\n",
       "    word-wrap: break-word;\n",
       "    word-break: break-all;\n",
       "    font-family: \"Source Code Pro\", \"Menlo\", monospace;;\n",
       "    font-size: 13px;\n",
       "    color: #555;\n",
       "    margin-left: 4px;\n",
       "    line-height: 19px;\n",
       "  }\n",
       "</style>\n",
       "<div class=\"ansiout\">+----------+------------+--------------------+---------+----------+-----+----------+----------+--------------------+-----------------+----------------+--------------------+--------------+----------+----+-----+---+\n",
       "IncidntNum|    Category|            Descript|DayOfWeek|      Date| Time|PdDistrict|Resolution|             Address|                X|               Y|            Location|          PdId|Spark_Date|Year|Month|Day|\n",
       "+----------+------------+--------------------+---------+----------+-----+----------+----------+--------------------+-----------------+----------------+--------------------+--------------+----------+----+-----+---+\n",
       " 150060275|NON-CRIMINAL|       LOST PROPERTY|   Monday|01/19/2015|14:00|   MISSION|      NONE|18TH ST / VALENCI...| -122.42158168137|37.7617007179518|(37.7617007179518...|15006027571000|2015-01-19|2015|    1| 19|\n",
       " 150098210|     ROBBERY|ROBBERY, BODILY F...|   Sunday|02/01/2015|15:45|TENDERLOIN|      NONE|300 Block of LEAV...|-122.414406029855|37.7841907151119|(37.7841907151119...|15009821003074|2015-02-01|2015|    2|  1|\n",
       " 150098210|     ASSAULT|AGGRAVATED ASSAUL...|   Sunday|02/01/2015|15:45|TENDERLOIN|      NONE|300 Block of LEAV...|-122.414406029855|37.7841907151119|(37.7841907151119...|15009821004014|2015-02-01|2015|    2|  1|\n",
       "+----------+------------+--------------------+---------+----------+-----+----------+----------+--------------------+-----------------+----------------+--------------------+--------------+----------+----+-----+---+\n",
       "only showing top 3 rows\n",
       "\n",
       "</div>"
      ]
     },
     "metadata": {},
     "output_type": "display_data"
    }
   ],
   "source": [
    "# add year, month, day to dataframe\n",
    "df_with_timestamp.show(3)"
   ]
  },
  {
   "cell_type": "code",
   "execution_count": 12,
   "metadata": {},
   "outputs": [
    {
     "data": {
      "text/html": [
       "<style scoped>\n",
       "  .ansiout {\n",
       "    display: block;\n",
       "    unicode-bidi: embed;\n",
       "    white-space: pre-wrap;\n",
       "    word-wrap: break-word;\n",
       "    word-break: break-all;\n",
       "    font-family: \"Source Code Pro\", \"Menlo\", monospace;;\n",
       "    font-size: 13px;\n",
       "    color: #555;\n",
       "    margin-left: 4px;\n",
       "    line-height: 19px;\n",
       "  }\n",
       "</style>\n",
       "<div class=\"ansiout\"></div>"
      ]
     },
     "metadata": {},
     "output_type": "display_data"
    }
   ],
   "source": [
    "# Convert the Date and Time from String to Integer\n",
    "from pyspark.sql.types import TimestampType\n",
    "from pyspark.sql.functions import year, month, dayofmonth, hour, minute\n",
    "from datetime import datetime\n",
    "# Convert Time type from string to timestamp\n",
    "func_timestamp = udf (lambda x: datetime.strptime(x, '%H:%M'), TimestampType())\n",
    "# Add 'Year', 'Month', 'Day' columns to the dataframe\n",
    "df_with_timestamp = df_with_timestamp.withColumn('Spark_Time', func_timestamp(df_with_timestamp.Time))\n",
    "df_with_timestamp = df_with_timestamp.withColumn('Hour', hour(df_with_timestamp.Spark_Time)).withColumn('Minute', minute(df_with_timestamp.Spark_Time))"
   ]
  },
  {
   "cell_type": "code",
   "execution_count": 13,
   "metadata": {},
   "outputs": [
    {
     "data": {
      "text/html": [
       "<style scoped>\n",
       "  .ansiout {\n",
       "    display: block;\n",
       "    unicode-bidi: embed;\n",
       "    white-space: pre-wrap;\n",
       "    word-wrap: break-word;\n",
       "    word-break: break-all;\n",
       "    font-family: \"Source Code Pro\", \"Menlo\", monospace;;\n",
       "    font-size: 13px;\n",
       "    color: #555;\n",
       "    margin-left: 4px;\n",
       "    line-height: 19px;\n",
       "  }\n",
       "</style>\n",
       "<div class=\"ansiout\"></div>"
      ]
     },
     "metadata": {},
     "output_type": "display_data"
    }
   ],
   "source": [
    "# to reduce processing time, save only necessary columns\n",
    "final_df = df_with_timestamp.select(\"Category\", \"DayOfWeek\", \"PdDistrict\", \"Year\",\"Month\",\"Hour\",\"Resolution\")"
   ]
  },
  {
   "cell_type": "code",
   "execution_count": 14,
   "metadata": {},
   "outputs": [
    {
     "data": {
      "text/html": [
       "<style scoped>\n",
       "  .ansiout {\n",
       "    display: block;\n",
       "    unicode-bidi: embed;\n",
       "    white-space: pre-wrap;\n",
       "    word-wrap: break-word;\n",
       "    word-break: break-all;\n",
       "    font-family: \"Source Code Pro\", \"Menlo\", monospace;;\n",
       "    font-size: 13px;\n",
       "    color: #555;\n",
       "    margin-left: 4px;\n",
       "    line-height: 19px;\n",
       "  }\n",
       "</style>\n",
       "<div class=\"ansiout\"></div>"
      ]
     },
     "metadata": {},
     "output_type": "display_data"
    }
   ],
   "source": [
    "# convert target attribute to numeric\n",
    "final_df = final_df.withColumn(\n",
    "    'Res_num', fn.when((fn.col('Resolution') == 'NONE') | (fn.col('Resolution') == 'UNFOUNDED'), int(0)).otherwise(int(1)))"
   ]
  },
  {
   "cell_type": "code",
   "execution_count": 16,
   "metadata": {},
   "outputs": [
    {
     "data": {
      "text/html": [
       "<style scoped>\n",
       "  .ansiout {\n",
       "    display: block;\n",
       "    unicode-bidi: embed;\n",
       "    white-space: pre-wrap;\n",
       "    word-wrap: break-word;\n",
       "    word-break: break-all;\n",
       "    font-family: \"Source Code Pro\", \"Menlo\", monospace;;\n",
       "    font-size: 13px;\n",
       "    color: #555;\n",
       "    margin-left: 4px;\n",
       "    line-height: 19px;\n",
       "  }\n",
       "</style>\n",
       "<div class=\"ansiout\">+-------+------+\n",
       "Res_num| count|\n",
       "+-------+------+\n",
       "      1|515964|\n",
       "      0|937389|\n",
       "+-------+------+\n",
       "\n",
       "</div>"
      ]
     },
     "metadata": {},
     "output_type": "display_data"
    }
   ],
   "source": [
    "# see target attribute distribution\n",
    "final_df.groupby('Res_num').count().show()"
   ]
  },
  {
   "cell_type": "code",
   "execution_count": 17,
   "metadata": {},
   "outputs": [
    {
     "data": {
      "text/html": [
       "<style scoped>\n",
       "  .ansiout {\n",
       "    display: block;\n",
       "    unicode-bidi: embed;\n",
       "    white-space: pre-wrap;\n",
       "    word-wrap: break-word;\n",
       "    word-break: break-all;\n",
       "    font-family: \"Source Code Pro\", \"Menlo\", monospace;;\n",
       "    font-size: 13px;\n",
       "    color: #555;\n",
       "    margin-left: 4px;\n",
       "    line-height: 19px;\n",
       "  }\n",
       "</style>\n",
       "<div class=\"ansiout\"></div>"
      ]
     },
     "metadata": {},
     "output_type": "display_data"
    }
   ],
   "source": [
    "# Load the pre-defined crime label dataset\n",
    "df_crime_type = spark.read.format(\"csv\").option(\"header\", \"true\").load(\"FileStore/tables/crime_type_predefined-1fa1e.csv\")"
   ]
  },
  {
   "cell_type": "code",
   "execution_count": 18,
   "metadata": {},
   "outputs": [
    {
     "data": {
      "text/html": [
       "<style scoped>\n",
       "  .ansiout {\n",
       "    display: block;\n",
       "    unicode-bidi: embed;\n",
       "    white-space: pre-wrap;\n",
       "    word-wrap: break-word;\n",
       "    word-break: break-all;\n",
       "    font-family: \"Source Code Pro\", \"Menlo\", monospace;;\n",
       "    font-size: 13px;\n",
       "    color: #555;\n",
       "    margin-left: 4px;\n",
       "    line-height: 19px;\n",
       "  }\n",
       "</style>\n",
       "<div class=\"ansiout\"><span class=\"ansired\">Out[</span><span class=\"ansired\">33</span><span class=\"ansired\">]: </span>\n",
       "[Row(crime_type=&apos;NON-CRIMINAL&apos;, level=&apos;1&apos;),\n",
       " Row(crime_type=&apos;WARRANTS&apos;, level=&apos;1&apos;),\n",
       " Row(crime_type=&apos;GAMBLING&apos;, level=&apos;1&apos;)]\n",
       "</div>"
      ]
     },
     "metadata": {},
     "output_type": "display_data"
    }
   ],
   "source": [
    "#df_crime_type.drop(index=0, inplace = True)\n",
    "df_crime_type.head(3)"
   ]
  },
  {
   "cell_type": "code",
   "execution_count": 19,
   "metadata": {},
   "outputs": [
    {
     "data": {
      "text/html": [
       "<style scoped>\n",
       "  .ansiout {\n",
       "    display: block;\n",
       "    unicode-bidi: embed;\n",
       "    white-space: pre-wrap;\n",
       "    word-wrap: break-word;\n",
       "    word-break: break-all;\n",
       "    font-family: \"Source Code Pro\", \"Menlo\", monospace;;\n",
       "    font-size: 13px;\n",
       "    color: #555;\n",
       "    margin-left: 4px;\n",
       "    line-height: 19px;\n",
       "  }\n",
       "</style>\n",
       "<div class=\"ansiout\"></div>"
      ]
     },
     "metadata": {},
     "output_type": "display_data"
    }
   ],
   "source": [
    "import pyspark.sql\n",
    "from pyspark.sql import functions as fn\n"
   ]
  },
  {
   "cell_type": "code",
   "execution_count": 20,
   "metadata": {},
   "outputs": [
    {
     "data": {
      "text/html": [
       "<style scoped>\n",
       "  .ansiout {\n",
       "    display: block;\n",
       "    unicode-bidi: embed;\n",
       "    white-space: pre-wrap;\n",
       "    word-wrap: break-word;\n",
       "    word-break: break-all;\n",
       "    font-family: \"Source Code Pro\", \"Menlo\", monospace;;\n",
       "    font-size: 13px;\n",
       "    color: #555;\n",
       "    margin-left: 4px;\n",
       "    line-height: 19px;\n",
       "  }\n",
       "</style>\n",
       "<div class=\"ansiout\">+---------------+---------+----------+----+-----+----+----------+-------+\n",
       "       Category|DayOfWeek|PdDistrict|Year|Month|Hour|Resolution|Res_num|\n",
       "+---------------+---------+----------+----+-----+----+----------+-------+\n",
       "   NON-CRIMINAL|   Monday|   MISSION|2015|    1|  14|      NONE|      0|\n",
       "        ROBBERY|   Sunday|TENDERLOIN|2015|    2|  15|      NONE|      0|\n",
       "        ASSAULT|   Sunday|TENDERLOIN|2015|    2|  15|      NONE|      0|\n",
       "SECONDARY CODES|   Sunday|TENDERLOIN|2015|    2|  15|      NONE|      0|\n",
       "      VANDALISM|  Tuesday|  NORTHERN|2015|    1|  19|      NONE|      0|\n",
       "+---------------+---------+----------+----+-----+----+----------+-------+\n",
       "only showing top 5 rows\n",
       "\n",
       "</div>"
      ]
     },
     "metadata": {},
     "output_type": "display_data"
    }
   ],
   "source": [
    "# check dataframe\n",
    "final_df.show(5)"
   ]
  },
  {
   "cell_type": "markdown",
   "metadata": {},
   "source": [
    "## Feature engineering\n",
    "- Split hours into 5 levels and use morning as baseline reference\n",
    "- Let OneHotEncoder process the rest of the categorical columns - location, month, crime category, day of the week\n",
    "\n",
    "#### Variables that are considered:\n",
    "- location\n",
    "- Crime category\n",
    "- Incident time\n",
    "    - Hour (5 levels)\n",
    "    - Month (12 levels)\n",
    "    - Day of the week (7 levels)"
   ]
  },
  {
   "cell_type": "code",
   "execution_count": 22,
   "metadata": {},
   "outputs": [
    {
     "data": {
      "text/html": [
       "<style scoped>\n",
       "  .ansiout {\n",
       "    display: block;\n",
       "    unicode-bidi: embed;\n",
       "    white-space: pre-wrap;\n",
       "    word-wrap: break-word;\n",
       "    word-break: break-all;\n",
       "    font-family: \"Source Code Pro\", \"Menlo\", monospace;;\n",
       "    font-size: 13px;\n",
       "    color: #555;\n",
       "    margin-left: 4px;\n",
       "    line-height: 19px;\n",
       "  }\n",
       "</style>\n",
       "<div class=\"ansiout\"></div>"
      ]
     },
     "metadata": {},
     "output_type": "display_data"
    }
   ],
   "source": [
    "# create dummy variable for hours - use morning as reference\n",
    "final_df = final_df.withColumn('Morning', fn.when((fn.col('Hour') == 1) | (fn.col('Hour') == 2) |\n",
    "                                                  (fn.col('Hour') == 3) |(fn.col('Hour') == 4) |\n",
    "                                                  (fn.col('Hour') == 5) |(fn.col('Hour') == 6) |\n",
    "                                                  (fn.col('Hour') == 7) | (fn.col('Hour') == 8), 1).otherwise(0))\n"
   ]
  },
  {
   "cell_type": "code",
   "execution_count": 23,
   "metadata": {},
   "outputs": [
    {
     "data": {
      "text/html": [
       "<style scoped>\n",
       "  .ansiout {\n",
       "    display: block;\n",
       "    unicode-bidi: embed;\n",
       "    white-space: pre-wrap;\n",
       "    word-wrap: break-word;\n",
       "    word-break: break-all;\n",
       "    font-family: \"Source Code Pro\", \"Menlo\", monospace;;\n",
       "    font-size: 13px;\n",
       "    color: #555;\n",
       "    margin-left: 4px;\n",
       "    line-height: 19px;\n",
       "  }\n",
       "</style>\n",
       "<div class=\"ansiout\">+------------+---------+----------+----+-----+----+----------+-------+---------+---------+-------+-----+\n",
       "    Category|DayOfWeek|PdDistrict|Year|Month|Hour|Resolution|Res_num|Near noon|Afternoon|evening|Night|\n",
       "+------------+---------+----------+----+-----+----+----------+-------+---------+---------+-------+-----+\n",
       "NON-CRIMINAL|   Monday|   MISSION|2015|    1|  14|      NONE|      0|        0|        1|      0|    0|\n",
       "     ROBBERY|   Sunday|TENDERLOIN|2015|    2|  15|      NONE|      0|        0|        1|      0|    0|\n",
       "     ASSAULT|   Sunday|TENDERLOIN|2015|    2|  15|      NONE|      0|        0|        1|      0|    0|\n",
       "+------------+---------+----------+----+-----+----+----------+-------+---------+---------+-------+-----+\n",
       "only showing top 3 rows\n",
       "\n",
       "</div>"
      ]
     },
     "metadata": {},
     "output_type": "display_data"
    }
   ],
   "source": [
    "#create dummy variable for day of the week - use wednesday as our reference\n",
    "final_df = final_df.withColumn('Near noon', fn.when((fn.col('Hour') == 9) | (fn.col('Hour') == 10) |\n",
    "                                              (fn.col('Hour') == 11) | (fn.col('Hour') == 12), 1).otherwise(0))\n",
    "final_df = final_df.withColumn('Afternoon', fn.when((fn.col('Hour') == 13) | (fn.col('Hour') == 14) |\n",
    "                                            (fn.col('Hour') == 15) | (fn.col('Hour') == 16) |\n",
    "                                             (fn.col('Hour') == 17), 1).otherwise(0))\n",
    "final_df = final_df.withColumn('evening', fn.when((fn.col('Hour') >= 18) & (fn.col('Hour') <= 20), 1).otherwise(0))\n",
    "final_df = final_df.withColumn('Night', fn.when((fn.col('Hour') == 21) | (fn.col('Hour') == 22) |\n",
    "                                                 (fn.col('Hour') == 23) | (fn.col('Hour') == 0), 1).otherwise(0))\n",
    "\n",
    "final_df.show(3)\n",
    "#training_df = df_final.where('Year >= 2008 and Year < 2014')                       "
   ]
  },
  {
   "cell_type": "code",
   "execution_count": 24,
   "metadata": {},
   "outputs": [
    {
     "data": {
      "text/html": [
       "<style scoped>\n",
       "  .ansiout {\n",
       "    display: block;\n",
       "    unicode-bidi: embed;\n",
       "    white-space: pre-wrap;\n",
       "    word-wrap: break-word;\n",
       "    word-break: break-all;\n",
       "    font-family: \"Source Code Pro\", \"Menlo\", monospace;;\n",
       "    font-size: 13px;\n",
       "    color: #555;\n",
       "    margin-left: 4px;\n",
       "    line-height: 19px;\n",
       "  }\n",
       "</style>\n",
       "<div class=\"ansiout\">+------------+---------+----------+----+-----+----+----------+-------+---------+---------+-------+-----+\n",
       "    Category|DayOfWeek|PdDistrict|Year|Month|Hour|Resolution|Res_num|Near noon|Afternoon|evening|Night|\n",
       "+------------+---------+----------+----+-----+----+----------+-------+---------+---------+-------+-----+\n",
       "NON-CRIMINAL|   Monday|   MISSION|2015|    1|  14|      NONE|      0|        0|        1|      0|    0|\n",
       "     ROBBERY|   Sunday|TENDERLOIN|2015|    2|  15|      NONE|      0|        0|        1|      0|    0|\n",
       "+------------+---------+----------+----+-----+----+----------+-------+---------+---------+-------+-----+\n",
       "only showing top 2 rows\n",
       "\n",
       "</div>"
      ]
     },
     "metadata": {},
     "output_type": "display_data"
    }
   ],
   "source": [
    "# dropping morning cuz it is baseline reference\n",
    "final_df = final_df.drop('Morning')\n",
    "final_df.show(2)"
   ]
  },
  {
   "cell_type": "code",
   "execution_count": 26,
   "metadata": {},
   "outputs": [
    {
     "data": {
      "text/html": [
       "<style scoped>\n",
       "  .ansiout {\n",
       "    display: block;\n",
       "    unicode-bidi: embed;\n",
       "    white-space: pre-wrap;\n",
       "    word-wrap: break-word;\n",
       "    word-break: break-all;\n",
       "    font-family: \"Source Code Pro\", \"Menlo\", monospace;;\n",
       "    font-size: 13px;\n",
       "    color: #555;\n",
       "    margin-left: 4px;\n",
       "    line-height: 19px;\n",
       "  }\n",
       "</style>\n",
       "<div class=\"ansiout\">(1453353, 24)\n",
       "</div>"
      ]
     },
     "metadata": {},
     "output_type": "display_data"
    }
   ],
   "source": [
    "# checking the size of the dataframe\n",
    "print((df_final.count(), len(df_final.columns)))"
   ]
  },
  {
   "cell_type": "code",
   "execution_count": 27,
   "metadata": {},
   "outputs": [
    {
     "data": {
      "text/html": [
       "<style scoped>\n",
       "  .ansiout {\n",
       "    display: block;\n",
       "    unicode-bidi: embed;\n",
       "    white-space: pre-wrap;\n",
       "    word-wrap: break-word;\n",
       "    word-break: break-all;\n",
       "    font-family: \"Source Code Pro\", \"Menlo\", monospace;;\n",
       "    font-size: 13px;\n",
       "    color: #555;\n",
       "    margin-left: 4px;\n",
       "    line-height: 19px;\n",
       "  }\n",
       "</style>\n",
       "<div class=\"ansiout\">+------------+-----+\n",
       "    Category|Level|\n",
       "+------------+-----+\n",
       "NON-CRIMINAL|    1|\n",
       "    WARRANTS|    1|\n",
       "+------------+-----+\n",
       "only showing top 2 rows\n",
       "\n",
       "</div>"
      ]
     },
     "metadata": {},
     "output_type": "display_data"
    }
   ],
   "source": [
    "df_crime_type = df_crime_type.selectExpr(\"crime_type as Category\", \"level as Level\")\n",
    "df_crime_type.show(2)"
   ]
  },
  {
   "cell_type": "code",
   "execution_count": 28,
   "metadata": {},
   "outputs": [
    {
     "data": {
      "text/html": [
       "<style scoped>\n",
       "  .ansiout {\n",
       "    display: block;\n",
       "    unicode-bidi: embed;\n",
       "    white-space: pre-wrap;\n",
       "    word-wrap: break-word;\n",
       "    word-break: break-all;\n",
       "    font-family: \"Source Code Pro\", \"Menlo\", monospace;;\n",
       "    font-size: 13px;\n",
       "    color: #555;\n",
       "    margin-left: 4px;\n",
       "    line-height: 19px;\n",
       "  }\n",
       "</style>\n",
       "<div class=\"ansiout\">+------------+---------+----------+----+-----+----+----------+-------+---------+---------+-------+-----+-----+\n",
       "    Category|DayOfWeek|PdDistrict|Year|Month|Hour|Resolution|Res_num|Near noon|Afternoon|evening|Night|Level|\n",
       "+------------+---------+----------+----+-----+----+----------+-------+---------+---------+-------+-----+-----+\n",
       "NON-CRIMINAL|   Monday|   MISSION|2015|    1|  14|      NONE|      0|        0|        1|      0|    0|    1|\n",
       "     ROBBERY|   Sunday|TENDERLOIN|2015|    2|  15|      NONE|      0|        0|        1|      0|    0|    4|\n",
       "     ASSAULT|   Sunday|TENDERLOIN|2015|    2|  15|      NONE|      0|        0|        1|      0|    0|    4|\n",
       "+------------+---------+----------+----+-----+----+----------+-------+---------+---------+-------+-----+-----+\n",
       "only showing top 3 rows\n",
       "\n",
       "</div>"
      ]
     },
     "metadata": {},
     "output_type": "display_data"
    }
   ],
   "source": [
    "# join 2 dataframe\n",
    "crime_join = final_df.join(df_crime_type, on='Category',how='left')\n",
    "crime_join.show(3)\n"
   ]
  },
  {
   "cell_type": "code",
   "execution_count": 29,
   "metadata": {},
   "outputs": [
    {
     "data": {
      "text/html": [
       "<style scoped>\n",
       "  .ansiout {\n",
       "    display: block;\n",
       "    unicode-bidi: embed;\n",
       "    white-space: pre-wrap;\n",
       "    word-wrap: break-word;\n",
       "    word-break: break-all;\n",
       "    font-family: \"Source Code Pro\", \"Menlo\", monospace;;\n",
       "    font-size: 13px;\n",
       "    color: #555;\n",
       "    margin-left: 4px;\n",
       "    line-height: 19px;\n",
       "  }\n",
       "</style>\n",
       "<div class=\"ansiout\">+------------+---------+----------+----+-----+----+----------+-------+---------+---------+-------+-----+-----+-----+------+-------+------------+\n",
       "    Category|DayOfWeek|PdDistrict|Year|Month|Hour|Resolution|Res_num|Near noon|Afternoon|evening|Night|Level|Minor|Medium|Servere|Very Servere|\n",
       "+------------+---------+----------+----+-----+----+----------+-------+---------+---------+-------+-----+-----+-----+------+-------+------------+\n",
       "NON-CRIMINAL|   Monday|   MISSION|2015|    1|  14|      NONE|      0|        0|        1|      0|    0|    1|    0|     0|      0|           0|\n",
       "     ROBBERY|   Sunday|TENDERLOIN|2015|    2|  15|      NONE|      0|        0|        1|      0|    0|    4|    0|     0|      1|           0|\n",
       "     ASSAULT|   Sunday|TENDERLOIN|2015|    2|  15|      NONE|      0|        0|        1|      0|    0|    4|    0|     0|      1|           0|\n",
       "+------------+---------+----------+----+-----+----+----------+-------+---------+---------+-------+-----+-----+-----+------+-------+------------+\n",
       "only showing top 3 rows\n",
       "\n",
       "</div>"
      ]
     },
     "metadata": {},
     "output_type": "display_data"
    }
   ],
   "source": [
    "#df_final = df_final.withColumn('Very Minor', fn.when(fn.col('Level') == '1', 1).otherwise(0)) \n",
    "# as our reference \n",
    "crime_join = crime_join.withColumn('Minor', fn.when(fn.col('Level') == '2', 1).otherwise(0))\n",
    "crime_join = crime_join.withColumn('Medium', fn.when(fn.col('Level') == '3', 1).otherwise(0))\n",
    "crime_join = crime_join.withColumn('Servere', fn.when(fn.col('Level') == '4', 1).otherwise(0))\n",
    "crime_join = crime_join.withColumn('Very Servere', fn.when(fn.col('Level') == '5', 1).otherwise(0))\n",
    "\n",
    "crime_join.show(3)"
   ]
  },
  {
   "cell_type": "code",
   "execution_count": 30,
   "metadata": {},
   "outputs": [
    {
     "data": {
      "text/html": [
       "<style scoped>\n",
       "  .ansiout {\n",
       "    display: block;\n",
       "    unicode-bidi: embed;\n",
       "    white-space: pre-wrap;\n",
       "    word-wrap: break-word;\n",
       "    word-break: break-all;\n",
       "    font-family: \"Source Code Pro\", \"Menlo\", monospace;;\n",
       "    font-size: 13px;\n",
       "    color: #555;\n",
       "    margin-left: 4px;\n",
       "    line-height: 19px;\n",
       "  }\n",
       "</style>\n",
       "<div class=\"ansiout\">+-----+------+\n",
       "Level| count|\n",
       "+-----+------+\n",
       "    3|489779|\n",
       "    5|118431|\n",
       "    1|249718|\n",
       "    4|301876|\n",
       "    2|293549|\n",
       "+-----+------+\n",
       "\n",
       "</div>"
      ]
     },
     "metadata": {},
     "output_type": "display_data"
    }
   ],
   "source": [
    "crime_join.groupby('Level').count().show()\n",
    "# why is there missing values?? yay it is all fixed!!"
   ]
  },
  {
   "cell_type": "code",
   "execution_count": 31,
   "metadata": {},
   "outputs": [
    {
     "data": {
      "text/html": [
       "<style scoped>\n",
       "  .ansiout {\n",
       "    display: block;\n",
       "    unicode-bidi: embed;\n",
       "    white-space: pre-wrap;\n",
       "    word-wrap: break-word;\n",
       "    word-break: break-all;\n",
       "    font-family: \"Source Code Pro\", \"Menlo\", monospace;;\n",
       "    font-size: 13px;\n",
       "    color: #555;\n",
       "    margin-left: 4px;\n",
       "    line-height: 19px;\n",
       "  }\n",
       "</style>\n",
       "<div class=\"ansiout\"><span class=\"ansired\">Out[</span><span class=\"ansired\">49</span><span class=\"ansired\">]: </span>DataFrame[summary: string, Category: string, DayOfWeek: string, PdDistrict: string, Year: string, Month: string, Hour: string, Resolution: string, Res_num: string, Near noon: string, Afternoon: string, evening: string, Night: string]\n",
       "</div>"
      ]
     },
     "metadata": {},
     "output_type": "display_data"
    }
   ],
   "source": [
    "final_df.describe()"
   ]
  },
  {
   "cell_type": "markdown",
   "metadata": {},
   "source": [
    "## Split dataset into training, validation and testing by the year of the incidents\n",
    "- Follow 0.6, 0.3, and 0.1 rule to split (6 years of data as training etc)"
   ]
  },
  {
   "cell_type": "code",
   "execution_count": 33,
   "metadata": {},
   "outputs": [
    {
     "data": {
      "text/html": [
       "<style scoped>\n",
       "  .ansiout {\n",
       "    display: block;\n",
       "    unicode-bidi: embed;\n",
       "    white-space: pre-wrap;\n",
       "    word-wrap: break-word;\n",
       "    word-break: break-all;\n",
       "    font-family: \"Source Code Pro\", \"Menlo\", monospace;;\n",
       "    font-size: 13px;\n",
       "    color: #555;\n",
       "    margin-left: 4px;\n",
       "    line-height: 19px;\n",
       "  }\n",
       "</style>\n",
       "<div class=\"ansiout\"></div>"
      ]
     },
     "metadata": {},
     "output_type": "display_data"
    }
   ],
   "source": [
    "training_df = final_df.where('Year >= 2008 and Year < 2014')\n",
    "validation_df = final_df.where('Year >= 2014 and Year < 2017')\n",
    "testing_df = final_df.where('Year >= 2017')"
   ]
  },
  {
   "cell_type": "code",
   "execution_count": 34,
   "metadata": {},
   "outputs": [
    {
     "data": {
      "text/html": [
       "<style scoped>\n",
       "  .ansiout {\n",
       "    display: block;\n",
       "    unicode-bidi: embed;\n",
       "    white-space: pre-wrap;\n",
       "    word-wrap: break-word;\n",
       "    word-break: break-all;\n",
       "    font-family: \"Source Code Pro\", \"Menlo\", monospace;;\n",
       "    font-size: 13px;\n",
       "    color: #555;\n",
       "    margin-left: 4px;\n",
       "    line-height: 19px;\n",
       "  }\n",
       "</style>\n",
       "<div class=\"ansiout\"># points in training:  841044\n",
       "# points in validation:  457536\n",
       "# points in testing:  154773\n",
       "</div>"
      ]
     },
     "metadata": {},
     "output_type": "display_data"
    }
   ],
   "source": [
    "print(\"# points in training: \", training_df.count())\n",
    "print(\"# points in validation: \", validation_df.count())\n",
    "print(\"# points in testing: \", testing_df.count())"
   ]
  },
  {
   "cell_type": "code",
   "execution_count": 35,
   "metadata": {},
   "outputs": [
    {
     "data": {
      "text/html": [
       "<style scoped>\n",
       "  .ansiout {\n",
       "    display: block;\n",
       "    unicode-bidi: embed;\n",
       "    white-space: pre-wrap;\n",
       "    word-wrap: break-word;\n",
       "    word-break: break-all;\n",
       "    font-family: \"Source Code Pro\", \"Menlo\", monospace;;\n",
       "    font-size: 13px;\n",
       "    color: #555;\n",
       "    margin-left: 4px;\n",
       "    line-height: 19px;\n",
       "  }\n",
       "</style>\n",
       "<div class=\"ansiout\">1453353\n",
       "<span class=\"ansired\">Out[</span><span class=\"ansired\">120</span><span class=\"ansired\">]: </span>1453353\n",
       "</div>"
      ]
     },
     "metadata": {},
     "output_type": "display_data"
    }
   ],
   "source": [
    "print(crime_join.count())\n",
    "training_df.count() + validation_df.count() + testing_df.count()"
   ]
  },
  {
   "cell_type": "code",
   "execution_count": 36,
   "metadata": {},
   "outputs": [
    {
     "data": {
      "text/html": [
       "<style scoped>\n",
       "  .ansiout {\n",
       "    display: block;\n",
       "    unicode-bidi: embed;\n",
       "    white-space: pre-wrap;\n",
       "    word-wrap: break-word;\n",
       "    word-break: break-all;\n",
       "    font-family: \"Source Code Pro\", \"Menlo\", monospace;;\n",
       "    font-size: 13px;\n",
       "    color: #555;\n",
       "    margin-left: 4px;\n",
       "    line-height: 19px;\n",
       "  }\n",
       "</style>\n",
       "<div class=\"ansiout\"></div>"
      ]
     },
     "metadata": {},
     "output_type": "display_data"
    }
   ],
   "source": [
    "# Functionality for computing features\n",
    "from pyspark.ml import feature\n",
    "# Functionality for regression\n",
    "from pyspark.ml import regression\n",
    "# Funcionality for classification\n",
    "from pyspark.ml import classification\n",
    "# Object for creating sequences of transformations\n",
    "from pyspark.ml import Pipeline, evaluation"
   ]
  },
  {
   "cell_type": "code",
   "execution_count": 37,
   "metadata": {},
   "outputs": [
    {
     "data": {
      "text/html": [
       "<style scoped>\n",
       "  .ansiout {\n",
       "    display: block;\n",
       "    unicode-bidi: embed;\n",
       "    white-space: pre-wrap;\n",
       "    word-wrap: break-word;\n",
       "    word-break: break-all;\n",
       "    font-family: \"Source Code Pro\", \"Menlo\", monospace;;\n",
       "    font-size: 13px;\n",
       "    color: #555;\n",
       "    margin-left: 4px;\n",
       "    line-height: 19px;\n",
       "  }\n",
       "</style>\n",
       "<div class=\"ansiout\"></div>"
      ]
     },
     "metadata": {},
     "output_type": "display_data"
    }
   ],
   "source": [
    "from pyspark.mllib.classification import LogisticRegressionWithLBFGS\n",
    "from pyspark.mllib.util import MLUtils\n",
    "from pyspark.mllib.evaluation import MulticlassMetrics"
   ]
  },
  {
   "cell_type": "code",
   "execution_count": 38,
   "metadata": {},
   "outputs": [
    {
     "data": {
      "text/html": [
       "<style scoped>\n",
       "  .ansiout {\n",
       "    display: block;\n",
       "    unicode-bidi: embed;\n",
       "    white-space: pre-wrap;\n",
       "    word-wrap: break-word;\n",
       "    word-break: break-all;\n",
       "    font-family: \"Source Code Pro\", \"Menlo\", monospace;;\n",
       "    font-size: 13px;\n",
       "    color: #555;\n",
       "    margin-left: 4px;\n",
       "    line-height: 19px;\n",
       "  }\n",
       "</style>\n",
       "<div class=\"ansiout\"><span class=\"ansired\">Out[</span><span class=\"ansired\">42</span><span class=\"ansired\">]: </span>\n",
       "[&apos;Category&apos;,\n",
       " &apos;DayOfWeek&apos;,\n",
       " &apos;PdDistrict&apos;,\n",
       " &apos;Year&apos;,\n",
       " &apos;Month&apos;,\n",
       " &apos;Hour&apos;,\n",
       " &apos;Resolution&apos;,\n",
       " &apos;Res_num&apos;]\n",
       "</div>"
      ]
     },
     "metadata": {},
     "output_type": "display_data"
    }
   ],
   "source": [
    "from pyspark.sql.functions import isnan\n",
    "training_df.columns"
   ]
  },
  {
   "cell_type": "code",
   "execution_count": 39,
   "metadata": {},
   "outputs": [
    {
     "data": {
      "text/html": [
       "<style scoped>\n",
       "  .ansiout {\n",
       "    display: block;\n",
       "    unicode-bidi: embed;\n",
       "    white-space: pre-wrap;\n",
       "    word-wrap: break-word;\n",
       "    word-break: break-all;\n",
       "    font-family: \"Source Code Pro\", \"Menlo\", monospace;;\n",
       "    font-size: 13px;\n",
       "    color: #555;\n",
       "    margin-left: 4px;\n",
       "    line-height: 19px;\n",
       "  }\n",
       "</style>\n",
       "<div class=\"ansiout\"></div>"
      ]
     },
     "metadata": {},
     "output_type": "display_data"
    }
   ],
   "source": [
    "from pyspark.ml.feature import OneHotEncoderEstimator\n",
    "from pyspark.ml.feature import StringIndexer\n"
   ]
  },
  {
   "cell_type": "markdown",
   "metadata": {},
   "source": [
    "## Modeling - tring different method"
   ]
  },
  {
   "cell_type": "code",
   "execution_count": 40,
   "metadata": {},
   "outputs": [
    {
     "data": {
      "text/html": [
       "<style scoped>\n",
       "  .ansiout {\n",
       "    display: block;\n",
       "    unicode-bidi: embed;\n",
       "    white-space: pre-wrap;\n",
       "    word-wrap: break-word;\n",
       "    word-break: break-all;\n",
       "    font-family: \"Source Code Pro\", \"Menlo\", monospace;;\n",
       "    font-size: 13px;\n",
       "    color: #555;\n",
       "    margin-left: 4px;\n",
       "    line-height: 19px;\n",
       "  }\n",
       "</style>\n",
       "<div class=\"ansiout\"></div>"
      ]
     },
     "metadata": {},
     "output_type": "display_data"
    }
   ],
   "source": [
    "categoricalColumns = ['Category','DayOfWeek','PdDistrict']\n",
    "stages = [] # stages in our Pipeline\n",
    "for categoricalCol in categoricalColumns:\n",
    "    # Category Indexing with StringIndexer\n",
    "    stringIndexer = StringIndexer(inputCol=categoricalCol, outputCol=categoricalCol + \"Index\")\n",
    "    # Use OneHotEncoder to convert categorical variables into binary SparseVectors\n",
    "    # encoder = OneHotEncoderEstimator(inputCol=categoricalCol + \"Index\", outputCol=categoricalCol + \"classVec\")\n",
    "    encoder = OneHotEncoderEstimator(inputCols=[stringIndexer.getOutputCol()], outputCols=[categoricalCol + \"classVec\"])\n",
    "    # Add stages.  These are not run here, but will run all at once later on.\n",
    "    stages += [stringIndexer, encoder]"
   ]
  },
  {
   "cell_type": "code",
   "execution_count": 41,
   "metadata": {},
   "outputs": [
    {
     "data": {
      "text/html": [
       "<style scoped>\n",
       "  .ansiout {\n",
       "    display: block;\n",
       "    unicode-bidi: embed;\n",
       "    white-space: pre-wrap;\n",
       "    word-wrap: break-word;\n",
       "    word-break: break-all;\n",
       "    font-family: \"Source Code Pro\", \"Menlo\", monospace;;\n",
       "    font-size: 13px;\n",
       "    color: #555;\n",
       "    margin-left: 4px;\n",
       "    line-height: 19px;\n",
       "  }\n",
       "</style>\n",
       "<div class=\"ansiout\"></div>"
      ]
     },
     "metadata": {},
     "output_type": "display_data"
    }
   ],
   "source": [
    "# Transform all features into a vector using VectorAssembler\n",
    "numericCols = ['Year','Month','Day','Hour','Level']\n",
    "assemblerInputs = [c + \"classVec\" for c in categoricalColumns] + numericCols\n",
    "assembler = VectorAssembler(inputCols=assemblerInputs, outputCol=\"features\")\n",
    "stages += [assembler]"
   ]
  },
  {
   "cell_type": "code",
   "execution_count": 42,
   "metadata": {},
   "outputs": [
    {
     "data": {
      "text/html": [
       "<style scoped>\n",
       "  .ansiout {\n",
       "    display: block;\n",
       "    unicode-bidi: embed;\n",
       "    white-space: pre-wrap;\n",
       "    word-wrap: break-word;\n",
       "    word-break: break-all;\n",
       "    font-family: \"Source Code Pro\", \"Menlo\", monospace;;\n",
       "    font-size: 13px;\n",
       "    color: #555;\n",
       "    margin-left: 4px;\n",
       "    line-height: 19px;\n",
       "  }\n",
       "</style>\n",
       "<div class=\"ansiout\"></div>"
      ]
     },
     "metadata": {},
     "output_type": "display_data"
    }
   ],
   "source": [
    "# Convert label into label indices using the StringIndexer\n",
    "label_stringIdx = StringIndexer(inputCol=\"Res_num\", outputCol=\"label\")\n",
    "stages += [label_stringIdx]"
   ]
  },
  {
   "cell_type": "code",
   "execution_count": 43,
   "metadata": {},
   "outputs": [
    {
     "data": {
      "text/html": [
       "<style scoped>\n",
       "  .ansiout {\n",
       "    display: block;\n",
       "    unicode-bidi: embed;\n",
       "    white-space: pre-wrap;\n",
       "    word-wrap: break-word;\n",
       "    word-break: break-all;\n",
       "    font-family: \"Source Code Pro\", \"Menlo\", monospace;;\n",
       "    font-size: 13px;\n",
       "    color: #555;\n",
       "    margin-left: 4px;\n",
       "    line-height: 19px;\n",
       "  }\n",
       "</style>\n",
       "<div class=\"ansiout\"></div>"
      ]
     },
     "metadata": {},
     "output_type": "display_data"
    }
   ],
   "source": [
    "from pyspark.ml.classification import LogisticRegression\n",
    "  \n",
    "partialPipeline = Pipeline().setStages(stages)\n",
    "pipelineModel = partialPipeline.fit(training_df)\n",
    "preppedDataDF = pipelineModel.transform(validation_df)"
   ]
  },
  {
   "cell_type": "code",
   "execution_count": 44,
   "metadata": {},
   "outputs": [
    {
     "data": {
      "text/html": [
       "<style scoped>\n",
       "  .table-result-container {\n",
       "    max-height: 300px;\n",
       "    overflow: auto;\n",
       "  }\n",
       "  table, th, td {\n",
       "    border: 1px solid black;\n",
       "    border-collapse: collapse;\n",
       "  }\n",
       "  th, td {\n",
       "    padding: 5px;\n",
       "  }\n",
       "  th {\n",
       "    text-align: left;\n",
       "  }\n",
       "</style><div class='table-result-container'><table class='table-result'><thead style='background-color: white'><tr><th>False Positive Rate</th><th>True Positive Rate</th><th>Threshold</th></tr></thead><tbody><tr><td>0.0</td><td>0.0</td><td>0.9425262878280136</td></tr><tr><td>0.0</td><td>0.03125</td><td>0.9425262878280136</td></tr><tr><td>0.0</td><td>0.0625</td><td>0.9303164968022241</td></tr><tr><td>0.0</td><td>0.09375</td><td>0.9292849222832752</td></tr><tr><td>0.0</td><td>0.125</td><td>0.9258791069127278</td></tr><tr><td>0.0</td><td>0.15625</td><td>0.9201190275232931</td></tr><tr><td>0.0</td><td>0.1875</td><td>0.9157598696966304</td></tr><tr><td>0.0</td><td>0.21875</td><td>0.9142448951429124</td></tr><tr><td>0.0</td><td>0.25</td><td>0.9009023445034938</td></tr><tr><td>0.0</td><td>0.28125</td><td>0.8957767532993453</td></tr><tr><td>0.0</td><td>0.3125</td><td>0.8929076823251794</td></tr><tr><td>0.0</td><td>0.34375</td><td>0.8700758532713129</td></tr><tr><td>0.0</td><td>0.375</td><td>0.7947659314404663</td></tr><tr><td>0.0</td><td>0.40625</td><td>0.7704994062474047</td></tr><tr><td>0.0</td><td>0.4375</td><td>0.7529094061320811</td></tr><tr><td>0.015625</td><td>0.4375</td><td>0.7343756482765956</td></tr><tr><td>0.015625</td><td>0.46875</td><td>0.7319361721912623</td></tr><tr><td>0.015625</td><td>0.5</td><td>0.7220006656498762</td></tr><tr><td>0.015625</td><td>0.53125</td><td>0.7020666886067086</td></tr><tr><td>0.015625</td><td>0.5625</td><td>0.69714721712301</td></tr><tr><td>0.03125</td><td>0.5625</td><td>0.6644574033496804</td></tr><tr><td>0.046875</td><td>0.5625</td><td>0.6349415958814045</td></tr><tr><td>0.046875</td><td>0.59375</td><td>0.6305940290375395</td></tr><tr><td>0.046875</td><td>0.625</td><td>0.6244048225774856</td></tr><tr><td>0.0625</td><td>0.625</td><td>0.6097354786652521</td></tr><tr><td>0.078125</td><td>0.625</td><td>0.5966133053072254</td></tr><tr><td>0.09375</td><td>0.625</td><td>0.5816881798376816</td></tr><tr><td>0.09375</td><td>0.65625</td><td>0.5433870900912884</td></tr><tr><td>0.109375</td><td>0.65625</td><td>0.5390755469879346</td></tr><tr><td>0.125</td><td>0.65625</td><td>0.4692866613862517</td></tr><tr><td>0.140625</td><td>0.65625</td><td>0.4535272538007734</td></tr><tr><td>0.15625</td><td>0.65625</td><td>0.44911979914897526</td></tr><tr><td>0.15625</td><td>0.6875</td><td>0.40974585777739503</td></tr><tr><td>0.171875</td><td>0.6875</td><td>0.4091610463128071</td></tr><tr><td>0.1875</td><td>0.6875</td><td>0.3851975833662648</td></tr><tr><td>0.1875</td><td>0.71875</td><td>0.3807358991169379</td></tr><tr><td>0.203125</td><td>0.71875</td><td>0.37727574146651516</td></tr><tr><td>0.21875</td><td>0.71875</td><td>0.3767556425287652</td></tr><tr><td>0.234375</td><td>0.71875</td><td>0.3710471069114181</td></tr><tr><td>0.25</td><td>0.71875</td><td>0.35989904321770383</td></tr><tr><td>0.265625</td><td>0.71875</td><td>0.3574586438607912</td></tr><tr><td>0.265625</td><td>0.75</td><td>0.2879225532364602</td></tr><tr><td>0.28125</td><td>0.75</td><td>0.26375496826879485</td></tr><tr><td>0.28125</td><td>0.78125</td><td>0.2611894088315239</td></tr><tr><td>0.296875</td><td>0.78125</td><td>0.1917620185063978</td></tr><tr><td>0.3125</td><td>0.78125</td><td>0.19007375242657884</td></tr><tr><td>0.328125</td><td>0.78125</td><td>0.1824899829463713</td></tr><tr><td>0.34375</td><td>0.78125</td><td>0.18044330160056782</td></tr><tr><td>0.34375</td><td>0.8125</td><td>0.17775536398449582</td></tr><tr><td>0.34375</td><td>0.84375</td><td>0.17152653931507245</td></tr><tr><td>0.359375</td><td>0.84375</td><td>0.1696096720203959</td></tr><tr><td>0.375</td><td>0.84375</td><td>0.16435651221849837</td></tr><tr><td>0.375</td><td>0.875</td><td>0.16079857735941258</td></tr><tr><td>0.390625</td><td>0.875</td><td>0.15867758165726287</td></tr><tr><td>0.40625</td><td>0.875</td><td>0.1513618583501242</td></tr><tr><td>0.421875</td><td>0.875</td><td>0.15102979499702038</td></tr><tr><td>0.4375</td><td>0.875</td><td>0.14871723822690072</td></tr><tr><td>0.453125</td><td>0.875</td><td>0.14327902846813878</td></tr><tr><td>0.46875</td><td>0.875</td><td>0.14210553921793082</td></tr><tr><td>0.484375</td><td>0.875</td><td>0.1371909717355687</td></tr><tr><td>0.484375</td><td>0.90625</td><td>0.1351225708569829</td></tr><tr><td>0.5</td><td>0.90625</td><td>0.12826965759919692</td></tr><tr><td>0.515625</td><td>0.90625</td><td>0.11805974267770654</td></tr><tr><td>0.53125</td><td>0.90625</td><td>0.11424743065076949</td></tr><tr><td>0.546875</td><td>0.90625</td><td>0.113446211835978</td></tr><tr><td>0.5625</td><td>0.90625</td><td>0.10899872317669335</td></tr><tr><td>0.578125</td><td>0.90625</td><td>0.10691940239411335</td></tr><tr><td>0.578125</td><td>0.9375</td><td>0.10412325707791467</td></tr><tr><td>0.59375</td><td>0.9375</td><td>0.09641051386775146</td></tr><tr><td>0.609375</td><td>0.9375</td><td>0.07978602325984649</td></tr><tr><td>0.625</td><td>0.9375</td><td>0.06998321049691346</td></tr><tr><td>0.640625</td><td>0.9375</td><td>0.06789273728730513</td></tr><tr><td>0.65625</td><td>0.9375</td><td>0.0667550161362585</td></tr><tr><td>0.671875</td><td>0.9375</td><td>0.06658343620365083</td></tr><tr><td>0.6875</td><td>0.9375</td><td>0.05793277221457099</td></tr><tr><td>0.703125</td><td>0.9375</td><td>0.05497526633551784</td></tr><tr><td>0.71875</td><td>0.9375</td><td>0.054939329682288346</td></tr><tr><td>0.734375</td><td>0.9375</td><td>0.05190455061576235</td></tr><tr><td>0.75</td><td>0.9375</td><td>0.04958153372153431</td></tr><tr><td>0.765625</td><td>0.9375</td><td>0.04806285659314247</td></tr><tr><td>0.78125</td><td>0.9375</td><td>0.04750764081283592</td></tr><tr><td>0.796875</td><td>0.9375</td><td>0.0452229911672765</td></tr><tr><td>0.8125</td><td>0.9375</td><td>0.04510193560461444</td></tr><tr><td>0.828125</td><td>0.9375</td><td>0.04478187142705445</td></tr><tr><td>0.84375</td><td>0.9375</td><td>0.04393133686679723</td></tr><tr><td>0.859375</td><td>0.9375</td><td>0.043345150590078096</td></tr><tr><td>0.859375</td><td>0.96875</td><td>0.043067293907490416</td></tr><tr><td>0.875</td><td>0.96875</td><td>0.042760527613976</td></tr><tr><td>0.890625</td><td>0.96875</td><td>0.04236301247402761</td></tr><tr><td>0.90625</td><td>0.96875</td><td>0.04208436198271088</td></tr><tr><td>0.921875</td><td>0.96875</td><td>0.041366703814856486</td></tr><tr><td>0.9375</td><td>0.96875</td><td>0.03937504204524847</td></tr><tr><td>0.953125</td><td>0.96875</td><td>0.038673085818194265</td></tr><tr><td>0.96875</td><td>0.96875</td><td>0.038663742741932156</td></tr><tr><td>0.984375</td><td>0.96875</td><td>0.03790112379335216</td></tr><tr><td>1.0</td><td>0.96875</td><td>0.036698488012633576</td></tr><tr><td>1.0</td><td>1.0</td><td>0.03418095406969135</td></tr><tr><td>1.0</td><td>1.0</td><td>0.03418095406969135</td></tr></tbody></table></div>"
      ]
     },
     "metadata": {},
     "output_type": "display_data"
    }
   ],
   "source": [
    "# Fit model to prepped data\n",
    "lrModel = LogisticRegression().fit(preppedDataDF)\n",
    "\n",
    "# ROC for training data\n",
    "display(lrModel, preppedDataDF, \"ROC\")"
   ]
  },
  {
   "cell_type": "code",
   "execution_count": 45,
   "metadata": {},
   "outputs": [
    {
     "data": {
      "text/html": [
       "<style scoped>\n",
       "  .table-result-container {\n",
       "    max-height: 300px;\n",
       "    overflow: auto;\n",
       "  }\n",
       "  table, th, td {\n",
       "    border: 1px solid black;\n",
       "    border-collapse: collapse;\n",
       "  }\n",
       "  th, td {\n",
       "    padding: 5px;\n",
       "  }\n",
       "  th {\n",
       "    text-align: left;\n",
       "  }\n",
       "</style><div class='table-result-container'><table class='table-result'><thead style='background-color: white'><tr><th>label</th><th>features</th></tr></thead><tbody><tr><td>0.0</td><td>List(0, 58, List(2, 43, 45, 53, 54, 55, 56, 57), List(1.0, 1.0, 1.0, 2015.0, 1.0, 19.0, 14.0, 1.0))</td></tr><tr><td>0.0</td><td>List(0, 58, List(11, 48, 53, 54, 55, 56, 57), List(1.0, 1.0, 2015.0, 2.0, 1.0, 15.0, 4.0))</td></tr><tr><td>0.0</td><td>List(0, 58, List(3, 48, 53, 54, 55, 56, 57), List(1.0, 1.0, 2015.0, 2.0, 1.0, 15.0, 4.0))</td></tr><tr><td>0.0</td><td>List(0, 58, List(13, 48, 53, 54, 55, 56, 57), List(1.0, 1.0, 2015.0, 2.0, 1.0, 15.0, 5.0))</td></tr><tr><td>0.0</td><td>List(0, 58, List(5, 41, 46, 53, 54, 55, 56, 57), List(1.0, 1.0, 1.0, 2015.0, 1.0, 27.0, 19.0, 4.0))</td></tr><tr><td>0.0</td><td>List(0, 58, List(2, 53, 54, 55, 56, 57), List(1.0, 2015.0, 2.0, 1.0, 16.0, 1.0))</td></tr><tr><td>0.0</td><td>List(0, 58, List(13, 40, 47, 53, 54, 55, 56, 57), List(1.0, 1.0, 1.0, 2015.0, 1.0, 31.0, 21.0, 5.0))</td></tr><tr><td>0.0</td><td>List(0, 58, List(5, 40, 47, 53, 54, 55, 56, 57), List(1.0, 1.0, 1.0, 2015.0, 1.0, 31.0, 21.0, 4.0))</td></tr><tr><td>0.0</td><td>List(0, 58, List(7, 40, 49, 53, 54, 55, 56, 57), List(1.0, 1.0, 1.0, 2015.0, 1.0, 31.0, 16.0, 4.0))</td></tr><tr><td>0.0</td><td>List(0, 58, List(0, 40, 49, 53, 54, 55, 56, 57), List(1.0, 1.0, 1.0, 2015.0, 1.0, 31.0, 17.0, 3.0))</td></tr><tr><td>1.0</td><td>List(0, 58, List(0, 45, 53, 54, 55, 56, 57), List(1.0, 1.0, 2015.0, 2.0, 1.0, 14.0, 3.0))</td></tr><tr><td>1.0</td><td>List(0, 58, List(4, 45, 53, 54, 55, 56, 57), List(1.0, 1.0, 2015.0, 2.0, 1.0, 14.0, 5.0))</td></tr><tr><td>1.0</td><td>List(0, 58, List(4, 45, 53, 54, 55, 56, 57), List(1.0, 1.0, 2015.0, 2.0, 1.0, 14.0, 5.0))</td></tr><tr><td>1.0</td><td>List(0, 58, List(6, 45, 53, 54, 55, 56, 57), List(1.0, 1.0, 2015.0, 2.0, 1.0, 14.0, 1.0))</td></tr><tr><td>0.0</td><td>List(0, 58, List(11, 45, 53, 54, 55, 56, 57), List(1.0, 1.0, 2015.0, 2.0, 1.0, 16.0, 4.0))</td></tr><tr><td>0.0</td><td>List(0, 58, List(9, 46, 53, 54, 55, 56, 57), List(1.0, 1.0, 2015.0, 2.0, 1.0, 12.0, 3.0))</td></tr><tr><td>0.0</td><td>List(0, 58, List(2, 46, 53, 54, 55, 56, 57), List(1.0, 1.0, 2015.0, 2.0, 1.0, 12.0, 1.0))</td></tr><tr><td>1.0</td><td>List(0, 58, List(6, 47, 53, 54, 55, 56, 57), List(1.0, 1.0, 2015.0, 2.0, 1.0, 16.0, 1.0))</td></tr><tr><td>0.0</td><td>List(0, 58, List(0, 52, 53, 54, 55, 56, 57), List(1.0, 1.0, 2015.0, 2.0, 1.0, 14.0, 3.0))</td></tr><tr><td>1.0</td><td>List(0, 58, List(1, 47, 53, 54, 55, 56, 57), List(1.0, 1.0, 2015.0, 2.0, 1.0, 17.0, 2.0))</td></tr><tr><td>1.0</td><td>List(0, 58, List(11, 49, 53, 54, 55, 56, 57), List(1.0, 1.0, 2015.0, 2.0, 1.0, 17.0, 4.0))</td></tr><tr><td>1.0</td><td>List(0, 58, List(11, 49, 53, 54, 55, 56, 57), List(1.0, 1.0, 2015.0, 2.0, 1.0, 17.0, 4.0))</td></tr><tr><td>0.0</td><td>List(0, 58, List(5, 38, 45, 53, 54, 55, 56, 57), List(1.0, 1.0, 1.0, 2016.0, 11.0, 11.0, 7.0, 4.0))</td></tr><tr><td>1.0</td><td>List(0, 58, List(3, 49, 53, 54, 55, 56, 57), List(1.0, 1.0, 2015.0, 2.0, 1.0, 17.0, 4.0))</td></tr><tr><td>1.0</td><td>List(0, 58, List(3, 49, 53, 54, 55, 56, 57), List(1.0, 1.0, 2015.0, 2.0, 1.0, 17.0, 4.0))</td></tr><tr><td>1.0</td><td>List(0, 58, List(11, 48, 53, 54, 55, 56, 57), List(1.0, 1.0, 2015.0, 2.0, 1.0, 17.0, 4.0))</td></tr><tr><td>1.0</td><td>List(0, 58, List(3, 48, 53, 54, 55, 56, 57), List(1.0, 1.0, 2015.0, 2.0, 1.0, 17.0, 4.0))</td></tr><tr><td>1.0</td><td>List(0, 58, List(14, 48, 53, 54, 55, 56, 57), List(1.0, 1.0, 2015.0, 2.0, 1.0, 17.0, 5.0))</td></tr><tr><td>0.0</td><td>List(0, 58, List(2, 47, 53, 54, 55, 56, 57), List(1.0, 1.0, 2015.0, 2.0, 1.0, 17.0, 1.0))</td></tr><tr><td>1.0</td><td>List(0, 58, List(1, 48, 53, 54, 55, 56, 57), List(1.0, 1.0, 2015.0, 2.0, 1.0, 17.0, 2.0))</td></tr><tr><td>1.0</td><td>List(0, 58, List(3, 45, 53, 54, 55, 56, 57), List(1.0, 1.0, 2015.0, 2.0, 1.0, 16.0, 4.0))</td></tr><tr><td>1.0</td><td>List(0, 58, List(27, 40, 46, 53, 54, 55, 56, 57), List(1.0, 1.0, 1.0, 2014.0, 1.0, 4.0, 3.0, 5.0))</td></tr><tr><td>1.0</td><td>List(0, 58, List(4, 45, 53, 54, 55, 56, 57), List(1.0, 1.0, 2015.0, 2.0, 1.0, 16.0, 5.0))</td></tr><tr><td>1.0</td><td>List(0, 58, List(1, 45, 53, 54, 55, 56, 57), List(1.0, 1.0, 2015.0, 2.0, 1.0, 16.0, 2.0))</td></tr><tr><td>0.0</td><td>List(0, 58, List(9, 46, 53, 54, 55, 56, 57), List(1.0, 1.0, 2015.0, 2.0, 1.0, 11.0, 3.0))</td></tr><tr><td>0.0</td><td>List(0, 58, List(0, 38, 52, 53, 54, 55, 56, 57), List(1.0, 1.0, 1.0, 2015.0, 1.0, 30.0, 22.0, 3.0))</td></tr><tr><td>1.0</td><td>List(0, 58, List(1, 53, 54, 55, 56, 57), List(1.0, 2015.0, 2.0, 1.0, 17.0, 2.0))</td></tr><tr><td>0.0</td><td>List(0, 58, List(10, 49, 53, 54, 55, 56, 57), List(1.0, 1.0, 2015.0, 2.0, 1.0, 15.0, 3.0))</td></tr><tr><td>0.0</td><td>List(0, 58, List(10, 49, 53, 54, 55, 56, 57), List(1.0, 1.0, 2015.0, 2.0, 1.0, 15.0, 3.0))</td></tr><tr><td>1.0</td><td>List(0, 58, List(1, 48, 53, 54, 55, 56, 57), List(1.0, 1.0, 2015.0, 2.0, 1.0, 17.0, 2.0))</td></tr><tr><td>1.0</td><td>List(0, 58, List(2, 53, 54, 55, 56, 57), List(1.0, 2015.0, 2.0, 1.0, 17.0, 1.0))</td></tr><tr><td>1.0</td><td>List(0, 58, List(14, 45, 53, 54, 55, 56, 57), List(1.0, 1.0, 2015.0, 2.0, 1.0, 17.0, 5.0))</td></tr><tr><td>1.0</td><td>List(0, 58, List(4, 45, 53, 54, 55, 56, 57), List(1.0, 1.0, 2015.0, 2.0, 1.0, 17.0, 5.0))</td></tr><tr><td>1.0</td><td>List(0, 58, List(1, 45, 53, 54, 55, 56, 57), List(1.0, 1.0, 2015.0, 2.0, 1.0, 17.0, 2.0))</td></tr><tr><td>0.0</td><td>List(0, 58, List(2, 46, 53, 54, 55, 56, 57), List(1.0, 1.0, 2015.0, 2.0, 1.0, 14.0, 1.0))</td></tr><tr><td>0.0</td><td>List(0, 58, List(2, 51, 53, 54, 55, 56, 57), List(1.0, 1.0, 2015.0, 2.0, 1.0, 17.0, 1.0))</td></tr><tr><td>0.0</td><td>List(0, 58, List(0, 44, 53, 54, 55, 56, 57), List(1.0, 1.0, 2015.0, 2.0, 1.0, 16.0, 3.0))</td></tr><tr><td>1.0</td><td>List(0, 58, List(2, 47, 53, 54, 55, 56, 57), List(1.0, 1.0, 2015.0, 2.0, 1.0, 17.0, 1.0))</td></tr><tr><td>1.0</td><td>List(0, 58, List(6, 39, 44, 53, 54, 55, 56, 57), List(1.0, 1.0, 1.0, 2015.0, 2.0, 4.0, 20.0, 1.0))</td></tr><tr><td>0.0</td><td>List(0, 58, List(2, 40, 49, 53, 54, 55, 56, 57), List(1.0, 1.0, 1.0, 2015.0, 1.0, 31.0, 1.0, 1.0))</td></tr><tr><td>1.0</td><td>List(0, 58, List(1, 45, 53, 54, 55, 56, 57), List(1.0, 1.0, 2015.0, 2.0, 1.0, 19.0, 2.0))</td></tr><tr><td>1.0</td><td>List(0, 58, List(1, 46, 53, 54, 55, 56, 57), List(1.0, 1.0, 2015.0, 2.0, 1.0, 18.0, 2.0))</td></tr><tr><td>1.0</td><td>List(0, 58, List(1, 46, 53, 54, 55, 56, 57), List(1.0, 1.0, 2015.0, 2.0, 1.0, 18.0, 2.0))</td></tr><tr><td>1.0</td><td>List(0, 58, List(1, 46, 53, 54, 55, 56, 57), List(1.0, 1.0, 2015.0, 2.0, 1.0, 18.0, 2.0))</td></tr><tr><td>0.0</td><td>List(0, 58, List(0, 49, 53, 54, 55, 56, 57), List(1.0, 1.0, 2015.0, 2.0, 1.0, 18.0, 3.0))</td></tr><tr><td>0.0</td><td>List(0, 58, List(0, 44, 53, 54, 55, 56, 57), List(1.0, 1.0, 2015.0, 2.0, 1.0, 18.0, 3.0))</td></tr><tr><td>0.0</td><td>List(0, 58, List(2, 44, 53, 54, 55, 56, 57), List(1.0, 1.0, 2015.0, 2.0, 1.0, 18.0, 1.0))</td></tr><tr><td>0.0</td><td>List(0, 58, List(3, 43, 49, 53, 54, 55, 57), List(1.0, 1.0, 1.0, 2015.0, 1.0, 5.0, 4.0))</td></tr><tr><td>0.0</td><td>List(0, 58, List(1, 43, 49, 53, 54, 55, 57), List(1.0, 1.0, 1.0, 2015.0, 1.0, 5.0, 2.0))</td></tr><tr><td>0.0</td><td>List(0, 58, List(11, 48, 53, 54, 55, 56, 57), List(1.0, 1.0, 2015.0, 2.0, 1.0, 17.0, 4.0))</td></tr><tr><td>1.0</td><td>List(0, 58, List(1, 46, 53, 54, 55, 56, 57), List(1.0, 1.0, 2015.0, 2.0, 1.0, 18.0, 2.0))</td></tr><tr><td>1.0</td><td>List(0, 58, List(1, 46, 53, 54, 55, 56, 57), List(1.0, 1.0, 2015.0, 2.0, 1.0, 18.0, 2.0))</td></tr><tr><td>1.0</td><td>List(0, 58, List(23, 46, 53, 54, 55, 56, 57), List(1.0, 1.0, 2015.0, 2.0, 1.0, 18.0, 3.0))</td></tr><tr><td>0.0</td><td>List(0, 58, List(8, 44, 53, 54, 55, 56, 57), List(1.0, 1.0, 2015.0, 2.0, 1.0, 18.0, 2.0))</td></tr><tr><td>0.0</td><td>List(0, 58, List(1, 40, 50, 53, 54, 55, 56, 57), List(1.0, 1.0, 1.0, 2015.0, 1.0, 31.0, 23.0, 2.0))</td></tr><tr><td>0.0</td><td>List(0, 58, List(0, 51, 53, 54, 55, 56, 57), List(1.0, 1.0, 2015.0, 2.0, 1.0, 14.0, 3.0))</td></tr><tr><td>0.0</td><td>List(0, 58, List(9, 53, 54, 55, 56, 57), List(1.0, 2015.0, 2.0, 1.0, 8.0, 3.0))</td></tr><tr><td>0.0</td><td>List(0, 58, List(2, 51, 53, 54, 55, 56, 57), List(1.0, 1.0, 2015.0, 2.0, 1.0, 14.0, 1.0))</td></tr><tr><td>0.0</td><td>List(0, 58, List(9, 39, 51, 53, 54, 55, 56, 57), List(1.0, 1.0, 1.0, 2015.0, 1.0, 28.0, 16.0, 3.0))</td></tr><tr><td>0.0</td><td>List(0, 58, List(0, 40, 44, 53, 54, 55, 56, 57), List(1.0, 1.0, 1.0, 2015.0, 1.0, 31.0, 17.0, 3.0))</td></tr><tr><td>0.0</td><td>List(0, 58, List(3, 44, 53, 54, 55, 56, 57), List(1.0, 1.0, 2015.0, 2.0, 1.0, 19.0, 4.0))</td></tr><tr><td>0.0</td><td>List(0, 58, List(8, 44, 53, 54, 55, 56, 57), List(1.0, 1.0, 2015.0, 2.0, 1.0, 19.0, 2.0))</td></tr><tr><td>0.0</td><td>List(0, 58, List(11, 42, 45, 53, 54, 55, 56, 57), List(1.0, 1.0, 1.0, 2015.0, 1.0, 29.0, 3.0, 4.0))</td></tr><tr><td>0.0</td><td>List(0, 58, List(13, 47, 53, 54, 55, 56, 57), List(1.0, 1.0, 2015.0, 2.0, 1.0, 18.0, 5.0))</td></tr><tr><td>0.0</td><td>List(0, 58, List(8, 47, 53, 54, 55, 56, 57), List(1.0, 1.0, 2015.0, 2.0, 1.0, 18.0, 2.0))</td></tr><tr><td>0.0</td><td>List(0, 58, List(0, 38, 53, 54, 55, 56, 57), List(1.0, 1.0, 2015.0, 1.0, 30.0, 21.0, 3.0))</td></tr><tr><td>0.0</td><td>List(0, 58, List(0, 46, 53, 54, 55, 56, 57), List(1.0, 1.0, 2015.0, 2.0, 1.0, 15.0, 3.0))</td></tr><tr><td>0.0</td><td>List(0, 58, List(7, 38, 45, 53, 54, 55, 56, 57), List(1.0, 1.0, 1.0, 2015.0, 1.0, 30.0, 12.0, 4.0))</td></tr><tr><td>1.0</td><td>List(0, 58, List(1, 51, 53, 54, 55, 56, 57), List(1.0, 1.0, 2015.0, 2.0, 1.0, 19.0, 2.0))</td></tr><tr><td>0.0</td><td>List(0, 58, List(2, 45, 53, 54, 55, 56, 57), List(1.0, 1.0, 2015.0, 2.0, 1.0, 15.0, 1.0))</td></tr><tr><td>1.0</td><td>List(0, 58, List(3, 47, 53, 54, 55, 56, 57), List(1.0, 1.0, 2015.0, 2.0, 1.0, 18.0, 4.0))</td></tr><tr><td>1.0</td><td>List(0, 58, List(0, 47, 53, 54, 55, 56, 57), List(1.0, 1.0, 2015.0, 2.0, 1.0, 18.0, 3.0))</td></tr><tr><td>0.0</td><td>List(0, 58, List(0, 49, 53, 54, 55, 56, 57), List(1.0, 1.0, 2015.0, 2.0, 1.0, 9.0, 3.0))</td></tr><tr><td>0.0</td><td>List(0, 58, List(3, 48, 53, 54, 55, 56, 57), List(1.0, 1.0, 2015.0, 2.0, 1.0, 19.0, 4.0))</td></tr><tr><td>0.0</td><td>List(0, 58, List(0, 45, 53, 54, 55, 56, 57), List(1.0, 1.0, 2015.0, 2.0, 1.0, 12.0, 3.0))</td></tr><tr><td>1.0</td><td>List(0, 58, List(22, 48, 53, 54, 55, 56, 57), List(1.0, 1.0, 2015.0, 2.0, 1.0, 19.0, 1.0))</td></tr><tr><td>1.0</td><td>List(0, 58, List(1, 48, 53, 54, 55, 56, 57), List(1.0, 1.0, 2015.0, 2.0, 1.0, 19.0, 2.0))</td></tr><tr><td>1.0</td><td>List(0, 58, List(1, 48, 53, 54, 55, 56, 57), List(1.0, 1.0, 2015.0, 2.0, 1.0, 19.0, 2.0))</td></tr><tr><td>1.0</td><td>List(0, 58, List(6, 53, 54, 55, 56, 57), List(1.0, 2015.0, 2.0, 1.0, 19.0, 1.0))</td></tr><tr><td>0.0</td><td>List(0, 58, List(10, 42, 49, 53, 54, 55, 56, 57), List(1.0, 1.0, 1.0, 2015.0, 1.0, 29.0, 12.0, 3.0))</td></tr><tr><td>1.0</td><td>List(0, 58, List(20, 45, 53, 54, 55, 56, 57), List(1.0, 1.0, 2015.0, 2.0, 1.0, 20.0, 1.0))</td></tr><tr><td>1.0</td><td>List(0, 58, List(3, 45, 53, 54, 55, 56, 57), List(1.0, 1.0, 2015.0, 2.0, 1.0, 20.0, 4.0))</td></tr><tr><td>1.0</td><td>List(0, 58, List(1, 45, 53, 54, 55, 56, 57), List(1.0, 1.0, 2015.0, 2.0, 1.0, 20.0, 2.0))</td></tr><tr><td>1.0</td><td>List(0, 58, List(5, 45, 53, 54, 55, 56, 57), List(1.0, 1.0, 2015.0, 2.0, 1.0, 20.0, 4.0))</td></tr><tr><td>1.0</td><td>List(0, 58, List(3, 50, 53, 54, 55, 56, 57), List(1.0, 1.0, 2015.0, 2.0, 1.0, 20.0, 4.0))</td></tr><tr><td>0.0</td><td>List(0, 58, List(11, 47, 53, 54, 55, 56, 57), List(1.0, 1.0, 2015.0, 2.0, 1.0, 20.0, 4.0))</td></tr><tr><td>0.0</td><td>List(0, 58, List(2, 47, 53, 54, 55, 56, 57), List(1.0, 1.0, 2015.0, 2.0, 1.0, 20.0, 1.0))</td></tr><tr><td>0.0</td><td>List(0, 58, List(0, 45, 53, 54, 55, 56, 57), List(1.0, 1.0, 2015.0, 2.0, 1.0, 19.0, 3.0))</td></tr><tr><td>0.0</td><td>List(0, 58, List(11, 44, 53, 54, 55, 56, 57), List(1.0, 1.0, 2015.0, 2.0, 1.0, 20.0, 4.0))</td></tr><tr><td>0.0</td><td>List(0, 58, List(4, 44, 53, 54, 55, 56, 57), List(1.0, 1.0, 2015.0, 2.0, 1.0, 20.0, 5.0))</td></tr><tr><td>0.0</td><td>List(0, 58, List(6, 50, 53, 54, 55, 56, 57), List(1.0, 1.0, 2015.0, 2.0, 1.0, 20.0, 1.0))</td></tr><tr><td>0.0</td><td>List(0, 58, List(8, 46, 53, 54, 55, 56, 57), List(1.0, 1.0, 2015.0, 2.0, 1.0, 20.0, 2.0))</td></tr><tr><td>0.0</td><td>List(0, 58, List(1, 46, 53, 54, 55, 56, 57), List(1.0, 1.0, 2015.0, 2.0, 1.0, 20.0, 2.0))</td></tr><tr><td>1.0</td><td>List(0, 58, List(1, 52, 53, 54, 55, 56, 57), List(1.0, 1.0, 2015.0, 2.0, 1.0, 21.0, 2.0))</td></tr><tr><td>0.0</td><td>List(0, 58, List(5, 45, 53, 54, 55, 56, 57), List(1.0, 1.0, 2015.0, 2.0, 1.0, 15.0, 4.0))</td></tr><tr><td>0.0</td><td>List(0, 58, List(8, 45, 53, 54, 55, 56, 57), List(1.0, 1.0, 2015.0, 2.0, 1.0, 15.0, 2.0))</td></tr><tr><td>0.0</td><td>List(0, 58, List(8, 49, 53, 54, 55, 56, 57), List(1.0, 1.0, 2015.0, 2.0, 1.0, 20.0, 2.0))</td></tr><tr><td>1.0</td><td>List(0, 58, List(3, 47, 53, 54, 55, 56, 57), List(1.0, 1.0, 2015.0, 2.0, 1.0, 20.0, 4.0))</td></tr><tr><td>1.0</td><td>List(0, 58, List(13, 47, 53, 54, 55, 56, 57), List(1.0, 1.0, 2015.0, 2.0, 1.0, 20.0, 5.0))</td></tr><tr><td>1.0</td><td>List(0, 58, List(16, 49, 53, 54, 55, 56, 57), List(1.0, 1.0, 2015.0, 2.0, 1.0, 21.0, 3.0))</td></tr><tr><td>1.0</td><td>List(0, 58, List(5, 49, 53, 54, 55, 56, 57), List(1.0, 1.0, 2015.0, 2.0, 1.0, 21.0, 4.0))</td></tr><tr><td>1.0</td><td>List(0, 58, List(6, 49, 53, 54, 55, 56, 57), List(1.0, 1.0, 2015.0, 2.0, 1.0, 21.0, 1.0))</td></tr><tr><td>0.0</td><td>List(0, 58, List(3, 45, 53, 54, 55, 56, 57), List(1.0, 1.0, 2015.0, 2.0, 1.0, 21.0, 4.0))</td></tr><tr><td>0.0</td><td>List(0, 58, List(9, 50, 53, 54, 55, 56, 57), List(1.0, 1.0, 2015.0, 2.0, 1.0, 1.0, 3.0))</td></tr><tr><td>0.0</td><td>List(0, 58, List(2, 42, 48, 53, 54, 55, 56, 57), List(1.0, 1.0, 1.0, 2015.0, 1.0, 1.0, 12.0, 1.0))</td></tr><tr><td>0.0</td><td>List(0, 58, List(2, 50, 53, 54, 55, 56, 57), List(1.0, 1.0, 2015.0, 2.0, 1.0, 21.0, 1.0))</td></tr><tr><td>0.0</td><td>List(0, 58, List(8, 50, 53, 54, 55, 56, 57), List(1.0, 1.0, 2015.0, 2.0, 1.0, 21.0, 2.0))</td></tr><tr><td>0.0</td><td>List(0, 58, List(14, 45, 53, 54, 55, 56, 57), List(1.0, 1.0, 2015.0, 2.0, 1.0, 20.0, 5.0))</td></tr><tr><td>0.0</td><td>List(0, 58, List(2, 45, 53, 54, 55, 56, 57), List(1.0, 1.0, 2015.0, 2.0, 1.0, 20.0, 1.0))</td></tr><tr><td>0.0</td><td>List(0, 58, List(2, 45, 53, 54, 55, 56, 57), List(1.0, 1.0, 2015.0, 2.0, 1.0, 20.0, 1.0))</td></tr><tr><td>0.0</td><td>List(0, 58, List(2, 42, 51, 53, 54, 55, 56, 57), List(1.0, 1.0, 1.0, 2015.0, 1.0, 29.0, 16.0, 1.0))</td></tr><tr><td>0.0</td><td>List(0, 58, List(11, 50, 53, 54, 55, 56, 57), List(1.0, 1.0, 2015.0, 2.0, 1.0, 21.0, 4.0))</td></tr><tr><td>0.0</td><td>List(0, 58, List(3, 50, 53, 54, 55, 56, 57), List(1.0, 1.0, 2015.0, 2.0, 1.0, 21.0, 4.0))</td></tr><tr><td>0.0</td><td>List(0, 58, List(10, 50, 53, 54, 55, 56, 57), List(1.0, 1.0, 2015.0, 2.0, 1.0, 21.0, 3.0))</td></tr><tr><td>0.0</td><td>List(0, 58, List(2, 51, 53, 54, 55, 56, 57), List(1.0, 1.0, 2015.0, 2.0, 1.0, 17.0, 1.0))</td></tr><tr><td>0.0</td><td>List(0, 58, List(20, 47, 53, 54, 55, 56, 57), List(1.0, 1.0, 2015.0, 2.0, 1.0, 21.0, 1.0))</td></tr><tr><td>0.0</td><td>List(0, 58, List(14, 47, 53, 54, 55, 56, 57), List(1.0, 1.0, 2015.0, 2.0, 1.0, 21.0, 5.0))</td></tr><tr><td>0.0</td><td>List(0, 58, List(11, 47, 53, 54, 55, 56, 57), List(1.0, 1.0, 2015.0, 2.0, 1.0, 21.0, 4.0))</td></tr><tr><td>0.0</td><td>List(0, 58, List(11, 47, 53, 54, 55, 56, 57), List(1.0, 1.0, 2015.0, 2.0, 1.0, 21.0, 4.0))</td></tr><tr><td>0.0</td><td>List(0, 58, List(3, 49, 53, 54, 55, 56, 57), List(1.0, 1.0, 2015.0, 2.0, 1.0, 22.0, 4.0))</td></tr><tr><td>0.0</td><td>List(0, 58, List(3, 49, 53, 54, 55, 56, 57), List(1.0, 1.0, 2015.0, 2.0, 1.0, 22.0, 4.0))</td></tr><tr><td>0.0</td><td>List(0, 58, List(11, 45, 53, 54, 55, 56, 57), List(1.0, 1.0, 2015.0, 2.0, 1.0, 22.0, 4.0))</td></tr><tr><td>0.0</td><td>List(0, 58, List(8, 45, 53, 54, 55, 56, 57), List(1.0, 1.0, 2015.0, 2.0, 1.0, 22.0, 2.0))</td></tr><tr><td>0.0</td><td>List(0, 58, List(12, 39, 49, 53, 54, 55, 56, 57), List(1.0, 1.0, 1.0, 2014.0, 1.0, 15.0, 12.0, 3.0))</td></tr><tr><td>1.0</td><td>List(0, 58, List(3, 53, 54, 55, 56, 57), List(1.0, 2015.0, 2.0, 1.0, 22.0, 4.0))</td></tr><tr><td>1.0</td><td>List(0, 58, List(20, 53, 54, 55, 56, 57), List(1.0, 2015.0, 2.0, 1.0, 22.0, 1.0))</td></tr><tr><td>1.0</td><td>List(0, 58, List(2, 44, 53, 54, 55, 56, 57), List(1.0, 1.0, 2015.0, 2.0, 1.0, 22.0, 1.0))</td></tr><tr><td>0.0</td><td>List(0, 58, List(9, 49, 53, 54, 55, 56, 57), List(1.0, 1.0, 2015.0, 2.0, 1.0, 18.0, 3.0))</td></tr><tr><td>1.0</td><td>List(0, 58, List(1, 44, 53, 54, 55, 56, 57), List(1.0, 1.0, 2015.0, 2.0, 1.0, 22.0, 2.0))</td></tr><tr><td>0.0</td><td>List(0, 58, List(5, 47, 53, 54, 55, 56, 57), List(1.0, 1.0, 2015.0, 2.0, 1.0, 22.0, 4.0))</td></tr><tr><td>0.0</td><td>List(0, 58, List(5, 47, 53, 54, 55, 56, 57), List(1.0, 1.0, 2015.0, 2.0, 1.0, 22.0, 4.0))</td></tr><tr><td>1.0</td><td>List(0, 58, List(4, 46, 53, 54, 55, 56, 57), List(1.0, 1.0, 2015.0, 2.0, 1.0, 22.0, 5.0))</td></tr><tr><td>1.0</td><td>List(0, 58, List(1, 46, 53, 54, 55, 56, 57), List(1.0, 1.0, 2015.0, 2.0, 1.0, 22.0, 2.0))</td></tr><tr><td>0.0</td><td>List(0, 58, List(11, 48, 53, 54, 55, 56, 57), List(1.0, 1.0, 2015.0, 2.0, 1.0, 22.0, 4.0))</td></tr><tr><td>0.0</td><td>List(0, 58, List(0, 40, 46, 53, 54, 55, 56, 57), List(1.0, 1.0, 1.0, 2015.0, 1.0, 31.0, 23.0, 3.0))</td></tr><tr><td>1.0</td><td>List(0, 58, List(1, 50, 53, 54, 55, 56, 57), List(1.0, 1.0, 2015.0, 2.0, 1.0, 22.0, 2.0))</td></tr><tr><td>0.0</td><td>List(0, 58, List(7, 51, 53, 54, 55, 56, 57), List(1.0, 1.0, 2015.0, 2.0, 1.0, 13.0, 4.0))</td></tr><tr><td>0.0</td><td>List(0, 58, List(0, 46, 53, 54, 55, 56, 57), List(1.0, 1.0, 2015.0, 2.0, 1.0, 21.0, 3.0))</td></tr><tr><td>0.0</td><td>List(0, 58, List(0, 41, 46, 53, 54, 55, 56, 57), List(1.0, 1.0, 1.0, 2015.0, 1.0, 27.0, 15.0, 3.0))</td></tr><tr><td>0.0</td><td>List(0, 58, List(2, 50, 53, 54, 55, 56, 57), List(1.0, 1.0, 2015.0, 2.0, 1.0, 23.0, 1.0))</td></tr><tr><td>0.0</td><td>List(0, 58, List(11, 46, 53, 54, 55, 56, 57), List(1.0, 1.0, 2015.0, 2.0, 1.0, 2.0, 4.0))</td></tr><tr><td>0.0</td><td>List(0, 58, List(0, 46, 53, 54, 55, 56, 57), List(1.0, 1.0, 2015.0, 2.0, 1.0, 18.0, 3.0))</td></tr><tr><td>1.0</td><td>List(0, 58, List(1, 48, 53, 54, 55, 56, 57), List(1.0, 1.0, 2015.0, 2.0, 1.0, 23.0, 2.0))</td></tr><tr><td>0.0</td><td>List(0, 58, List(3, 51, 53, 54, 55, 56, 57), List(1.0, 1.0, 2015.0, 2.0, 1.0, 22.0, 4.0))</td></tr><tr><td>0.0</td><td>List(0, 58, List(10, 49, 53, 54, 55, 56, 57), List(1.0, 1.0, 2015.0, 2.0, 1.0, 22.0, 3.0))</td></tr><tr><td>0.0</td><td>List(0, 58, List(9, 45, 53, 54, 55, 56, 57), List(1.0, 1.0, 2015.0, 2.0, 1.0, 20.0, 3.0))</td></tr><tr><td>1.0</td><td>List(0, 58, List(4, 48, 53, 54, 55, 56, 57), List(1.0, 1.0, 2015.0, 2.0, 1.0, 23.0, 5.0))</td></tr><tr><td>1.0</td><td>List(0, 58, List(6, 48, 53, 54, 55, 56, 57), List(1.0, 1.0, 2015.0, 2.0, 1.0, 23.0, 1.0))</td></tr><tr><td>0.0</td><td>List(0, 58, List(22, 48, 53, 54, 55, 56, 57), List(1.0, 1.0, 2015.0, 2.0, 1.0, 23.0, 1.0))</td></tr><tr><td>0.0</td><td>List(0, 58, List(0, 43, 44, 53, 54, 55, 57), List(1.0, 1.0, 1.0, 2015.0, 2.0, 2.0, 3.0))</td></tr><tr><td>0.0</td><td>List(0, 58, List(2, 44, 53, 54, 55, 56, 57), List(1.0, 1.0, 2015.0, 2.0, 1.0, 20.0, 1.0))</td></tr><tr><td>1.0</td><td>List(0, 58, List(1, 43, 50, 53, 54, 55, 56, 57), List(1.0, 1.0, 1.0, 2015.0, 2.0, 2.0, 11.0, 2.0))</td></tr><tr><td>0.0</td><td>List(0, 58, List(2, 43, 52, 53, 54, 55, 57), List(1.0, 1.0, 1.0, 2015.0, 2.0, 2.0, 1.0))</td></tr><tr><td>1.0</td><td>List(0, 58, List(1, 43, 45, 53, 54, 55, 56, 57), List(1.0, 1.0, 1.0, 2015.0, 2.0, 2.0, 1.0, 2.0))</td></tr><tr><td>1.0</td><td>List(0, 58, List(14, 43, 48, 53, 54, 55, 57), List(1.0, 1.0, 1.0, 2015.0, 2.0, 2.0, 5.0))</td></tr><tr><td>1.0</td><td>List(0, 58, List(13, 43, 48, 53, 54, 55, 57), List(1.0, 1.0, 1.0, 2015.0, 2.0, 2.0, 5.0))</td></tr><tr><td>1.0</td><td>List(0, 58, List(1, 43, 48, 53, 54, 55, 57), List(1.0, 1.0, 1.0, 2015.0, 2.0, 2.0, 2.0))</td></tr><tr><td>0.0</td><td>List(0, 58, List(3, 43, 44, 53, 54, 55, 56, 57), List(1.0, 1.0, 1.0, 2015.0, 2.0, 2.0, 1.0, 4.0))</td></tr><tr><td>0.0</td><td>List(0, 58, List(2, 43, 49, 53, 54, 55, 56, 57), List(1.0, 1.0, 1.0, 2015.0, 2.0, 2.0, 1.0, 1.0))</td></tr><tr><td>0.0</td><td>List(0, 58, List(0, 50, 53, 54, 55, 56, 57), List(1.0, 1.0, 2015.0, 2.0, 1.0, 19.0, 3.0))</td></tr><tr><td>0.0</td><td>List(0, 58, List(11, 43, 44, 53, 54, 55, 56, 57), List(1.0, 1.0, 1.0, 2015.0, 2.0, 2.0, 1.0, 4.0))</td></tr><tr><td>0.0</td><td>List(0, 58, List(7, 43, 45, 53, 54, 55, 57), List(1.0, 1.0, 1.0, 2015.0, 2.0, 2.0, 4.0))</td></tr><tr><td>1.0</td><td>List(0, 58, List(19, 43, 50, 53, 54, 55, 56, 57), List(1.0, 1.0, 1.0, 2015.0, 2.0, 2.0, 2.0, 1.0))</td></tr><tr><td>1.0</td><td>List(0, 58, List(4, 43, 48, 53, 54, 55, 56, 57), List(1.0, 1.0, 1.0, 2015.0, 2.0, 2.0, 2.0, 5.0))</td></tr><tr><td>1.0</td><td>List(0, 58, List(1, 43, 48, 53, 54, 55, 56, 57), List(1.0, 1.0, 1.0, 2015.0, 2.0, 2.0, 2.0, 2.0))</td></tr><tr><td>1.0</td><td>List(0, 58, List(6, 43, 48, 53, 54, 55, 56, 57), List(1.0, 1.0, 1.0, 2015.0, 2.0, 2.0, 2.0, 1.0))</td></tr><tr><td>0.0</td><td>List(0, 58, List(11, 43, 47, 53, 54, 55, 56, 57), List(1.0, 1.0, 1.0, 2015.0, 2.0, 2.0, 3.0, 4.0))</td></tr><tr><td>0.0</td><td>List(0, 58, List(3, 43, 47, 53, 54, 55, 56, 57), List(1.0, 1.0, 1.0, 2015.0, 2.0, 2.0, 3.0, 4.0))</td></tr><tr><td>0.0</td><td>List(0, 58, List(10, 44, 53, 54, 55, 56, 57), List(1.0, 1.0, 2015.0, 2.0, 1.0, 20.0, 3.0))</td></tr><tr><td>0.0</td><td>List(0, 58, List(0, 53, 54, 55, 56, 57), List(1.0, 2015.0, 2.0, 1.0, 16.0, 3.0))</td></tr><tr><td>0.0</td><td>List(0, 58, List(3, 43, 48, 53, 54, 55, 56, 57), List(1.0, 1.0, 1.0, 2015.0, 2.0, 2.0, 1.0, 4.0))</td></tr><tr><td>1.0</td><td>List(0, 58, List(1, 43, 49, 53, 54, 55, 56, 57), List(1.0, 1.0, 1.0, 2015.0, 2.0, 2.0, 4.0, 2.0))</td></tr><tr><td>0.0</td><td>List(0, 58, List(2, 43, 50, 53, 54, 55, 56, 57), List(1.0, 1.0, 1.0, 2015.0, 2.0, 2.0, 4.0, 1.0))</td></tr><tr><td>0.0</td><td>List(0, 58, List(3, 43, 48, 53, 54, 55, 56, 57), List(1.0, 1.0, 1.0, 2015.0, 2.0, 2.0, 4.0, 4.0))</td></tr><tr><td>0.0</td><td>List(0, 58, List(3, 40, 46, 53, 54, 55, 56, 57), List(1.0, 1.0, 1.0, 2015.0, 1.0, 31.0, 20.0, 4.0))</td></tr><tr><td>0.0</td><td>List(0, 58, List(0, 43, 44, 53, 54, 55, 56, 57), List(1.0, 1.0, 1.0, 2015.0, 2.0, 2.0, 2.0, 3.0))</td></tr><tr><td>0.0</td><td>List(0, 58, List(2, 43, 44, 53, 54, 55, 56, 57), List(1.0, 1.0, 1.0, 2015.0, 2.0, 2.0, 6.0, 1.0))</td></tr><tr><td>0.0</td><td>List(0, 58, List(2, 43, 47, 53, 54, 55, 56, 57), List(1.0, 1.0, 1.0, 2015.0, 2.0, 2.0, 7.0, 1.0))</td></tr><tr><td>0.0</td><td>List(0, 58, List(11, 43, 48, 53, 54, 55, 56, 57), List(1.0, 1.0, 1.0, 2015.0, 2.0, 2.0, 6.0, 4.0))</td></tr><tr><td>0.0</td><td>List(0, 58, List(14, 43, 48, 53, 54, 55, 56, 57), List(1.0, 1.0, 1.0, 2015.0, 2.0, 2.0, 6.0, 5.0))</td></tr><tr><td>0.0</td><td>List(0, 58, List(0, 46, 53, 54, 55, 56, 57), List(1.0, 1.0, 2015.0, 2.0, 1.0, 23.0, 3.0))</td></tr><tr><td>1.0</td><td>List(0, 58, List(1, 43, 45, 53, 54, 55, 56, 57), List(1.0, 1.0, 1.0, 2015.0, 2.0, 2.0, 7.0, 2.0))</td></tr><tr><td>0.0</td><td>List(0, 58, List(5, 43, 44, 53, 54, 55, 56, 57), List(1.0, 1.0, 1.0, 2015.0, 2.0, 2.0, 5.0, 4.0))</td></tr><tr><td>0.0</td><td>List(0, 58, List(0, 42, 47, 53, 54, 55, 56, 57), List(1.0, 1.0, 1.0, 2015.0, 1.0, 29.0, 15.0, 3.0))</td></tr><tr><td>0.0</td><td>List(0, 58, List(0, 39, 44, 53, 54, 55, 56, 57), List(1.0, 1.0, 1.0, 2015.0, 1.0, 28.0, 14.0, 3.0))</td></tr><tr><td>0.0</td><td>List(0, 58, List(1, 43, 51, 53, 54, 55, 56, 57), List(1.0, 1.0, 1.0, 2015.0, 2.0, 2.0, 7.0, 2.0))</td></tr><tr><td>0.0</td><td>List(0, 58, List(1, 43, 51, 53, 54, 55, 56, 57), List(1.0, 1.0, 1.0, 2015.0, 2.0, 2.0, 7.0, 2.0))</td></tr><tr><td>0.0</td><td>List(0, 58, List(7, 45, 53, 54, 55, 56, 57), List(1.0, 1.0, 2015.0, 2.0, 1.0, 21.0, 4.0))</td></tr><tr><td>0.0</td><td>List(0, 58, List(0, 45, 53, 54, 55, 56, 57), List(1.0, 1.0, 2015.0, 2.0, 1.0, 21.0, 3.0))</td></tr><tr><td>1.0</td><td>List(0, 58, List(4, 43, 52, 53, 54, 55, 56, 57), List(1.0, 1.0, 1.0, 2015.0, 2.0, 2.0, 8.0, 5.0))</td></tr><tr><td>0.0</td><td>List(0, 58, List(0, 43, 48, 53, 54, 55, 56, 57), List(1.0, 1.0, 1.0, 2015.0, 2.0, 2.0, 4.0, 3.0))</td></tr><tr><td>0.0</td><td>List(0, 58, List(8, 43, 48, 53, 54, 55, 56, 57), List(1.0, 1.0, 1.0, 2015.0, 2.0, 2.0, 4.0, 2.0))</td></tr><tr><td>0.0</td><td>List(0, 58, List(7, 45, 53, 54, 55, 56, 57), List(1.0, 1.0, 2015.0, 2.0, 1.0, 20.0, 4.0))</td></tr><tr><td>0.0</td><td>List(0, 58, List(0, 46, 53, 54, 55, 56, 57), List(1.0, 1.0, 2015.0, 2.0, 1.0, 12.0, 3.0))</td></tr><tr><td>0.0</td><td>List(0, 58, List(5, 46, 53, 54, 55, 56, 57), List(1.0, 1.0, 2015.0, 2.0, 1.0, 12.0, 4.0))</td></tr><tr><td>0.0</td><td>List(0, 58, List(5, 46, 53, 54, 55, 56, 57), List(1.0, 1.0, 2015.0, 2.0, 1.0, 12.0, 4.0))</td></tr><tr><td>0.0</td><td>List(0, 58, List(7, 38, 51, 53, 54, 55, 56, 57), List(1.0, 1.0, 1.0, 2015.0, 1.0, 30.0, 17.0, 4.0))</td></tr><tr><td>1.0</td><td>List(0, 58, List(16, 43, 45, 53, 54, 55, 56, 57), List(1.0, 1.0, 1.0, 2015.0, 2.0, 2.0, 7.0, 3.0))</td></tr><tr><td>0.0</td><td>List(0, 58, List(5, 46, 53, 54, 55, 56, 57), List(1.0, 1.0, 2015.0, 2.0, 1.0, 20.0, 4.0))</td></tr><tr><td>0.0</td><td>List(0, 58, List(5, 52, 53, 54, 55, 56, 57), List(1.0, 1.0, 2015.0, 2.0, 1.0, 8.0, 4.0))</td></tr><tr><td>0.0</td><td>List(0, 58, List(2, 43, 49, 53, 54, 55, 56, 57), List(1.0, 1.0, 1.0, 2015.0, 2.0, 2.0, 8.0, 1.0))</td></tr><tr><td>0.0</td><td>List(0, 58, List(21, 43, 45, 53, 54, 55, 56, 57), List(1.0, 1.0, 1.0, 2015.0, 2.0, 2.0, 9.0, 5.0))</td></tr><tr><td>0.0</td><td>List(0, 58, List(21, 43, 45, 53, 54, 55, 56, 57), List(1.0, 1.0, 1.0, 2015.0, 2.0, 2.0, 9.0, 5.0))</td></tr><tr><td>0.0</td><td>List(0, 58, List(0, 41, 46, 53, 54, 55, 56, 57), List(1.0, 1.0, 1.0, 2015.0, 1.0, 20.0, 9.0, 3.0))</td></tr><tr><td>0.0</td><td>List(0, 58, List(7, 38, 47, 53, 54, 55, 56, 57), List(1.0, 1.0, 1.0, 2015.0, 1.0, 30.0, 16.0, 4.0))</td></tr><tr><td>1.0</td><td>List(0, 58, List(6, 43, 53, 54, 55, 56, 57), List(1.0, 1.0, 2015.0, 2.0, 2.0, 9.0, 1.0))</td></tr><tr><td>0.0</td><td>List(0, 58, List(0, 41, 44, 53, 54, 55, 56, 57), List(1.0, 1.0, 1.0, 2015.0, 1.0, 27.0, 8.0, 3.0))</td></tr><tr><td>0.0</td><td>List(0, 58, List(15, 43, 44, 53, 54, 55, 56, 57), List(1.0, 1.0, 1.0, 2015.0, 1.0, 26.0, 9.0, 2.0))</td></tr><tr><td>0.0</td><td>List(0, 58, List(15, 43, 44, 53, 54, 55, 56, 57), List(1.0, 1.0, 1.0, 2015.0, 1.0, 26.0, 9.0, 2.0))</td></tr><tr><td>0.0</td><td>List(0, 58, List(2, 43, 44, 53, 54, 55, 56, 57), List(1.0, 1.0, 1.0, 2015.0, 1.0, 26.0, 9.0, 1.0))</td></tr><tr><td>0.0</td><td>List(0, 58, List(2, 43, 44, 53, 54, 55, 56, 57), List(1.0, 1.0, 1.0, 2015.0, 1.0, 26.0, 9.0, 1.0))</td></tr><tr><td>0.0</td><td>List(0, 58, List(8, 43, 45, 53, 54, 55, 56, 57), List(1.0, 1.0, 1.0, 2015.0, 2.0, 2.0, 9.0, 2.0))</td></tr><tr><td>0.0</td><td>List(0, 58, List(1, 38, 46, 53, 54, 55, 56, 57), List(1.0, 1.0, 1.0, 2015.0, 1.0, 16.0, 18.0, 2.0))</td></tr><tr><td>0.0</td><td>List(0, 58, List(3, 43, 49, 53, 54, 55, 56, 57), List(1.0, 1.0, 1.0, 2015.0, 2.0, 2.0, 9.0, 4.0))</td></tr><tr><td>1.0</td><td>List(0, 58, List(6, 43, 45, 53, 54, 55, 56, 57), List(1.0, 1.0, 1.0, 2015.0, 2.0, 2.0, 9.0, 1.0))</td></tr><tr><td>1.0</td><td>List(0, 58, List(27, 43, 45, 53, 54, 55, 56, 57), List(1.0, 1.0, 1.0, 2015.0, 2.0, 2.0, 10.0, 5.0))</td></tr><tr><td>1.0</td><td>List(0, 58, List(6, 43, 45, 53, 54, 55, 56, 57), List(1.0, 1.0, 1.0, 2015.0, 2.0, 2.0, 10.0, 1.0))</td></tr><tr><td>0.0</td><td>List(0, 58, List(2, 43, 53, 54, 55, 56, 57), List(1.0, 1.0, 2015.0, 2.0, 2.0, 8.0, 1.0))</td></tr><tr><td>0.0</td><td>List(0, 58, List(13, 41, 53, 54, 55, 56, 57), List(1.0, 1.0, 2015.0, 1.0, 27.0, 8.0, 5.0))</td></tr><tr><td>0.0</td><td>List(0, 58, List(1, 41, 53, 54, 55, 56, 57), List(1.0, 1.0, 2015.0, 1.0, 27.0, 8.0, 2.0))</td></tr><tr><td>1.0</td><td>List(0, 58, List(1, 43, 46, 53, 54, 55, 56, 57), List(1.0, 1.0, 1.0, 2015.0, 2.0, 2.0, 10.0, 2.0))</td></tr><tr><td>0.0</td><td>List(0, 58, List(7, 38, 44, 53, 54, 55, 56, 57), List(1.0, 1.0, 1.0, 2015.0, 1.0, 30.0, 19.0, 4.0))</td></tr><tr><td>0.0</td><td>List(0, 58, List(0, 45, 53, 54, 55, 56, 57), List(1.0, 1.0, 2015.0, 2.0, 1.0, 20.0, 3.0))</td></tr><tr><td>0.0</td><td>List(0, 58, List(0, 46, 53, 54, 55, 56, 57), List(1.0, 1.0, 2015.0, 2.0, 1.0, 4.0, 3.0))</td></tr><tr><td>0.0</td><td>List(0, 58, List(10, 40, 47, 53, 54, 55, 56, 57), List(1.0, 1.0, 1.0, 2015.0, 1.0, 24.0, 19.0, 3.0))</td></tr><tr><td>0.0</td><td>List(0, 58, List(1, 43, 52, 53, 54, 55, 56, 57), List(1.0, 1.0, 1.0, 2015.0, 2.0, 2.0, 10.0, 2.0))</td></tr><tr><td>0.0</td><td>List(0, 58, List(3, 43, 50, 53, 54, 55, 56, 57), List(1.0, 1.0, 1.0, 2015.0, 2.0, 2.0, 10.0, 4.0))</td></tr><tr><td>0.0</td><td>List(0, 58, List(1, 43, 50, 53, 54, 55, 56, 57), List(1.0, 1.0, 1.0, 2015.0, 2.0, 2.0, 10.0, 2.0))</td></tr><tr><td>0.0</td><td>List(0, 58, List(24, 43, 50, 53, 54, 55, 56, 57), List(1.0, 1.0, 1.0, 2015.0, 2.0, 2.0, 10.0, 5.0))</td></tr><tr><td>0.0</td><td>List(0, 58, List(15, 43, 44, 53, 54, 55, 56, 57), List(1.0, 1.0, 1.0, 2015.0, 2.0, 2.0, 11.0, 2.0))</td></tr><tr><td>0.0</td><td>List(0, 58, List(7, 40, 48, 53, 54, 55, 56, 57), List(1.0, 1.0, 1.0, 2015.0, 1.0, 31.0, 1.0, 4.0))</td></tr><tr><td>0.0</td><td>List(0, 58, List(0, 43, 53, 54, 55, 56, 57), List(1.0, 1.0, 2015.0, 2.0, 2.0, 10.0, 3.0))</td></tr><tr><td>0.0</td><td>List(0, 58, List(0, 38, 45, 53, 54, 55, 56, 57), List(1.0, 1.0, 1.0, 2015.0, 1.0, 30.0, 15.0, 3.0))</td></tr><tr><td>0.0</td><td>List(0, 58, List(7, 40, 44, 53, 54, 55, 56, 57), List(1.0, 1.0, 1.0, 2015.0, 1.0, 31.0, 20.0, 4.0))</td></tr><tr><td>0.0</td><td>List(0, 58, List(13, 43, 44, 53, 54, 55, 56, 57), List(1.0, 1.0, 1.0, 2015.0, 2.0, 2.0, 11.0, 5.0))</td></tr><tr><td>0.0</td><td>List(0, 58, List(1, 43, 44, 53, 54, 55, 56, 57), List(1.0, 1.0, 1.0, 2015.0, 2.0, 2.0, 11.0, 2.0))</td></tr><tr><td>0.0</td><td>List(0, 58, List(2, 43, 49, 53, 54, 55, 56, 57), List(1.0, 1.0, 1.0, 2015.0, 2.0, 2.0, 11.0, 1.0))</td></tr><tr><td>1.0</td><td>List(0, 58, List(6, 43, 48, 53, 54, 55, 56, 57), List(1.0, 1.0, 1.0, 2015.0, 2.0, 2.0, 11.0, 1.0))</td></tr><tr><td>0.0</td><td>List(0, 58, List(8, 40, 51, 53, 54, 55, 56, 57), List(1.0, 1.0, 1.0, 2015.0, 1.0, 31.0, 3.0, 2.0))</td></tr><tr><td>1.0</td><td>List(0, 58, List(6, 43, 48, 53, 54, 55, 56, 57), List(1.0, 1.0, 1.0, 2015.0, 2.0, 2.0, 11.0, 1.0))</td></tr><tr><td>1.0</td><td>List(0, 58, List(2, 43, 48, 53, 54, 55, 56, 57), List(1.0, 1.0, 1.0, 2015.0, 2.0, 2.0, 11.0, 1.0))</td></tr><tr><td>0.0</td><td>List(0, 58, List(2, 47, 53, 54, 55, 56, 57), List(1.0, 1.0, 2015.0, 2.0, 1.0, 12.0, 1.0))</td></tr><tr><td>0.0</td><td>List(0, 58, List(22, 43, 46, 53, 54, 55, 56, 57), List(1.0, 1.0, 1.0, 2015.0, 2.0, 2.0, 11.0, 1.0))</td></tr><tr><td>0.0</td><td>List(0, 58, List(2, 43, 44, 53, 54, 55, 56, 57), List(1.0, 1.0, 1.0, 2015.0, 2.0, 2.0, 11.0, 1.0))</td></tr><tr><td>0.0</td><td>List(0, 58, List(10, 41, 46, 53, 54, 55, 56, 57), List(1.0, 1.0, 1.0, 2015.0, 1.0, 20.0, 15.0, 3.0))</td></tr><tr><td>0.0</td><td>List(0, 58, List(10, 41, 46, 53, 54, 55, 56, 57), List(1.0, 1.0, 1.0, 2015.0, 1.0, 20.0, 15.0, 3.0))</td></tr><tr><td>0.0</td><td>List(0, 58, List(13, 43, 51, 53, 54, 55, 56, 57), List(1.0, 1.0, 1.0, 2015.0, 2.0, 2.0, 9.0, 5.0))</td></tr><tr><td>0.0</td><td>List(0, 58, List(3, 43, 51, 53, 54, 55, 56, 57), List(1.0, 1.0, 1.0, 2015.0, 2.0, 2.0, 9.0, 4.0))</td></tr><tr><td>0.0</td><td>List(0, 58, List(2, 38, 50, 53, 54, 55, 56, 57), List(1.0, 1.0, 1.0, 2015.0, 2.0, 27.0, 9.0, 1.0))</td></tr><tr><td>0.0</td><td>List(0, 58, List(7, 40, 51, 53, 54, 55, 56, 57), List(1.0, 1.0, 1.0, 2015.0, 1.0, 31.0, 10.0, 4.0))</td></tr><tr><td>0.0</td><td>List(0, 58, List(0, 43, 47, 53, 54, 55, 56, 57), List(1.0, 1.0, 1.0, 2015.0, 2.0, 2.0, 11.0, 3.0))</td></tr><tr><td>0.0</td><td>List(0, 58, List(0, 43, 52, 53, 54, 55, 56, 57), List(1.0, 1.0, 1.0, 2015.0, 2.0, 2.0, 11.0, 3.0))</td></tr><tr><td>0.0</td><td>List(0, 58, List(0, 38, 53, 54, 55, 56, 57), List(1.0, 1.0, 2015.0, 1.0, 30.0, 15.0, 3.0))</td></tr><tr><td>1.0</td><td>List(0, 58, List(1, 43, 47, 53, 54, 55, 56, 57), List(1.0, 1.0, 1.0, 2015.0, 2.0, 2.0, 12.0, 2.0))</td></tr><tr><td>0.0</td><td>List(0, 58, List(0, 43, 53, 54, 55, 56, 57), List(1.0, 1.0, 2015.0, 2.0, 2.0, 11.0, 3.0))</td></tr><tr><td>0.0</td><td>List(0, 58, List(5, 38, 44, 53, 54, 55, 56, 57), List(1.0, 1.0, 1.0, 2015.0, 1.0, 30.0, 16.0, 4.0))</td></tr><tr><td>1.0</td><td>List(0, 58, List(1, 43, 52, 53, 54, 55, 56, 57), List(1.0, 1.0, 1.0, 2015.0, 2.0, 2.0, 12.0, 2.0))</td></tr><tr><td>1.0</td><td>List(0, 58, List(6, 43, 52, 53, 54, 55, 56, 57), List(1.0, 1.0, 1.0, 2015.0, 2.0, 2.0, 12.0, 1.0))</td></tr><tr><td>0.0</td><td>List(0, 58, List(3, 38, 51, 53, 54, 55, 56, 57), List(1.0, 1.0, 1.0, 2015.0, 1.0, 30.0, 15.0, 4.0))</td></tr><tr><td>0.0</td><td>List(0, 58, List(13, 38, 51, 53, 54, 55, 56, 57), List(1.0, 1.0, 1.0, 2015.0, 1.0, 30.0, 15.0, 5.0))</td></tr><tr><td>0.0</td><td>List(0, 58, List(1, 38, 51, 53, 54, 55, 56, 57), List(1.0, 1.0, 1.0, 2015.0, 1.0, 30.0, 15.0, 2.0))</td></tr><tr><td>1.0</td><td>List(0, 58, List(20, 43, 49, 53, 54, 55, 56, 57), List(1.0, 1.0, 1.0, 2015.0, 2.0, 2.0, 12.0, 1.0))</td></tr><tr><td>1.0</td><td>List(0, 58, List(1, 43, 49, 53, 54, 55, 56, 57), List(1.0, 1.0, 1.0, 2015.0, 2.0, 2.0, 12.0, 2.0))</td></tr><tr><td>1.0</td><td>List(0, 58, List(6, 43, 49, 53, 54, 55, 56, 57), List(1.0, 1.0, 1.0, 2015.0, 2.0, 2.0, 12.0, 1.0))</td></tr><tr><td>1.0</td><td>List(0, 58, List(1, 43, 44, 53, 54, 55, 56, 57), List(1.0, 1.0, 1.0, 2015.0, 2.0, 2.0, 12.0, 2.0))</td></tr><tr><td>0.0</td><td>List(0, 58, List(9, 52, 53, 54, 55, 57), List(1.0, 1.0, 2015.0, 2.0, 1.0, 3.0))</td></tr><tr><td>0.0</td><td>List(0, 58, List(2, 43, 50, 53, 54, 55, 56, 57), List(1.0, 1.0, 1.0, 2015.0, 2.0, 2.0, 12.0, 1.0))</td></tr><tr><td>1.0</td><td>List(0, 58, List(0, 43, 44, 53, 54, 55, 56, 57), List(1.0, 1.0, 1.0, 2015.0, 2.0, 2.0, 12.0, 3.0))</td></tr><tr><td>0.0</td><td>List(0, 58, List(0, 43, 51, 53, 54, 55, 56, 57), List(1.0, 1.0, 1.0, 2015.0, 2.0, 2.0, 7.0, 3.0))</td></tr><tr><td>0.0</td><td>List(0, 58, List(13, 43, 51, 53, 54, 55, 56, 57), List(1.0, 1.0, 1.0, 2015.0, 2.0, 2.0, 7.0, 5.0))</td></tr><tr><td>0.0</td><td>List(0, 58, List(0, 43, 46, 53, 54, 55, 56, 57), List(1.0, 1.0, 1.0, 2015.0, 2.0, 2.0, 12.0, 3.0))</td></tr><tr><td>0.0</td><td>List(0, 58, List(9, 42, 51, 53, 54, 55, 56, 57), List(1.0, 1.0, 1.0, 2014.0, 1.0, 23.0, 18.0, 3.0))</td></tr><tr><td>0.0</td><td>List(0, 58, List(1, 52, 53, 54, 55, 56, 57), List(1.0, 1.0, 2015.0, 2.0, 1.0, 17.0, 2.0))</td></tr><tr><td>0.0</td><td>List(0, 58, List(0, 38, 44, 53, 54, 55, 56, 57), List(1.0, 1.0, 1.0, 2015.0, 1.0, 30.0, 19.0, 3.0))</td></tr><tr><td>0.0</td><td>List(0, 58, List(1, 43, 48, 53, 54, 55, 56, 57), List(1.0, 1.0, 1.0, 2015.0, 2.0, 2.0, 11.0, 2.0))</td></tr><tr><td>0.0</td><td>List(0, 58, List(2, 43, 48, 53, 54, 55, 56, 57), List(1.0, 1.0, 1.0, 2015.0, 2.0, 2.0, 11.0, 1.0))</td></tr><tr><td>0.0</td><td>List(0, 58, List(2, 43, 48, 53, 54, 55, 56, 57), List(1.0, 1.0, 1.0, 2015.0, 2.0, 2.0, 11.0, 1.0))</td></tr><tr><td>0.0</td><td>List(0, 58, List(22, 43, 45, 53, 54, 55, 56, 57), List(1.0, 1.0, 1.0, 2015.0, 2.0, 2.0, 12.0, 1.0))</td></tr><tr><td>0.0</td><td>List(0, 58, List(27, 43, 45, 53, 54, 55, 56, 57), List(1.0, 1.0, 1.0, 2015.0, 2.0, 2.0, 12.0, 5.0))</td></tr><tr><td>0.0</td><td>List(0, 58, List(28, 49, 53, 54, 55, 56, 57), List(1.0, 1.0, 2015.0, 2.0, 1.0, 22.0, 3.0))</td></tr><tr><td>0.0</td><td>List(0, 58, List(2, 53, 54, 55, 56, 57), List(1.0, 2015.0, 1.0, 25.0, 13.0, 1.0))</td></tr><tr><td>0.0</td><td>List(0, 58, List(1, 43, 50, 53, 54, 55, 56, 57), List(1.0, 1.0, 1.0, 2015.0, 1.0, 26.0, 9.0, 2.0))</td></tr><tr><td>0.0</td><td>List(0, 58, List(2, 43, 44, 53, 54, 55, 56, 57), List(1.0, 1.0, 1.0, 2015.0, 2.0, 2.0, 12.0, 1.0))</td></tr><tr><td>1.0</td><td>List(0, 58, List(7, 43, 47, 53, 54, 55, 56, 57), List(1.0, 1.0, 1.0, 2015.0, 2.0, 2.0, 12.0, 4.0))</td></tr><tr><td>1.0</td><td>List(0, 58, List(1, 43, 47, 53, 54, 55, 56, 57), List(1.0, 1.0, 1.0, 2015.0, 2.0, 2.0, 12.0, 2.0))</td></tr><tr><td>0.0</td><td>List(0, 58, List(5, 43, 48, 53, 54, 55, 56, 57), List(1.0, 1.0, 1.0, 2015.0, 2.0, 2.0, 10.0, 4.0))</td></tr><tr><td>1.0</td><td>List(0, 58, List(1, 43, 45, 53, 54, 55, 56, 57), List(1.0, 1.0, 1.0, 2015.0, 2.0, 2.0, 13.0, 2.0))</td></tr><tr><td>0.0</td><td>List(0, 58, List(11, 43, 50, 53, 54, 55, 56, 57), List(1.0, 1.0, 1.0, 2015.0, 2.0, 2.0, 13.0, 4.0))</td></tr><tr><td>0.0</td><td>List(0, 58, List(0, 38, 44, 53, 54, 55, 56, 57), List(1.0, 1.0, 1.0, 2015.0, 1.0, 30.0, 11.0, 3.0))</td></tr><tr><td>0.0</td><td>List(0, 58, List(3, 43, 44, 53, 54, 55, 56, 57), List(1.0, 1.0, 1.0, 2015.0, 2.0, 2.0, 13.0, 4.0))</td></tr><tr><td>0.0</td><td>List(0, 58, List(3, 40, 53, 54, 55, 56, 57), List(1.0, 1.0, 2015.0, 1.0, 31.0, 12.0, 4.0))</td></tr><tr><td>0.0</td><td>List(0, 58, List(5, 40, 44, 53, 54, 55, 56, 57), List(1.0, 1.0, 1.0, 2015.0, 1.0, 31.0, 15.0, 4.0))</td></tr><tr><td>0.0</td><td>List(0, 58, List(2, 43, 44, 53, 54, 55, 56, 57), List(1.0, 1.0, 1.0, 2015.0, 2.0, 2.0, 13.0, 1.0))</td></tr><tr><td>1.0</td><td>List(0, 58, List(0, 43, 44, 53, 54, 55, 56, 57), List(1.0, 1.0, 1.0, 2015.0, 2.0, 2.0, 12.0, 3.0))</td></tr><tr><td>0.0</td><td>List(0, 58, List(11, 43, 47, 53, 54, 55, 56, 57), List(1.0, 1.0, 1.0, 2015.0, 2.0, 2.0, 13.0, 4.0))</td></tr><tr><td>0.0</td><td>List(0, 58, List(0, 43, 47, 53, 54, 55, 56, 57), List(1.0, 1.0, 1.0, 2015.0, 2.0, 2.0, 13.0, 3.0))</td></tr><tr><td>0.0</td><td>List(0, 58, List(3, 40, 44, 53, 54, 55, 56, 57), List(1.0, 1.0, 1.0, 2014.0, 2.0, 1.0, 16.0, 4.0))</td></tr><tr><td>0.0</td><td>List(0, 58, List(7, 43, 50, 53, 54, 55, 56, 57), List(1.0, 1.0, 1.0, 2015.0, 2.0, 2.0, 12.0, 4.0))</td></tr><tr><td>1.0</td><td>List(0, 58, List(6, 43, 48, 53, 54, 55, 56, 57), List(1.0, 1.0, 1.0, 2015.0, 2.0, 2.0, 11.0, 1.0))</td></tr><tr><td>0.0</td><td>List(0, 58, List(2, 43, 53, 54, 55, 56, 57), List(1.0, 1.0, 2015.0, 2.0, 2.0, 14.0, 1.0))</td></tr><tr><td>1.0</td><td>List(0, 58, List(1, 43, 47, 53, 54, 55, 56, 57), List(1.0, 1.0, 1.0, 2015.0, 2.0, 2.0, 14.0, 2.0))</td></tr><tr><td>1.0</td><td>List(0, 58, List(6, 43, 47, 53, 54, 55, 56, 57), List(1.0, 1.0, 1.0, 2015.0, 2.0, 2.0, 14.0, 1.0))</td></tr><tr><td>1.0</td><td>List(0, 58, List(2, 43, 47, 53, 54, 55, 56, 57), List(1.0, 1.0, 1.0, 2015.0, 2.0, 2.0, 14.0, 1.0))</td></tr><tr><td>0.0</td><td>List(0, 58, List(5, 43, 50, 53, 54, 55, 56, 57), List(1.0, 1.0, 1.0, 2015.0, 2.0, 2.0, 14.0, 4.0))</td></tr><tr><td>0.0</td><td>List(0, 58, List(8, 39, 44, 53, 54, 55, 56, 57), List(1.0, 1.0, 1.0, 2015.0, 1.0, 21.0, 12.0, 2.0))</td></tr><tr><td>0.0</td><td>List(0, 58, List(9, 43, 46, 53, 54, 55, 56, 57), List(1.0, 1.0, 1.0, 2015.0, 2.0, 2.0, 9.0, 3.0))</td></tr><tr><td>0.0</td><td>List(0, 58, List(5, 43, 49, 53, 54, 55, 56, 57), List(1.0, 1.0, 1.0, 2015.0, 2.0, 2.0, 14.0, 4.0))</td></tr><tr><td>1.0</td><td>List(0, 58, List(18, 43, 44, 53, 54, 55, 56, 57), List(1.0, 1.0, 1.0, 2015.0, 2.0, 2.0, 14.0, 2.0))</td></tr><tr><td>1.0</td><td>List(0, 58, List(1, 43, 44, 53, 54, 55, 56, 57), List(1.0, 1.0, 1.0, 2015.0, 2.0, 2.0, 14.0, 2.0))</td></tr><tr><td>0.0</td><td>List(0, 58, List(0, 43, 46, 53, 54, 55, 56, 57), List(1.0, 1.0, 1.0, 2015.0, 2.0, 2.0, 14.0, 3.0))</td></tr><tr><td>0.0</td><td>List(0, 58, List(0, 47, 53, 54, 55, 56, 57), List(1.0, 1.0, 2015.0, 2.0, 1.0, 22.0, 3.0))</td></tr><tr><td>0.0</td><td>List(0, 58, List(9, 51, 53, 54, 55, 56, 57), List(1.0, 1.0, 2015.0, 2.0, 1.0, 18.0, 3.0))</td></tr><tr><td>0.0</td><td>List(0, 58, List(14, 43, 53, 54, 55, 56, 57), List(1.0, 1.0, 2015.0, 2.0, 2.0, 15.0, 5.0))</td></tr><tr><td>0.0</td><td>List(0, 58, List(2, 43, 44, 53, 54, 55, 56, 57), List(1.0, 1.0, 1.0, 2015.0, 2.0, 2.0, 14.0, 1.0))</td></tr><tr><td>0.0</td><td>List(0, 58, List(3, 52, 53, 54, 55, 56, 57), List(1.0, 1.0, 2015.0, 2.0, 1.0, 22.0, 4.0))</td></tr><tr><td>0.0</td><td>List(0, 58, List(11, 44, 53, 54, 55, 56, 57), List(1.0, 1.0, 2014.0, 2.0, 2.0, 6.0, 4.0))</td></tr><tr><td>0.0</td><td>List(0, 58, List(2, 43, 44, 53, 54, 55, 56, 57), List(1.0, 1.0, 1.0, 2015.0, 2.0, 2.0, 15.0, 1.0))</td></tr><tr><td>0.0</td><td>List(0, 58, List(2, 43, 44, 53, 54, 55, 56, 57), List(1.0, 1.0, 1.0, 2015.0, 2.0, 2.0, 15.0, 1.0))</td></tr><tr><td>0.0</td><td>List(0, 58, List(2, 43, 52, 53, 54, 55, 56, 57), List(1.0, 1.0, 1.0, 2015.0, 2.0, 2.0, 14.0, 1.0))</td></tr><tr><td>0.0</td><td>List(0, 58, List(3, 43, 52, 53, 54, 55, 56, 57), List(1.0, 1.0, 1.0, 2015.0, 2.0, 2.0, 14.0, 4.0))</td></tr><tr><td>0.0</td><td>List(0, 58, List(3, 43, 52, 53, 54, 55, 56, 57), List(1.0, 1.0, 1.0, 2015.0, 2.0, 2.0, 14.0, 4.0))</td></tr><tr><td>1.0</td><td>List(0, 58, List(0, 43, 48, 53, 54, 55, 56, 57), List(1.0, 1.0, 1.0, 2015.0, 2.0, 2.0, 14.0, 3.0))</td></tr><tr><td>1.0</td><td>List(0, 58, List(6, 43, 48, 53, 54, 55, 56, 57), List(1.0, 1.0, 1.0, 2015.0, 2.0, 2.0, 14.0, 1.0))</td></tr><tr><td>0.0</td><td>List(0, 58, List(2, 43, 48, 53, 54, 55, 56, 57), List(1.0, 1.0, 1.0, 2015.0, 2.0, 2.0, 13.0, 1.0))</td></tr><tr><td>0.0</td><td>List(0, 58, List(13, 43, 45, 53, 54, 55, 56, 57), List(1.0, 1.0, 1.0, 2015.0, 2.0, 2.0, 14.0, 5.0))</td></tr><tr><td>0.0</td><td>List(0, 58, List(8, 43, 45, 53, 54, 55, 56, 57), List(1.0, 1.0, 1.0, 2015.0, 2.0, 2.0, 14.0, 2.0))</td></tr><tr><td>1.0</td><td>List(0, 58, List(6, 43, 48, 53, 54, 55, 56, 57), List(1.0, 1.0, 1.0, 2015.0, 2.0, 2.0, 15.0, 1.0))</td></tr><tr><td>0.0</td><td>List(0, 58, List(2, 43, 45, 53, 54, 55, 56, 57), List(1.0, 1.0, 1.0, 2015.0, 2.0, 2.0, 15.0, 1.0))</td></tr><tr><td>1.0</td><td>List(0, 58, List(0, 43, 44, 53, 54, 55, 56, 57), List(1.0, 1.0, 1.0, 2015.0, 2.0, 2.0, 15.0, 3.0))</td></tr><tr><td>1.0</td><td>List(0, 58, List(16, 43, 44, 53, 54, 55, 56, 57), List(1.0, 1.0, 1.0, 2015.0, 2.0, 2.0, 15.0, 3.0))</td></tr><tr><td>0.0</td><td>List(0, 58, List(2, 43, 49, 53, 54, 55, 56, 57), List(1.0, 1.0, 1.0, 2015.0, 2.0, 2.0, 17.0, 1.0))</td></tr><tr><td>1.0</td><td>List(0, 58, List(0, 43, 44, 53, 54, 55, 56, 57), List(1.0, 1.0, 1.0, 2015.0, 2.0, 2.0, 16.0, 3.0))</td></tr><tr><td>0.0</td><td>List(0, 58, List(9, 45, 53, 54, 55, 56, 57), List(1.0, 1.0, 2015.0, 2.0, 1.0, 18.0, 3.0))</td></tr><tr><td>0.0</td><td>List(0, 58, List(2, 43, 44, 53, 54, 55, 56, 57), List(1.0, 1.0, 1.0, 2015.0, 2.0, 2.0, 15.0, 1.0))</td></tr><tr><td>1.0</td><td>List(0, 58, List(1, 43, 50, 53, 54, 55, 56, 57), List(1.0, 1.0, 1.0, 2015.0, 2.0, 2.0, 16.0, 2.0))</td></tr><tr><td>0.0</td><td>List(0, 58, List(3, 39, 44, 53, 54, 55, 56, 57), List(1.0, 1.0, 1.0, 2015.0, 2.0, 4.0, 11.0, 4.0))</td></tr><tr><td>1.0</td><td>List(0, 58, List(4, 43, 48, 53, 54, 55, 56, 57), List(1.0, 1.0, 1.0, 2015.0, 2.0, 2.0, 16.0, 5.0))</td></tr><tr><td>1.0</td><td>List(0, 58, List(6, 43, 48, 53, 54, 55, 56, 57), List(1.0, 1.0, 1.0, 2015.0, 2.0, 2.0, 16.0, 1.0))</td></tr><tr><td>1.0</td><td>List(0, 58, List(6, 43, 48, 53, 54, 55, 56, 57), List(1.0, 1.0, 1.0, 2015.0, 2.0, 2.0, 16.0, 1.0))</td></tr><tr><td>1.0</td><td>List(0, 58, List(3, 43, 45, 53, 54, 55, 56, 57), List(1.0, 1.0, 1.0, 2015.0, 2.0, 2.0, 15.0, 4.0))</td></tr><tr><td>1.0</td><td>List(0, 58, List(13, 43, 45, 53, 54, 55, 56, 57), List(1.0, 1.0, 1.0, 2015.0, 2.0, 2.0, 15.0, 5.0))</td></tr><tr><td>0.0</td><td>List(0, 58, List(7, 46, 53, 54, 55, 56, 57), List(1.0, 1.0, 2015.0, 2.0, 1.0, 1.0, 4.0))</td></tr><tr><td>0.0</td><td>List(0, 58, List(12, 46, 53, 54, 55, 56, 57), List(1.0, 1.0, 2015.0, 2.0, 1.0, 1.0, 3.0))</td></tr><tr><td>0.0</td><td>List(0, 58, List(1, 43, 49, 53, 54, 55, 56, 57), List(1.0, 1.0, 1.0, 2015.0, 2.0, 2.0, 16.0, 2.0))</td></tr><tr><td>0.0</td><td>List(0, 58, List(6, 43, 49, 53, 54, 55, 56, 57), List(1.0, 1.0, 1.0, 2015.0, 2.0, 2.0, 16.0, 1.0))</td></tr><tr><td>0.0</td><td>List(0, 58, List(6, 43, 49, 53, 54, 55, 56, 57), List(1.0, 1.0, 1.0, 2015.0, 2.0, 2.0, 16.0, 1.0))</td></tr><tr><td>0.0</td><td>List(0, 58, List(2, 43, 45, 53, 54, 55, 56, 57), List(1.0, 1.0, 1.0, 2015.0, 2.0, 2.0, 16.0, 1.0))</td></tr><tr><td>0.0</td><td>List(0, 58, List(0, 43, 47, 53, 54, 55, 57), List(1.0, 1.0, 1.0, 2015.0, 2.0, 2.0, 3.0))</td></tr><tr><td>0.0</td><td>List(0, 58, List(12, 43, 47, 53, 54, 55, 57), List(1.0, 1.0, 1.0, 2015.0, 2.0, 2.0, 3.0))</td></tr><tr><td>0.0</td><td>List(0, 58, List(2, 43, 47, 53, 54, 55, 57), List(1.0, 1.0, 1.0, 2015.0, 2.0, 2.0, 1.0))</td></tr><tr><td>0.0</td><td>List(0, 58, List(2, 43, 47, 53, 54, 55, 57), List(1.0, 1.0, 1.0, 2015.0, 2.0, 2.0, 1.0))</td></tr><tr><td>0.0</td><td>List(0, 58, List(0, 43, 47, 53, 54, 55, 56, 57), List(1.0, 1.0, 1.0, 2015.0, 2.0, 2.0, 15.0, 3.0))</td></tr><tr><td>1.0</td><td>List(0, 58, List(3, 43, 45, 53, 54, 55, 56, 57), List(1.0, 1.0, 1.0, 2015.0, 2.0, 2.0, 16.0, 4.0))</td></tr><tr><td>1.0</td><td>List(0, 58, List(3, 43, 45, 53, 54, 55, 56, 57), List(1.0, 1.0, 1.0, 2015.0, 2.0, 2.0, 16.0, 4.0))</td></tr><tr><td>1.0</td><td>List(0, 58, List(3, 43, 45, 53, 54, 55, 56, 57), List(1.0, 1.0, 1.0, 2015.0, 2.0, 2.0, 16.0, 4.0))</td></tr><tr><td>0.0</td><td>List(0, 58, List(7, 43, 51, 53, 54, 55, 56, 57), List(1.0, 1.0, 1.0, 2015.0, 2.0, 2.0, 16.0, 4.0))</td></tr><tr><td>0.0</td><td>List(0, 58, List(3, 43, 45, 53, 54, 55, 56, 57), List(1.0, 1.0, 1.0, 2015.0, 2.0, 2.0, 16.0, 4.0))</td></tr><tr><td>1.0</td><td>List(0, 58, List(1, 43, 46, 53, 54, 55, 56, 57), List(1.0, 1.0, 1.0, 2015.0, 2.0, 2.0, 16.0, 2.0))</td></tr><tr><td>1.0</td><td>List(0, 58, List(13, 43, 46, 53, 54, 55, 56, 57), List(1.0, 1.0, 1.0, 2015.0, 2.0, 2.0, 16.0, 5.0))</td></tr><tr><td>1.0</td><td>List(0, 58, List(3, 43, 46, 53, 54, 55, 56, 57), List(1.0, 1.0, 1.0, 2015.0, 2.0, 2.0, 16.0, 4.0))</td></tr><tr><td>1.0</td><td>List(0, 58, List(1, 43, 46, 53, 54, 55, 56, 57), List(1.0, 1.0, 1.0, 2015.0, 2.0, 2.0, 16.0, 2.0))</td></tr><tr><td>0.0</td><td>List(0, 58, List(2, 43, 49, 53, 54, 55, 56, 57), List(1.0, 1.0, 1.0, 2015.0, 2.0, 2.0, 15.0, 1.0))</td></tr><tr><td>1.0</td><td>List(0, 58, List(12, 42, 49, 53, 54, 55, 56, 57), List(1.0, 1.0, 1.0, 2015.0, 1.0, 29.0, 22.0, 3.0))</td></tr><tr><td>1.0</td><td>List(0, 58, List(2, 42, 49, 53, 54, 55, 56, 57), List(1.0, 1.0, 1.0, 2015.0, 1.0, 29.0, 22.0, 1.0))</td></tr><tr><td>1.0</td><td>List(0, 58, List(3, 43, 47, 53, 54, 55, 56, 57), List(1.0, 1.0, 1.0, 2015.0, 2.0, 2.0, 10.0, 4.0))</td></tr><tr><td>1.0</td><td>List(0, 58, List(3, 43, 47, 53, 54, 55, 56, 57), List(1.0, 1.0, 1.0, 2015.0, 2.0, 2.0, 10.0, 4.0))</td></tr><tr><td>1.0</td><td>List(0, 58, List(13, 43, 47, 53, 54, 55, 56, 57), List(1.0, 1.0, 1.0, 2015.0, 2.0, 2.0, 10.0, 5.0))</td></tr><tr><td>1.0</td><td>List(0, 58, List(0, 43, 45, 53, 54, 55, 56, 57), List(1.0, 1.0, 1.0, 2015.0, 2.0, 2.0, 16.0, 3.0))</td></tr><tr><td>1.0</td><td>List(0, 58, List(1, 43, 45, 53, 54, 55, 56, 57), List(1.0, 1.0, 1.0, 2015.0, 2.0, 2.0, 16.0, 2.0))</td></tr><tr><td>0.0</td><td>List(0, 58, List(7, 43, 51, 53, 54, 55, 56, 57), List(1.0, 1.0, 1.0, 2015.0, 2.0, 2.0, 9.0, 4.0))</td></tr><tr><td>0.0</td><td>List(0, 58, List(3, 43, 46, 53, 54, 55, 56, 57), List(1.0, 1.0, 1.0, 2015.0, 2.0, 2.0, 16.0, 4.0))</td></tr><tr><td>0.0</td><td>List(0, 58, List(3, 39, 47, 53, 54, 55, 56, 57), List(1.0, 1.0, 1.0, 2014.0, 2.0, 12.0, 16.0, 4.0))</td></tr><tr><td>0.0</td><td>List(0, 58, List(3, 43, 46, 53, 54, 55, 56, 57), List(1.0, 1.0, 1.0, 2015.0, 2.0, 2.0, 16.0, 4.0))</td></tr><tr><td>0.0</td><td>List(0, 58, List(0, 43, 46, 53, 54, 55, 56, 57), List(1.0, 1.0, 1.0, 2015.0, 2.0, 2.0, 16.0, 3.0))</td></tr><tr><td>0.0</td><td>List(0, 58, List(2, 43, 45, 53, 54, 55, 56, 57), List(1.0, 1.0, 1.0, 2015.0, 2.0, 2.0, 16.0, 1.0))</td></tr><tr><td>0.0</td><td>List(0, 58, List(2, 40, 50, 53, 54, 55, 56, 57), List(1.0, 1.0, 1.0, 2015.0, 1.0, 17.0, 19.0, 1.0))</td></tr><tr><td>0.0</td><td>List(0, 58, List(0, 43, 48, 53, 54, 55, 56, 57), List(1.0, 1.0, 1.0, 2015.0, 2.0, 2.0, 16.0, 3.0))</td></tr><tr><td>1.0</td><td>List(0, 58, List(1, 43, 50, 53, 54, 55, 56, 57), List(1.0, 1.0, 1.0, 2015.0, 2.0, 2.0, 17.0, 2.0))</td></tr><tr><td>0.0</td><td>List(0, 58, List(0, 43, 47, 53, 54, 55, 57), List(1.0, 1.0, 1.0, 2015.0, 1.0, 5.0, 3.0))</td></tr><tr><td>0.0</td><td>List(0, 58, List(15, 43, 47, 53, 54, 55, 57), List(1.0, 1.0, 1.0, 2015.0, 1.0, 5.0, 2.0))</td></tr><tr><td>1.0</td><td>List(0, 58, List(1, 43, 50, 53, 54, 55, 56, 57), List(1.0, 1.0, 1.0, 2015.0, 2.0, 2.0, 17.0, 2.0))</td></tr><tr><td>0.0</td><td>List(0, 58, List(11, 45, 53, 54, 55, 56, 57), List(1.0, 1.0, 2015.0, 2.0, 1.0, 23.0, 4.0))</td></tr><tr><td>0.0</td><td>List(0, 58, List(1, 43, 46, 53, 54, 55, 56, 57), List(1.0, 1.0, 1.0, 2015.0, 1.0, 26.0, 20.0, 2.0))</td></tr><tr><td>0.0</td><td>List(0, 58, List(2, 43, 51, 53, 54, 55, 56, 57), List(1.0, 1.0, 1.0, 2015.0, 2.0, 2.0, 17.0, 1.0))</td></tr><tr><td>0.0</td><td>List(0, 58, List(3, 43, 48, 53, 54, 55, 56, 57), List(1.0, 1.0, 1.0, 2015.0, 2.0, 2.0, 17.0, 4.0))</td></tr><tr><td>0.0</td><td>List(0, 58, List(0, 40, 49, 53, 54, 55, 56, 57), List(1.0, 1.0, 1.0, 2015.0, 1.0, 31.0, 20.0, 3.0))</td></tr><tr><td>1.0</td><td>List(0, 58, List(16, 45, 53, 54, 55, 56, 57), List(1.0, 1.0, 2015.0, 1.0, 4.0, 13.0, 3.0))</td></tr><tr><td>1.0</td><td>List(0, 58, List(6, 45, 53, 54, 55, 56, 57), List(1.0, 1.0, 2015.0, 1.0, 4.0, 13.0, 1.0))</td></tr><tr><td>1.0</td><td>List(0, 58, List(28, 40, 48, 53, 54, 55, 57), List(1.0, 1.0, 1.0, 2015.0, 1.0, 3.0, 3.0))</td></tr><tr><td>0.0</td><td>List(0, 58, List(9, 38, 46, 53, 54, 55, 56, 57), List(1.0, 1.0, 1.0, 2015.0, 1.0, 30.0, 16.0, 3.0))</td></tr><tr><td>0.0</td><td>List(0, 58, List(0, 43, 45, 53, 54, 55, 56, 57), List(1.0, 1.0, 1.0, 2015.0, 2.0, 2.0, 16.0, 3.0))</td></tr><tr><td>0.0</td><td>List(0, 58, List(1, 38, 53, 54, 55, 56, 57), List(1.0, 1.0, 2015.0, 1.0, 23.0, 13.0, 2.0))</td></tr><tr><td>0.0</td><td>List(0, 58, List(8, 38, 53, 54, 55, 56, 57), List(1.0, 1.0, 2015.0, 1.0, 23.0, 13.0, 2.0))</td></tr><tr><td>0.0</td><td>List(0, 58, List(8, 43, 52, 53, 54, 55, 56, 57), List(1.0, 1.0, 1.0, 2015.0, 2.0, 2.0, 17.0, 2.0))</td></tr><tr><td>0.0</td><td>List(0, 58, List(3, 43, 44, 53, 54, 55, 56, 57), List(1.0, 1.0, 1.0, 2015.0, 2.0, 2.0, 17.0, 4.0))</td></tr><tr><td>0.0</td><td>List(0, 58, List(1, 38, 50, 53, 54, 55, 56, 57), List(1.0, 1.0, 1.0, 2015.0, 1.0, 30.0, 18.0, 2.0))</td></tr><tr><td>1.0</td><td>List(0, 58, List(3, 43, 48, 53, 54, 55, 56, 57), List(1.0, 1.0, 1.0, 2015.0, 2.0, 2.0, 17.0, 4.0))</td></tr><tr><td>1.0</td><td>List(0, 58, List(3, 43, 48, 53, 54, 55, 56, 57), List(1.0, 1.0, 1.0, 2015.0, 2.0, 2.0, 17.0, 4.0))</td></tr><tr><td>1.0</td><td>List(0, 58, List(6, 43, 48, 53, 54, 55, 56, 57), List(1.0, 1.0, 1.0, 2015.0, 2.0, 2.0, 17.0, 1.0))</td></tr><tr><td>0.0</td><td>List(0, 58, List(2, 43, 50, 53, 54, 55, 56, 57), List(1.0, 1.0, 1.0, 2015.0, 2.0, 2.0, 11.0, 1.0))</td></tr><tr><td>0.0</td><td>List(0, 58, List(8, 43, 45, 53, 54, 55, 56, 57), List(1.0, 1.0, 1.0, 2015.0, 2.0, 2.0, 15.0, 2.0))</td></tr><tr><td>0.0</td><td>List(0, 58, List(9, 38, 49, 53, 54, 55, 56, 57), List(1.0, 1.0, 1.0, 2015.0, 1.0, 30.0, 20.0, 3.0))</td></tr><tr><td>0.0</td><td>List(0, 58, List(0, 38, 45, 53, 54, 55, 56, 57), List(1.0, 1.0, 1.0, 2015.0, 1.0, 30.0, 18.0, 3.0))</td></tr><tr><td>1.0</td><td>List(0, 58, List(1, 43, 53, 54, 55, 56, 57), List(1.0, 1.0, 2015.0, 2.0, 2.0, 15.0, 2.0))</td></tr><tr><td>0.0</td><td>List(0, 58, List(5, 53, 54, 55, 56, 57), List(1.0, 2015.0, 2.0, 1.0, 22.0, 4.0))</td></tr><tr><td>0.0</td><td>List(0, 58, List(3, 39, 51, 53, 54, 55, 56, 57), List(1.0, 1.0, 1.0, 2015.0, 2.0, 4.0, 21.0, 4.0))</td></tr><tr><td>0.0</td><td>List(0, 58, List(0, 53, 54, 55, 56, 57), List(1.0, 2015.0, 2.0, 1.0, 17.0, 3.0))</td></tr><tr><td>1.0</td><td>List(0, 58, List(3, 43, 48, 53, 54, 55, 56, 57), List(1.0, 1.0, 1.0, 2015.0, 2.0, 2.0, 18.0, 4.0))</td></tr><tr><td>1.0</td><td>List(0, 58, List(1, 43, 51, 53, 54, 55, 56, 57), List(1.0, 1.0, 1.0, 2015.0, 2.0, 2.0, 18.0, 2.0))</td></tr><tr><td>1.0</td><td>List(0, 58, List(1, 43, 51, 53, 54, 55, 56, 57), List(1.0, 1.0, 1.0, 2015.0, 2.0, 2.0, 18.0, 2.0))</td></tr><tr><td>0.0</td><td>List(0, 58, List(0, 43, 44, 53, 54, 55, 56, 57), List(1.0, 1.0, 1.0, 2015.0, 2.0, 2.0, 16.0, 3.0))</td></tr><tr><td>0.0</td><td>List(0, 58, List(14, 43, 47, 53, 54, 55, 56, 57), List(1.0, 1.0, 1.0, 2015.0, 2.0, 2.0, 18.0, 5.0))</td></tr><tr><td>0.0</td><td>List(0, 58, List(7, 38, 50, 53, 54, 55, 56, 57), List(1.0, 1.0, 1.0, 2015.0, 1.0, 30.0, 8.0, 4.0))</td></tr><tr><td>1.0</td><td>List(0, 58, List(6, 43, 47, 53, 54, 55, 56, 57), List(1.0, 1.0, 1.0, 2015.0, 2.0, 2.0, 18.0, 1.0))</td></tr><tr><td>1.0</td><td>List(0, 58, List(13, 43, 50, 53, 54, 55, 56, 57), List(1.0, 1.0, 1.0, 2015.0, 2.0, 2.0, 18.0, 5.0))</td></tr><tr><td>1.0</td><td>List(0, 58, List(25, 43, 50, 53, 54, 55, 56, 57), List(1.0, 1.0, 1.0, 2015.0, 2.0, 2.0, 18.0, 2.0))</td></tr><tr><td>1.0</td><td>List(0, 58, List(10, 43, 50, 53, 54, 55, 56, 57), List(1.0, 1.0, 1.0, 2015.0, 2.0, 2.0, 18.0, 3.0))</td></tr><tr><td>1.0</td><td>List(0, 58, List(1, 43, 48, 53, 54, 55, 56, 57), List(1.0, 1.0, 1.0, 2015.0, 2.0, 2.0, 19.0, 2.0))</td></tr><tr><td>1.0</td><td>List(0, 58, List(2, 43, 48, 53, 54, 55, 56, 57), List(1.0, 1.0, 1.0, 2015.0, 2.0, 2.0, 19.0, 1.0))</td></tr><tr><td>0.0</td><td>List(0, 58, List(7, 43, 50, 53, 54, 55, 56, 57), List(1.0, 1.0, 1.0, 2015.0, 2.0, 2.0, 7.0, 4.0))</td></tr><tr><td>0.0</td><td>List(0, 58, List(22, 43, 47, 53, 54, 55, 56, 57), List(1.0, 1.0, 1.0, 2015.0, 2.0, 2.0, 19.0, 1.0))</td></tr><tr><td>0.0</td><td>List(0, 58, List(3, 42, 45, 53, 54, 55, 56, 57), List(1.0, 1.0, 1.0, 2015.0, 1.0, 29.0, 23.0, 4.0))</td></tr><tr><td>0.0</td><td>List(0, 58, List(0, 43, 46, 53, 54, 55, 56, 57), List(1.0, 1.0, 1.0, 2015.0, 2.0, 2.0, 16.0, 3.0))</td></tr><tr><td>0.0</td><td>List(0, 58, List(2, 43, 46, 53, 54, 55, 56, 57), List(1.0, 1.0, 1.0, 2015.0, 2.0, 2.0, 16.0, 1.0))</td></tr><tr><td>0.0</td><td>List(0, 58, List(0, 43, 45, 53, 54, 55, 56, 57), List(1.0, 1.0, 1.0, 2015.0, 2.0, 2.0, 19.0, 3.0))</td></tr><tr><td>1.0</td><td>List(0, 58, List(8, 43, 44, 53, 54, 55, 56, 57), List(1.0, 1.0, 1.0, 2015.0, 2.0, 2.0, 19.0, 2.0))</td></tr><tr><td>1.0</td><td>List(0, 58, List(1, 43, 44, 53, 54, 55, 56, 57), List(1.0, 1.0, 1.0, 2015.0, 2.0, 2.0, 19.0, 2.0))</td></tr><tr><td>0.0</td><td>List(0, 58, List(0, 43, 44, 53, 54, 55, 56, 57), List(1.0, 1.0, 1.0, 2015.0, 2.0, 2.0, 17.0, 3.0))</td></tr><tr><td>0.0</td><td>List(0, 58, List(0, 43, 46, 53, 54, 55, 56, 57), List(1.0, 1.0, 1.0, 2015.0, 2.0, 2.0, 16.0, 3.0))</td></tr><tr><td>0.0</td><td>List(0, 58, List(5, 43, 49, 53, 54, 55, 56, 57), List(1.0, 1.0, 1.0, 2015.0, 2.0, 2.0, 19.0, 4.0))</td></tr><tr><td>1.0</td><td>List(0, 58, List(1, 43, 51, 53, 54, 55, 56, 57), List(1.0, 1.0, 1.0, 2015.0, 2.0, 2.0, 20.0, 2.0))</td></tr><tr><td>1.0</td><td>List(0, 58, List(1, 43, 47, 53, 54, 55, 56, 57), List(1.0, 1.0, 1.0, 2015.0, 2.0, 2.0, 20.0, 2.0))</td></tr><tr><td>0.0</td><td>List(0, 58, List(7, 43, 50, 53, 54, 55, 56, 57), List(1.0, 1.0, 1.0, 2015.0, 2.0, 2.0, 9.0, 4.0))</td></tr><tr><td>0.0</td><td>List(0, 58, List(0, 43, 51, 53, 54, 55, 56, 57), List(1.0, 1.0, 1.0, 2015.0, 2.0, 2.0, 19.0, 3.0))</td></tr><tr><td>0.0</td><td>List(0, 58, List(0, 43, 44, 53, 54, 55, 56, 57), List(1.0, 1.0, 1.0, 2015.0, 2.0, 2.0, 19.0, 3.0))</td></tr><tr><td>0.0</td><td>List(0, 58, List(7, 45, 53, 54, 55, 56, 57), List(1.0, 1.0, 2015.0, 2.0, 1.0, 15.0, 4.0))</td></tr><tr><td>1.0</td><td>List(0, 58, List(3, 43, 48, 53, 54, 55, 56, 57), List(1.0, 1.0, 1.0, 2015.0, 2.0, 2.0, 20.0, 4.0))</td></tr><tr><td>1.0</td><td>List(0, 58, List(13, 43, 48, 53, 54, 55, 56, 57), List(1.0, 1.0, 1.0, 2015.0, 2.0, 2.0, 20.0, 5.0))</td></tr><tr><td>0.0</td><td>List(0, 58, List(1, 39, 46, 53, 54, 55, 56, 57), List(1.0, 1.0, 1.0, 2015.0, 1.0, 21.0, 16.0, 2.0))</td></tr><tr><td>1.0</td><td>List(0, 58, List(10, 43, 49, 53, 54, 55, 56, 57), List(1.0, 1.0, 1.0, 2015.0, 2.0, 2.0, 20.0, 3.0))</td></tr><tr><td>1.0</td><td>List(0, 58, List(6, 43, 45, 53, 54, 55, 56, 57), List(1.0, 1.0, 1.0, 2015.0, 2.0, 2.0, 20.0, 1.0))</td></tr><tr><td>1.0</td><td>List(0, 58, List(2, 43, 45, 53, 54, 55, 56, 57), List(1.0, 1.0, 1.0, 2015.0, 2.0, 2.0, 20.0, 1.0))</td></tr><tr><td>0.0</td><td>List(0, 58, List(0, 43, 49, 53, 54, 55, 56, 57), List(1.0, 1.0, 1.0, 2015.0, 2.0, 2.0, 18.0, 3.0))</td></tr><tr><td>0.0</td><td>List(0, 58, List(9, 43, 46, 53, 54, 55, 56, 57), List(1.0, 1.0, 1.0, 2015.0, 2.0, 2.0, 18.0, 3.0))</td></tr><tr><td>0.0</td><td>List(0, 58, List(11, 43, 45, 53, 54, 55, 56, 57), List(1.0, 1.0, 1.0, 2015.0, 2.0, 2.0, 18.0, 4.0))</td></tr><tr><td>0.0</td><td>List(0, 58, List(10, 43, 44, 53, 54, 55, 56, 57), List(1.0, 1.0, 1.0, 2015.0, 2.0, 2.0, 21.0, 3.0))</td></tr><tr><td>0.0</td><td>List(0, 58, List(7, 43, 47, 53, 54, 55, 56, 57), List(1.0, 1.0, 1.0, 2015.0, 2.0, 2.0, 20.0, 4.0))</td></tr><tr><td>0.0</td><td>List(0, 58, List(1, 43, 47, 53, 54, 55, 56, 57), List(1.0, 1.0, 1.0, 2015.0, 2.0, 2.0, 20.0, 2.0))</td></tr><tr><td>0.0</td><td>List(0, 58, List(14, 43, 47, 53, 54, 55, 56, 57), List(1.0, 1.0, 1.0, 2015.0, 2.0, 2.0, 20.0, 5.0))</td></tr><tr><td>0.0</td><td>List(0, 58, List(8, 42, 47, 53, 54, 55, 56, 57), List(1.0, 1.0, 1.0, 2015.0, 1.0, 29.0, 15.0, 2.0))</td></tr><tr><td>0.0</td><td>List(0, 58, List(27, 43, 47, 53, 54, 55, 56, 57), List(1.0, 1.0, 1.0, 2015.0, 2.0, 2.0, 20.0, 5.0))</td></tr><tr><td>0.0</td><td>List(0, 58, List(0, 43, 44, 53, 54, 55, 56, 57), List(1.0, 1.0, 1.0, 2015.0, 2.0, 2.0, 20.0, 3.0))</td></tr><tr><td>0.0</td><td>List(0, 58, List(0, 43, 49, 53, 54, 55, 56, 57), List(1.0, 1.0, 1.0, 2015.0, 2.0, 2.0, 21.0, 3.0))</td></tr><tr><td>0.0</td><td>List(0, 58, List(12, 43, 46, 53, 54, 55, 56, 57), List(1.0, 1.0, 1.0, 2015.0, 2.0, 2.0, 19.0, 3.0))</td></tr><tr><td>1.0</td><td>List(0, 58, List(3, 43, 46, 53, 54, 55, 56, 57), List(1.0, 1.0, 1.0, 2015.0, 2.0, 2.0, 21.0, 4.0))</td></tr><tr><td>0.0</td><td>List(0, 58, List(7, 43, 51, 53, 54, 55, 56, 57), List(1.0, 1.0, 1.0, 2015.0, 2.0, 2.0, 12.0, 4.0))</td></tr><tr><td>0.0</td><td>List(0, 58, List(0, 43, 44, 53, 54, 55, 56, 57), List(1.0, 1.0, 1.0, 2015.0, 2.0, 2.0, 20.0, 3.0))</td></tr><tr><td>1.0</td><td>List(0, 58, List(1, 43, 49, 53, 54, 55, 56, 57), List(1.0, 1.0, 1.0, 2015.0, 2.0, 2.0, 21.0, 2.0))</td></tr><tr><td>0.0</td><td>List(0, 58, List(0, 43, 49, 53, 54, 55, 56, 57), List(1.0, 1.0, 1.0, 2015.0, 2.0, 2.0, 11.0, 3.0))</td></tr><tr><td>0.0</td><td>List(0, 58, List(11, 43, 50, 53, 54, 55, 56, 57), List(1.0, 1.0, 1.0, 2015.0, 2.0, 2.0, 21.0, 4.0))</td></tr><tr><td>0.0</td><td>List(0, 58, List(9, 43, 53, 54, 55, 56, 57), List(1.0, 1.0, 2015.0, 2.0, 2.0, 21.0, 3.0))</td></tr><tr><td>0.0</td><td>List(0, 58, List(5, 43, 49, 53, 54, 55, 56, 57), List(1.0, 1.0, 1.0, 2015.0, 2.0, 2.0, 19.0, 4.0))</td></tr><tr><td>0.0</td><td>List(0, 58, List(3, 43, 44, 53, 54, 55, 56, 57), List(1.0, 1.0, 1.0, 2015.0, 2.0, 2.0, 21.0, 4.0))</td></tr><tr><td>0.0</td><td>List(0, 58, List(2, 43, 44, 53, 54, 55, 56, 57), List(1.0, 1.0, 1.0, 2015.0, 2.0, 2.0, 9.0, 1.0))</td></tr><tr><td>0.0</td><td>List(0, 58, List(2, 38, 46, 53, 54, 55, 56, 57), List(1.0, 1.0, 1.0, 2015.0, 1.0, 30.0, 15.0, 1.0))</td></tr><tr><td>0.0</td><td>List(0, 58, List(2, 38, 46, 53, 54, 55, 56, 57), List(1.0, 1.0, 1.0, 2015.0, 1.0, 30.0, 15.0, 1.0))</td></tr><tr><td>0.0</td><td>List(0, 58, List(0, 43, 45, 53, 54, 55, 56, 57), List(1.0, 1.0, 1.0, 2015.0, 2.0, 2.0, 18.0, 3.0))</td></tr><tr><td>1.0</td><td>List(0, 58, List(1, 43, 45, 53, 54, 55, 56, 57), List(1.0, 1.0, 1.0, 2015.0, 2.0, 2.0, 21.0, 2.0))</td></tr><tr><td>1.0</td><td>List(0, 58, List(4, 43, 45, 53, 54, 55, 56, 57), List(1.0, 1.0, 1.0, 2015.0, 2.0, 2.0, 21.0, 5.0))</td></tr><tr><td>1.0</td><td>List(0, 58, List(1, 43, 45, 53, 54, 55, 56, 57), List(1.0, 1.0, 1.0, 2015.0, 2.0, 2.0, 21.0, 2.0))</td></tr><tr><td>1.0</td><td>List(0, 58, List(11, 43, 47, 53, 54, 55, 56, 57), List(1.0, 1.0, 1.0, 2015.0, 2.0, 2.0, 22.0, 4.0))</td></tr><tr><td>1.0</td><td>List(0, 58, List(11, 43, 47, 53, 54, 55, 56, 57), List(1.0, 1.0, 1.0, 2015.0, 2.0, 2.0, 22.0, 4.0))</td></tr><tr><td>1.0</td><td>List(0, 58, List(18, 43, 47, 53, 54, 55, 56, 57), List(1.0, 1.0, 1.0, 2015.0, 2.0, 2.0, 22.0, 2.0))</td></tr><tr><td>1.0</td><td>List(0, 58, List(1, 43, 47, 53, 54, 55, 56, 57), List(1.0, 1.0, 1.0, 2015.0, 2.0, 2.0, 22.0, 2.0))</td></tr><tr><td>0.0</td><td>List(0, 58, List(2, 43, 48, 53, 54, 55, 56, 57), List(1.0, 1.0, 1.0, 2015.0, 2.0, 2.0, 22.0, 1.0))</td></tr><tr><td>1.0</td><td>List(0, 58, List(1, 43, 50, 53, 54, 55, 56, 57), List(1.0, 1.0, 1.0, 2015.0, 2.0, 2.0, 22.0, 2.0))</td></tr><tr><td>0.0</td><td>List(0, 58, List(2, 43, 44, 53, 54, 55, 56, 57), List(1.0, 1.0, 1.0, 2015.0, 2.0, 2.0, 22.0, 1.0))</td></tr><tr><td>0.0</td><td>List(0, 58, List(0, 43, 44, 53, 54, 55, 56, 57), List(1.0, 1.0, 1.0, 2015.0, 2.0, 2.0, 9.0, 3.0))</td></tr><tr><td>1.0</td><td>List(0, 58, List(6, 43, 47, 53, 54, 55, 56, 57), List(1.0, 1.0, 1.0, 2015.0, 2.0, 2.0, 21.0, 1.0))</td></tr><tr><td>1.0</td><td>List(0, 58, List(6, 43, 47, 53, 54, 55, 56, 57), List(1.0, 1.0, 1.0, 2015.0, 2.0, 2.0, 21.0, 1.0))</td></tr><tr><td>1.0</td><td>List(0, 58, List(1, 43, 47, 53, 54, 55, 56, 57), List(1.0, 1.0, 1.0, 2015.0, 2.0, 2.0, 21.0, 2.0))</td></tr><tr><td>0.0</td><td>List(0, 58, List(0, 43, 49, 53, 54, 55, 56, 57), List(1.0, 1.0, 1.0, 2015.0, 2.0, 2.0, 16.0, 3.0))</td></tr><tr><td>1.0</td><td>List(0, 58, List(3, 43, 46, 53, 54, 55, 56, 57), List(1.0, 1.0, 1.0, 2015.0, 2.0, 2.0, 21.0, 4.0))</td></tr><tr><td>1.0</td><td>List(0, 58, List(24, 43, 46, 53, 54, 55, 56, 57), List(1.0, 1.0, 1.0, 2015.0, 2.0, 2.0, 21.0, 5.0))</td></tr><tr><td>1.0</td><td>List(0, 58, List(1, 43, 49, 53, 54, 55, 56, 57), List(1.0, 1.0, 1.0, 2015.0, 2.0, 2.0, 23.0, 2.0))</td></tr><tr><td>1.0</td><td>List(0, 58, List(14, 43, 47, 53, 54, 55, 56, 57), List(1.0, 1.0, 1.0, 2015.0, 2.0, 2.0, 22.0, 5.0))</td></tr><tr><td>1.0</td><td>List(0, 58, List(13, 43, 47, 53, 54, 55, 56, 57), List(1.0, 1.0, 1.0, 2015.0, 2.0, 2.0, 22.0, 5.0))</td></tr><tr><td>0.0</td><td>List(0, 58, List(3, 43, 46, 53, 54, 55, 56, 57), List(1.0, 1.0, 1.0, 2015.0, 2.0, 2.0, 22.0, 4.0))</td></tr><tr><td>0.0</td><td>List(0, 58, List(8, 43, 44, 53, 54, 55, 56, 57), List(1.0, 1.0, 1.0, 2015.0, 2.0, 2.0, 16.0, 2.0))</td></tr><tr><td>1.0</td><td>List(0, 58, List(1, 43, 47, 53, 54, 55, 56, 57), List(1.0, 1.0, 1.0, 2015.0, 2.0, 2.0, 23.0, 2.0))</td></tr><tr><td>0.0</td><td>List(0, 58, List(9, 43, 50, 53, 54, 55, 56, 57), List(1.0, 1.0, 1.0, 2015.0, 2.0, 2.0, 23.0, 3.0))</td></tr><tr><td>0.0</td><td>List(0, 58, List(2, 43, 44, 53, 54, 55, 56, 57), List(1.0, 1.0, 1.0, 2015.0, 2.0, 2.0, 21.0, 1.0))</td></tr><tr><td>0.0</td><td>List(0, 58, List(0, 43, 44, 53, 54, 55, 56, 57), List(1.0, 1.0, 1.0, 2015.0, 2.0, 2.0, 18.0, 3.0))</td></tr><tr><td>1.0</td><td>List(0, 58, List(31, 43, 49, 53, 54, 55, 56, 57), List(1.0, 1.0, 1.0, 2015.0, 2.0, 2.0, 23.0, 2.0))</td></tr><tr><td>1.0</td><td>List(0, 58, List(31, 43, 49, 53, 54, 55, 56, 57), List(1.0, 1.0, 1.0, 2015.0, 2.0, 2.0, 23.0, 2.0))</td></tr><tr><td>1.0</td><td>List(0, 58, List(31, 43, 49, 53, 54, 55, 56, 57), List(1.0, 1.0, 1.0, 2015.0, 2.0, 2.0, 23.0, 2.0))</td></tr><tr><td>1.0</td><td>List(0, 58, List(21, 41, 50, 53, 54, 55, 57), List(1.0, 1.0, 1.0, 2015.0, 2.0, 3.0, 5.0))</td></tr><tr><td>0.0</td><td>List(0, 58, List(2, 43, 46, 53, 54, 55, 56, 57), List(1.0, 1.0, 1.0, 2015.0, 1.0, 19.0, 21.0, 1.0))</td></tr><tr><td>1.0</td><td>List(0, 58, List(0, 43, 44, 53, 54, 55, 56, 57), List(1.0, 1.0, 1.0, 2015.0, 2.0, 2.0, 23.0, 3.0))</td></tr><tr><td>1.0</td><td>List(0, 58, List(1, 43, 44, 53, 54, 55, 56, 57), List(1.0, 1.0, 1.0, 2015.0, 2.0, 2.0, 23.0, 2.0))</td></tr><tr><td>0.0</td><td>List(0, 58, List(3, 43, 44, 53, 54, 55, 56, 57), List(1.0, 1.0, 1.0, 2015.0, 2.0, 2.0, 23.0, 4.0))</td></tr><tr><td>0.0</td><td>List(0, 58, List(16, 43, 44, 53, 54, 55, 56, 57), List(1.0, 1.0, 1.0, 2015.0, 2.0, 2.0, 23.0, 3.0))</td></tr><tr><td>0.0</td><td>List(0, 58, List(6, 43, 44, 53, 54, 55, 56, 57), List(1.0, 1.0, 1.0, 2015.0, 2.0, 2.0, 23.0, 1.0))</td></tr><tr><td>0.0</td><td>List(0, 58, List(21, 50, 53, 54, 55, 56, 57), List(1.0, 1.0, 2015.0, 2.0, 1.0, 21.0, 5.0))</td></tr><tr><td>0.0</td><td>List(0, 58, List(8, 50, 53, 54, 55, 56, 57), List(1.0, 1.0, 2015.0, 2.0, 1.0, 21.0, 2.0))</td></tr><tr><td>0.0</td><td>List(0, 58, List(0, 42, 45, 53, 54, 55, 56, 57), List(1.0, 1.0, 1.0, 2015.0, 1.0, 29.0, 18.0, 3.0))</td></tr><tr><td>0.0</td><td>List(0, 58, List(3, 39, 50, 53, 54, 55, 56, 57), List(1.0, 1.0, 1.0, 2014.0, 1.0, 15.0, 2.0, 4.0))</td></tr><tr><td>0.0</td><td>List(0, 58, List(2, 41, 44, 53, 54, 55, 57), List(1.0, 1.0, 1.0, 2015.0, 2.0, 3.0, 1.0))</td></tr><tr><td>1.0</td><td>List(0, 58, List(1, 41, 44, 53, 54, 55, 57), List(1.0, 1.0, 1.0, 2015.0, 2.0, 3.0, 2.0))</td></tr><tr><td>0.0</td><td>List(0, 58, List(2, 41, 45, 53, 54, 55, 56, 57), List(1.0, 1.0, 1.0, 2015.0, 2.0, 3.0, 1.0, 1.0))</td></tr><tr><td>1.0</td><td>List(0, 58, List(1, 41, 49, 53, 54, 55, 56, 57), List(1.0, 1.0, 1.0, 2015.0, 2.0, 3.0, 1.0, 2.0))</td></tr><tr><td>0.0</td><td>List(0, 58, List(11, 41, 48, 53, 54, 55, 56, 57), List(1.0, 1.0, 1.0, 2015.0, 2.0, 3.0, 1.0, 4.0))</td></tr><tr><td>0.0</td><td>List(0, 58, List(3, 41, 48, 53, 54, 55, 56, 57), List(1.0, 1.0, 1.0, 2015.0, 2.0, 3.0, 1.0, 4.0))</td></tr><tr><td>0.0</td><td>List(0, 58, List(8, 41, 48, 53, 54, 55, 56, 57), List(1.0, 1.0, 1.0, 2015.0, 2.0, 3.0, 1.0, 2.0))</td></tr><tr><td>0.0</td><td>List(0, 58, List(11, 41, 45, 53, 54, 55, 56, 57), List(1.0, 1.0, 1.0, 2015.0, 2.0, 3.0, 1.0, 4.0))</td></tr><tr><td>0.0</td><td>List(0, 58, List(3, 41, 45, 53, 54, 55, 56, 57), List(1.0, 1.0, 1.0, 2015.0, 2.0, 3.0, 1.0, 4.0))</td></tr><tr><td>0.0</td><td>List(0, 58, List(5, 43, 49, 53, 54, 55, 56, 57), List(1.0, 1.0, 1.0, 2015.0, 2.0, 2.0, 15.0, 4.0))</td></tr><tr><td>0.0</td><td>List(0, 58, List(3, 41, 44, 53, 54, 55, 56, 57), List(1.0, 1.0, 1.0, 2015.0, 2.0, 3.0, 23.0, 4.0))</td></tr><tr><td>0.0</td><td>List(0, 58, List(0, 43, 48, 53, 54, 55, 56, 57), List(1.0, 1.0, 1.0, 2015.0, 2.0, 2.0, 23.0, 3.0))</td></tr><tr><td>1.0</td><td>List(0, 58, List(3, 40, 49, 53, 54, 55, 56, 57), List(1.0, 1.0, 1.0, 2016.0, 11.0, 12.0, 2.0, 4.0))</td></tr><tr><td>1.0</td><td>List(0, 58, List(2, 41, 49, 53, 54, 55, 56, 57), List(1.0, 1.0, 1.0, 2015.0, 2.0, 3.0, 2.0, 1.0))</td></tr><tr><td>0.0</td><td>List(0, 58, List(0, 43, 48, 53, 54, 55, 56, 57), List(1.0, 1.0, 1.0, 2015.0, 2.0, 2.0, 21.0, 3.0))</td></tr><tr><td>0.0</td><td>List(0, 58, List(1, 43, 45, 53, 54, 55, 56, 57), List(1.0, 1.0, 1.0, 2015.0, 1.0, 5.0, 12.0, 2.0))</td></tr><tr><td>0.0</td><td>List(0, 58, List(2, 41, 45, 53, 54, 55, 56, 57), List(1.0, 1.0, 1.0, 2015.0, 2.0, 3.0, 2.0, 1.0))</td></tr><tr><td>1.0</td><td>List(0, 58, List(1, 41, 45, 53, 54, 55, 56, 57), List(1.0, 1.0, 1.0, 2015.0, 2.0, 3.0, 2.0, 2.0))</td></tr><tr><td>0.0</td><td>List(0, 58, List(2, 42, 52, 53, 54, 55, 56, 57), List(1.0, 1.0, 1.0, 2014.0, 2.0, 27.0, 16.0, 1.0))</td></tr><tr><td>1.0</td><td>List(0, 58, List(25, 41, 45, 53, 54, 55, 56, 57), List(1.0, 1.0, 1.0, 2015.0, 2.0, 3.0, 2.0, 2.0))</td></tr><tr><td>1.0</td><td>List(0, 58, List(14, 41, 45, 53, 54, 55, 56, 57), List(1.0, 1.0, 1.0, 2015.0, 2.0, 3.0, 2.0, 5.0))</td></tr><tr><td>0.0</td><td>List(0, 58, List(0, 41, 49, 53, 54, 55, 56, 57), List(1.0, 1.0, 1.0, 2015.0, 2.0, 3.0, 2.0, 3.0))</td></tr><tr><td>0.0</td><td>List(0, 58, List(5, 41, 45, 53, 54, 55, 56, 57), List(1.0, 1.0, 1.0, 2015.0, 2.0, 3.0, 2.0, 4.0))</td></tr><tr><td>1.0</td><td>List(0, 58, List(6, 41, 50, 53, 54, 55, 56, 57), List(1.0, 1.0, 1.0, 2015.0, 2.0, 3.0, 2.0, 1.0))</td></tr><tr><td>1.0</td><td>List(0, 58, List(6, 41, 50, 53, 54, 55, 56, 57), List(1.0, 1.0, 1.0, 2015.0, 2.0, 3.0, 2.0, 1.0))</td></tr><tr><td>0.0</td><td>List(0, 58, List(10, 41, 46, 53, 54, 55, 56, 57), List(1.0, 1.0, 1.0, 2015.0, 2.0, 3.0, 3.0, 3.0))</td></tr><tr><td>0.0</td><td>List(0, 58, List(3, 43, 46, 53, 54, 55, 56, 57), List(1.0, 1.0, 1.0, 2015.0, 2.0, 2.0, 20.0, 4.0))</td></tr><tr><td>0.0</td><td>List(0, 58, List(2, 41, 52, 53, 54, 55, 56, 57), List(1.0, 1.0, 1.0, 2015.0, 2.0, 3.0, 3.0, 1.0))</td></tr><tr><td>0.0</td><td>List(0, 58, List(0, 43, 44, 53, 54, 55, 56, 57), List(1.0, 1.0, 1.0, 2015.0, 2.0, 2.0, 18.0, 3.0))</td></tr><tr><td>1.0</td><td>List(0, 58, List(6, 41, 46, 53, 54, 55, 56, 57), List(1.0, 1.0, 1.0, 2015.0, 2.0, 3.0, 4.0, 1.0))</td></tr><tr><td>1.0</td><td>List(0, 58, List(6, 41, 46, 53, 54, 55, 56, 57), List(1.0, 1.0, 1.0, 2015.0, 2.0, 3.0, 4.0, 1.0))</td></tr><tr><td>1.0</td><td>List(0, 58, List(6, 41, 46, 53, 54, 55, 56, 57), List(1.0, 1.0, 1.0, 2015.0, 2.0, 3.0, 4.0, 1.0))</td></tr><tr><td>0.0</td><td>List(0, 58, List(6, 41, 44, 53, 54, 55, 56, 57), List(1.0, 1.0, 1.0, 2015.0, 2.0, 3.0, 3.0, 1.0))</td></tr><tr><td>0.0</td><td>List(0, 58, List(6, 41, 44, 53, 54, 55, 56, 57), List(1.0, 1.0, 1.0, 2015.0, 2.0, 3.0, 3.0, 1.0))</td></tr><tr><td>1.0</td><td>List(0, 58, List(1, 41, 52, 53, 54, 55, 56, 57), List(1.0, 1.0, 1.0, 2015.0, 2.0, 3.0, 4.0, 2.0))</td></tr><tr><td>1.0</td><td>List(0, 58, List(6, 41, 52, 53, 54, 55, 56, 57), List(1.0, 1.0, 1.0, 2015.0, 2.0, 3.0, 4.0, 1.0))</td></tr><tr><td>1.0</td><td>List(0, 58, List(2, 41, 52, 53, 54, 55, 56, 57), List(1.0, 1.0, 1.0, 2015.0, 2.0, 3.0, 4.0, 1.0))</td></tr><tr><td>0.0</td><td>List(0, 58, List(2, 41, 44, 53, 54, 55, 56, 57), List(1.0, 1.0, 1.0, 2015.0, 2.0, 3.0, 5.0, 1.0))</td></tr><tr><td>0.0</td><td>List(0, 58, List(27, 41, 47, 53, 54, 55, 56, 57), List(1.0, 1.0, 1.0, 2015.0, 2.0, 3.0, 5.0, 5.0))</td></tr><tr><td>0.0</td><td>List(0, 58, List(11, 40, 49, 53, 54, 55, 56, 57), List(1.0, 1.0, 1.0, 2015.0, 1.0, 3.0, 5.0, 4.0))</td></tr><tr><td>0.0</td><td>List(0, 58, List(22, 41, 45, 53, 54, 55, 56, 57), List(1.0, 1.0, 1.0, 2015.0, 2.0, 3.0, 5.0, 1.0))</td></tr><tr><td>0.0</td><td>List(0, 58, List(5, 43, 47, 53, 54, 55, 56, 57), List(1.0, 1.0, 1.0, 2015.0, 2.0, 2.0, 23.0, 4.0))</td></tr><tr><td>0.0</td><td>List(0, 58, List(7, 41, 44, 53, 54, 55, 56, 57), List(1.0, 1.0, 1.0, 2015.0, 2.0, 3.0, 6.0, 4.0))</td></tr><tr><td>0.0</td><td>List(0, 58, List(0, 41, 50, 53, 54, 55, 56, 57), List(1.0, 1.0, 1.0, 2015.0, 1.0, 27.0, 20.0, 3.0))</td></tr><tr><td>0.0</td><td>List(0, 58, List(9, 43, 47, 53, 54, 55, 56, 57), List(1.0, 1.0, 1.0, 2015.0, 2.0, 2.0, 16.0, 3.0))</td></tr><tr><td>0.0</td><td>List(0, 58, List(1, 43, 47, 53, 54, 55, 56, 57), List(1.0, 1.0, 1.0, 2015.0, 2.0, 2.0, 7.0, 2.0))</td></tr><tr><td>0.0</td><td>List(0, 58, List(0, 43, 46, 53, 54, 55, 56, 57), List(1.0, 1.0, 1.0, 2015.0, 2.0, 2.0, 21.0, 3.0))</td></tr><tr><td>0.0</td><td>List(0, 58, List(4, 41, 44, 53, 54, 55, 56, 57), List(1.0, 1.0, 1.0, 2015.0, 2.0, 3.0, 6.0, 5.0))</td></tr><tr><td>0.0</td><td>List(0, 58, List(6, 41, 44, 53, 54, 55, 56, 57), List(1.0, 1.0, 1.0, 2015.0, 2.0, 3.0, 6.0, 1.0))</td></tr><tr><td>0.0</td><td>List(0, 58, List(1, 41, 44, 53, 54, 55, 56, 57), List(1.0, 1.0, 1.0, 2015.0, 2.0, 3.0, 6.0, 2.0))</td></tr><tr><td>1.0</td><td>List(0, 58, List(3, 41, 44, 53, 54, 55, 56, 57), List(1.0, 1.0, 1.0, 2015.0, 2.0, 3.0, 7.0, 4.0))</td></tr><tr><td>1.0</td><td>List(0, 58, List(1, 41, 44, 53, 54, 55, 56, 57), List(1.0, 1.0, 1.0, 2015.0, 2.0, 3.0, 7.0, 2.0))</td></tr><tr><td>0.0</td><td>List(0, 58, List(5, 38, 52, 53, 54, 55, 56, 57), List(1.0, 1.0, 1.0, 2015.0, 1.0, 30.0, 17.0, 4.0))</td></tr><tr><td>1.0</td><td>List(0, 58, List(1, 41, 44, 53, 54, 55, 56, 57), List(1.0, 1.0, 1.0, 2015.0, 2.0, 3.0, 8.0, 2.0))</td></tr><tr><td>0.0</td><td>List(0, 58, List(1, 45, 53, 54, 55, 56, 57), List(1.0, 1.0, 2015.0, 2.0, 1.0, 19.0, 2.0))</td></tr><tr><td>0.0</td><td>List(0, 58, List(3, 43, 50, 53, 54, 55, 56, 57), List(1.0, 1.0, 1.0, 2015.0, 2.0, 2.0, 23.0, 4.0))</td></tr><tr><td>0.0</td><td>List(0, 58, List(7, 45, 53, 54, 55, 56, 57), List(1.0, 1.0, 2015.0, 2.0, 1.0, 2.0, 4.0))</td></tr><tr><td>0.0</td><td>List(0, 58, List(14, 43, 44, 53, 54, 55, 56, 57), List(1.0, 1.0, 1.0, 2015.0, 2.0, 2.0, 20.0, 5.0))</td></tr><tr><td>0.0</td><td>List(0, 58, List(2, 43, 44, 53, 54, 55, 56, 57), List(1.0, 1.0, 1.0, 2015.0, 2.0, 2.0, 20.0, 1.0))</td></tr><tr><td>1.0</td><td>List(0, 58, List(6, 41, 52, 53, 54, 55, 56, 57), List(1.0, 1.0, 1.0, 2015.0, 2.0, 3.0, 8.0, 1.0))</td></tr><tr><td>0.0</td><td>List(0, 58, List(2, 38, 52, 53, 54, 55, 56, 57), List(1.0, 1.0, 1.0, 2015.0, 1.0, 30.0, 20.0, 1.0))</td></tr><tr><td>0.0</td><td>List(0, 58, List(0, 43, 48, 53, 54, 55, 56, 57), List(1.0, 1.0, 1.0, 2015.0, 2.0, 2.0, 19.0, 3.0))</td></tr><tr><td>1.0</td><td>List(0, 58, List(14, 41, 50, 53, 54, 55, 56, 57), List(1.0, 1.0, 1.0, 2015.0, 2.0, 3.0, 8.0, 5.0))</td></tr><tr><td>1.0</td><td>List(0, 58, List(13, 41, 50, 53, 54, 55, 56, 57), List(1.0, 1.0, 1.0, 2015.0, 2.0, 3.0, 8.0, 5.0))</td></tr><tr><td>1.0</td><td>List(0, 58, List(14, 41, 50, 53, 54, 55, 56, 57), List(1.0, 1.0, 1.0, 2015.0, 2.0, 3.0, 8.0, 5.0))</td></tr><tr><td>0.0</td><td>List(0, 58, List(9, 43, 50, 53, 54, 55, 56, 57), List(1.0, 1.0, 1.0, 2015.0, 2.0, 2.0, 19.0, 3.0))</td></tr><tr><td>0.0</td><td>List(0, 58, List(0, 43, 45, 53, 54, 55, 56, 57), List(1.0, 1.0, 1.0, 2015.0, 2.0, 2.0, 17.0, 3.0))</td></tr><tr><td>1.0</td><td>List(0, 58, List(29, 41, 44, 53, 54, 55, 56, 57), List(1.0, 1.0, 1.0, 2015.0, 2.0, 3.0, 7.0, 1.0))</td></tr><tr><td>1.0</td><td>List(0, 58, List(6, 41, 44, 53, 54, 55, 56, 57), List(1.0, 1.0, 1.0, 2015.0, 2.0, 3.0, 7.0, 1.0))</td></tr><tr><td>0.0</td><td>List(0, 58, List(0, 43, 45, 53, 54, 55, 56, 57), List(1.0, 1.0, 1.0, 2015.0, 2.0, 2.0, 18.0, 3.0))</td></tr><tr><td>0.0</td><td>List(0, 58, List(5, 43, 45, 53, 54, 55, 56, 57), List(1.0, 1.0, 1.0, 2015.0, 2.0, 2.0, 18.0, 4.0))</td></tr><tr><td>0.0</td><td>List(0, 58, List(9, 43, 49, 53, 54, 55, 56, 57), List(1.0, 1.0, 1.0, 2015.0, 2.0, 2.0, 19.0, 3.0))</td></tr><tr><td>0.0</td><td>List(0, 58, List(9, 43, 47, 53, 54, 55, 56, 57), List(1.0, 1.0, 1.0, 2015.0, 2.0, 2.0, 19.0, 3.0))</td></tr><tr><td>0.0</td><td>List(0, 58, List(9, 43, 50, 53, 54, 55, 56, 57), List(1.0, 1.0, 1.0, 2015.0, 2.0, 2.0, 21.0, 3.0))</td></tr><tr><td>1.0</td><td>List(0, 58, List(4, 41, 52, 53, 54, 55, 56, 57), List(1.0, 1.0, 1.0, 2015.0, 2.0, 3.0, 8.0, 5.0))</td></tr><tr><td>1.0</td><td>List(0, 58, List(1, 41, 52, 53, 54, 55, 56, 57), List(1.0, 1.0, 1.0, 2015.0, 2.0, 3.0, 8.0, 2.0))</td></tr><tr><td>0.0</td><td>List(0, 58, List(0, 41, 46, 53, 54, 55, 56, 57), List(1.0, 1.0, 1.0, 2015.0, 2.0, 3.0, 6.0, 3.0))</td></tr><tr><td>0.0</td><td>List(0, 58, List(0, 41, 53, 54, 55, 56, 57), List(1.0, 1.0, 2015.0, 2.0, 3.0, 8.0, 3.0))</td></tr><tr><td>0.0</td><td>List(0, 58, List(2, 41, 48, 53, 54, 55, 57), List(1.0, 1.0, 1.0, 2015.0, 1.0, 27.0, 1.0))</td></tr><tr><td>0.0</td><td>List(0, 58, List(7, 43, 49, 53, 54, 55, 56, 57), List(1.0, 1.0, 1.0, 2015.0, 2.0, 2.0, 18.0, 4.0))</td></tr><tr><td>0.0</td><td>List(0, 58, List(9, 43, 47, 53, 54, 55, 56, 57), List(1.0, 1.0, 1.0, 2015.0, 2.0, 2.0, 17.0, 3.0))</td></tr><tr><td>0.0</td><td>List(0, 58, List(0, 38, 52, 53, 54, 55, 57), List(1.0, 1.0, 1.0, 2015.0, 1.0, 30.0, 3.0))</td></tr><tr><td>0.0</td><td>List(0, 58, List(3, 43, 50, 53, 54, 55, 56, 57), List(1.0, 1.0, 1.0, 2015.0, 1.0, 5.0, 16.0, 4.0))</td></tr><tr><td>0.0</td><td>List(0, 58, List(0, 39, 46, 53, 54, 55, 56, 57), List(1.0, 1.0, 1.0, 2014.0, 3.0, 5.0, 19.0, 3.0))</td></tr><tr><td>0.0</td><td>List(0, 58, List(2, 39, 44, 53, 54, 55, 56, 57), List(1.0, 1.0, 1.0, 2014.0, 2.0, 12.0, 8.0, 1.0))</td></tr><tr><td>0.0</td><td>List(0, 58, List(2, 38, 44, 53, 54, 55, 56, 57), List(1.0, 1.0, 1.0, 2014.0, 3.0, 7.0, 19.0, 1.0))</td></tr><tr><td>0.0</td><td>List(0, 58, List(9, 40, 46, 53, 54, 55, 56, 57), List(1.0, 1.0, 1.0, 2015.0, 1.0, 31.0, 12.0, 3.0))</td></tr><tr><td>0.0</td><td>List(0, 58, List(0, 41, 44, 53, 54, 55, 56, 57), List(1.0, 1.0, 1.0, 2015.0, 2.0, 3.0, 9.0, 3.0))</td></tr><tr><td>0.0</td><td>List(0, 58, List(7, 43, 52, 53, 54, 55, 56, 57), List(1.0, 1.0, 1.0, 2015.0, 2.0, 2.0, 18.0, 4.0))</td></tr><tr><td>0.0</td><td>List(0, 58, List(12, 49, 53, 54, 55, 56, 57), List(1.0, 1.0, 2015.0, 2.0, 1.0, 15.0, 3.0))</td></tr><tr><td>0.0</td><td>List(0, 58, List(12, 49, 53, 54, 55, 56, 57), List(1.0, 1.0, 2015.0, 2.0, 1.0, 15.0, 3.0))</td></tr><tr><td>0.0</td><td>List(0, 58, List(1, 39, 50, 53, 54, 55, 56, 57), List(1.0, 1.0, 1.0, 2015.0, 1.0, 14.0, 9.0, 2.0))</td></tr><tr><td>0.0</td><td>List(0, 58, List(0, 41, 48, 53, 54, 55, 56, 57), List(1.0, 1.0, 1.0, 2015.0, 2.0, 3.0, 9.0, 3.0))</td></tr><tr><td>1.0</td><td>List(0, 58, List(7, 41, 51, 53, 54, 55, 57), List(1.0, 1.0, 1.0, 2015.0, 2.0, 3.0, 4.0))</td></tr><tr><td>1.0</td><td>List(0, 58, List(2, 41, 51, 53, 54, 55, 57), List(1.0, 1.0, 1.0, 2015.0, 2.0, 3.0, 1.0))</td></tr><tr><td>0.0</td><td>List(0, 58, List(14, 42, 51, 53, 54, 55, 56, 57), List(1.0, 1.0, 1.0, 2015.0, 1.0, 29.0, 9.0, 5.0))</td></tr><tr><td>0.0</td><td>List(0, 58, List(0, 40, 49, 53, 54, 55, 56, 57), List(1.0, 1.0, 1.0, 2014.0, 3.0, 1.0, 22.0, 3.0))</td></tr><tr><td>0.0</td><td>List(0, 58, List(2, 38, 48, 53, 54, 55, 56, 57), List(1.0, 1.0, 1.0, 2014.0, 3.0, 7.0, 6.0, 1.0))</td></tr><tr><td>0.0</td><td>List(0, 58, List(13, 42, 51, 53, 54, 55, 56, 57), List(1.0, 1.0, 1.0, 2015.0, 1.0, 29.0, 9.0, 5.0))</td></tr><tr><td>0.0</td><td>List(0, 58, List(4, 42, 51, 53, 54, 55, 56, 57), List(1.0, 1.0, 1.0, 2015.0, 1.0, 29.0, 9.0, 5.0))</td></tr><tr><td>0.0</td><td>List(0, 58, List(0, 41, 45, 53, 54, 55, 56, 57), List(1.0, 1.0, 1.0, 2015.0, 2.0, 3.0, 5.0, 3.0))</td></tr><tr><td>0.0</td><td>List(0, 58, List(12, 41, 45, 53, 54, 55, 56, 57), List(1.0, 1.0, 1.0, 2015.0, 2.0, 3.0, 5.0, 3.0))</td></tr><tr><td>0.0</td><td>List(0, 58, List(9, 38, 52, 53, 54, 55, 56, 57), List(1.0, 1.0, 1.0, 2015.0, 1.0, 30.0, 21.0, 3.0))</td></tr><tr><td>1.0</td><td>List(0, 58, List(3, 41, 44, 53, 54, 55, 56, 57), List(1.0, 1.0, 1.0, 2015.0, 2.0, 3.0, 10.0, 4.0))</td></tr><tr><td>1.0</td><td>List(0, 58, List(3, 41, 44, 53, 54, 55, 56, 57), List(1.0, 1.0, 1.0, 2015.0, 2.0, 3.0, 10.0, 4.0))</td></tr><tr><td>1.0</td><td>List(0, 58, List(3, 41, 44, 53, 54, 55, 56, 57), List(1.0, 1.0, 1.0, 2015.0, 2.0, 3.0, 10.0, 4.0))</td></tr><tr><td>1.0</td><td>List(0, 58, List(1, 41, 44, 53, 54, 55, 56, 57), List(1.0, 1.0, 1.0, 2015.0, 2.0, 3.0, 10.0, 2.0))</td></tr><tr><td>1.0</td><td>List(0, 58, List(0, 43, 46, 53, 54, 55, 56, 57), List(1.0, 1.0, 1.0, 2015.0, 2.0, 2.0, 20.0, 3.0))</td></tr><tr><td>0.0</td><td>List(0, 58, List(13, 41, 50, 53, 54, 55, 56, 57), List(1.0, 1.0, 1.0, 2015.0, 2.0, 3.0, 9.0, 5.0))</td></tr><tr><td>0.0</td><td>List(0, 58, List(8, 41, 50, 53, 54, 55, 56, 57), List(1.0, 1.0, 1.0, 2015.0, 2.0, 3.0, 9.0, 2.0))</td></tr><tr><td>0.0</td><td>List(0, 58, List(3, 43, 48, 53, 54, 55, 56, 57), List(1.0, 1.0, 1.0, 2015.0, 2.0, 2.0, 8.0, 4.0))</td></tr><tr><td>0.0</td><td>List(0, 58, List(6, 41, 51, 53, 54, 55, 56, 57), List(1.0, 1.0, 1.0, 2015.0, 2.0, 3.0, 10.0, 1.0))</td></tr><tr><td>0.0</td><td>List(0, 58, List(10, 41, 51, 53, 54, 55, 56, 57), List(1.0, 1.0, 1.0, 2015.0, 2.0, 3.0, 10.0, 3.0))</td></tr><tr><td>0.0</td><td>List(0, 58, List(0, 42, 44, 53, 54, 55, 56, 57), List(1.0, 1.0, 1.0, 2015.0, 1.0, 22.0, 13.0, 3.0))</td></tr><tr><td>0.0</td><td>List(0, 58, List(0, 41, 49, 53, 54, 55, 56, 57), List(1.0, 1.0, 1.0, 2015.0, 2.0, 3.0, 10.0, 3.0))</td></tr><tr><td>0.0</td><td>List(0, 58, List(9, 43, 47, 53, 54, 55, 56, 57), List(1.0, 1.0, 1.0, 2015.0, 2.0, 2.0, 20.0, 3.0))</td></tr><tr><td>0.0</td><td>List(0, 58, List(9, 43, 47, 53, 54, 55, 56, 57), List(1.0, 1.0, 1.0, 2015.0, 2.0, 2.0, 20.0, 3.0))</td></tr><tr><td>1.0</td><td>List(0, 58, List(6, 41, 44, 53, 54, 55, 56, 57), List(1.0, 1.0, 1.0, 2015.0, 2.0, 3.0, 10.0, 1.0))</td></tr><tr><td>0.0</td><td>List(0, 58, List(2, 41, 48, 53, 54, 55, 56, 57), List(1.0, 1.0, 1.0, 2015.0, 2.0, 3.0, 11.0, 1.0))</td></tr><tr><td>0.0</td><td>List(0, 58, List(0, 41, 45, 53, 54, 55, 56, 57), List(1.0, 1.0, 1.0, 2015.0, 2.0, 3.0, 9.0, 3.0))</td></tr><tr><td>0.0</td><td>List(0, 58, List(0, 41, 44, 53, 54, 55, 56, 57), List(1.0, 1.0, 1.0, 2015.0, 2.0, 3.0, 10.0, 3.0))</td></tr><tr><td>0.0</td><td>List(0, 58, List(0, 41, 53, 54, 55, 56, 57), List(1.0, 1.0, 2015.0, 2.0, 3.0, 10.0, 3.0))</td></tr><tr><td>0.0</td><td>List(0, 58, List(0, 41, 52, 53, 54, 55, 56, 57), List(1.0, 1.0, 1.0, 2015.0, 2.0, 3.0, 9.0, 3.0))</td></tr><tr><td>0.0</td><td>List(0, 58, List(5, 38, 44, 53, 54, 55, 56, 57), List(1.0, 1.0, 1.0, 2015.0, 1.0, 30.0, 14.0, 4.0))</td></tr><tr><td>0.0</td><td>List(0, 58, List(1, 41, 53, 54, 55, 57), List(1.0, 1.0, 2015.0, 1.0, 13.0, 2.0))</td></tr><tr><td>0.0</td><td>List(0, 58, List(0, 41, 44, 53, 54, 55, 56, 57), List(1.0, 1.0, 1.0, 2015.0, 2.0, 3.0, 11.0, 3.0))</td></tr><tr><td>1.0</td><td>List(0, 58, List(0, 40, 45, 53, 54, 55, 56, 57), List(1.0, 1.0, 1.0, 2015.0, 1.0, 31.0, 19.0, 3.0))</td></tr><tr><td>0.0</td><td>List(0, 58, List(2, 43, 49, 53, 54, 55, 56, 57), List(1.0, 1.0, 1.0, 2015.0, 2.0, 2.0, 16.0, 1.0))</td></tr><tr><td>1.0</td><td>List(0, 58, List(1, 41, 50, 53, 54, 55, 56, 57), List(1.0, 1.0, 1.0, 2015.0, 2.0, 3.0, 10.0, 2.0))</td></tr><tr><td>0.0</td><td>List(0, 58, List(1, 41, 48, 53, 54, 55, 56, 57), List(1.0, 1.0, 1.0, 2015.0, 2.0, 3.0, 11.0, 2.0))</td></tr><tr><td>1.0</td><td>List(0, 58, List(3, 41, 47, 53, 54, 55, 56, 57), List(1.0, 1.0, 1.0, 2015.0, 2.0, 3.0, 11.0, 4.0))</td></tr><tr><td>1.0</td><td>List(0, 58, List(13, 41, 47, 53, 54, 55, 56, 57), List(1.0, 1.0, 1.0, 2015.0, 2.0, 3.0, 11.0, 5.0))</td></tr><tr><td>0.0</td><td>List(0, 58, List(2, 41, 46, 53, 54, 55, 56, 57), List(1.0, 1.0, 1.0, 2015.0, 2.0, 3.0, 10.0, 1.0))</td></tr><tr><td>0.0</td><td>List(0, 58, List(10, 41, 46, 53, 54, 55, 56, 57), List(1.0, 1.0, 1.0, 2015.0, 2.0, 3.0, 10.0, 3.0))</td></tr><tr><td>0.0</td><td>List(0, 58, List(7, 41, 50, 53, 54, 55, 57), List(1.0, 1.0, 1.0, 2015.0, 2.0, 3.0, 4.0))</td></tr><tr><td>0.0</td><td>List(0, 58, List(0, 41, 47, 53, 54, 55, 56, 57), List(1.0, 1.0, 1.0, 2015.0, 2.0, 3.0, 11.0, 3.0))</td></tr><tr><td>1.0</td><td>List(0, 58, List(3, 41, 45, 53, 54, 55, 56, 57), List(1.0, 1.0, 1.0, 2015.0, 2.0, 3.0, 11.0, 4.0))</td></tr><tr><td>1.0</td><td>List(0, 58, List(6, 41, 45, 53, 54, 55, 56, 57), List(1.0, 1.0, 1.0, 2015.0, 2.0, 3.0, 11.0, 1.0))</td></tr><tr><td>1.0</td><td>List(0, 58, List(1, 41, 45, 53, 54, 55, 56, 57), List(1.0, 1.0, 1.0, 2015.0, 2.0, 3.0, 11.0, 2.0))</td></tr><tr><td>0.0</td><td>List(0, 58, List(9, 40, 46, 53, 54, 55, 56, 57), List(1.0, 1.0, 1.0, 2015.0, 1.0, 31.0, 18.0, 3.0))</td></tr><tr><td>0.0</td><td>List(0, 58, List(7, 42, 46, 53, 54, 55, 56, 57), List(1.0, 1.0, 1.0, 2015.0, 1.0, 29.0, 16.0, 4.0))</td></tr><tr><td>0.0</td><td>List(0, 58, List(9, 42, 46, 53, 54, 55, 56, 57), List(1.0, 1.0, 1.0, 2015.0, 1.0, 29.0, 10.0, 3.0))</td></tr><tr><td>0.0</td><td>List(0, 58, List(9, 42, 46, 53, 54, 55, 56, 57), List(1.0, 1.0, 1.0, 2015.0, 1.0, 29.0, 10.0, 3.0))</td></tr><tr><td>0.0</td><td>List(0, 58, List(9, 43, 44, 53, 54, 55, 56, 57), List(1.0, 1.0, 1.0, 2015.0, 2.0, 2.0, 16.0, 3.0))</td></tr><tr><td>0.0</td><td>List(0, 58, List(8, 43, 47, 53, 54, 55, 56, 57), List(1.0, 1.0, 1.0, 2015.0, 2.0, 2.0, 15.0, 2.0))</td></tr><tr><td>0.0</td><td>List(0, 58, List(1, 43, 47, 53, 54, 55, 56, 57), List(1.0, 1.0, 1.0, 2015.0, 2.0, 2.0, 15.0, 2.0))</td></tr><tr><td>0.0</td><td>List(0, 58, List(2, 45, 53, 54, 55, 56, 57), List(1.0, 1.0, 2015.0, 2.0, 1.0, 15.0, 1.0))</td></tr><tr><td>0.0</td><td>List(0, 58, List(8, 43, 52, 53, 54, 55, 56, 57), List(1.0, 1.0, 1.0, 2015.0, 1.0, 26.0, 11.0, 2.0))</td></tr><tr><td>0.0</td><td>List(0, 58, List(3, 39, 44, 53, 54, 55, 56, 57), List(1.0, 1.0, 1.0, 2015.0, 1.0, 21.0, 13.0, 4.0))</td></tr><tr><td>0.0</td><td>List(0, 58, List(8, 39, 44, 53, 54, 55, 56, 57), List(1.0, 1.0, 1.0, 2015.0, 1.0, 21.0, 13.0, 2.0))</td></tr><tr><td>1.0</td><td>List(0, 58, List(1, 41, 50, 53, 54, 55, 56, 57), List(1.0, 1.0, 1.0, 2015.0, 2.0, 3.0, 12.0, 2.0))</td></tr><tr><td>0.0</td><td>List(0, 58, List(0, 41, 46, 53, 54, 55, 56, 57), List(1.0, 1.0, 1.0, 2015.0, 2.0, 3.0, 10.0, 3.0))</td></tr><tr><td>0.0</td><td>List(0, 58, List(0, 43, 50, 53, 54, 55, 57), List(1.0, 1.0, 1.0, 2015.0, 2.0, 2.0, 3.0))</td></tr><tr><td>0.0</td><td>List(0, 58, List(2, 41, 49, 53, 54, 55, 56, 57), List(1.0, 1.0, 1.0, 2015.0, 2.0, 3.0, 12.0, 1.0))</td></tr><tr><td>0.0</td><td>List(0, 58, List(0, 41, 49, 53, 54, 55, 56, 57), List(1.0, 1.0, 1.0, 2015.0, 2.0, 3.0, 11.0, 3.0))</td></tr><tr><td>1.0</td><td>List(0, 58, List(1, 41, 50, 53, 54, 55, 56, 57), List(1.0, 1.0, 1.0, 2015.0, 2.0, 3.0, 12.0, 2.0))</td></tr><tr><td>1.0</td><td>List(0, 58, List(5, 41, 48, 53, 54, 55, 56, 57), List(1.0, 1.0, 1.0, 2015.0, 2.0, 3.0, 12.0, 4.0))</td></tr><tr><td>0.0</td><td>List(0, 58, List(1, 38, 51, 53, 54, 55, 56, 57), List(1.0, 1.0, 1.0, 2015.0, 1.0, 30.0, 12.0, 2.0))</td></tr><tr><td>1.0</td><td>List(0, 58, List(1, 41, 52, 53, 54, 55, 56, 57), List(1.0, 1.0, 1.0, 2015.0, 2.0, 3.0, 12.0, 2.0))</td></tr><tr><td>0.0</td><td>List(0, 58, List(1, 41, 46, 53, 54, 55, 56, 57), List(1.0, 1.0, 1.0, 2015.0, 2.0, 3.0, 12.0, 2.0))</td></tr><tr><td>0.0</td><td>List(0, 58, List(1, 41, 46, 53, 54, 55, 56, 57), List(1.0, 1.0, 1.0, 2015.0, 2.0, 3.0, 12.0, 2.0))</td></tr><tr><td>0.0</td><td>List(0, 58, List(2, 41, 46, 53, 54, 55, 56, 57), List(1.0, 1.0, 1.0, 2015.0, 2.0, 3.0, 12.0, 1.0))</td></tr><tr><td>1.0</td><td>List(0, 58, List(6, 41, 44, 53, 54, 55, 56, 57), List(1.0, 1.0, 1.0, 2015.0, 2.0, 3.0, 12.0, 1.0))</td></tr><tr><td>1.0</td><td>List(0, 58, List(2, 41, 44, 53, 54, 55, 56, 57), List(1.0, 1.0, 1.0, 2015.0, 2.0, 3.0, 12.0, 1.0))</td></tr><tr><td>0.0</td><td>List(0, 58, List(11, 41, 47, 53, 54, 55, 56, 57), List(1.0, 1.0, 1.0, 2015.0, 2.0, 3.0, 12.0, 4.0))</td></tr><tr><td>0.0</td><td>List(0, 58, List(0, 43, 45, 53, 54, 55, 56, 57), List(1.0, 1.0, 1.0, 2015.0, 2.0, 2.0, 18.0, 3.0))</td></tr><tr><td>1.0</td><td>List(0, 58, List(4, 41, 44, 53, 54, 55, 56, 57), List(1.0, 1.0, 1.0, 2015.0, 2.0, 3.0, 11.0, 5.0))</td></tr><tr><td>0.0</td><td>List(0, 58, List(5, 38, 52, 53, 54, 55, 56, 57), List(1.0, 1.0, 1.0, 2015.0, 1.0, 2.0, 19.0, 4.0))</td></tr><tr><td>0.0</td><td>List(0, 58, List(9, 43, 50, 53, 54, 55, 56, 57), List(1.0, 1.0, 1.0, 2015.0, 2.0, 2.0, 21.0, 3.0))</td></tr><tr><td>0.0</td><td>List(0, 58, List(3, 43, 53, 54, 55, 56, 57), List(1.0, 1.0, 2015.0, 2.0, 2.0, 12.0, 4.0))</td></tr><tr><td>0.0</td><td>List(0, 58, List(13, 43, 53, 54, 55, 56, 57), List(1.0, 1.0, 2015.0, 2.0, 2.0, 12.0, 5.0))</td></tr><tr><td>1.0</td><td>List(0, 58, List(19, 41, 49, 53, 54, 55, 56, 57), List(1.0, 1.0, 1.0, 2015.0, 2.0, 3.0, 11.0, 1.0))</td></tr><tr><td>1.0</td><td>List(0, 58, List(20, 41, 49, 53, 54, 55, 56, 57), List(1.0, 1.0, 1.0, 2015.0, 2.0, 3.0, 11.0, 1.0))</td></tr><tr><td>1.0</td><td>List(0, 58, List(6, 41, 49, 53, 54, 55, 56, 57), List(1.0, 1.0, 1.0, 2015.0, 2.0, 3.0, 11.0, 1.0))</td></tr><tr><td>1.0</td><td>List(0, 58, List(6, 43, 46, 53, 54, 55, 56, 57), List(1.0, 1.0, 1.0, 2015.0, 10.0, 26.0, 8.0, 1.0))</td></tr><tr><td>0.0</td><td>List(0, 58, List(0, 43, 46, 53, 54, 55, 56, 57), List(1.0, 1.0, 1.0, 2016.0, 11.0, 21.0, 9.0, 3.0))</td></tr><tr><td>0.0</td><td>List(0, 58, List(9, 43, 47, 53, 54, 55, 56, 57), List(1.0, 1.0, 1.0, 2015.0, 2.0, 2.0, 21.0, 3.0))</td></tr><tr><td>1.0</td><td>List(0, 58, List(1, 41, 45, 53, 54, 55, 56, 57), List(1.0, 1.0, 1.0, 2015.0, 2.0, 3.0, 12.0, 2.0))</td></tr><tr><td>1.0</td><td>List(0, 58, List(6, 41, 45, 53, 54, 55, 56, 57), List(1.0, 1.0, 1.0, 2015.0, 2.0, 3.0, 12.0, 1.0))</td></tr><tr><td>0.0</td><td>List(0, 58, List(7, 43, 50, 53, 54, 55, 56, 57), List(1.0, 1.0, 1.0, 2015.0, 2.0, 2.0, 23.0, 4.0))</td></tr><tr><td>0.0</td><td>List(0, 58, List(0, 43, 50, 53, 54, 55, 56, 57), List(1.0, 1.0, 1.0, 2015.0, 2.0, 2.0, 23.0, 3.0))</td></tr><tr><td>0.0</td><td>List(0, 58, List(2, 40, 49, 53, 54, 55, 56, 57), List(1.0, 1.0, 1.0, 2015.0, 1.0, 24.0, 9.0, 1.0))</td></tr><tr><td>0.0</td><td>List(0, 58, List(7, 43, 50, 53, 54, 55, 56, 57), List(1.0, 1.0, 1.0, 2015.0, 2.0, 2.0, 23.0, 4.0))</td></tr><tr><td>1.0</td><td>List(0, 58, List(1, 41, 44, 53, 54, 55, 56, 57), List(1.0, 1.0, 1.0, 2015.0, 2.0, 3.0, 13.0, 2.0))</td></tr><tr><td>1.0</td><td>List(0, 58, List(1, 41, 44, 53, 54, 55, 56, 57), List(1.0, 1.0, 1.0, 2015.0, 2.0, 3.0, 13.0, 2.0))</td></tr><tr><td>1.0</td><td>List(0, 58, List(2, 41, 44, 53, 54, 55, 56, 57), List(1.0, 1.0, 1.0, 2015.0, 2.0, 3.0, 13.0, 1.0))</td></tr><tr><td>1.0</td><td>List(0, 58, List(2, 41, 44, 53, 54, 55, 56, 57), List(1.0, 1.0, 1.0, 2015.0, 2.0, 3.0, 13.0, 1.0))</td></tr><tr><td>0.0</td><td>List(0, 58, List(6, 41, 49, 53, 54, 55, 56, 57), List(1.0, 1.0, 1.0, 2015.0, 2.0, 3.0, 12.0, 1.0))</td></tr><tr><td>0.0</td><td>List(0, 58, List(5, 43, 50, 53, 54, 55, 56, 57), List(1.0, 1.0, 1.0, 2015.0, 2.0, 2.0, 20.0, 4.0))</td></tr><tr><td>0.0</td><td>List(0, 58, List(20, 41, 50, 53, 54, 55, 56, 57), List(1.0, 1.0, 1.0, 2015.0, 2.0, 3.0, 13.0, 1.0))</td></tr><tr><td>0.0</td><td>List(0, 58, List(27, 41, 50, 53, 54, 55, 56, 57), List(1.0, 1.0, 1.0, 2015.0, 2.0, 3.0, 13.0, 5.0))</td></tr><tr><td>0.0</td><td>List(0, 58, List(8, 41, 51, 53, 54, 55, 56, 57), List(1.0, 1.0, 1.0, 2015.0, 2.0, 3.0, 13.0, 2.0))</td></tr><tr><td>0.0</td><td>List(0, 58, List(2, 41, 51, 53, 54, 55, 56, 57), List(1.0, 1.0, 1.0, 2015.0, 2.0, 3.0, 13.0, 1.0))</td></tr><tr><td>1.0</td><td>List(0, 58, List(1, 41, 44, 53, 54, 55, 56, 57), List(1.0, 1.0, 1.0, 2015.0, 2.0, 3.0, 14.0, 2.0))</td></tr><tr><td>0.0</td><td>List(0, 58, List(2, 41, 46, 53, 54, 55, 56, 57), List(1.0, 1.0, 1.0, 2015.0, 2.0, 3.0, 13.0, 1.0))</td></tr><tr><td>0.0</td><td>List(0, 58, List(0, 39, 51, 53, 54, 55, 56, 57), List(1.0, 1.0, 1.0, 2016.0, 1.0, 20.0, 16.0, 3.0))</td></tr><tr><td>1.0</td><td>List(0, 58, List(20, 41, 52, 53, 54, 55, 56, 57), List(1.0, 1.0, 1.0, 2015.0, 2.0, 3.0, 14.0, 1.0))</td></tr><tr><td>1.0</td><td>List(0, 58, List(6, 41, 52, 53, 54, 55, 56, 57), List(1.0, 1.0, 1.0, 2015.0, 2.0, 3.0, 14.0, 1.0))</td></tr><tr><td>1.0</td><td>List(0, 58, List(6, 41, 52, 53, 54, 55, 56, 57), List(1.0, 1.0, 1.0, 2015.0, 2.0, 3.0, 14.0, 1.0))</td></tr><tr><td>0.0</td><td>List(0, 58, List(2, 43, 49, 53, 54, 55, 56, 57), List(1.0, 1.0, 1.0, 2014.0, 3.0, 17.0, 18.0, 1.0))</td></tr><tr><td>0.0</td><td>List(0, 58, List(0, 41, 48, 53, 54, 55, 56, 57), List(1.0, 1.0, 1.0, 2015.0, 2.0, 3.0, 13.0, 3.0))</td></tr><tr><td>0.0</td><td>List(0, 58, List(12, 43, 44, 53, 54, 55, 56, 57), List(1.0, 1.0, 1.0, 2015.0, 2.0, 2.0, 19.0, 3.0))</td></tr><tr><td>0.0</td><td>List(0, 58, List(2, 43, 44, 53, 54, 55, 56, 57), List(1.0, 1.0, 1.0, 2015.0, 2.0, 2.0, 19.0, 1.0))</td></tr><tr><td>0.0</td><td>List(0, 58, List(8, 43, 51, 53, 54, 55, 56, 57), List(1.0, 1.0, 1.0, 2015.0, 2.0, 2.0, 21.0, 2.0))</td></tr><tr><td>0.0</td><td>List(0, 58, List(4, 41, 44, 53, 54, 55, 56, 57), List(1.0, 1.0, 1.0, 2015.0, 2.0, 3.0, 14.0, 5.0))</td></tr><tr><td>0.0</td><td>List(0, 58, List(6, 41, 44, 53, 54, 55, 56, 57), List(1.0, 1.0, 1.0, 2015.0, 2.0, 3.0, 14.0, 1.0))</td></tr><tr><td>0.0</td><td>List(0, 58, List(2, 49, 53, 54, 55, 56, 57), List(1.0, 1.0, 2014.0, 3.0, 16.0, 14.0, 1.0))</td></tr><tr><td>0.0</td><td>List(0, 58, List(13, 41, 49, 53, 54, 55, 56, 57), List(1.0, 1.0, 1.0, 2015.0, 2.0, 3.0, 13.0, 5.0))</td></tr><tr><td>0.0</td><td>List(0, 58, List(8, 41, 49, 53, 54, 55, 56, 57), List(1.0, 1.0, 1.0, 2015.0, 2.0, 3.0, 13.0, 2.0))</td></tr><tr><td>0.0</td><td>List(0, 58, List(8, 41, 53, 54, 55, 56, 57), List(1.0, 1.0, 2015.0, 2.0, 3.0, 13.0, 2.0))</td></tr><tr><td>0.0</td><td>List(0, 58, List(1, 41, 53, 54, 55, 56, 57), List(1.0, 1.0, 2015.0, 2.0, 3.0, 13.0, 2.0))</td></tr><tr><td>0.0</td><td>List(0, 58, List(3, 43, 48, 53, 54, 55, 56, 57), List(1.0, 1.0, 1.0, 2015.0, 1.0, 26.0, 14.0, 4.0))</td></tr><tr><td>0.0</td><td>List(0, 58, List(0, 43, 45, 53, 54, 55, 56, 57), List(1.0, 1.0, 1.0, 2015.0, 2.0, 2.0, 8.0, 3.0))</td></tr><tr><td>0.0</td><td>List(0, 58, List(2, 41, 47, 53, 54, 55, 56, 57), List(1.0, 1.0, 1.0, 2015.0, 2.0, 3.0, 14.0, 1.0))</td></tr><tr><td>0.0</td><td>List(0, 58, List(0, 39, 45, 53, 54, 55, 56, 57), List(1.0, 1.0, 1.0, 2015.0, 1.0, 28.0, 17.0, 3.0))</td></tr><tr><td>0.0</td><td>List(0, 58, List(0, 43, 49, 53, 54, 55, 56, 57), List(1.0, 1.0, 1.0, 2015.0, 2.0, 2.0, 16.0, 3.0))</td></tr><tr><td>0.0</td><td>List(0, 58, List(0, 43, 49, 53, 54, 55, 56, 57), List(1.0, 1.0, 1.0, 2015.0, 2.0, 2.0, 16.0, 3.0))</td></tr><tr><td>0.0</td><td>List(0, 58, List(2, 41, 49, 53, 54, 55, 56, 57), List(1.0, 1.0, 1.0, 2015.0, 2.0, 3.0, 15.0, 1.0))</td></tr><tr><td>0.0</td><td>List(0, 58, List(5, 47, 53, 54, 55, 56, 57), List(1.0, 1.0, 2015.0, 2.0, 1.0, 14.0, 4.0))</td></tr><tr><td>0.0</td><td>List(0, 58, List(0, 42, 49, 53, 54, 55, 56, 57), List(1.0, 1.0, 1.0, 2015.0, 1.0, 29.0, 19.0, 3.0))</td></tr><tr><td>1.0</td><td>List(0, 58, List(0, 41, 48, 53, 54, 55, 56, 57), List(1.0, 1.0, 1.0, 2015.0, 2.0, 3.0, 12.0, 3.0))</td></tr><tr><td>1.0</td><td>List(0, 58, List(6, 41, 48, 53, 54, 55, 56, 57), List(1.0, 1.0, 1.0, 2015.0, 2.0, 3.0, 12.0, 1.0))</td></tr><tr><td>1.0</td><td>List(0, 58, List(1, 41, 47, 53, 54, 55, 56, 57), List(1.0, 1.0, 1.0, 2015.0, 2.0, 3.0, 15.0, 2.0))</td></tr><tr><td>0.0</td><td>List(0, 58, List(2, 41, 51, 53, 54, 55, 56, 57), List(1.0, 1.0, 1.0, 2015.0, 1.0, 27.0, 11.0, 1.0))</td></tr><tr><td>0.0</td><td>List(0, 58, List(1, 41, 52, 53, 54, 55, 56, 57), List(1.0, 1.0, 1.0, 2015.0, 2.0, 3.0, 15.0, 2.0))</td></tr><tr><td>0.0</td><td>List(0, 58, List(8, 43, 51, 53, 54, 55, 56, 57), List(1.0, 1.0, 1.0, 2015.0, 2.0, 2.0, 22.0, 2.0))</td></tr><tr><td>0.0</td><td>List(0, 58, List(2, 39, 51, 53, 54, 55, 56, 57), List(1.0, 1.0, 1.0, 2014.0, 3.0, 26.0, 6.0, 1.0))</td></tr><tr><td>1.0</td><td>List(0, 58, List(6, 41, 44, 53, 54, 55, 56, 57), List(1.0, 1.0, 1.0, 2015.0, 2.0, 3.0, 16.0, 1.0))</td></tr><tr><td>0.0</td><td>List(0, 58, List(13, 43, 44, 53, 54, 55, 57), List(1.0, 1.0, 1.0, 2015.0, 2.0, 2.0, 5.0))</td></tr><tr><td>0.0</td><td>List(0, 58, List(3, 43, 44, 53, 54, 55, 57), List(1.0, 1.0, 1.0, 2015.0, 2.0, 2.0, 4.0))</td></tr><tr><td>0.0</td><td>List(0, 58, List(2, 43, 44, 53, 54, 55, 56, 57), List(1.0, 1.0, 1.0, 2015.0, 1.0, 5.0, 22.0, 1.0))</td></tr><tr><td>0.0</td><td>List(0, 58, List(9, 41, 47, 53, 54, 55, 56, 57), List(1.0, 1.0, 1.0, 2015.0, 2.0, 3.0, 2.0, 3.0))</td></tr><tr><td>0.0</td><td>List(0, 58, List(2, 41, 45, 53, 54, 55, 56, 57), List(1.0, 1.0, 1.0, 2015.0, 2.0, 3.0, 16.0, 1.0))</td></tr><tr><td>0.0</td><td>List(0, 58, List(16, 41, 49, 53, 54, 55, 56, 57), List(1.0, 1.0, 1.0, 2015.0, 2.0, 3.0, 12.0, 3.0))</td></tr><tr><td>1.0</td><td>List(0, 58, List(0, 42, 45, 53, 54, 55, 56, 57), List(1.0, 1.0, 1.0, 2014.0, 3.0, 27.0, 19.0, 3.0))</td></tr><tr><td>0.0</td><td>List(0, 58, List(5, 41, 49, 53, 54, 55, 56, 57), List(1.0, 1.0, 1.0, 2015.0, 2.0, 3.0, 12.0, 4.0))</td></tr><tr><td>1.0</td><td>List(0, 58, List(1, 41, 47, 53, 54, 55, 56, 57), List(1.0, 1.0, 1.0, 2015.0, 2.0, 3.0, 16.0, 2.0))</td></tr><tr><td>0.0</td><td>List(0, 58, List(8, 41, 48, 53, 54, 55, 56, 57), List(1.0, 1.0, 1.0, 2015.0, 2.0, 3.0, 16.0, 2.0))</td></tr><tr><td>0.0</td><td>List(0, 58, List(2, 41, 48, 53, 54, 55, 56, 57), List(1.0, 1.0, 1.0, 2015.0, 2.0, 3.0, 16.0, 1.0))</td></tr><tr><td>0.0</td><td>List(0, 58, List(2, 43, 46, 53, 54, 55, 56, 57), List(1.0, 1.0, 1.0, 2015.0, 2.0, 2.0, 14.0, 1.0))</td></tr><tr><td>0.0</td><td>List(0, 58, List(0, 43, 46, 53, 54, 55, 56, 57), List(1.0, 1.0, 1.0, 2015.0, 2.0, 2.0, 15.0, 3.0))</td></tr><tr><td>1.0</td><td>List(0, 58, List(3, 41, 48, 53, 54, 55, 56, 57), List(1.0, 1.0, 1.0, 2015.0, 2.0, 3.0, 15.0, 4.0))</td></tr><tr><td>1.0</td><td>List(0, 58, List(21, 41, 48, 53, 54, 55, 56, 57), List(1.0, 1.0, 1.0, 2015.0, 2.0, 3.0, 15.0, 5.0))</td></tr><tr><td>1.0</td><td>List(0, 58, List(6, 41, 48, 53, 54, 55, 56, 57), List(1.0, 1.0, 1.0, 2015.0, 2.0, 3.0, 15.0, 1.0))</td></tr><tr><td>0.0</td><td>List(0, 58, List(0, 41, 53, 54, 55, 56, 57), List(1.0, 1.0, 2015.0, 2.0, 3.0, 11.0, 3.0))</td></tr><tr><td>0.0</td><td>List(0, 58, List(24, 41, 48, 53, 54, 55, 56, 57), List(1.0, 1.0, 1.0, 2015.0, 2.0, 3.0, 15.0, 5.0))</td></tr><tr><td>0.0</td><td>List(0, 58, List(10, 41, 48, 53, 54, 55, 56, 57), List(1.0, 1.0, 1.0, 2015.0, 2.0, 3.0, 15.0, 3.0))</td></tr><tr><td>0.0</td><td>List(0, 58, List(2, 45, 53, 54, 55, 56, 57), List(1.0, 1.0, 2014.0, 3.0, 16.0, 2.0, 1.0))</td></tr><tr><td>0.0</td><td>List(0, 58, List(3, 49, 53, 54, 55, 56, 57), List(1.0, 1.0, 2015.0, 2.0, 1.0, 11.0, 4.0))</td></tr><tr><td>0.0</td><td>List(0, 58, List(0, 45, 53, 54, 55, 56, 57), List(1.0, 1.0, 2015.0, 2.0, 1.0, 19.0, 3.0))</td></tr><tr><td>0.0</td><td>List(0, 58, List(12, 45, 53, 54, 55, 56, 57), List(1.0, 1.0, 2015.0, 2.0, 1.0, 19.0, 3.0))</td></tr><tr><td>0.0</td><td>List(0, 58, List(3, 41, 46, 53, 54, 55, 56, 57), List(1.0, 1.0, 1.0, 2015.0, 2.0, 3.0, 16.0, 4.0))</td></tr><tr><td>0.0</td><td>List(0, 58, List(2, 41, 46, 53, 54, 55, 56, 57), List(1.0, 1.0, 1.0, 2015.0, 2.0, 3.0, 16.0, 1.0))</td></tr><tr><td>1.0</td><td>List(0, 58, List(4, 41, 45, 53, 54, 55, 56, 57), List(1.0, 1.0, 1.0, 2015.0, 2.0, 3.0, 16.0, 5.0))</td></tr><tr><td>1.0</td><td>List(0, 58, List(4, 41, 45, 53, 54, 55, 56, 57), List(1.0, 1.0, 1.0, 2015.0, 2.0, 3.0, 16.0, 5.0))</td></tr><tr><td>1.0</td><td>List(0, 58, List(4, 41, 45, 53, 54, 55, 56, 57), List(1.0, 1.0, 1.0, 2015.0, 2.0, 3.0, 16.0, 5.0))</td></tr><tr><td>1.0</td><td>List(0, 58, List(1, 41, 45, 53, 54, 55, 56, 57), List(1.0, 1.0, 1.0, 2015.0, 2.0, 3.0, 16.0, 2.0))</td></tr><tr><td>1.0</td><td>List(0, 58, List(1, 41, 45, 53, 54, 55, 56, 57), List(1.0, 1.0, 1.0, 2015.0, 2.0, 3.0, 16.0, 2.0))</td></tr><tr><td>0.0</td><td>List(0, 58, List(8, 41, 47, 53, 54, 55, 56, 57), List(1.0, 1.0, 1.0, 2015.0, 2.0, 3.0, 16.0, 2.0))</td></tr><tr><td>0.0</td><td>List(0, 58, List(1, 41, 51, 53, 54, 55, 56, 57), List(1.0, 1.0, 1.0, 2015.0, 2.0, 3.0, 15.0, 2.0))</td></tr><tr><td>0.0</td><td>List(0, 58, List(1, 43, 50, 53, 54, 55, 56, 57), List(1.0, 1.0, 1.0, 2015.0, 1.0, 26.0, 15.0, 2.0))</td></tr><tr><td>1.0</td><td>List(0, 58, List(4, 41, 44, 53, 54, 55, 56, 57), List(1.0, 1.0, 1.0, 2015.0, 2.0, 3.0, 17.0, 5.0))</td></tr><tr><td>0.0</td><td>List(0, 58, List(9, 41, 47, 53, 54, 55, 56, 57), List(1.0, 1.0, 1.0, 2015.0, 2.0, 3.0, 6.0, 3.0))</td></tr><tr><td>1.0</td><td>List(0, 58, List(1, 41, 48, 53, 54, 55, 56, 57), List(1.0, 1.0, 1.0, 2015.0, 2.0, 3.0, 14.0, 2.0))</td></tr><tr><td>1.0</td><td>List(0, 58, List(13, 41, 48, 53, 54, 55, 56, 57), List(1.0, 1.0, 1.0, 2015.0, 2.0, 3.0, 14.0, 5.0))</td></tr><tr><td>1.0</td><td>List(0, 58, List(3, 41, 48, 53, 54, 55, 56, 57), List(1.0, 1.0, 1.0, 2015.0, 2.0, 3.0, 14.0, 4.0))</td></tr><tr><td>0.0</td><td>List(0, 58, List(1, 42, 49, 53, 54, 55, 56, 57), List(1.0, 1.0, 1.0, 2015.0, 1.0, 29.0, 9.0, 2.0))</td></tr><tr><td>0.0</td><td>List(0, 58, List(12, 42, 49, 53, 54, 55, 56, 57), List(1.0, 1.0, 1.0, 2015.0, 1.0, 29.0, 9.0, 3.0))</td></tr><tr><td>0.0</td><td>List(0, 58, List(0, 41, 49, 53, 54, 55, 56, 57), List(1.0, 1.0, 1.0, 2015.0, 2.0, 3.0, 15.0, 3.0))</td></tr><tr><td>0.0</td><td>List(0, 58, List(3, 40, 49, 53, 54, 55, 56, 57), List(1.0, 1.0, 1.0, 2015.0, 1.0, 10.0, 10.0, 4.0))</td></tr><tr><td>0.0</td><td>List(0, 58, List(1, 40, 49, 53, 54, 55, 56, 57), List(1.0, 1.0, 1.0, 2015.0, 1.0, 10.0, 10.0, 2.0))</td></tr><tr><td>1.0</td><td>List(0, 58, List(1, 41, 50, 53, 54, 55, 56, 57), List(1.0, 1.0, 1.0, 2015.0, 2.0, 3.0, 17.0, 2.0))</td></tr><tr><td>0.0</td><td>List(0, 58, List(3, 41, 46, 53, 54, 55, 56, 57), List(1.0, 1.0, 1.0, 2015.0, 2.0, 3.0, 16.0, 4.0))</td></tr><tr><td>0.0</td><td>List(0, 58, List(2, 41, 46, 53, 54, 55, 56, 57), List(1.0, 1.0, 1.0, 2015.0, 2.0, 3.0, 16.0, 1.0))</td></tr><tr><td>0.0</td><td>List(0, 58, List(0, 43, 51, 53, 54, 55, 56, 57), List(1.0, 1.0, 1.0, 2015.0, 2.0, 2.0, 19.0, 3.0))</td></tr><tr><td>0.0</td><td>List(0, 58, List(2, 41, 48, 53, 54, 55, 56, 57), List(1.0, 1.0, 1.0, 2015.0, 2.0, 3.0, 10.0, 1.0))</td></tr><tr><td>1.0</td><td>List(0, 58, List(2, 41, 49, 53, 54, 55, 56, 57), List(1.0, 1.0, 1.0, 2015.0, 2.0, 3.0, 17.0, 1.0))</td></tr><tr><td>0.0</td><td>List(0, 58, List(0, 41, 47, 53, 54, 55, 56, 57), List(1.0, 1.0, 1.0, 2015.0, 2.0, 3.0, 14.0, 3.0))</td></tr><tr><td>0.0</td><td>List(0, 58, List(7, 53, 54, 55, 56, 57), List(1.0, 2015.0, 2.0, 1.0, 21.0, 4.0))</td></tr><tr><td>1.0</td><td>List(0, 58, List(11, 41, 44, 53, 54, 55, 56, 57), List(1.0, 1.0, 1.0, 2015.0, 2.0, 3.0, 17.0, 4.0))</td></tr><tr><td>1.0</td><td>List(0, 58, List(1, 41, 44, 53, 54, 55, 56, 57), List(1.0, 1.0, 1.0, 2015.0, 2.0, 3.0, 17.0, 2.0))</td></tr><tr><td>1.0</td><td>List(0, 58, List(6, 41, 44, 53, 54, 55, 56, 57), List(1.0, 1.0, 1.0, 2015.0, 2.0, 3.0, 17.0, 1.0))</td></tr><tr><td>1.0</td><td>List(0, 58, List(1, 41, 46, 53, 54, 55, 56, 57), List(1.0, 1.0, 1.0, 2015.0, 2.0, 3.0, 17.0, 2.0))</td></tr><tr><td>0.0</td><td>List(0, 58, List(1, 43, 49, 53, 54, 55, 56, 57), List(1.0, 1.0, 1.0, 2015.0, 2.0, 2.0, 13.0, 2.0))</td></tr><tr><td>0.0</td><td>List(0, 58, List(2, 41, 49, 53, 54, 55, 56, 57), List(1.0, 1.0, 1.0, 2015.0, 2.0, 3.0, 16.0, 1.0))</td></tr><tr><td>1.0</td><td>List(0, 58, List(2, 41, 50, 53, 54, 55, 56, 57), List(1.0, 1.0, 1.0, 2015.0, 2.0, 3.0, 16.0, 1.0))</td></tr><tr><td>0.0</td><td>List(0, 58, List(2, 41, 51, 53, 54, 55, 56, 57), List(1.0, 1.0, 1.0, 2015.0, 2.0, 3.0, 15.0, 1.0))</td></tr><tr><td>0.0</td><td>List(0, 58, List(33, 43, 45, 53, 54, 55, 56, 57), List(1.0, 1.0, 1.0, 2015.0, 2.0, 2.0, 19.0, 1.0))</td></tr><tr><td>0.0</td><td>List(0, 58, List(0, 41, 53, 54, 55, 56, 57), List(1.0, 1.0, 2015.0, 2.0, 3.0, 11.0, 3.0))</td></tr><tr><td>0.0</td><td>List(0, 58, List(0, 38, 44, 53, 54, 55, 56, 57), List(1.0, 1.0, 1.0, 2014.0, 4.0, 4.0, 19.0, 3.0))</td></tr><tr><td>0.0</td><td>List(0, 58, List(0, 41, 44, 53, 54, 55, 56, 57), List(1.0, 1.0, 1.0, 2015.0, 2.0, 3.0, 16.0, 3.0))</td></tr><tr><td>0.0</td><td>List(0, 58, List(9, 43, 49, 53, 54, 55, 56, 57), List(1.0, 1.0, 1.0, 2015.0, 2.0, 2.0, 17.0, 3.0))</td></tr><tr><td>0.0</td><td>List(0, 58, List(3, 41, 47, 53, 54, 55, 56, 57), List(1.0, 1.0, 1.0, 2015.0, 2.0, 3.0, 17.0, 4.0))</td></tr><tr><td>0.0</td><td>List(0, 58, List(11, 43, 44, 53, 54, 55, 56, 57), List(1.0, 1.0, 1.0, 2015.0, 2.0, 2.0, 3.0, 4.0))</td></tr><tr><td>0.0</td><td>List(0, 58, List(7, 40, 47, 53, 54, 55, 56, 57), List(1.0, 1.0, 1.0, 2015.0, 1.0, 31.0, 20.0, 4.0))</td></tr><tr><td>1.0</td><td>List(0, 58, List(1, 41, 50, 53, 54, 55, 56, 57), List(1.0, 1.0, 1.0, 2015.0, 2.0, 3.0, 18.0, 2.0))</td></tr><tr><td>0.0</td><td>List(0, 58, List(1, 40, 49, 53, 54, 55, 56, 57), List(1.0, 1.0, 1.0, 2015.0, 1.0, 10.0, 20.0, 2.0))</td></tr><tr><td>0.0</td><td>List(0, 58, List(11, 41, 44, 53, 54, 55, 56, 57), List(1.0, 1.0, 1.0, 2015.0, 2.0, 3.0, 18.0, 4.0))</td></tr><tr><td>1.0</td><td>List(0, 58, List(1, 41, 45, 53, 54, 55, 56, 57), List(1.0, 1.0, 1.0, 2015.0, 2.0, 3.0, 18.0, 2.0))</td></tr><tr><td>1.0</td><td>List(0, 58, List(6, 41, 47, 53, 54, 55, 56, 57), List(1.0, 1.0, 1.0, 2015.0, 2.0, 3.0, 19.0, 1.0))</td></tr><tr><td>0.0</td><td>List(0, 58, List(0, 43, 47, 53, 54, 55, 56, 57), List(1.0, 1.0, 1.0, 2015.0, 2.0, 2.0, 8.0, 3.0))</td></tr><tr><td>1.0</td><td>List(0, 58, List(3, 43, 47, 53, 54, 55, 56, 57), List(1.0, 1.0, 1.0, 2015.0, 2.0, 2.0, 21.0, 4.0))</td></tr><tr><td>1.0</td><td>List(0, 58, List(21, 43, 47, 53, 54, 55, 56, 57), List(1.0, 1.0, 1.0, 2015.0, 2.0, 2.0, 21.0, 5.0))</td></tr><tr><td>1.0</td><td>List(0, 58, List(3, 43, 47, 53, 54, 55, 56, 57), List(1.0, 1.0, 1.0, 2015.0, 2.0, 2.0, 21.0, 4.0))</td></tr><tr><td>0.0</td><td>List(0, 58, List(3, 41, 53, 54, 55, 56, 57), List(1.0, 1.0, 2015.0, 2.0, 3.0, 17.0, 4.0))</td></tr><tr><td>0.0</td><td>List(0, 58, List(5, 41, 53, 54, 55, 56, 57), List(1.0, 1.0, 2015.0, 2.0, 3.0, 17.0, 4.0))</td></tr><tr><td>0.0</td><td>List(0, 58, List(3, 41, 45, 53, 54, 55, 56, 57), List(1.0, 1.0, 1.0, 2015.0, 2.0, 3.0, 10.0, 4.0))</td></tr><tr><td>0.0</td><td>List(0, 58, List(41, 47, 53, 54, 55, 56, 57), List(1.0, 1.0, 2015.0, 2.0, 3.0, 17.0, 2.0))</td></tr><tr><td>0.0</td><td>List(0, 58, List(8, 41, 45, 53, 54, 55, 56, 57), List(1.0, 1.0, 1.0, 2015.0, 2.0, 3.0, 18.0, 2.0))</td></tr><tr><td>0.0</td><td>List(0, 58, List(21, 49, 53, 54, 55, 56, 57), List(1.0, 1.0, 2015.0, 2.0, 1.0, 22.0, 5.0))</td></tr><tr><td>0.0</td><td>List(0, 58, List(1, 43, 50, 53, 54, 55, 56, 57), List(1.0, 1.0, 1.0, 2015.0, 2.0, 2.0, 20.0, 2.0))</td></tr><tr><td>0.0</td><td>List(0, 58, List(0, 40, 44, 53, 54, 55, 56, 57), List(1.0, 1.0, 1.0, 2016.0, 2.0, 13.0, 10.0, 3.0))</td></tr><tr><td>0.0</td><td>List(0, 58, List(0, 38, 44, 53, 54, 55, 56, 57), List(1.0, 1.0, 1.0, 2016.0, 4.0, 15.0, 17.0, 3.0))</td></tr><tr><td>1.0</td><td>List(0, 58, List(14, 38, 44, 53, 54, 55, 56, 57), List(1.0, 1.0, 1.0, 2016.0, 1.0, 29.0, 11.0, 5.0))</td></tr><tr><td>0.0</td><td>List(0, 58, List(3, 41, 50, 53, 54, 55, 56, 57), List(1.0, 1.0, 1.0, 2015.0, 2.0, 3.0, 13.0, 4.0))</td></tr><tr><td>0.0</td><td>List(0, 58, List(11, 41, 44, 53, 54, 55, 56, 57), List(1.0, 1.0, 1.0, 2015.0, 2.0, 3.0, 19.0, 4.0))</td></tr><tr><td>0.0</td><td>List(0, 58, List(3, 41, 44, 53, 54, 55, 56, 57), List(1.0, 1.0, 1.0, 2015.0, 2.0, 3.0, 19.0, 4.0))</td></tr><tr><td>0.0</td><td>List(0, 58, List(0, 43, 52, 53, 54, 55, 56, 57), List(1.0, 1.0, 1.0, 2015.0, 2.0, 2.0, 16.0, 3.0))</td></tr><tr><td>0.0</td><td>List(0, 58, List(11, 41, 48, 53, 54, 55, 56, 57), List(1.0, 1.0, 1.0, 2015.0, 2.0, 3.0, 19.0, 4.0))</td></tr><tr><td>0.0</td><td>List(0, 58, List(0, 41, 44, 53, 54, 55, 56, 57), List(1.0, 1.0, 1.0, 2015.0, 2.0, 3.0, 16.0, 3.0))</td></tr><tr><td>0.0</td><td>List(0, 58, List(3, 41, 48, 53, 54, 55, 56, 57), List(1.0, 1.0, 1.0, 2015.0, 2.0, 3.0, 19.0, 4.0))</td></tr><tr><td>0.0</td><td>List(0, 58, List(3, 50, 53, 54, 55, 56, 57), List(1.0, 1.0, 2015.0, 2.0, 1.0, 17.0, 4.0))</td></tr><tr><td>0.0</td><td>List(0, 58, List(1, 43, 45, 53, 54, 55, 56, 57), List(1.0, 1.0, 1.0, 2015.0, 2.0, 2.0, 20.0, 2.0))</td></tr><tr><td>0.0</td><td>List(0, 58, List(0, 38, 48, 53, 54, 55, 56, 57), List(1.0, 1.0, 1.0, 2015.0, 1.0, 30.0, 15.0, 3.0))</td></tr><tr><td>0.0</td><td>List(0, 58, List(2, 41, 50, 53, 54, 55, 56, 57), List(1.0, 1.0, 1.0, 2015.0, 2.0, 3.0, 18.0, 1.0))</td></tr><tr><td>0.0</td><td>List(0, 58, List(0, 41, 44, 53, 54, 55, 56, 57), List(1.0, 1.0, 1.0, 2015.0, 2.0, 3.0, 18.0, 3.0))</td></tr><tr><td>0.0</td><td>List(0, 58, List(1, 40, 49, 53, 54, 55, 56, 57), List(1.0, 1.0, 1.0, 2015.0, 1.0, 31.0, 20.0, 2.0))</td></tr><tr><td>0.0</td><td>List(0, 58, List(9, 41, 51, 53, 54, 55, 56, 57), List(1.0, 1.0, 1.0, 2015.0, 2.0, 3.0, 5.0, 3.0))</td></tr><tr><td>0.0</td><td>List(0, 58, List(2, 41, 44, 53, 54, 55, 56, 57), List(1.0, 1.0, 1.0, 2015.0, 2.0, 3.0, 20.0, 1.0))</td></tr><tr><td>0.0</td><td>List(0, 58, List(8, 41, 51, 53, 54, 55, 56, 57), List(1.0, 1.0, 1.0, 2015.0, 2.0, 3.0, 17.0, 2.0))</td></tr><tr><td>0.0</td><td>List(0, 58, List(1, 38, 49, 53, 54, 55, 56, 57), List(1.0, 1.0, 1.0, 2015.0, 1.0, 30.0, 17.0, 2.0))</td></tr><tr><td>1.0</td><td>List(0, 58, List(14, 38, 44, 53, 54, 55, 56, 57), List(1.0, 1.0, 1.0, 2016.0, 1.0, 29.0, 11.0, 5.0))</td></tr><tr><td>0.0</td><td>List(0, 58, List(21, 43, 45, 53, 54, 55, 56, 57), List(1.0, 1.0, 1.0, 2015.0, 2.0, 2.0, 8.0, 5.0))</td></tr><tr><td>0.0</td><td>List(0, 58, List(0, 41, 49, 53, 54, 55, 56, 57), List(1.0, 1.0, 1.0, 2015.0, 2.0, 3.0, 19.0, 3.0))</td></tr><tr><td>0.0</td><td>List(0, 58, List(0, 43, 51, 53, 54, 55, 56, 57), List(1.0, 1.0, 1.0, 2015.0, 2.0, 2.0, 23.0, 3.0))</td></tr><tr><td>1.0</td><td>List(0, 58, List(1, 41, 52, 53, 54, 55, 56, 57), List(1.0, 1.0, 1.0, 2015.0, 2.0, 3.0, 20.0, 2.0))</td></tr><tr><td>1.0</td><td>List(0, 58, List(0, 41, 48, 53, 54, 55, 56, 57), List(1.0, 1.0, 1.0, 2015.0, 2.0, 3.0, 20.0, 3.0))</td></tr><tr><td>0.0</td><td>List(0, 58, List(0, 41, 44, 53, 54, 55, 56, 57), List(1.0, 1.0, 1.0, 2015.0, 2.0, 3.0, 18.0, 3.0))</td></tr><tr><td>0.0</td><td>List(0, 58, List(0, 41, 44, 53, 54, 55, 56, 57), List(1.0, 1.0, 1.0, 2015.0, 2.0, 3.0, 16.0, 3.0))</td></tr><tr><td>0.0</td><td>List(0, 58, List(2, 41, 50, 53, 54, 55, 56, 57), List(1.0, 1.0, 1.0, 2015.0, 2.0, 3.0, 18.0, 1.0))</td></tr><tr><td>0.0</td><td>List(0, 58, List(2, 41, 50, 53, 54, 55, 56, 57), List(1.0, 1.0, 1.0, 2015.0, 2.0, 3.0, 18.0, 1.0))</td></tr><tr><td>0.0</td><td>List(0, 58, List(7, 40, 46, 53, 54, 55, 56, 57), List(1.0, 1.0, 1.0, 2015.0, 1.0, 31.0, 12.0, 4.0))</td></tr><tr><td>0.0</td><td>List(0, 58, List(0, 41, 49, 53, 54, 55, 56, 57), List(1.0, 1.0, 1.0, 2015.0, 2.0, 3.0, 13.0, 3.0))</td></tr><tr><td>1.0</td><td>List(0, 58, List(14, 41, 44, 53, 54, 55, 56, 57), List(1.0, 1.0, 1.0, 2015.0, 2.0, 3.0, 20.0, 5.0))</td></tr><tr><td>1.0</td><td>List(0, 58, List(14, 41, 44, 53, 54, 55, 56, 57), List(1.0, 1.0, 1.0, 2015.0, 2.0, 3.0, 20.0, 5.0))</td></tr><tr><td>1.0</td><td>List(0, 58, List(4, 41, 44, 53, 54, 55, 56, 57), List(1.0, 1.0, 1.0, 2015.0, 2.0, 3.0, 20.0, 5.0))</td></tr><tr><td>1.0</td><td>List(0, 58, List(14, 41, 44, 53, 54, 55, 56, 57), List(1.0, 1.0, 1.0, 2015.0, 2.0, 3.0, 20.0, 5.0))</td></tr><tr><td>1.0</td><td>List(0, 58, List(6, 41, 44, 53, 54, 55, 56, 57), List(1.0, 1.0, 1.0, 2015.0, 2.0, 3.0, 20.0, 1.0))</td></tr><tr><td>0.0</td><td>List(0, 58, List(1, 40, 47, 53, 54, 55, 56, 57), List(1.0, 1.0, 1.0, 2015.0, 1.0, 31.0, 15.0, 2.0))</td></tr><tr><td>0.0</td><td>List(0, 58, List(2, 40, 47, 53, 54, 55, 56, 57), List(1.0, 1.0, 1.0, 2015.0, 1.0, 31.0, 15.0, 1.0))</td></tr><tr><td>0.0</td><td>List(0, 58, List(2, 40, 47, 53, 54, 55, 56, 57), List(1.0, 1.0, 1.0, 2015.0, 1.0, 31.0, 15.0, 1.0))</td></tr><tr><td>1.0</td><td>List(0, 58, List(12, 41, 44, 53, 54, 55, 56, 57), List(1.0, 1.0, 1.0, 2015.0, 2.0, 3.0, 21.0, 3.0))</td></tr><tr><td>1.0</td><td>List(0, 58, List(12, 41, 44, 53, 54, 55, 56, 57), List(1.0, 1.0, 1.0, 2015.0, 2.0, 3.0, 21.0, 3.0))</td></tr><tr><td>0.0</td><td>List(0, 58, List(1, 44, 53, 54, 55, 56, 57), List(1.0, 1.0, 2015.0, 2.0, 1.0, 17.0, 2.0))</td></tr><tr><td>0.0</td><td>List(0, 58, List(0, 41, 47, 53, 54, 55, 56, 57), List(1.0, 1.0, 1.0, 2015.0, 2.0, 3.0, 18.0, 3.0))</td></tr><tr><td>0.0</td><td>List(0, 58, List(11, 41, 46, 53, 54, 55, 56, 57), List(1.0, 1.0, 1.0, 2015.0, 2.0, 3.0, 18.0, 4.0))</td></tr><tr><td>0.0</td><td>List(0, 58, List(13, 41, 46, 53, 54, 55, 56, 57), List(1.0, 1.0, 1.0, 2015.0, 2.0, 3.0, 18.0, 5.0))</td></tr><tr><td>1.0</td><td>List(0, 58, List(6, 41, 50, 53, 54, 55, 56, 57), List(1.0, 1.0, 1.0, 2015.0, 2.0, 3.0, 21.0, 1.0))</td></tr><tr><td>0.0</td><td>List(0, 58, List(10, 41, 47, 53, 54, 55, 56, 57), List(1.0, 1.0, 1.0, 2015.0, 2.0, 3.0, 8.0, 3.0))</td></tr><tr><td>0.0</td><td>List(0, 58, List(10, 41, 47, 53, 54, 55, 56, 57), List(1.0, 1.0, 1.0, 2015.0, 2.0, 3.0, 8.0, 3.0))</td></tr><tr><td>0.0</td><td>List(0, 58, List(5, 41, 46, 53, 54, 55, 56, 57), List(1.0, 1.0, 1.0, 2015.0, 1.0, 20.0, 12.0, 4.0))</td></tr><tr><td>0.0</td><td>List(0, 58, List(0, 43, 44, 53, 54, 55, 56, 57), List(1.0, 1.0, 1.0, 2015.0, 2.0, 2.0, 20.0, 3.0))</td></tr><tr><td>0.0</td><td>List(0, 58, List(2, 41, 47, 53, 54, 55, 56, 57), List(1.0, 1.0, 1.0, 2015.0, 2.0, 3.0, 20.0, 1.0))</td></tr><tr><td>0.0</td><td>List(0, 58, List(0, 41, 53, 54, 55, 56, 57), List(1.0, 1.0, 2015.0, 2.0, 3.0, 19.0, 3.0))</td></tr><tr><td>0.0</td><td>List(0, 58, List(0, 41, 53, 54, 55, 56, 57), List(1.0, 1.0, 2015.0, 2.0, 3.0, 19.0, 3.0))</td></tr><tr><td>0.0</td><td>List(0, 58, List(2, 41, 46, 53, 54, 55, 56, 57), List(1.0, 1.0, 1.0, 2015.0, 2.0, 3.0, 15.0, 1.0))</td></tr><tr><td>0.0</td><td>List(0, 58, List(11, 41, 44, 53, 54, 55, 56, 57), List(1.0, 1.0, 1.0, 2015.0, 2.0, 3.0, 21.0, 4.0))</td></tr><tr><td>1.0</td><td>List(0, 58, List(1, 41, 50, 53, 54, 55, 56, 57), List(1.0, 1.0, 1.0, 2015.0, 2.0, 3.0, 21.0, 2.0))</td></tr><tr><td>1.0</td><td>List(0, 58, List(1, 41, 50, 53, 54, 55, 56, 57), List(1.0, 1.0, 1.0, 2015.0, 2.0, 3.0, 21.0, 2.0))</td></tr><tr><td>1.0</td><td>List(0, 58, List(23, 41, 50, 53, 54, 55, 56, 57), List(1.0, 1.0, 1.0, 2015.0, 2.0, 3.0, 21.0, 3.0))</td></tr><tr><td>1.0</td><td>List(0, 58, List(2, 41, 50, 53, 54, 55, 56, 57), List(1.0, 1.0, 1.0, 2015.0, 2.0, 3.0, 21.0, 1.0))</td></tr><tr><td>1.0</td><td>List(0, 58, List(1, 41, 53, 54, 55, 56, 57), List(1.0, 1.0, 2015.0, 2.0, 3.0, 21.0, 2.0))</td></tr><tr><td>0.0</td><td>List(0, 58, List(0, 41, 44, 53, 54, 55, 56, 57), List(1.0, 1.0, 1.0, 2015.0, 2.0, 3.0, 21.0, 3.0))</td></tr><tr><td>0.0</td><td>List(0, 58, List(0, 41, 46, 53, 54, 55, 56, 57), List(1.0, 1.0, 1.0, 2015.0, 2.0, 3.0, 19.0, 3.0))</td></tr><tr><td>0.0</td><td>List(0, 58, List(5, 41, 46, 53, 54, 55, 56, 57), List(1.0, 1.0, 1.0, 2015.0, 2.0, 3.0, 19.0, 4.0))</td></tr><tr><td>1.0</td><td>List(0, 58, List(4, 41, 44, 53, 54, 55, 56, 57), List(1.0, 1.0, 1.0, 2015.0, 2.0, 3.0, 22.0, 5.0))</td></tr><tr><td>1.0</td><td>List(0, 58, List(1, 41, 44, 53, 54, 55, 56, 57), List(1.0, 1.0, 1.0, 2015.0, 2.0, 3.0, 22.0, 2.0))</td></tr><tr><td>1.0</td><td>List(0, 58, List(6, 41, 44, 53, 54, 55, 56, 57), List(1.0, 1.0, 1.0, 2015.0, 2.0, 3.0, 21.0, 1.0))</td></tr><tr><td>0.0</td><td>List(0, 58, List(0, 41, 46, 53, 54, 55, 56, 57), List(1.0, 1.0, 1.0, 2015.0, 2.0, 3.0, 18.0, 3.0))</td></tr><tr><td>0.0</td><td>List(0, 58, List(9, 50, 53, 54, 55, 56, 57), List(1.0, 1.0, 2015.0, 2.0, 1.0, 23.0, 3.0))</td></tr><tr><td>1.0</td><td>List(0, 58, List(7, 41, 44, 53, 54, 55, 56, 57), List(1.0, 1.0, 1.0, 2015.0, 2.0, 3.0, 21.0, 4.0))</td></tr><tr><td>1.0</td><td>List(0, 58, List(0, 41, 44, 53, 54, 55, 56, 57), List(1.0, 1.0, 1.0, 2015.0, 2.0, 3.0, 21.0, 3.0))</td></tr><tr><td>0.0</td><td>List(0, 58, List(2, 41, 44, 53, 54, 55, 56, 57), List(1.0, 1.0, 1.0, 2015.0, 2.0, 3.0, 22.0, 1.0))</td></tr><tr><td>1.0</td><td>List(0, 58, List(1, 41, 50, 53, 54, 55, 56, 57), List(1.0, 1.0, 1.0, 2015.0, 2.0, 3.0, 23.0, 2.0))</td></tr><tr><td>0.0</td><td>List(0, 58, List(3, 43, 50, 53, 54, 55, 56, 57), List(1.0, 1.0, 1.0, 2015.0, 2.0, 2.0, 23.0, 4.0))</td></tr><tr><td>0.0</td><td>List(0, 58, List(0, 41, 49, 53, 54, 55, 56, 57), List(1.0, 1.0, 1.0, 2015.0, 2.0, 3.0, 19.0, 3.0))</td></tr><tr><td>0.0</td><td>List(0, 58, List(7, 41, 44, 53, 54, 55, 56, 57), List(1.0, 1.0, 1.0, 2015.0, 2.0, 3.0, 23.0, 4.0))</td></tr><tr><td>0.0</td><td>List(0, 58, List(0, 41, 49, 53, 54, 55, 56, 57), List(1.0, 1.0, 1.0, 2015.0, 2.0, 3.0, 20.0, 3.0))</td></tr><tr><td>1.0</td><td>List(0, 58, List(3, 41, 50, 53, 54, 55, 56, 57), List(1.0, 1.0, 1.0, 2015.0, 2.0, 3.0, 23.0, 4.0))</td></tr><tr><td>1.0</td><td>List(0, 58, List(4, 41, 50, 53, 54, 55, 56, 57), List(1.0, 1.0, 1.0, 2015.0, 2.0, 3.0, 23.0, 5.0))</td></tr><tr><td>1.0</td><td>List(0, 58, List(4, 41, 50, 53, 54, 55, 56, 57), List(1.0, 1.0, 1.0, 2015.0, 2.0, 3.0, 23.0, 5.0))</td></tr><tr><td>1.0</td><td>List(0, 58, List(6, 41, 50, 53, 54, 55, 56, 57), List(1.0, 1.0, 1.0, 2015.0, 2.0, 3.0, 23.0, 1.0))</td></tr><tr><td>1.0</td><td>List(0, 58, List(6, 41, 50, 53, 54, 55, 56, 57), List(1.0, 1.0, 1.0, 2015.0, 2.0, 3.0, 23.0, 1.0))</td></tr><tr><td>1.0</td><td>List(0, 58, List(36, 41, 50, 53, 54, 55, 56, 57), List(1.0, 1.0, 1.0, 2015.0, 2.0, 3.0, 23.0, 1.0))</td></tr><tr><td>1.0</td><td>List(0, 58, List(2, 41, 50, 53, 54, 55, 56, 57), List(1.0, 1.0, 1.0, 2015.0, 2.0, 3.0, 23.0, 1.0))</td></tr><tr><td>1.0</td><td>List(0, 58, List(2, 41, 50, 53, 54, 55, 56, 57), List(1.0, 1.0, 1.0, 2015.0, 2.0, 3.0, 23.0, 1.0))</td></tr><tr><td>1.0</td><td>List(0, 58, List(7, 41, 45, 53, 54, 55, 56, 57), List(1.0, 1.0, 1.0, 2015.0, 2.0, 3.0, 23.0, 4.0))</td></tr><tr><td>1.0</td><td>List(0, 58, List(1, 41, 45, 53, 54, 55, 56, 57), List(1.0, 1.0, 1.0, 2015.0, 2.0, 3.0, 23.0, 2.0))</td></tr><tr><td>1.0</td><td>List(0, 58, List(1, 41, 45, 53, 54, 55, 56, 57), List(1.0, 1.0, 1.0, 2015.0, 2.0, 3.0, 23.0, 2.0))</td></tr><tr><td>1.0</td><td>List(0, 58, List(1, 41, 45, 53, 54, 55, 56, 57), List(1.0, 1.0, 1.0, 2015.0, 2.0, 3.0, 23.0, 2.0))</td></tr><tr><td>1.0</td><td>List(0, 58, List(6, 41, 45, 53, 54, 55, 56, 57), List(1.0, 1.0, 1.0, 2015.0, 2.0, 3.0, 23.0, 1.0))</td></tr><tr><td>0.0</td><td>List(0, 58, List(8, 41, 47, 53, 54, 55, 56, 57), List(1.0, 1.0, 1.0, 2015.0, 2.0, 3.0, 23.0, 2.0))</td></tr><tr><td>1.0</td><td>List(0, 58, List(1, 39, 48, 53, 54, 55, 57), List(1.0, 1.0, 1.0, 2015.0, 2.0, 4.0, 2.0))</td></tr><tr><td>0.0</td><td>List(0, 58, List(8, 41, 51, 53, 54, 55, 56, 57), List(1.0, 1.0, 1.0, 2015.0, 2.0, 3.0, 23.0, 2.0))</td></tr><tr><td>0.0</td><td>List(0, 58, List(1, 41, 51, 53, 54, 55, 56, 57), List(1.0, 1.0, 1.0, 2015.0, 2.0, 3.0, 23.0, 2.0))</td></tr><tr><td>0.0</td><td>List(0, 58, List(2, 41, 51, 53, 54, 55, 56, 57), List(1.0, 1.0, 1.0, 2015.0, 2.0, 3.0, 23.0, 1.0))</td></tr><tr><td>1.0</td><td>List(0, 58, List(6, 39, 48, 53, 54, 55, 57), List(1.0, 1.0, 1.0, 2015.0, 2.0, 4.0, 1.0))</td></tr><tr><td>0.0</td><td>List(0, 58, List(2, 39, 48, 53, 54, 55, 57), List(1.0, 1.0, 1.0, 2015.0, 2.0, 4.0, 1.0))</td></tr><tr><td>0.0</td><td>List(0, 58, List(9, 41, 46, 53, 54, 55, 56, 57), List(1.0, 1.0, 1.0, 2015.0, 2.0, 3.0, 17.0, 3.0))</td></tr><tr><td>0.0</td><td>List(0, 58, List(2, 39, 49, 53, 54, 55, 57), List(1.0, 1.0, 1.0, 2015.0, 2.0, 4.0, 1.0))</td></tr><tr><td>1.0</td><td>List(0, 58, List(21, 41, 46, 53, 54, 55, 56, 57), List(1.0, 1.0, 1.0, 2015.0, 2.0, 3.0, 21.0, 5.0))</td></tr><tr><td>1.0</td><td>List(0, 58, List(11, 41, 46, 53, 54, 55, 56, 57), List(1.0, 1.0, 1.0, 2015.0, 2.0, 3.0, 21.0, 4.0))</td></tr><tr><td>1.0</td><td>List(0, 58, List(11, 41, 46, 53, 54, 55, 56, 57), List(1.0, 1.0, 1.0, 2015.0, 2.0, 3.0, 21.0, 4.0))</td></tr><tr><td>1.0</td><td>List(0, 58, List(21, 41, 46, 53, 54, 55, 56, 57), List(1.0, 1.0, 1.0, 2015.0, 2.0, 3.0, 21.0, 5.0))</td></tr><tr><td>0.0</td><td>List(0, 58, List(1, 39, 45, 53, 54, 55, 57), List(1.0, 1.0, 1.0, 2015.0, 2.0, 4.0, 2.0))</td></tr><tr><td>1.0</td><td>List(0, 58, List(1, 39, 47, 53, 54, 55, 57), List(1.0, 1.0, 1.0, 2015.0, 2.0, 4.0, 2.0))</td></tr><tr><td>0.0</td><td>List(0, 58, List(2, 39, 46, 53, 54, 55, 57), List(1.0, 1.0, 1.0, 2015.0, 2.0, 4.0, 1.0))</td></tr><tr><td>0.0</td><td>List(0, 58, List(2, 39, 44, 53, 54, 55, 57), List(1.0, 1.0, 1.0, 2015.0, 2.0, 4.0, 1.0))</td></tr><tr><td>0.0</td><td>List(0, 58, List(22, 39, 44, 53, 54, 55, 56, 57), List(1.0, 1.0, 1.0, 2015.0, 2.0, 4.0, 1.0, 1.0))</td></tr><tr><td>1.0</td><td>List(0, 58, List(1, 39, 53, 54, 55, 57), List(1.0, 1.0, 2015.0, 2.0, 4.0, 2.0))</td></tr><tr><td>1.0</td><td>List(0, 58, List(23, 39, 53, 54, 55, 57), List(1.0, 1.0, 2015.0, 2.0, 4.0, 3.0))</td></tr><tr><td>0.0</td><td>List(0, 58, List(8, 41, 51, 53, 54, 55, 56, 57), List(1.0, 1.0, 1.0, 2015.0, 2.0, 3.0, 23.0, 2.0))</td></tr><tr><td>0.0</td><td>List(0, 58, List(11, 39, 48, 53, 54, 55, 56, 57), List(1.0, 1.0, 1.0, 2015.0, 2.0, 4.0, 1.0, 4.0))</td></tr><tr><td>0.0</td><td>List(0, 58, List(3, 39, 48, 53, 54, 55, 56, 57), List(1.0, 1.0, 1.0, 2015.0, 2.0, 4.0, 1.0, 4.0))</td></tr><tr><td>1.0</td><td>List(0, 58, List(1, 39, 49, 53, 54, 55, 56, 57), List(1.0, 1.0, 1.0, 2015.0, 2.0, 4.0, 1.0, 2.0))</td></tr><tr><td>1.0</td><td>List(0, 58, List(2, 39, 44, 53, 54, 55, 57), List(1.0, 1.0, 1.0, 2015.0, 2.0, 4.0, 1.0))</td></tr><tr><td>0.0</td><td>List(0, 58, List(8, 39, 49, 53, 54, 55, 56, 57), List(1.0, 1.0, 1.0, 2015.0, 2.0, 4.0, 1.0, 2.0))</td></tr><tr><td>0.0</td><td>List(0, 58, List(1, 41, 49, 53, 54, 55, 56, 57), List(1.0, 1.0, 1.0, 2015.0, 2.0, 3.0, 18.0, 2.0))</td></tr><tr><td>1.0</td><td>List(0, 58, List(1, 39, 49, 53, 54, 55, 56, 57), List(1.0, 1.0, 1.0, 2015.0, 2.0, 4.0, 1.0, 2.0))</td></tr><tr><td>1.0</td><td>List(0, 58, List(4, 39, 49, 53, 54, 55, 56, 57), List(1.0, 1.0, 1.0, 2015.0, 2.0, 4.0, 1.0, 5.0))</td></tr><tr><td>1.0</td><td>List(0, 58, List(6, 39, 49, 53, 54, 55, 56, 57), List(1.0, 1.0, 1.0, 2015.0, 2.0, 4.0, 1.0, 1.0))</td></tr><tr><td>0.0</td><td>List(0, 58, List(22, 43, 47, 53, 54, 55, 56, 57), List(1.0, 1.0, 1.0, 2015.0, 2.0, 2.0, 2.0, 1.0))</td></tr><tr><td>0.0</td><td>List(0, 58, List(27, 43, 47, 53, 54, 55, 56, 57), List(1.0, 1.0, 1.0, 2015.0, 2.0, 2.0, 2.0, 5.0))</td></tr><tr><td>0.0</td><td>List(0, 58, List(3, 39, 46, 53, 54, 55, 56, 57), List(1.0, 1.0, 1.0, 2015.0, 2.0, 4.0, 1.0, 4.0))</td></tr><tr><td>0.0</td><td>List(0, 58, List(9, 46, 53, 54, 55, 56, 57), List(1.0, 1.0, 2015.0, 2.0, 1.0, 7.0, 3.0))</td></tr><tr><td>1.0</td><td>List(0, 58, List(3, 39, 48, 53, 54, 55, 56, 57), List(1.0, 1.0, 1.0, 2015.0, 2.0, 4.0, 2.0, 4.0))</td></tr><tr><td>0.0</td><td>List(0, 58, List(3, 39, 49, 53, 54, 55, 56, 57), List(1.0, 1.0, 1.0, 2015.0, 2.0, 4.0, 2.0, 4.0))</td></tr><tr><td>0.0</td><td>List(0, 58, List(7, 41, 46, 53, 54, 55, 56, 57), List(1.0, 1.0, 1.0, 2015.0, 2.0, 3.0, 21.0, 4.0))</td></tr><tr><td>0.0</td><td>List(0, 58, List(10, 41, 44, 53, 54, 55, 56, 57), List(1.0, 1.0, 1.0, 2015.0, 2.0, 3.0, 9.0, 3.0))</td></tr><tr><td>0.0</td><td>List(0, 58, List(2, 38, 44, 53, 54, 55, 56, 57), List(1.0, 1.0, 1.0, 2015.0, 1.0, 30.0, 2.0, 1.0))</td></tr><tr><td>0.0</td><td>List(0, 58, List(0, 41, 49, 53, 54, 55, 56, 57), List(1.0, 1.0, 1.0, 2015.0, 2.0, 3.0, 19.0, 3.0))</td></tr><tr><td>0.0</td><td>List(0, 58, List(0, 42, 46, 53, 54, 55, 56, 57), List(1.0, 1.0, 1.0, 2015.0, 1.0, 29.0, 20.0, 3.0))</td></tr><tr><td>0.0</td><td>List(0, 58, List(9, 41, 46, 53, 54, 55, 56, 57), List(1.0, 1.0, 1.0, 2015.0, 2.0, 3.0, 19.0, 3.0))</td></tr><tr><td>0.0</td><td>List(0, 58, List(3, 39, 45, 53, 54, 55, 56, 57), List(1.0, 1.0, 1.0, 2015.0, 2.0, 4.0, 3.0, 4.0))</td></tr><tr><td>0.0</td><td>List(0, 58, List(1, 39, 45, 53, 54, 55, 56, 57), List(1.0, 1.0, 1.0, 2015.0, 2.0, 4.0, 3.0, 2.0))</td></tr><tr><td>0.0</td><td>List(0, 58, List(0, 39, 45, 53, 54, 55, 56, 57), List(1.0, 1.0, 1.0, 2015.0, 2.0, 4.0, 2.0, 3.0))</td></tr><tr><td>1.0</td><td>List(0, 58, List(6, 39, 52, 53, 54, 55, 56, 57), List(1.0, 1.0, 1.0, 2015.0, 2.0, 4.0, 4.0, 1.0))</td></tr><tr><td>0.0</td><td>List(0, 58, List(7, 40, 46, 53, 54, 55, 56, 57), List(1.0, 1.0, 1.0, 2015.0, 1.0, 31.0, 10.0, 4.0))</td></tr><tr><td>0.0</td><td>List(0, 58, List(5, 39, 45, 53, 54, 55, 56, 57), List(1.0, 1.0, 1.0, 2015.0, 2.0, 4.0, 5.0, 4.0))</td></tr><tr><td>0.0</td><td>List(0, 58, List(2, 38, 53, 54, 55, 56, 57), List(1.0, 1.0, 2014.0, 4.0, 18.0, 16.0, 1.0))</td></tr><tr><td>0.0</td><td>List(0, 58, List(7, 39, 45, 53, 54, 55, 56, 57), List(1.0, 1.0, 1.0, 2015.0, 2.0, 4.0, 5.0, 4.0))</td></tr><tr><td>0.0</td><td>List(0, 58, List(0, 41, 49, 53, 54, 55, 56, 57), List(1.0, 1.0, 1.0, 2015.0, 2.0, 3.0, 15.0, 3.0))</td></tr><tr><td>0.0</td><td>List(0, 58, List(11, 39, 46, 53, 54, 55, 56, 57), List(1.0, 1.0, 1.0, 2015.0, 2.0, 4.0, 6.0, 4.0))</td></tr><tr><td>0.0</td><td>List(0, 58, List(9, 41, 45, 53, 54, 55, 56, 57), List(1.0, 1.0, 1.0, 2015.0, 2.0, 3.0, 19.0, 3.0))</td></tr><tr><td>1.0</td><td>List(0, 58, List(1, 39, 44, 53, 54, 55, 56, 57), List(1.0, 1.0, 1.0, 2015.0, 2.0, 4.0, 7.0, 2.0))</td></tr><tr><td>1.0</td><td>List(0, 58, List(3, 39, 44, 53, 54, 55, 56, 57), List(1.0, 1.0, 1.0, 2015.0, 2.0, 4.0, 7.0, 4.0))</td></tr><tr><td>0.0</td><td>List(0, 58, List(5, 39, 44, 53, 54, 55, 56, 57), List(1.0, 1.0, 1.0, 2015.0, 2.0, 4.0, 6.0, 4.0))</td></tr><tr><td>0.0</td><td>List(0, 58, List(2, 41, 44, 53, 54, 55, 56, 57), List(1.0, 1.0, 1.0, 2015.0, 2.0, 3.0, 9.0, 1.0))</td></tr><tr><td>1.0</td><td>List(0, 58, List(1, 39, 52, 53, 54, 55, 56, 57), List(1.0, 1.0, 1.0, 2015.0, 2.0, 4.0, 7.0, 2.0))</td></tr><tr><td>0.0</td><td>List(0, 58, List(8, 39, 49, 53, 54, 55, 56, 57), List(1.0, 1.0, 1.0, 2015.0, 2.0, 4.0, 7.0, 2.0))</td></tr><tr><td>0.0</td><td>List(0, 58, List(1, 39, 47, 53, 54, 55, 56, 57), List(1.0, 1.0, 1.0, 2015.0, 2.0, 4.0, 5.0, 2.0))</td></tr><tr><td>0.0</td><td>List(0, 58, List(13, 39, 47, 53, 54, 55, 56, 57), List(1.0, 1.0, 1.0, 2015.0, 2.0, 4.0, 5.0, 5.0))</td></tr><tr><td>0.0</td><td>List(0, 58, List(3, 39, 47, 53, 54, 55, 56, 57), List(1.0, 1.0, 1.0, 2015.0, 2.0, 4.0, 5.0, 4.0))</td></tr><tr><td>0.0</td><td>List(0, 58, List(27, 41, 50, 53, 54, 55, 56, 57), List(1.0, 1.0, 1.0, 2015.0, 2.0, 3.0, 18.0, 5.0))</td></tr><tr><td>0.0</td><td>List(0, 58, List(5, 41, 50, 53, 54, 55, 56, 57), List(1.0, 1.0, 1.0, 2015.0, 2.0, 3.0, 18.0, 4.0))</td></tr><tr><td>0.0</td><td>List(0, 58, List(3, 40, 45, 53, 54, 55, 56, 57), List(1.0, 1.0, 1.0, 2014.0, 4.0, 19.0, 18.0, 4.0))</td></tr><tr><td>0.0</td><td>List(0, 58, List(5, 39, 46, 53, 54, 55, 56, 57), List(1.0, 1.0, 1.0, 2015.0, 2.0, 4.0, 3.0, 4.0))</td></tr><tr><td>1.0</td><td>List(0, 58, List(1, 39, 47, 53, 54, 55, 56, 57), List(1.0, 1.0, 1.0, 2015.0, 2.0, 4.0, 7.0, 2.0))</td></tr><tr><td>0.0</td><td>List(0, 58, List(2, 40, 49, 53, 54, 55, 56, 57), List(1.0, 1.0, 1.0, 2015.0, 1.0, 31.0, 5.0, 1.0))</td></tr><tr><td>0.0</td><td>List(0, 58, List(2, 40, 49, 53, 54, 55, 56, 57), List(1.0, 1.0, 1.0, 2015.0, 1.0, 31.0, 5.0, 1.0))</td></tr><tr><td>1.0</td><td>List(0, 58, List(1, 39, 45, 53, 54, 55, 56, 57), List(1.0, 1.0, 1.0, 2015.0, 2.0, 4.0, 7.0, 2.0))</td></tr><tr><td>1.0</td><td>List(0, 58, List(16, 39, 52, 53, 54, 55, 56, 57), List(1.0, 1.0, 1.0, 2015.0, 2.0, 4.0, 8.0, 3.0))</td></tr><tr><td>0.0</td><td>List(0, 58, List(9, 41, 51, 53, 54, 55, 56, 57), List(1.0, 1.0, 1.0, 2015.0, 2.0, 3.0, 20.0, 3.0))</td></tr><tr><td>1.0</td><td>List(0, 58, List(4, 39, 48, 53, 54, 55, 56, 57), List(1.0, 1.0, 1.0, 2015.0, 2.0, 4.0, 8.0, 5.0))</td></tr><tr><td>1.0</td><td>List(0, 58, List(6, 39, 48, 53, 54, 55, 56, 57), List(1.0, 1.0, 1.0, 2015.0, 2.0, 4.0, 8.0, 1.0))</td></tr><tr><td>0.0</td><td>List(0, 58, List(7, 41, 53, 54, 55, 56, 57), List(1.0, 1.0, 2015.0, 2.0, 3.0, 21.0, 4.0))</td></tr><tr><td>0.0</td><td>List(0, 58, List(0, 41, 53, 54, 55, 56, 57), List(1.0, 1.0, 2015.0, 2.0, 3.0, 21.0, 3.0))</td></tr><tr><td>1.0</td><td>List(0, 58, List(1, 39, 46, 53, 54, 55, 56, 57), List(1.0, 1.0, 1.0, 2015.0, 2.0, 4.0, 8.0, 2.0))</td></tr><tr><td>0.0</td><td>List(0, 58, List(5, 39, 49, 53, 54, 55, 56, 57), List(1.0, 1.0, 1.0, 2015.0, 2.0, 4.0, 8.0, 4.0))</td></tr><tr><td>0.0</td><td>List(0, 58, List(2, 39, 49, 53, 54, 55, 56, 57), List(1.0, 1.0, 1.0, 2015.0, 2.0, 4.0, 8.0, 1.0))</td></tr><tr><td>0.0</td><td>List(0, 58, List(9, 41, 50, 53, 54, 55, 56, 57), List(1.0, 1.0, 1.0, 2015.0, 2.0, 3.0, 19.0, 3.0))</td></tr><tr><td>0.0</td><td>List(0, 58, List(2, 40, 52, 53, 54, 55, 56, 57), List(1.0, 1.0, 1.0, 2015.0, 1.0, 31.0, 9.0, 1.0))</td></tr><tr><td>0.0</td><td>List(0, 58, List(7, 43, 44, 53, 54, 55, 56, 57), List(1.0, 1.0, 1.0, 2015.0, 2.0, 2.0, 22.0, 4.0))</td></tr></tbody></table></div>"
      ]
     },
     "metadata": {},
     "output_type": "display_data"
    }
   ],
   "source": [
    "# Keep relevant columns\n",
    "dataset = preppedDataDF.select([\"label\", \"features\"])\n",
    "display(dataset)"
   ]
  },
  {
   "cell_type": "code",
   "execution_count": 46,
   "metadata": {},
   "outputs": [
    {
     "data": {
      "text/html": [
       "<style scoped>\n",
       "  .ansiout {\n",
       "    display: block;\n",
       "    unicode-bidi: embed;\n",
       "    white-space: pre-wrap;\n",
       "    word-wrap: break-word;\n",
       "    word-break: break-all;\n",
       "    font-family: \"Source Code Pro\", \"Menlo\", monospace;;\n",
       "    font-size: 13px;\n",
       "    color: #555;\n",
       "    margin-left: 4px;\n",
       "    line-height: 19px;\n",
       "  }\n",
       "</style>\n",
       "<div class=\"ansiout\"></div>"
      ]
     },
     "metadata": {},
     "output_type": "display_data"
    }
   ],
   "source": [
    "from pyspark.ml.classification import LogisticRegression\n",
    "\n",
    "# Create initial LogisticRegression model\n",
    "lr = LogisticRegression(labelCol=\"label\", featuresCol=\"features\", maxIter=10)\n",
    "\n",
    "# Train model with Training Data\n",
    "lrModel = lr.fit(dataset)"
   ]
  },
  {
   "cell_type": "code",
   "execution_count": 47,
   "metadata": {},
   "outputs": [
    {
     "data": {
      "text/html": [
       "<style scoped>\n",
       "  .ansiout {\n",
       "    display: block;\n",
       "    unicode-bidi: embed;\n",
       "    white-space: pre-wrap;\n",
       "    word-wrap: break-word;\n",
       "    word-break: break-all;\n",
       "    font-family: \"Source Code Pro\", \"Menlo\", monospace;;\n",
       "    font-size: 13px;\n",
       "    color: #555;\n",
       "    margin-left: 4px;\n",
       "    line-height: 19px;\n",
       "  }\n",
       "</style>\n",
       "<div class=\"ansiout\"><span class=\"ansired\">Out[</span><span class=\"ansired\">54</span><span class=\"ansired\">]: </span>0.8615647639006263\n",
       "</div>"
      ]
     },
     "metadata": {},
     "output_type": "display_data"
    }
   ],
   "source": [
    "from pyspark.ml.evaluation import BinaryClassificationEvaluator\n",
    "\n",
    "predictions = lrModel.transform(dataset)\n",
    "# Evaluate model\n",
    "evaluator = BinaryClassificationEvaluator(rawPredictionCol=\"rawPrediction\")\n",
    "evaluator.evaluate(predictions)"
   ]
  },
  {
   "cell_type": "markdown",
   "metadata": {},
   "source": [
    "# Modeling - run with different variables\n",
    "- Random Forest (refere as rf)\n",
    "- Logistic regression (refer as lr)\n",
    "- Gradient boosting (refer as gb)\n",
    "\n",
    "###### Differentiated by model number\n",
    "\n",
    "Parameters used in model if any:\n",
    "1. (RF) number of trees (10, 20, 30, 50, 80, 100)\n",
    "2. (RF) cachenodeID\n",
    "3. (GB, RF) seed = 0 for same result\n",
    "4. (GB, LR) maxIter=10\n",
    "5. (LR) regParam, elasticNetParam"
   ]
  },
  {
   "cell_type": "code",
   "execution_count": null,
   "metadata": {},
   "outputs": [],
   "source": [
    "# category + location + year + month + hour + level = all\n",
    "# StringIndexer transformer operates only on a single column at the time so you'll need a single indexer and a single encoder for each column you want to transform.\n",
    "rf_m1 = Pipeline(stages=[\n",
    "                 feature.StringIndexer(inputCol=\"DayOfWeek\", outputCol=\"day_wk_ind\"),\n",
    "                 feature.StringIndexer(inputCol=\"PdDistrict\",outputCol=\"dist_ind\"),\n",
    "                 feature.StringIndexer(inputCol=\"Category\",outputCol=\"cat_ind\"),\n",
    "                 #feature.StringIndexer(inputCol=\"Year\",outputCol=\"yr_ind\"),\n",
    "                 feature.StringIndexer(inputCol=\"Month\",outputCol=\"mon_ind\"),\n",
    "                 #feature.StringIndexer(inputCol=\"Level\",outputCol=\"le_ind\"),\n",
    "                 feature.OneHotEncoderEstimator(inputCols=['day_wk_ind','dist_ind','cat_ind','mon_ind'],\n",
    "                                                           outputCols=['day_wk_hot','dist_hot','cat_hot','mon_hot']),\n",
    "                 #feature.StringIndexer(inputCol=\"Res_num\", outputCol=\"label\"),\n",
    "                 feature.VectorAssembler(inputCols=['Near noon','Afternoon','evening','Night','day_wk_hot','dist_hot','cat_hot','mon_hot'], outputCol='features'),\n",
    "                 classification.RandomForestClassifier(labelCol='Res_num', featuresCol='features', seed = 0,\n",
    "                            numTrees=10, cacheNodeIds = True)])\n",
    "rf_m1_fit = rf_m1.fit(training_df)"
   ]
  },
  {
   "cell_type": "code",
   "execution_count": null,
   "metadata": {},
   "outputs": [],
   "source": [
    "rf_m1_fitted_trans = rf_m1_fit.transform(validation_df)\n",
    "evaluator = evaluation.BinaryClassificationEvaluator(labelCol='Res_num')\n",
    "AUC1 = evaluator.evaluate(rf_m1_fitted_trans)\n",
    "#regParam=0, elasticNetParam=0\n",
    "AUC1"
   ]
  },
  {
   "cell_type": "markdown",
   "metadata": {},
   "source": [
    "#### Checking naive bayes result, but did not use eventually"
   ]
  },
  {
   "cell_type": "code",
   "execution_count": 50,
   "metadata": {},
   "outputs": [
    {
     "data": {
      "text/html": [
       "<style scoped>\n",
       "  .ansiout {\n",
       "    display: block;\n",
       "    unicode-bidi: embed;\n",
       "    white-space: pre-wrap;\n",
       "    word-wrap: break-word;\n",
       "    word-break: break-all;\n",
       "    font-family: \"Source Code Pro\", \"Menlo\", monospace;;\n",
       "    font-size: 13px;\n",
       "    color: #555;\n",
       "    margin-left: 4px;\n",
       "    line-height: 19px;\n",
       "  }\n",
       "</style>\n",
       "<div class=\"ansiout\"></div>"
      ]
     },
     "metadata": {},
     "output_type": "display_data"
    }
   ],
   "source": [
    "# category + day + location + year + month + hour + level = all\n",
    "# StringIndexer transformer operates only on a single column at the time so you'll need a single indexer and a single encoder for each column you want to transform.\n",
    "nb_m1 = Pipeline(stages=[\n",
    "                 feature.StringIndexer(inputCol=\"DayOfWeek\", outputCol=\"day_wk_ind\"),\n",
    "                 feature.StringIndexer(inputCol=\"PdDistrict\",outputCol=\"dist_ind\"),\n",
    "                 feature.StringIndexer(inputCol=\"Category\",outputCol=\"cat_ind\"),\n",
    "                 feature.OneHotEncoderEstimator(inputCols=['day_wk_ind','dist_ind','cat_ind'],\n",
    "                                                           outputCols=['day_wk_hot','dist_hot','cat_hot']),\n",
    "                 feature.StringIndexer(inputCol=\"Res_num\", outputCol=\"label\"),\n",
    "                 feature.VectorAssembler(inputCols=['Year','Month','Day','Hour','Level', 'day_wk_hot','dist_hot','cat_hot'], outputCol='features'),\n",
    "                 classification.NaiveBayes(smoothing=1.0, modelType=\"multinomial\")])\n",
    "nb_m1_fit = nb_m1.fit(training_df)\n",
    "nb_m1_fitted_trans = nb_m1_fit.transform(validation_df)\n"
   ]
  },
  {
   "cell_type": "code",
   "execution_count": 51,
   "metadata": {},
   "outputs": [
    {
     "data": {
      "text/html": [
       "<style scoped>\n",
       "  .ansiout {\n",
       "    display: block;\n",
       "    unicode-bidi: embed;\n",
       "    white-space: pre-wrap;\n",
       "    word-wrap: break-word;\n",
       "    word-break: break-all;\n",
       "    font-family: \"Source Code Pro\", \"Menlo\", monospace;;\n",
       "    font-size: 13px;\n",
       "    color: #555;\n",
       "    margin-left: 4px;\n",
       "    line-height: 19px;\n",
       "  }\n",
       "</style>\n",
       "<div class=\"ansiout\"><span class=\"ansired\">Out[</span><span class=\"ansired\">34</span><span class=\"ansired\">]: </span>0.8020767764722339\n",
       "</div>"
      ]
     },
     "metadata": {},
     "output_type": "display_data"
    }
   ],
   "source": [
    "from pyspark.ml.evaluation import MulticlassClassificationEvaluator\n",
    "\n",
    "nb_m1_fitted_trans = nb_m1_fit.transform(validation_df)\n",
    "evaluator = MulticlassClassificationEvaluator(labelCol=\"label\", predictionCol=\"prediction\",\n",
    "                                              metricName=\"accuracy\")\n",
    "accuracy = evaluator.evaluate(nb_m1_fitted_trans)\n",
    "accuracy"
   ]
  },
  {
   "cell_type": "code",
   "execution_count": 52,
   "metadata": {},
   "outputs": [
    {
     "data": {
      "text/html": [
       "<style scoped>\n",
       "  .ansiout {\n",
       "    display: block;\n",
       "    unicode-bidi: embed;\n",
       "    white-space: pre-wrap;\n",
       "    word-wrap: break-word;\n",
       "    word-break: break-all;\n",
       "    font-family: \"Source Code Pro\", \"Menlo\", monospace;;\n",
       "    font-size: 13px;\n",
       "    color: #555;\n",
       "    margin-left: 4px;\n",
       "    line-height: 19px;\n",
       "  }\n",
       "</style>\n",
       "<div class=\"ansiout\">+-----+----------+\n",
       "label|prediction|\n",
       "+-----+----------+\n",
       "  0.0|       0.0|\n",
       "  0.0|       1.0|\n",
       "  0.0|       1.0|\n",
       "  0.0|       1.0|\n",
       "  0.0|       0.0|\n",
       "  0.0|       0.0|\n",
       "  0.0|       0.0|\n",
       "  0.0|       0.0|\n",
       "  0.0|       0.0|\n",
       "  0.0|       0.0|\n",
       "  1.0|       0.0|\n",
       "  1.0|       1.0|\n",
       "  1.0|       1.0|\n",
       "  1.0|       1.0|\n",
       "  0.0|       0.0|\n",
       "  0.0|       0.0|\n",
       "  0.0|       0.0|\n",
       "  1.0|       1.0|\n",
       "  0.0|       0.0|\n",
       "  1.0|       1.0|\n",
       "  1.0|       0.0|\n",
       "  1.0|       0.0|\n",
       "  0.0|       0.0|\n",
       "  1.0|       0.0|\n",
       "  1.0|       0.0|\n",
       "  1.0|       1.0|\n",
       "  1.0|       1.0|\n",
       "  1.0|       1.0|\n",
       "  0.0|       0.0|\n",
       "  1.0|       1.0|\n",
       "+-----+----------+\n",
       "only showing top 30 rows\n",
       "\n",
       "</div>"
      ]
     },
     "metadata": {},
     "output_type": "display_data"
    }
   ],
   "source": [
    "#nb_m1_fitted_trans.show(5)\n",
    "nb_m1_fitted_trans.select('label', 'prediction').show(30)"
   ]
  },
  {
   "cell_type": "code",
   "execution_count": 53,
   "metadata": {},
   "outputs": [
    {
     "data": {
      "text/html": [
       "<style scoped>\n",
       "  .ansiout {\n",
       "    display: block;\n",
       "    unicode-bidi: embed;\n",
       "    white-space: pre-wrap;\n",
       "    word-wrap: break-word;\n",
       "    word-break: break-all;\n",
       "    font-family: \"Source Code Pro\", \"Menlo\", monospace;;\n",
       "    font-size: 13px;\n",
       "    color: #555;\n",
       "    margin-left: 4px;\n",
       "    line-height: 19px;\n",
       "  }\n",
       "</style>\n",
       "<div class=\"ansiout\">+------------+---------+----------+----+-----+----+----------+-------+---------+---------+-------+-----+-----+-----+------+-------+------------+\n",
       "    Category|DayOfWeek|PdDistrict|Year|Month|Hour|Resolution|Res_num|Near noon|Afternoon|evening|Night|Level|Minor|Medium|Servere|Very Servere|\n",
       "+------------+---------+----------+----+-----+----+----------+-------+---------+---------+-------+-----+-----+-----+------+-------+------------+\n",
       "NON-CRIMINAL|   Monday|   MISSION|2015|    1|  14|      NONE|      0|        0|        1|      0|    0|    1|    0|     0|      0|           0|\n",
       "     ROBBERY|   Sunday|TENDERLOIN|2015|    2|  15|      NONE|      0|        0|        1|      0|    0|    4|    0|     0|      1|           0|\n",
       "     ASSAULT|   Sunday|TENDERLOIN|2015|    2|  15|      NONE|      0|        0|        1|      0|    0|    4|    0|     0|      1|           0|\n",
       "+------------+---------+----------+----+-----+----+----------+-------+---------+---------+-------+-----+-----+-----+------+-------+------------+\n",
       "only showing top 3 rows\n",
       "\n",
       "</div>"
      ]
     },
     "metadata": {},
     "output_type": "display_data"
    }
   ],
   "source": [
    "validation_df.show(3)"
   ]
  },
  {
   "cell_type": "code",
   "execution_count": 54,
   "metadata": {},
   "outputs": [
    {
     "data": {
      "text/html": [
       "<style scoped>\n",
       "  .ansiout {\n",
       "    display: block;\n",
       "    unicode-bidi: embed;\n",
       "    white-space: pre-wrap;\n",
       "    word-wrap: break-word;\n",
       "    word-break: break-all;\n",
       "    font-family: \"Source Code Pro\", \"Menlo\", monospace;;\n",
       "    font-size: 13px;\n",
       "    color: #555;\n",
       "    margin-left: 4px;\n",
       "    line-height: 19px;\n",
       "  }\n",
       "</style>\n",
       "<div class=\"ansiout\">Lr M1= 0.8597775900031017\n",
       "</div>"
      ]
     },
     "metadata": {},
     "output_type": "display_data"
    }
   ],
   "source": [
    "# all # morning as reference\n",
    "lr_m1 = Pipeline(stages=[\n",
    "                 feature.StringIndexer(inputCol=\"DayOfWeek\", outputCol=\"day_wk_ind\"),\n",
    "                 feature.StringIndexer(inputCol=\"PdDistrict\",outputCol=\"dist_ind\"),\n",
    "                 feature.StringIndexer(inputCol=\"Category\",outputCol=\"cat_ind\"),\n",
    "                 #feature.StringIndexer(inputCol=\"Year\",outputCol=\"yr_ind\"),\n",
    "                 feature.StringIndexer(inputCol=\"Month\",outputCol=\"mon_ind\"),\n",
    "                 #feature.StringIndexer(inputCol=\"Level\",outputCol=\"le_ind\"),\n",
    "                 feature.OneHotEncoderEstimator(inputCols=['day_wk_ind','dist_ind','cat_ind','mon_ind'],\n",
    "                                                           outputCols=['day_wk_hot','dist_hot','cat_hot','mon_hot']),\n",
    "                 feature.StringIndexer(inputCol=\"Res_num\", outputCol=\"label\"),\n",
    "                 feature.VectorAssembler(inputCols=['Near noon','Afternoon','evening','Night','day_wk_hot','dist_hot', 'cat_hot','mon_hot'], outputCol='features'),\n",
    "                 classification.LogisticRegression(labelCol='label', featuresCol='features', maxIter=10)])\n",
    "lr_m1_fit = lr_m1.fit(training_df)\n",
    "lr_m1_fitted_trans = lr_m1_fit.transform(validation_df)\n",
    "evaluator = evaluation.BinaryClassificationEvaluator(labelCol='label')\n",
    "lr_AUC1 = evaluator.evaluate(lr_m1_fitted_trans)\n",
    "#regParam=0, elasticNetParam=0\n",
    "print('Lr M1=',lr_AUC1)"
   ]
  },
  {
   "cell_type": "code",
   "execution_count": 55,
   "metadata": {},
   "outputs": [
    {
     "data": {
      "text/html": [
       "<style scoped>\n",
       "  .ansiout {\n",
       "    display: block;\n",
       "    unicode-bidi: embed;\n",
       "    white-space: pre-wrap;\n",
       "    word-wrap: break-word;\n",
       "    word-break: break-all;\n",
       "    font-family: \"Source Code Pro\", \"Menlo\", monospace;;\n",
       "    font-size: 13px;\n",
       "    color: #555;\n",
       "    margin-left: 4px;\n",
       "    line-height: 19px;\n",
       "  }\n",
       "</style>\n",
       "<div class=\"ansiout\">gb M1= 0.8539556146959242\n",
       "</div>"
      ]
     },
     "metadata": {},
     "output_type": "display_data"
    }
   ],
   "source": [
    "# all # morning as reference\n",
    "gb_m1 = Pipeline(stages=[\n",
    "                 feature.StringIndexer(inputCol=\"DayOfWeek\", outputCol=\"day_wk_ind\"),\n",
    "                 feature.StringIndexer(inputCol=\"PdDistrict\",outputCol=\"dist_ind\"),\n",
    "                 feature.StringIndexer(inputCol=\"Category\",outputCol=\"cat_ind\"),\n",
    "                 #feature.StringIndexer(inputCol=\"Year\",outputCol=\"yr_ind\"),\n",
    "                 feature.StringIndexer(inputCol=\"Month\",outputCol=\"mon_ind\"),\n",
    "                 #feature.StringIndexer(inputCol=\"Level\",outputCol=\"le_ind\"),\n",
    "                 feature.OneHotEncoderEstimator(inputCols=['day_wk_ind','dist_ind','cat_ind','mon_ind'],\n",
    "                                                           outputCols=['day_wk_hot','dist_hot','cat_hot','mon_hot']),\n",
    "                 feature.StringIndexer(inputCol=\"Res_num\", outputCol=\"label\"),\n",
    "                 feature.VectorAssembler(inputCols=['Near noon','Afternoon','evening','Night','day_wk_hot','dist_hot', 'cat_hot','mon_hot'], outputCol='features'),\n",
    "                 classification.GBTClassifier(labelCol='label', featuresCol='features', maxIter=10)])\n",
    "gb_m1_fit = gb_m1.fit(training_df)\n",
    "gb_m1_fitted_trans = gb_m1_fit.transform(validation_df)\n",
    "evaluator = evaluation.BinaryClassificationEvaluator(labelCol='label')\n",
    "gb_AUC1 = evaluator.evaluate(gb_m1_fitted_trans)\n",
    "#regParam=0, elasticNetParam=0\n",
    "print('gb M1=',gb_AUC1)"
   ]
  },
  {
   "cell_type": "code",
   "execution_count": 56,
   "metadata": {},
   "outputs": [
    {
     "data": {
      "text/html": [
       "<style scoped>\n",
       "  .ansiout {\n",
       "    display: block;\n",
       "    unicode-bidi: embed;\n",
       "    white-space: pre-wrap;\n",
       "    word-wrap: break-word;\n",
       "    word-break: break-all;\n",
       "    font-family: \"Source Code Pro\", \"Menlo\", monospace;;\n",
       "    font-size: 13px;\n",
       "    color: #555;\n",
       "    margin-left: 4px;\n",
       "    line-height: 19px;\n",
       "  }\n",
       "</style>\n",
       "<div class=\"ansiout\">Lr M2= 0.8597775900031009\n",
       "</div>"
      ]
     },
     "metadata": {},
     "output_type": "display_data"
    }
   ],
   "source": [
    "# All variables (yr, mon, day, hr, dayofweek, district) - including only categories, no levels\n",
    "lr_m2 = Pipeline(stages=[\n",
    "                 feature.StringIndexer(inputCol=\"DayOfWeek\", outputCol=\"day_wk_ind\"),\n",
    "                 feature.StringIndexer(inputCol=\"PdDistrict\",outputCol=\"dist_ind\"),\n",
    "                 feature.StringIndexer(inputCol=\"Category\",outputCol=\"cat_ind\"),\n",
    "                 #feature.StringIndexer(inputCol=\"Year\",outputCol=\"yr_ind\"),\n",
    "                 feature.StringIndexer(inputCol=\"Month\",outputCol=\"mon_ind\"),\n",
    "                 #feature.StringIndexer(inputCol=\"Level\",outputCol=\"le_ind\"),\n",
    "                 feature.OneHotEncoderEstimator(inputCols=['day_wk_ind','dist_ind','cat_ind','mon_ind'],\n",
    "                                                           outputCols=['day_wk_hot','dist_hot','cat_hot','mon_hot']),\n",
    "                 feature.StringIndexer(inputCol=\"Res_num\", outputCol=\"label\"),\n",
    "                 feature.VectorAssembler(inputCols=['Near noon','Afternoon','evening','Night','day_wk_hot','dist_hot','cat_hot','mon_hot'], outputCol='features'),\n",
    "                 classification.LogisticRegression(labelCol='label', featuresCol='features', maxIter=10)])\n",
    "lr_m2_fit = lr_m2.fit(training_df)\n",
    "lr_m2_fitted_trans = lr_m2_fit.transform(validation_df)\n",
    "evaluator = evaluation.BinaryClassificationEvaluator(labelCol='label')\n",
    "lr_AUC2 = evaluator.evaluate(lr_m2_fitted_trans)\n",
    "#regParam=0, elasticNetParam=0\n",
    "print('Lr M2=',lr_AUC2)"
   ]
  },
  {
   "cell_type": "markdown",
   "metadata": {},
   "source": [
    "## Live demo on poster day - input data and evaluate result"
   ]
  },
  {
   "cell_type": "code",
   "execution_count": 57,
   "metadata": {},
   "outputs": [
    {
     "data": {
      "text/html": [
       "<style scoped>\n",
       "  .ansiout {\n",
       "    display: block;\n",
       "    unicode-bidi: embed;\n",
       "    white-space: pre-wrap;\n",
       "    word-wrap: break-word;\n",
       "    word-break: break-all;\n",
       "    font-family: \"Source Code Pro\", \"Menlo\", monospace;;\n",
       "    font-size: 13px;\n",
       "    color: #555;\n",
       "    margin-left: 4px;\n",
       "    line-height: 19px;\n",
       "  }\n",
       "</style>\n",
       "<div class=\"ansiout\"></div>"
      ]
     },
     "metadata": {},
     "output_type": "display_data"
    }
   ],
   "source": [
    "# create dataframe\n",
    "test_d = [{'Category': 'ROBBERY', 'DayOfWeek': 'Sunday','PdDistrict':'BAYVIEW', 'Year':2018,'Month':3,'Hour':12, 'Near noon':1,\n",
    "          'Afternoon':0,'evening':0,'Night':0}]\n",
    "test_df = spark.createDataFrame(test_d)#.collect()\n"
   ]
  },
  {
   "cell_type": "code",
   "execution_count": 58,
   "metadata": {},
   "outputs": [
    {
     "data": {
      "text/html": [
       "<style scoped>\n",
       "  .ansiout {\n",
       "    display: block;\n",
       "    unicode-bidi: embed;\n",
       "    white-space: pre-wrap;\n",
       "    word-wrap: break-word;\n",
       "    word-break: break-all;\n",
       "    font-family: \"Source Code Pro\", \"Menlo\", monospace;;\n",
       "    font-size: 13px;\n",
       "    color: #555;\n",
       "    margin-left: 4px;\n",
       "    line-height: 19px;\n",
       "  }\n",
       "</style>\n",
       "<div class=\"ansiout\">+---------+--------+---------+----+-----+---------+-----+----------+----+-------+\n",
       "Afternoon|Category|DayOfWeek|Hour|Month|Near noon|Night|PdDistrict|Year|evening|\n",
       "+---------+--------+---------+----+-----+---------+-----+----------+----+-------+\n",
       "        0| ROBBERY|   Sunday|  12|    3|        1|    0|   BAYVIEW|2018|      0|\n",
       "+---------+--------+---------+----+-----+---------+-----+----------+----+-------+\n",
       "\n",
       "</div>"
      ]
     },
     "metadata": {},
     "output_type": "display_data"
    }
   ],
   "source": [
    "test_df.show()"
   ]
  },
  {
   "cell_type": "code",
   "execution_count": 59,
   "metadata": {},
   "outputs": [
    {
     "data": {
      "text/html": [
       "<style scoped>\n",
       "  .ansiout {\n",
       "    display: block;\n",
       "    unicode-bidi: embed;\n",
       "    white-space: pre-wrap;\n",
       "    word-wrap: break-word;\n",
       "    word-break: break-all;\n",
       "    font-family: \"Source Code Pro\", \"Menlo\", monospace;;\n",
       "    font-size: 13px;\n",
       "    color: #555;\n",
       "    margin-left: 4px;\n",
       "    line-height: 19px;\n",
       "  }\n",
       "</style>\n",
       "<div class=\"ansiout\">+----------+--------------------+\n",
       "prediction|         probability|\n",
       "+----------+--------------------+\n",
       "       0.0|[0.80080358281800...|\n",
       "+----------+--------------------+\n",
       "\n",
       "</div>"
      ]
     },
     "metadata": {},
     "output_type": "display_data"
    }
   ],
   "source": [
    "trial_result = lr_m2_fit.transform(test_df)\n",
    "trial_result.select('prediction','probability').show()"
   ]
  },
  {
   "cell_type": "code",
   "execution_count": 60,
   "metadata": {},
   "outputs": [
    {
     "data": {
      "text/html": [
       "<style scoped>\n",
       "  .ansiout {\n",
       "    display: block;\n",
       "    unicode-bidi: embed;\n",
       "    white-space: pre-wrap;\n",
       "    word-wrap: break-word;\n",
       "    word-break: break-all;\n",
       "    font-family: \"Source Code Pro\", \"Menlo\", monospace;;\n",
       "    font-size: 13px;\n",
       "    color: #555;\n",
       "    margin-left: 4px;\n",
       "    line-height: 19px;\n",
       "  }\n",
       "</style>\n",
       "<div class=\"ansiout\">+------------+---------+----------+----+-----+----+----------+-------+---------+---------+-------+-----+\n",
       "    Category|DayOfWeek|PdDistrict|Year|Month|Hour|Resolution|Res_num|Near noon|Afternoon|evening|Night|\n",
       "+------------+---------+----------+----+-----+----+----------+-------+---------+---------+-------+-----+\n",
       "     ASSAULT| Thursday|   TARAVAL|2011|   10|  15|      NONE|      0|        0|        1|      0|    0|\n",
       "NON-CRIMINAL|   Friday|  RICHMOND|2009|   10|  13|      NONE|      0|        0|        1|      0|    0|\n",
       "+------------+---------+----------+----+-----+----+----------+-------+---------+---------+-------+-----+\n",
       "only showing top 2 rows\n",
       "\n",
       "</div>"
      ]
     },
     "metadata": {},
     "output_type": "display_data"
    }
   ],
   "source": [
    "training_df.show(2)"
   ]
  },
  {
   "cell_type": "markdown",
   "metadata": {},
   "source": [
    "# Modeling - run with different variables (differentiated by model#) - continued"
   ]
  },
  {
   "cell_type": "code",
   "execution_count": 61,
   "metadata": {},
   "outputs": [
    {
     "data": {
      "text/html": [
       "<style scoped>\n",
       "  .ansiout {\n",
       "    display: block;\n",
       "    unicode-bidi: embed;\n",
       "    white-space: pre-wrap;\n",
       "    word-wrap: break-word;\n",
       "    word-break: break-all;\n",
       "    font-family: \"Source Code Pro\", \"Menlo\", monospace;;\n",
       "    font-size: 13px;\n",
       "    color: #555;\n",
       "    margin-left: 4px;\n",
       "    line-height: 19px;\n",
       "  }\n",
       "</style>\n",
       "<div class=\"ansiout\">gb M2= 0.8539556146959242\n",
       "</div>"
      ]
     },
     "metadata": {},
     "output_type": "display_data"
    }
   ],
   "source": [
    "# All variables (yr, mon, day, hr, dayofweek, district) - including only categories, no levels\n",
    "gb_m2 = Pipeline(stages=[\n",
    "                 feature.StringIndexer(inputCol=\"DayOfWeek\", outputCol=\"day_wk_ind\"),\n",
    "                 feature.StringIndexer(inputCol=\"PdDistrict\",outputCol=\"dist_ind\"),\n",
    "                 feature.StringIndexer(inputCol=\"Category\",outputCol=\"cat_ind\"),\n",
    "                 #feature.StringIndexer(inputCol=\"Year\",outputCol=\"yr_ind\"),\n",
    "                 feature.StringIndexer(inputCol=\"Month\",outputCol=\"mon_ind\"),\n",
    "                 #feature.StringIndexer(inputCol=\"Level\",outputCol=\"le_ind\"),\n",
    "                 feature.OneHotEncoderEstimator(inputCols=['day_wk_ind','dist_ind','cat_ind','mon_ind'],\n",
    "                                                           outputCols=['day_wk_hot','dist_hot','cat_hot','mon_hot']),\n",
    "                 feature.StringIndexer(inputCol=\"Res_num\", outputCol=\"label\"),\n",
    "                 feature.VectorAssembler(inputCols=['Near noon','Afternoon','evening','Night','day_wk_hot','dist_hot','cat_hot','mon_hot'], outputCol='features'),\n",
    "                 classification.GBTClassifier(labelCol='label', featuresCol='features', maxIter=10)])\n",
    "gb_m2_fit = gb_m2.fit(training_df)\n",
    "gb_m2_fitted_trans = gb_m2_fit.transform(validation_df)\n",
    "evaluator = evaluation.BinaryClassificationEvaluator(labelCol='label')\n",
    "gb_AUC2 = evaluator.evaluate(gb_m2_fitted_trans)\n",
    "#regParam=0, elasticNetParam=0\n",
    "print('gb M2=',gb_AUC2)"
   ]
  },
  {
   "cell_type": "code",
   "execution_count": 62,
   "metadata": {},
   "outputs": [
    {
     "data": {
      "text/html": [
       "<style scoped>\n",
       "  .ansiout {\n",
       "    display: block;\n",
       "    unicode-bidi: embed;\n",
       "    white-space: pre-wrap;\n",
       "    word-wrap: break-word;\n",
       "    word-break: break-all;\n",
       "    font-family: \"Source Code Pro\", \"Menlo\", monospace;;\n",
       "    font-size: 13px;\n",
       "    color: #555;\n",
       "    margin-left: 4px;\n",
       "    line-height: 19px;\n",
       "  }\n",
       "</style>\n",
       "<div class=\"ansiout\">rf_Model2 =  0.837619003396723\n",
       "</div>"
      ]
     },
     "metadata": {},
     "output_type": "display_data"
    }
   ],
   "source": [
    "# category + day + location + year + month + hour + level, instead of level + cat, only use cat = all\n",
    "# StringIndexer transformer operates only on a single column at the time so you'll need a single indexer and a single encoder for each column you want to transform.\n",
    "rf_m2 = Pipeline(stages=[\n",
    "                 feature.StringIndexer(inputCol=\"DayOfWeek\", outputCol=\"day_wk_ind\"),\n",
    "                 feature.StringIndexer(inputCol=\"PdDistrict\",outputCol=\"dist_ind\"),\n",
    "                 feature.StringIndexer(inputCol=\"Category\",outputCol=\"cat_ind\"),\n",
    "                 feature.StringIndexer(inputCol=\"Month\",outputCol=\"mon_ind\"),\n",
    "                 feature.OneHotEncoderEstimator(inputCols=['day_wk_ind','dist_ind','cat_ind','mon_ind'],\n",
    "                                                          outputCols=['day_wk_hot','dist_hot','cat_hot','mon_hot']),\n",
    "                 feature.StringIndexer(inputCol=\"Res_num\", outputCol=\"label\"),\n",
    "                 feature.VectorAssembler(inputCols=['Near noon','Afternoon','evening','Night','day_wk_hot','dist_hot','cat_hot','mon_hot'],\n",
    "                                        outputCol='features'),\n",
    "                 classification.RandomForestClassifier(labelCol='label', featuresCol='features', seed = 0,\n",
    "                            numTrees=10, cacheNodeIds = True)])\n",
    "rf_m2_fit = rf_m2.fit(training_df)\n",
    "rf_m2_fitted_trans = rf_m2_fit.transform(validation_df)\n",
    "evaluator = evaluation.BinaryClassificationEvaluator(labelCol='label')\n",
    "AUC2 = evaluator.evaluate(rf_m2_fitted_trans)\n",
    "#regParam=0, elasticNetParam=0\n",
    "print('rf_Model2 = ',AUC2)"
   ]
  },
  {
   "cell_type": "code",
   "execution_count": 63,
   "metadata": {},
   "outputs": [
    {
     "data": {
      "text/html": [
       "<style scoped>\n",
       "  .ansiout {\n",
       "    display: block;\n",
       "    unicode-bidi: embed;\n",
       "    white-space: pre-wrap;\n",
       "    word-wrap: break-word;\n",
       "    word-break: break-all;\n",
       "    font-family: \"Source Code Pro\", \"Menlo\", monospace;;\n",
       "    font-size: 13px;\n",
       "    color: #555;\n",
       "    margin-left: 4px;\n",
       "    line-height: 19px;\n",
       "  }\n",
       "</style>\n",
       "<div class=\"ansiout\">gb_Model4 =  0.8539556146959242\n",
       "</div>"
      ]
     },
     "metadata": {},
     "output_type": "display_data"
    }
   ],
   "source": [
    "# both level + cat, but removed day\n",
    "# only consider year, month, time (hour), day\n",
    "# StringIndexer transformer operates only on a single column at the time so you'll need a single indexer and a single encoder for each column you want to transform.\n",
    "gb_m4 = Pipeline(stages=[\n",
    "                 feature.StringIndexer(inputCol=\"DayOfWeek\", outputCol=\"day_wk_ind\"),\n",
    "                 feature.StringIndexer(inputCol=\"PdDistrict\",outputCol=\"dist_ind\"),\n",
    "                 feature.StringIndexer(inputCol=\"Category\",outputCol=\"cat_ind\"),\n",
    "                 feature.StringIndexer(inputCol=\"Month\",outputCol=\"mon_ind\"),\n",
    "         feature.OneHotEncoderEstimator(inputCols=['day_wk_ind','dist_ind','cat_ind','mon_ind'],\n",
    "                                                           outputCols=['day_wk_hot','dist_hot','cat_hot','mon_hot']),\n",
    "         feature.StringIndexer(inputCol=\"Res_num\", outputCol=\"label\"),\n",
    "         feature.VectorAssembler(inputCols=['Near noon','Afternoon','evening','Night','day_wk_hot','dist_hot', 'cat_hot','mon_hot'],\n",
    "                                        outputCol='features'),\n",
    "         classification.GBTClassifier(labelCol='label', featuresCol='features',maxIter=10)])\n",
    "gb_m4_fit = gb_m4.fit(training_df)\n",
    "gb_m4_fitted_trans = gb_m4_fit.transform(validation_df)\n",
    "evaluator = evaluation.BinaryClassificationEvaluator(labelCol='label')\n",
    "gb_AUC4 = evaluator.evaluate(gb_m4_fitted_trans)\n",
    "print('gb_Model4 = ',gb_AUC4)"
   ]
  },
  {
   "cell_type": "code",
   "execution_count": 64,
   "metadata": {},
   "outputs": [
    {
     "data": {
      "text/html": [
       "<style scoped>\n",
       "  .ansiout {\n",
       "    display: block;\n",
       "    unicode-bidi: embed;\n",
       "    white-space: pre-wrap;\n",
       "    word-wrap: break-word;\n",
       "    word-break: break-all;\n",
       "    font-family: \"Source Code Pro\", \"Menlo\", monospace;;\n",
       "    font-size: 13px;\n",
       "    color: #555;\n",
       "    margin-left: 4px;\n",
       "    line-height: 19px;\n",
       "  }\n",
       "</style>\n",
       "<div class=\"ansiout\">Model4 =  0.837619003396723\n",
       "</div>"
      ]
     },
     "metadata": {},
     "output_type": "display_data"
    }
   ],
   "source": [
    "# both level + cat, but removed day\n",
    "# only consider year, month, time (hour), day\n",
    "# StringIndexer transformer operates only on a single column at the time so you'll need a single indexer and a single encoder for each column you want to transform.\n",
    "rf_m4 = Pipeline(stages=[\n",
    "                 feature.StringIndexer(inputCol=\"DayOfWeek\", outputCol=\"day_wk_ind\"),\n",
    "                 feature.StringIndexer(inputCol=\"PdDistrict\",outputCol=\"dist_ind\"),\n",
    "                 feature.StringIndexer(inputCol=\"Category\",outputCol=\"cat_ind\"),\n",
    "                 feature.StringIndexer(inputCol=\"Month\",outputCol=\"mon_ind\"),\n",
    "                 feature.OneHotEncoderEstimator(inputCols=['day_wk_ind','dist_ind','cat_ind','mon_ind'],\n",
    "                                                           outputCols=['day_wk_hot','dist_hot','cat_hot','mon_hot']),\n",
    "                 feature.StringIndexer(inputCol=\"Res_num\", outputCol=\"label\"),\n",
    "                 feature.VectorAssembler(inputCols=['Near noon','Afternoon','evening','Night','day_wk_hot','dist_hot', 'cat_hot','mon_hot'],\n",
    "                                        outputCol='features'),\n",
    "                 classification.RandomForestClassifier(labelCol='label', featuresCol='features',seed = 0, numTrees=10, cacheNodeIds = True)])\n",
    "rf_m4_fit = rf_m4.fit(training_df)\n",
    "rf_m4_fitted_trans = rf_m4_fit.transform(validation_df)\n",
    "evaluator = evaluation.BinaryClassificationEvaluator(labelCol='label')\n",
    "AUC4 = evaluator.evaluate(rf_m4_fitted_trans)\n",
    "print('Model4 = ',AUC4)"
   ]
  },
  {
   "cell_type": "code",
   "execution_count": 65,
   "metadata": {},
   "outputs": [
    {
     "data": {
      "text/html": [
       "<style scoped>\n",
       "  .ansiout {\n",
       "    display: block;\n",
       "    unicode-bidi: embed;\n",
       "    white-space: pre-wrap;\n",
       "    word-wrap: break-word;\n",
       "    word-break: break-all;\n",
       "    font-family: \"Source Code Pro\", \"Menlo\", monospace;;\n",
       "    font-size: 13px;\n",
       "    color: #555;\n",
       "    margin-left: 4px;\n",
       "    line-height: 19px;\n",
       "  }\n",
       "</style>\n",
       "<div class=\"ansiout\">lr_Model4 =  0.8597775900031016\n",
       "</div>"
      ]
     },
     "metadata": {},
     "output_type": "display_data"
    }
   ],
   "source": [
    "# both level + cat, but removed day\n",
    "# only consider year, month, time (hour), day\n",
    "# StringIndexer transformer operates only on a single column at the time so you'll need a single indexer and a single encoder for each column you want to transform.\n",
    "lr_m4 = Pipeline(stages=[\n",
    "                 feature.StringIndexer(inputCol=\"DayOfWeek\", outputCol=\"day_wk_ind\"),\n",
    "                 feature.StringIndexer(inputCol=\"PdDistrict\",outputCol=\"dist_ind\"),\n",
    "                 feature.StringIndexer(inputCol=\"Category\",outputCol=\"cat_ind\"),\n",
    "                 feature.StringIndexer(inputCol=\"Month\",outputCol=\"mon_ind\"),\n",
    "         feature.OneHotEncoderEstimator(inputCols=['day_wk_ind','dist_ind','cat_ind','mon_ind'],\n",
    "                                                           outputCols=['day_wk_hot','dist_hot','cat_hot','mon_hot']),\n",
    "         feature.StringIndexer(inputCol=\"Res_num\", outputCol=\"label\"),\n",
    "         feature.VectorAssembler(inputCols=['Near noon','Afternoon','evening','Night','day_wk_hot','dist_hot', 'cat_hot','mon_hot'],\n",
    "                                        outputCol='features'),\n",
    "         classification.LogisticRegression(labelCol='label', featuresCol='features',maxIter=10)])\n",
    "lr_m4_fit = lr_m4.fit(training_df)\n",
    "lr_m4_fitted_trans = lr_m4_fit.transform(validation_df)\n",
    "evaluator = evaluation.BinaryClassificationEvaluator(labelCol='label')\n",
    "lr_AUC4 = evaluator.evaluate(lr_m4_fitted_trans)\n",
    "print('lr_Model4 = ',lr_AUC4)"
   ]
  },
  {
   "cell_type": "code",
   "execution_count": 66,
   "metadata": {},
   "outputs": [
    {
     "data": {
      "text/html": [
       "<style scoped>\n",
       "  .ansiout {\n",
       "    display: block;\n",
       "    unicode-bidi: embed;\n",
       "    white-space: pre-wrap;\n",
       "    word-wrap: break-word;\n",
       "    word-break: break-all;\n",
       "    font-family: \"Source Code Pro\", \"Menlo\", monospace;;\n",
       "    font-size: 13px;\n",
       "    color: #555;\n",
       "    margin-left: 4px;\n",
       "    line-height: 19px;\n",
       "  }\n",
       "</style>\n",
       "<div class=\"ansiout\">Model5 =  0.8348589354435385\n",
       "</div>"
      ]
     },
     "metadata": {},
     "output_type": "display_data"
    }
   ],
   "source": [
    "# only category\n",
    "# StringIndexer transformer operates only on a single column at the time so you'll need a single indexer and a single encoder for each column you want to transform.\n",
    "rf_m5 = Pipeline(stages=[\n",
    "                 #feature.StringIndexer(inputCol=\"DayOfWeek\", outputCol=\"day_wk_ind\"),\n",
    "                 #feature.StringIndexer(inputCol=\"PdDistrict\",outputCol=\"dist_ind\"),\n",
    "                 feature.StringIndexer(inputCol=\"Category\",outputCol=\"cat_ind\"),\n",
    "                 feature.OneHotEncoderEstimator(inputCols=['cat_ind'], outputCols=['cat_hot']),\n",
    "                 feature.StringIndexer(inputCol=\"Res_num\", outputCol=\"label\"),\n",
    "                 feature.VectorAssembler(inputCols=['cat_hot'], outputCol='features'),\n",
    "                 classification.RandomForestClassifier(labelCol='label', featuresCol='features', seed = 0,\n",
    "                            numTrees=10, cacheNodeIds = True)])\n",
    "rf_m5_fit = rf_m5.fit(training_df)\n",
    "rf_m5_fitted_trans = rf_m5_fit.transform(validation_df)\n",
    "evaluator = evaluation.BinaryClassificationEvaluator(labelCol='Res_num')\n",
    "AUC5 = evaluator.evaluate(rf_m5_fitted_trans)\n",
    "print('Model5 = ',AUC5)"
   ]
  },
  {
   "cell_type": "code",
   "execution_count": 67,
   "metadata": {},
   "outputs": [
    {
     "data": {
      "text/html": [
       "<style scoped>\n",
       "  .ansiout {\n",
       "    display: block;\n",
       "    unicode-bidi: embed;\n",
       "    white-space: pre-wrap;\n",
       "    word-wrap: break-word;\n",
       "    word-break: break-all;\n",
       "    font-family: \"Source Code Pro\", \"Menlo\", monospace;;\n",
       "    font-size: 13px;\n",
       "    color: #555;\n",
       "    margin-left: 4px;\n",
       "    line-height: 19px;\n",
       "  }\n",
       "</style>\n",
       "<div class=\"ansiout\">Lr M5 = 0.8539045011190644\n",
       "</div>"
      ]
     },
     "metadata": {},
     "output_type": "display_data"
    }
   ],
   "source": [
    "# only category\n",
    "# StringIndexer transformer operates only on a single column at the time so you'll need a single indexer and a single encoder for each column you want to transform.\n",
    "lr_m5 = Pipeline(stages=[\n",
    "                 #feature.StringIndexer(inputCol=\"DayOfWeek\", outputCol=\"day_wk_ind\"),\n",
    "                 #feature.StringIndexer(inputCol=\"PdDistrict\",outputCol=\"dist_ind\"),\n",
    "                 feature.StringIndexer(inputCol=\"Category\",outputCol=\"cat_ind\"),\n",
    "                 feature.OneHotEncoderEstimator(inputCols=['cat_ind'], outputCols=['cat_hot']),\n",
    "                 feature.StringIndexer(inputCol=\"Res_num\", outputCol=\"label\"),\n",
    "                 feature.VectorAssembler(inputCols=['cat_hot'], outputCol='features'),\n",
    "                classification.LogisticRegression(labelCol='label', featuresCol='features', maxIter=10)])\n",
    "lr_m5_fit = lr_m5.fit(training_df)\n",
    "lr_m5_fitted_trans = lr_m5_fit.transform(validation_df)\n",
    "evaluator = evaluation.BinaryClassificationEvaluator(labelCol='Res_num')\n",
    "lr_AUC5 = evaluator.evaluate(lr_m5_fitted_trans)\n",
    "#regParam=0, elasticNetParam=0\n",
    "print('Lr M5 =',lr_AUC5)"
   ]
  },
  {
   "cell_type": "code",
   "execution_count": 68,
   "metadata": {},
   "outputs": [
    {
     "data": {
      "text/html": [
       "<style scoped>\n",
       "  .ansiout {\n",
       "    display: block;\n",
       "    unicode-bidi: embed;\n",
       "    white-space: pre-wrap;\n",
       "    word-wrap: break-word;\n",
       "    word-break: break-all;\n",
       "    font-family: \"Source Code Pro\", \"Menlo\", monospace;;\n",
       "    font-size: 13px;\n",
       "    color: #555;\n",
       "    margin-left: 4px;\n",
       "    line-height: 19px;\n",
       "  }\n",
       "</style>\n",
       "<div class=\"ansiout\">gb M5 = 0.8476463223632436\n",
       "</div>"
      ]
     },
     "metadata": {},
     "output_type": "display_data"
    }
   ],
   "source": [
    "# only category\n",
    "# StringIndexer transformer operates only on a single column at the time so you'll need a single indexer and a single encoder for each column you want to transform.\n",
    "gb_m5 = Pipeline(stages=[\n",
    "                 #feature.StringIndexer(inputCol=\"DayOfWeek\", outputCol=\"day_wk_ind\"),\n",
    "                 #feature.StringIndexer(inputCol=\"PdDistrict\",outputCol=\"dist_ind\"),\n",
    "                 feature.StringIndexer(inputCol=\"Category\",outputCol=\"cat_ind\"),\n",
    "                 feature.OneHotEncoderEstimator(inputCols=['cat_ind'], outputCols=['cat_hot']),\n",
    "                 feature.StringIndexer(inputCol=\"Res_num\", outputCol=\"label\"),\n",
    "                 feature.VectorAssembler(inputCols=['cat_hot'], outputCol='features'),\n",
    "                classification.GBTClassifier(labelCol='label', featuresCol='features', maxIter=10)])\n",
    "gb_m5_fit = gb_m5.fit(training_df)\n",
    "gb_m5_fitted_trans = gb_m5_fit.transform(validation_df)\n",
    "evaluator = evaluation.BinaryClassificationEvaluator(labelCol='Res_num')\n",
    "gb_AUC5 = evaluator.evaluate(gb_m5_fitted_trans)\n",
    "#regParam=0, elasticNetParam=0\n",
    "print('gb M5 =',gb_AUC5)"
   ]
  },
  {
   "cell_type": "code",
   "execution_count": 69,
   "metadata": {},
   "outputs": [
    {
     "data": {
      "text/html": [
       "<style scoped>\n",
       "  .ansiout {\n",
       "    display: block;\n",
       "    unicode-bidi: embed;\n",
       "    white-space: pre-wrap;\n",
       "    word-wrap: break-word;\n",
       "    word-break: break-all;\n",
       "    font-family: \"Source Code Pro\", \"Menlo\", monospace;;\n",
       "    font-size: 13px;\n",
       "    color: #555;\n",
       "    margin-left: 4px;\n",
       "    line-height: 19px;\n",
       "  }\n",
       "</style>\n",
       "<div class=\"ansiout\">Model6 =  0.5685011494710067\n",
       "</div>"
      ]
     },
     "metadata": {},
     "output_type": "display_data"
    }
   ],
   "source": [
    "# only location\n",
    "# StringIndexer transformer operates only on a single column at the time so you'll need a single indexer and a single encoder for each column you want to transform.\n",
    "rf_m6 = Pipeline(stages=[\n",
    "                 #feature.StringIndexer(inputCol=\"DayOfWeek\", outputCol=\"day_wk_ind\"),\n",
    "                 feature.StringIndexer(inputCol=\"PdDistrict\",outputCol=\"dist_ind\"),\n",
    "                 #feature.StringIndexer(inputCol=\"Category\",outputCol=\"cat_ind\"),\n",
    "                 feature.OneHotEncoderEstimator(inputCols=['dist_ind'], outputCols=['dist_hot']),\n",
    "                 feature.StringIndexer(inputCol=\"Res_num\", outputCol=\"label\"),\n",
    "                 feature.VectorAssembler(inputCols=['dist_hot'], outputCol='features'),\n",
    "                 classification.RandomForestClassifier(labelCol='label', featuresCol='features', seed = 0,\n",
    "                            numTrees=10, cacheNodeIds = True)])\n",
    "rf_m6_fit = rf_m6.fit(training_df)\n",
    "rf_m6_fitted_trans = rf_m6_fit.transform(validation_df)\n",
    "evaluator = evaluation.BinaryClassificationEvaluator(labelCol='Res_num')\n",
    "AUC6 = evaluator.evaluate(rf_m6_fitted_trans)\n",
    "print('Model6 = ',AUC6)"
   ]
  },
  {
   "cell_type": "code",
   "execution_count": 70,
   "metadata": {},
   "outputs": [
    {
     "data": {
      "text/html": [
       "<style scoped>\n",
       "  .ansiout {\n",
       "    display: block;\n",
       "    unicode-bidi: embed;\n",
       "    white-space: pre-wrap;\n",
       "    word-wrap: break-word;\n",
       "    word-break: break-all;\n",
       "    font-family: \"Source Code Pro\", \"Menlo\", monospace;;\n",
       "    font-size: 13px;\n",
       "    color: #555;\n",
       "    margin-left: 4px;\n",
       "    line-height: 19px;\n",
       "  }\n",
       "</style>\n",
       "<div class=\"ansiout\">gb M6 = 0.5884527739038758\n",
       "</div>"
      ]
     },
     "metadata": {},
     "output_type": "display_data"
    }
   ],
   "source": [
    "# only location\n",
    "# StringIndexer transformer operates only on a single column at the time so you'll need a single indexer and a single encoder for each column you want to transform.\n",
    "gb_m6 = Pipeline(stages=[\n",
    "                 #feature.StringIndexer(inputCol=\"DayOfWeek\", outputCol=\"day_wk_ind\"),\n",
    "                 feature.StringIndexer(inputCol=\"PdDistrict\",outputCol=\"dist_ind\"),\n",
    "                 #feature.StringIndexer(inputCol=\"Category\",outputCol=\"cat_ind\"),\n",
    "                 feature.OneHotEncoderEstimator(inputCols=['dist_ind'],\n",
    "                                                           outputCols=['dist_hot']),\n",
    "                 feature.StringIndexer(inputCol=\"Res_num\", outputCol=\"label\"),\n",
    "                 feature.VectorAssembler(inputCols=['dist_hot'], outputCol='features'),\n",
    "              classification.GBTClassifier(labelCol='label', featuresCol='features', maxIter=10)])\n",
    "gb_m6_fit = gb_m6.fit(training_df)\n",
    "gb_m6_fitted_trans = gb_m6_fit.transform(validation_df)\n",
    "evaluator = evaluation.BinaryClassificationEvaluator(labelCol='Res_num')\n",
    "gb_AUC6 = evaluator.evaluate(gb_m6_fitted_trans)\n",
    "#regParam=0, elasticNetParam=0\n",
    "print('gb M6 =',gb_AUC6)"
   ]
  },
  {
   "cell_type": "code",
   "execution_count": 71,
   "metadata": {},
   "outputs": [],
   "source": [
    "# only location\n",
    "# StringIndexer transformer operates only on a single column at the time so you'll need a single indexer and a single encoder for each column you want to transform.\n",
    "lr_m6 = Pipeline(stages=[\n",
    "                 #feature.StringIndexer(inputCol=\"DayOfWeek\", outputCol=\"day_wk_ind\"),\n",
    "                 feature.StringIndexer(inputCol=\"PdDistrict\",outputCol=\"dist_ind\"),\n",
    "                 #feature.StringIndexer(inputCol=\"Category\",outputCol=\"cat_ind\"),\n",
    "                 feature.OneHotEncoderEstimator(inputCols=['dist_ind'],\n",
    "                                                           outputCols=['dist_hot']),\n",
    "                 feature.StringIndexer(inputCol=\"Res_num\", outputCol=\"label\"),\n",
    "                 feature.VectorAssembler(inputCols=['dist_hot'], outputCol='features'),\n",
    "              classification.LogisticRegression(labelCol='label', featuresCol='features', maxIter=10)])\n",
    "lr_m6_fit = lr_m6.fit(training_df)\n",
    "lr_m6_fitted_trans = lr_m6_fit.transform(validation_df)\n",
    "evaluator = evaluation.BinaryClassificationEvaluator(labelCol='Res_num')\n",
    "lr_AUC6 = evaluator.evaluate(lr_m6_fitted_trans)\n",
    "#regParam=0, elasticNetParam=0\n",
    "print('Lr M6 =',lr_AUC6)"
   ]
  },
  {
   "cell_type": "code",
   "execution_count": 72,
   "metadata": {},
   "outputs": [
    {
     "data": {
      "text/html": [
       "<style scoped>\n",
       "  .ansiout {\n",
       "    display: block;\n",
       "    unicode-bidi: embed;\n",
       "    white-space: pre-wrap;\n",
       "    word-wrap: break-word;\n",
       "    word-break: break-all;\n",
       "    font-family: \"Source Code Pro\", \"Menlo\", monospace;;\n",
       "    font-size: 13px;\n",
       "    color: #555;\n",
       "    margin-left: 4px;\n",
       "    line-height: 19px;\n",
       "  }\n",
       "</style>\n",
       "<div class=\"ansiout\">Model7 =  0.5\n",
       "</div>"
      ]
     },
     "metadata": {},
     "output_type": "display_data"
    }
   ],
   "source": [
    "# only time (yr, mon, day, hour, dayofweek)\n",
    "# StringIndexer transformer operates only on a single column at the time so you'll need a single indexer and a single encoder for each column you want to transform.\n",
    "rf_m7 = Pipeline(stages=[\n",
    "                 feature.StringIndexer(inputCol=\"DayOfWeek\", outputCol=\"day_wk_ind\"),\n",
    "                 #feature.StringIndexer(inputCol=\"PdDistrict\",outputCol=\"dist_ind\"),\n",
    "                 #feature.StringIndexer(inputCol=\"Category\",outputCol=\"cat_ind\"),\n",
    "                 feature.StringIndexer(inputCol=\"Month\",outputCol=\"mon_ind\"),\n",
    "                 feature.OneHotEncoderEstimator(inputCols=['day_wk_ind','mon_ind'],\n",
    "                                                           outputCols=['day_wk_hot','mon_hot']),\n",
    "                 feature.StringIndexer(inputCol=\"Res_num\", outputCol=\"label\"),\n",
    "                 feature.VectorAssembler(inputCols=['Near noon','Afternoon','evening','Night','day_wk_hot','mon_hot'],\n",
    "                                        outputCol='features'),\n",
    "                 classification.RandomForestClassifier(labelCol='label', featuresCol='features', seed = 0,\n",
    "                            numTrees=10, cacheNodeIds = True)])\n",
    "rf_m7_fit = rf_m7.fit(training_df)\n",
    "rf_m7_fitted_trans = rf_m7_fit.transform(validation_df)\n",
    "evaluator = evaluation.BinaryClassificationEvaluator(labelCol='label')\n",
    "AUC7 = evaluator.evaluate(rf_m7_fitted_trans)\n",
    "print('Model7 = ',AUC7)"
   ]
  },
  {
   "cell_type": "code",
   "execution_count": 73,
   "metadata": {},
   "outputs": [
    {
     "data": {
      "text/html": [
       "<style scoped>\n",
       "  .ansiout {\n",
       "    display: block;\n",
       "    unicode-bidi: embed;\n",
       "    white-space: pre-wrap;\n",
       "    word-wrap: break-word;\n",
       "    word-break: break-all;\n",
       "    font-family: \"Source Code Pro\", \"Menlo\", monospace;;\n",
       "    font-size: 13px;\n",
       "    color: #555;\n",
       "    margin-left: 4px;\n",
       "    line-height: 19px;\n",
       "  }\n",
       "</style>\n",
       "<div class=\"ansiout\">Lr M7 = 0.5397480122076758\n",
       "</div>"
      ]
     },
     "metadata": {},
     "output_type": "display_data"
    }
   ],
   "source": [
    "# only time (yr, mon, day, hour, dayofweek)\n",
    "# StringIndexer transformer operates only on a single column at the time so you'll need a single indexer and a single encoder for each column you want to transform.\n",
    "lr_m7 = Pipeline(stages=[\n",
    "                 feature.StringIndexer(inputCol=\"DayOfWeek\", outputCol=\"day_wk_ind\"),\n",
    "                 #feature.StringIndexer(inputCol=\"PdDistrict\",outputCol=\"dist_ind\"),\n",
    "                 #feature.StringIndexer(inputCol=\"Category\",outputCol=\"cat_ind\"),\n",
    "                 feature.StringIndexer(inputCol=\"Month\",outputCol=\"mon_ind\"),\n",
    "                 feature.OneHotEncoderEstimator(inputCols=['day_wk_ind','mon_ind'],\n",
    "                                                           outputCols=['day_wk_hot','mon_hot']),\n",
    "                 feature.StringIndexer(inputCol=\"Res_num\", outputCol=\"label\"),\n",
    "                 feature.VectorAssembler(inputCols=['Near noon','Afternoon','evening','Night','day_wk_hot','mon_hot'],\n",
    "                                        outputCol='features'),\n",
    "      classification.LogisticRegression(labelCol='label', featuresCol='features', maxIter=10)])\n",
    "lr_m7_fit = lr_m7.fit(training_df)\n",
    "lr_m7_fitted_trans = lr_m7_fit.transform(validation_df)\n",
    "evaluator = evaluation.BinaryClassificationEvaluator(labelCol='label')\n",
    "lr_AUC7 = evaluator.evaluate(lr_m7_fitted_trans)\n",
    "#regParam=0, elasticNetParam=0\n",
    "print('Lr M7 =',lr_AUC7)"
   ]
  },
  {
   "cell_type": "code",
   "execution_count": 74,
   "metadata": {},
   "outputs": [
    {
     "data": {
      "text/html": [
       "<style scoped>\n",
       "  .ansiout {\n",
       "    display: block;\n",
       "    unicode-bidi: embed;\n",
       "    white-space: pre-wrap;\n",
       "    word-wrap: break-word;\n",
       "    word-break: break-all;\n",
       "    font-family: \"Source Code Pro\", \"Menlo\", monospace;;\n",
       "    font-size: 13px;\n",
       "    color: #555;\n",
       "    margin-left: 4px;\n",
       "    line-height: 19px;\n",
       "  }\n",
       "</style>\n",
       "<div class=\"ansiout\">gb M7 = 0.5392818563021207\n",
       "</div>"
      ]
     },
     "metadata": {},
     "output_type": "display_data"
    }
   ],
   "source": [
    "# only time (yr, mon, day, hour, dayofweek)\n",
    "# StringIndexer transformer operates only on a single column at the time so you'll need a single indexer and a single encoder for each column you want to transform.\n",
    "gb_m7 = Pipeline(stages=[\n",
    "                 feature.StringIndexer(inputCol=\"DayOfWeek\", outputCol=\"day_wk_ind\"),\n",
    "                 #feature.StringIndexer(inputCol=\"PdDistrict\",outputCol=\"dist_ind\"),\n",
    "                 #feature.StringIndexer(inputCol=\"Category\",outputCol=\"cat_ind\"),\n",
    "                 feature.StringIndexer(inputCol=\"Month\",outputCol=\"mon_ind\"),\n",
    "                 feature.OneHotEncoderEstimator(inputCols=['day_wk_ind','mon_ind'],\n",
    "                                                           outputCols=['day_wk_hot','mon_hot']),\n",
    "                 feature.StringIndexer(inputCol=\"Res_num\", outputCol=\"label\"),\n",
    "                 feature.VectorAssembler(inputCols=['Near noon','Afternoon','evening','Night','day_wk_hot','mon_hot'],\n",
    "                                        outputCol='features'),\n",
    "      classification.GBTClassifier(labelCol='label', featuresCol='features', maxIter=10)])\n",
    "gb_m7_fit = gb_m7.fit(training_df)\n",
    "gb_m7_fitted_trans = gb_m7_fit.transform(validation_df)\n",
    "evaluator = evaluation.BinaryClassificationEvaluator(labelCol='label')\n",
    "gb_AUC7 = evaluator.evaluate(gb_m7_fitted_trans)\n",
    "#regParam=0, elasticNetParam=0\n",
    "print('gb M7 =',gb_AUC7)"
   ]
  },
  {
   "cell_type": "code",
   "execution_count": 75,
   "metadata": {},
   "outputs": [
    {
     "data": {
      "text/html": [
       "<style scoped>\n",
       "  .ansiout {\n",
       "    display: block;\n",
       "    unicode-bidi: embed;\n",
       "    white-space: pre-wrap;\n",
       "    word-wrap: break-word;\n",
       "    word-break: break-all;\n",
       "    font-family: \"Source Code Pro\", \"Menlo\", monospace;;\n",
       "    font-size: 13px;\n",
       "    color: #555;\n",
       "    margin-left: 4px;\n",
       "    line-height: 19px;\n",
       "  }\n",
       "</style>\n",
       "<div class=\"ansiout\">Model8 =  0.8036690106729258\n",
       "</div>"
      ]
     },
     "metadata": {},
     "output_type": "display_data"
    }
   ],
   "source": [
    "# only time (yr, mon, day, hour, dayofweek) + category\n",
    "# StringIndexer transformer operates only on a single column at the time so you'll need a single indexer and a single encoder for each column you want to transform.\n",
    "rf_m8 = Pipeline(stages=[\n",
    "                 feature.StringIndexer(inputCol=\"DayOfWeek\", outputCol=\"day_wk_ind\"),\n",
    "                 #feature.StringIndexer(inputCol=\"PdDistrict\",outputCol=\"dist_ind\"),\n",
    "                 feature.StringIndexer(inputCol=\"Category\",outputCol=\"cat_ind\"),\n",
    "                 feature.StringIndexer(inputCol=\"Month\",outputCol=\"mon_ind\"),\n",
    "                 feature.OneHotEncoderEstimator(inputCols=['day_wk_ind', 'cat_ind','mon_ind'],\n",
    "                                                           outputCols=['day_wk_hot', 'cat_hot','mon_hot']),\n",
    "                 feature.StringIndexer(inputCol=\"Res_num\", outputCol=\"label\"),\n",
    "                 feature.VectorAssembler(inputCols=['Near noon','Afternoon','evening','Night','day_wk_hot', 'cat_hot','mon_hot'],\n",
    "                                        outputCol='features'),\n",
    "                 classification.RandomForestClassifier(labelCol='label', featuresCol='features', seed = 0,\n",
    "                            numTrees=10, cacheNodeIds = True)])\n",
    "rf_m8_fit = rf_m8.fit(training_df)\n",
    "rf_m8_fitted_trans = rf_m8_fit.transform(validation_df)\n",
    "evaluator = evaluation.BinaryClassificationEvaluator(labelCol='label')\n",
    "AUC8 = evaluator.evaluate(rf_m8_fitted_trans)\n",
    "print('Model8 = ',AUC8)"
   ]
  },
  {
   "cell_type": "code",
   "execution_count": 76,
   "metadata": {},
   "outputs": [
    {
     "data": {
      "text/html": [
       "<style scoped>\n",
       "  .ansiout {\n",
       "    display: block;\n",
       "    unicode-bidi: embed;\n",
       "    white-space: pre-wrap;\n",
       "    word-wrap: break-word;\n",
       "    word-break: break-all;\n",
       "    font-family: \"Source Code Pro\", \"Menlo\", monospace;;\n",
       "    font-size: 13px;\n",
       "    color: #555;\n",
       "    margin-left: 4px;\n",
       "    line-height: 19px;\n",
       "  }\n",
       "</style>\n",
       "<div class=\"ansiout\">Lr M8 = 0.8567834089119114\n",
       "</div>"
      ]
     },
     "metadata": {},
     "output_type": "display_data"
    }
   ],
   "source": [
    "# only time (yr, mon, day, hour, dayofweek) + category\n",
    "# StringIndexer transformer operates only on a single column at the time so you'll need a single indexer and a single encoder for each column you want to transform.\n",
    "lr_m8 = Pipeline(stages=[\n",
    "                 feature.StringIndexer(inputCol=\"DayOfWeek\", outputCol=\"day_wk_ind\"),\n",
    "                 #feature.StringIndexer(inputCol=\"PdDistrict\",outputCol=\"dist_ind\"),\n",
    "                 feature.StringIndexer(inputCol=\"Category\",outputCol=\"cat_ind\"),\n",
    "                 feature.StringIndexer(inputCol=\"Month\",outputCol=\"mon_ind\"),\n",
    "                 feature.OneHotEncoderEstimator(inputCols=['day_wk_ind', 'cat_ind','mon_ind'],\n",
    "                                                           outputCols=['day_wk_hot', 'cat_hot','mon_hot']),\n",
    "                 feature.StringIndexer(inputCol=\"Res_num\", outputCol=\"label\"),\n",
    "                 feature.VectorAssembler(inputCols=['Near noon','Afternoon','evening','Night','day_wk_hot', 'cat_hot','mon_hot'],\n",
    "                                        outputCol='features'),\n",
    "      classification.LogisticRegression(labelCol='label', featuresCol='features', maxIter=10)])\n",
    "lr_m8_fit = lr_m8.fit(training_df)\n",
    "lr_m8_fitted_trans = lr_m8_fit.transform(validation_df)\n",
    "evaluator = evaluation.BinaryClassificationEvaluator(labelCol='label')\n",
    "lr_AUC8 = evaluator.evaluate(lr_m8_fitted_trans)\n",
    "#regParam=0, elasticNetParam=0\n",
    "print('Lr M8 =',lr_AUC8)"
   ]
  },
  {
   "cell_type": "code",
   "execution_count": 77,
   "metadata": {},
   "outputs": [
    {
     "data": {
      "text/html": [
       "<style scoped>\n",
       "  .ansiout {\n",
       "    display: block;\n",
       "    unicode-bidi: embed;\n",
       "    white-space: pre-wrap;\n",
       "    word-wrap: break-word;\n",
       "    word-break: break-all;\n",
       "    font-family: \"Source Code Pro\", \"Menlo\", monospace;;\n",
       "    font-size: 13px;\n",
       "    color: #555;\n",
       "    margin-left: 4px;\n",
       "    line-height: 19px;\n",
       "  }\n",
       "</style>\n",
       "<div class=\"ansiout\">gb M8 = 0.8510338415385856\n",
       "</div>"
      ]
     },
     "metadata": {},
     "output_type": "display_data"
    }
   ],
   "source": [
    "# only time (yr, mon, day, hour, dayofweek) + category\n",
    "# StringIndexer transformer operates only on a single column at the time so you'll need a single indexer and a single encoder for each column you want to transform.\n",
    "gb_m8 = Pipeline(stages=[\n",
    "                 feature.StringIndexer(inputCol=\"DayOfWeek\", outputCol=\"day_wk_ind\"),\n",
    "                 #feature.StringIndexer(inputCol=\"PdDistrict\",outputCol=\"dist_ind\"),\n",
    "                 feature.StringIndexer(inputCol=\"Category\",outputCol=\"cat_ind\"),\n",
    "                 feature.StringIndexer(inputCol=\"Month\",outputCol=\"mon_ind\"),\n",
    "                 feature.OneHotEncoderEstimator(inputCols=['day_wk_ind', 'cat_ind','mon_ind'],\n",
    "                                                           outputCols=['day_wk_hot', 'cat_hot','mon_hot']),\n",
    "                 feature.StringIndexer(inputCol=\"Res_num\", outputCol=\"label\"),\n",
    "                 feature.VectorAssembler(inputCols=['Near noon','Afternoon','evening','Night','day_wk_hot', 'cat_hot','mon_hot'],\n",
    "                                        outputCol='features'),\n",
    "      classification.GBTClassifier(labelCol='label', featuresCol='features', maxIter=10)])\n",
    "gb_m8_fit = gb_m8.fit(training_df)\n",
    "gb_m8_fitted_trans = gb_m8_fit.transform(validation_df)\n",
    "evaluator = evaluation.BinaryClassificationEvaluator(labelCol='label')\n",
    "gb_AUC8 = evaluator.evaluate(gb_m8_fitted_trans)\n",
    "#regParam=0, elasticNetParam=0\n",
    "print('gb M8 =',gb_AUC8)"
   ]
  },
  {
   "cell_type": "code",
   "execution_count": 78,
   "metadata": {},
   "outputs": [
    {
     "data": {
      "text/html": [
       "<style scoped>\n",
       "  .ansiout {\n",
       "    display: block;\n",
       "    unicode-bidi: embed;\n",
       "    white-space: pre-wrap;\n",
       "    word-wrap: break-word;\n",
       "    word-break: break-all;\n",
       "    font-family: \"Source Code Pro\", \"Menlo\", monospace;;\n",
       "    font-size: 13px;\n",
       "    color: #555;\n",
       "    margin-left: 4px;\n",
       "    line-height: 19px;\n",
       "  }\n",
       "</style>\n",
       "<div class=\"ansiout\">Model9 =  0.5761384042793048\n",
       "</div>"
      ]
     },
     "metadata": {},
     "output_type": "display_data"
    }
   ],
   "source": [
    "# only time (yr, mon, day, hour, dayofweek) + location\n",
    "# StringIndexer transformer operates only on a single column at the time so you'll need a single indexer and a single encoder for each column you want to transform.\n",
    "rf_m9 = Pipeline(stages=[\n",
    "                 feature.StringIndexer(inputCol=\"DayOfWeek\", outputCol=\"day_wk_ind\"),\n",
    "                 feature.StringIndexer(inputCol=\"PdDistrict\",outputCol=\"dist_ind\"),\n",
    "                 #feature.StringIndexer(inputCol=\"Category\",outputCol=\"cat_ind\"),\n",
    "                 feature.StringIndexer(inputCol=\"Month\",outputCol=\"mon_ind\"),\n",
    "                 feature.OneHotEncoderEstimator(inputCols=['day_wk_ind', 'dist_ind','mon_ind'],\n",
    "                                                           outputCols=['day_wk_hot', 'dist_hot','mon_hot']),\n",
    "                 feature.StringIndexer(inputCol=\"Res_num\", outputCol=\"label\"),\n",
    "                 feature.VectorAssembler(inputCols=['Near noon','Afternoon','evening','Night','day_wk_hot', 'dist_hot','mon_hot'],\n",
    "                                        outputCol='features'),\n",
    "                 classification.RandomForestClassifier(labelCol='label', featuresCol='features',seed = 0,\n",
    "                            numTrees=10, cacheNodeIds = True)])\n",
    "rf_m9_fit = rf_m9.fit(training_df)\n",
    "rf_m9_fitted_trans = rf_m9_fit.transform(validation_df)\n",
    "evaluator = evaluation.BinaryClassificationEvaluator(labelCol='label')\n",
    "AUC9 = evaluator.evaluate(rf_m9_fitted_trans)\n",
    "print('Model9 = ',AUC9)"
   ]
  },
  {
   "cell_type": "code",
   "execution_count": 79,
   "metadata": {},
   "outputs": [
    {
     "data": {
      "text/html": [
       "<style scoped>\n",
       "  .ansiout {\n",
       "    display: block;\n",
       "    unicode-bidi: embed;\n",
       "    white-space: pre-wrap;\n",
       "    word-wrap: break-word;\n",
       "    word-break: break-all;\n",
       "    font-family: \"Source Code Pro\", \"Menlo\", monospace;;\n",
       "    font-size: 13px;\n",
       "    color: #555;\n",
       "    margin-left: 4px;\n",
       "    line-height: 19px;\n",
       "  }\n",
       "</style>\n",
       "<div class=\"ansiout\">Lr M9 = 0.5985983215570211\n",
       "</div>"
      ]
     },
     "metadata": {},
     "output_type": "display_data"
    }
   ],
   "source": [
    "# only time (yr, mon, day, hour, dayofweek) + location\n",
    "# StringIndexer transformer operates only on a single column at the time so you'll need a single indexer and a single encoder for each column you want to transform.\n",
    "lr_m9 = Pipeline(stages=[\n",
    "                 feature.StringIndexer(inputCol=\"DayOfWeek\", outputCol=\"day_wk_ind\"),\n",
    "                 feature.StringIndexer(inputCol=\"PdDistrict\",outputCol=\"dist_ind\"),\n",
    "                 #feature.StringIndexer(inputCol=\"Category\",outputCol=\"cat_ind\"),\n",
    "                 feature.StringIndexer(inputCol=\"Month\",outputCol=\"mon_ind\"),\n",
    "                 feature.OneHotEncoderEstimator(inputCols=['day_wk_ind', 'dist_ind','mon_ind'],\n",
    "                                                           outputCols=['day_wk_hot', 'dist_hot','mon_hot']),\n",
    "                 feature.StringIndexer(inputCol=\"Res_num\", outputCol=\"label\"),\n",
    "                 feature.VectorAssembler(inputCols=['Near noon','Afternoon','evening','Night','day_wk_hot', 'dist_hot','mon_hot'],\n",
    "                                        outputCol='features'),\n",
    "      classification.LogisticRegression(labelCol='label', featuresCol='features', maxIter=10)])\n",
    "lr_m9_fit = lr_m9.fit(training_df)\n",
    "lr_m9_fitted_trans = lr_m9_fit.transform(validation_df)\n",
    "evaluator = evaluation.BinaryClassificationEvaluator(labelCol='label')\n",
    "lr_AUC9 = evaluator.evaluate(lr_m9_fitted_trans)\n",
    "#regParam=0, elasticNetParam=0\n",
    "print('Lr M9 =',lr_AUC9)"
   ]
  },
  {
   "cell_type": "code",
   "execution_count": 80,
   "metadata": {},
   "outputs": [
    {
     "data": {
      "text/html": [
       "<style scoped>\n",
       "  .ansiout {\n",
       "    display: block;\n",
       "    unicode-bidi: embed;\n",
       "    white-space: pre-wrap;\n",
       "    word-wrap: break-word;\n",
       "    word-break: break-all;\n",
       "    font-family: \"Source Code Pro\", \"Menlo\", monospace;;\n",
       "    font-size: 13px;\n",
       "    color: #555;\n",
       "    margin-left: 4px;\n",
       "    line-height: 19px;\n",
       "  }\n",
       "</style>\n",
       "<div class=\"ansiout\">gb M9 = 0.596143043992624\n",
       "</div>"
      ]
     },
     "metadata": {},
     "output_type": "display_data"
    }
   ],
   "source": [
    "# only time (yr, mon, day, hour, dayofweek) + location\n",
    "# StringIndexer transformer operates only on a single column at the time so you'll need a single indexer and a single encoder for each column you want to transform.\n",
    "gb_m9 = Pipeline(stages=[\n",
    "                 feature.StringIndexer(inputCol=\"DayOfWeek\", outputCol=\"day_wk_ind\"),\n",
    "                 feature.StringIndexer(inputCol=\"PdDistrict\",outputCol=\"dist_ind\"),\n",
    "                 #feature.StringIndexer(inputCol=\"Category\",outputCol=\"cat_ind\"),\n",
    "                 feature.StringIndexer(inputCol=\"Month\",outputCol=\"mon_ind\"),\n",
    "                 feature.OneHotEncoderEstimator(inputCols=['day_wk_ind', 'dist_ind','mon_ind'],\n",
    "                                                           outputCols=['day_wk_hot', 'dist_hot','mon_hot']),\n",
    "                 feature.StringIndexer(inputCol=\"Res_num\", outputCol=\"label\"),\n",
    "                 feature.VectorAssembler(inputCols=['Near noon','Afternoon','evening','Night','day_wk_hot', 'dist_hot','mon_hot'],\n",
    "                                        outputCol='features'),\n",
    "      classification.GBTClassifier(labelCol='label', featuresCol='features', maxIter=10)])\n",
    "gb_m9_fit = gb_m9.fit(training_df)\n",
    "gb_m9_fitted_trans = gb_m9_fit.transform(validation_df)\n",
    "evaluator = evaluation.BinaryClassificationEvaluator(labelCol='label')\n",
    "gb_AUC9 = evaluator.evaluate(gb_m9_fitted_trans)\n",
    "#regParam=0, elasticNetParam=0\n",
    "print('gb M9 =',gb_AUC9)"
   ]
  },
  {
   "cell_type": "code",
   "execution_count": 81,
   "metadata": {},
   "outputs": [
    {
     "data": {
      "text/html": [
       "<style scoped>\n",
       "  .ansiout {\n",
       "    display: block;\n",
       "    unicode-bidi: embed;\n",
       "    white-space: pre-wrap;\n",
       "    word-wrap: break-word;\n",
       "    word-break: break-all;\n",
       "    font-family: \"Source Code Pro\", \"Menlo\", monospace;;\n",
       "    font-size: 13px;\n",
       "    color: #555;\n",
       "    margin-left: 4px;\n",
       "    line-height: 19px;\n",
       "  }\n",
       "</style>\n",
       "<div class=\"ansiout\">Model10 =  0.8284909451759579\n",
       "</div>"
      ]
     },
     "metadata": {},
     "output_type": "display_data"
    }
   ],
   "source": [
    "# only category + location\n",
    "# StringIndexer transformer operates only on a single column at the time so you'll need a single indexer and a single encoder for each column you want to transform.\n",
    "rf_m10 = Pipeline(stages=[\n",
    "                 #feature.StringIndexer(inputCol=\"DayOfWeek\", outputCol=\"day_wk_ind\"),\n",
    "                 feature.StringIndexer(inputCol=\"PdDistrict\",outputCol=\"dist_ind\"),\n",
    "                 feature.StringIndexer(inputCol=\"Category\",outputCol=\"cat_ind\"),\n",
    "                 feature.OneHotEncoderEstimator(inputCols=['dist_ind','cat_ind'],\n",
    "                                                           outputCols=['dist_hot','cat_hot']),\n",
    "                 feature.StringIndexer(inputCol=\"Res_num\", outputCol=\"label\"),\n",
    "                 feature.VectorAssembler(inputCols=['dist_hot','cat_hot'],\n",
    "                                        outputCol='features'),\n",
    "                 classification.RandomForestClassifier(labelCol='label', featuresCol='features', seed = 0,\n",
    "                            numTrees=10, cacheNodeIds = True)])\n",
    "rf_m10_fit = rf_m10.fit(training_df)\n",
    "rf_m10_fitted_trans = rf_m10_fit.transform(validation_df)\n",
    "evaluator = evaluation.BinaryClassificationEvaluator(labelCol='label')\n",
    "AUC10 = evaluator.evaluate(rf_m10_fitted_trans)\n",
    "print('Model10 = ',AUC10)"
   ]
  },
  {
   "cell_type": "code",
   "execution_count": 82,
   "metadata": {},
   "outputs": [
    {
     "data": {
      "text/html": [
       "<style scoped>\n",
       "  .ansiout {\n",
       "    display: block;\n",
       "    unicode-bidi: embed;\n",
       "    white-space: pre-wrap;\n",
       "    word-wrap: break-word;\n",
       "    word-break: break-all;\n",
       "    font-family: \"Source Code Pro\", \"Menlo\", monospace;;\n",
       "    font-size: 13px;\n",
       "    color: #555;\n",
       "    margin-left: 4px;\n",
       "    line-height: 19px;\n",
       "  }\n",
       "</style>\n",
       "<div class=\"ansiout\">Lr M10 = 0.8590768541523227\n",
       "</div>"
      ]
     },
     "metadata": {},
     "output_type": "display_data"
    }
   ],
   "source": [
    "# only category + location\n",
    "# StringIndexer transformer operates only on a single column at the time so you'll need a single indexer and a single encoder for each column you want to transform.\n",
    "lr_m10 = Pipeline(stages=[\n",
    "                 #feature.StringIndexer(inputCol=\"DayOfWeek\", outputCol=\"day_wk_ind\"),\n",
    "                 feature.StringIndexer(inputCol=\"PdDistrict\",outputCol=\"dist_ind\"),\n",
    "                 feature.StringIndexer(inputCol=\"Category\",outputCol=\"cat_ind\"),\n",
    "                 feature.OneHotEncoderEstimator(inputCols=['dist_ind','cat_ind'],\n",
    "                                                           outputCols=['dist_hot','cat_hot']),\n",
    "                 feature.StringIndexer(inputCol=\"Res_num\", outputCol=\"label\"),\n",
    "      feature.VectorAssembler(inputCols=['dist_hot','cat_hot'], outputCol='features'),\n",
    "      classification.LogisticRegression(labelCol='label', featuresCol='features', maxIter=10)])\n",
    "lr_m10_fit = lr_m10.fit(training_df)\n",
    "lr_m10_fitted_trans = lr_m10_fit.transform(validation_df)\n",
    "evaluator = evaluation.BinaryClassificationEvaluator(labelCol='label')\n",
    "lr_AUC10 = evaluator.evaluate(lr_m10_fitted_trans)\n",
    "#regParam=0, elasticNetParam=0\n",
    "print('Lr M10 =',lr_AUC10)"
   ]
  },
  {
   "cell_type": "code",
   "execution_count": 83,
   "metadata": {},
   "outputs": [
    {
     "data": {
      "text/html": [
       "<style scoped>\n",
       "  .ansiout {\n",
       "    display: block;\n",
       "    unicode-bidi: embed;\n",
       "    white-space: pre-wrap;\n",
       "    word-wrap: break-word;\n",
       "    word-break: break-all;\n",
       "    font-family: \"Source Code Pro\", \"Menlo\", monospace;;\n",
       "    font-size: 13px;\n",
       "    color: #555;\n",
       "    margin-left: 4px;\n",
       "    line-height: 19px;\n",
       "  }\n",
       "</style>\n",
       "<div class=\"ansiout\">gb M10 = 0.8528477966966537\n",
       "</div>"
      ]
     },
     "metadata": {},
     "output_type": "display_data"
    }
   ],
   "source": [
    "# only category + location\n",
    "# StringIndexer transformer operates only on a single column at the time so you'll need a single indexer and a single encoder for each column you want to transform.\n",
    "gb_m10 = Pipeline(stages=[\n",
    "                 #feature.StringIndexer(inputCol=\"DayOfWeek\", outputCol=\"day_wk_ind\"),\n",
    "                 feature.StringIndexer(inputCol=\"PdDistrict\",outputCol=\"dist_ind\"),\n",
    "                 feature.StringIndexer(inputCol=\"Category\",outputCol=\"cat_ind\"),\n",
    "                 feature.OneHotEncoderEstimator(inputCols=['dist_ind','cat_ind'],\n",
    "                                                           outputCols=['dist_hot','cat_hot']),\n",
    "                 feature.StringIndexer(inputCol=\"Res_num\", outputCol=\"label\"),\n",
    "      feature.VectorAssembler(inputCols=['dist_hot','cat_hot'], outputCol='features'),\n",
    "      classification.GBTClassifier(labelCol='label', featuresCol='features', maxIter=10)])\n",
    "gb_m10_fit = gb_m10.fit(training_df)\n",
    "gb_m10_fitted_trans = gb_m10_fit.transform(validation_df)\n",
    "evaluator = evaluation.BinaryClassificationEvaluator(labelCol='label')\n",
    "gb_AUC10 = evaluator.evaluate(gb_m10_fitted_trans)\n",
    "#regParam=0, elasticNetParam=0\n",
    "print('gb M10 =',gb_AUC10)"
   ]
  },
  {
   "cell_type": "code",
   "execution_count": 84,
   "metadata": {},
   "outputs": [
    {
     "data": {
      "text/html": [
       "<style scoped>\n",
       "  .ansiout {\n",
       "    display: block;\n",
       "    unicode-bidi: embed;\n",
       "    white-space: pre-wrap;\n",
       "    word-wrap: break-word;\n",
       "    word-break: break-all;\n",
       "    font-family: \"Source Code Pro\", \"Menlo\", monospace;;\n",
       "    font-size: 13px;\n",
       "    color: #555;\n",
       "    margin-left: 4px;\n",
       "    line-height: 19px;\n",
       "  }\n",
       "</style>\n",
       "<div class=\"ansiout\">Model11 =  0.8376190033967232\n",
       "</div>"
      ]
     },
     "metadata": {},
     "output_type": "display_data"
    }
   ],
   "source": [
    "# only category + location + time but day\n",
    "# StringIndexer transformer operates only on a single column at the time so you'll need a single indexer and a single encoder for each column you want to transform.\n",
    "rf_m11 = Pipeline(stages=[\n",
    "                 feature.StringIndexer(inputCol=\"DayOfWeek\", outputCol=\"day_wk_ind\"),\n",
    "                 feature.StringIndexer(inputCol=\"PdDistrict\",outputCol=\"dist_ind\"),\n",
    "                 feature.StringIndexer(inputCol=\"Category\",outputCol=\"cat_ind\"),\n",
    "                 feature.StringIndexer(inputCol=\"Month\",outputCol=\"mon_ind\"),\n",
    "                 feature.OneHotEncoderEstimator(inputCols=['day_wk_ind','dist_ind','cat_ind','mon_ind'],\n",
    "                                                           outputCols=['day_wk_hot','dist_hot','cat_hot','mon_hot']),\n",
    "                 feature.StringIndexer(inputCol=\"Res_num\", outputCol=\"label\"),\n",
    "                 feature.VectorAssembler(inputCols=['Near noon','Afternoon','evening','Night','day_wk_hot', 'dist_hot','cat_hot','mon_hot'],\n",
    "                                        outputCol='features'),\n",
    "                 classification.RandomForestClassifier(labelCol='label', featuresCol='features',seed = 0,\n",
    "                            numTrees=10, cacheNodeIds = True)])\n",
    "rf_m11_fit = rf_m11.fit(training_df)\n",
    "rf_m11_fitted_trans = rf_m11_fit.transform(validation_df)\n",
    "evaluator = evaluation.BinaryClassificationEvaluator(labelCol='label')\n",
    "AUC11 = evaluator.evaluate(rf_m11_fitted_trans)\n",
    "print('Model11 = ',AUC11)\n"
   ]
  },
  {
   "cell_type": "code",
   "execution_count": 85,
   "metadata": {},
   "outputs": [
    {
     "data": {
      "text/html": [
       "<style scoped>\n",
       "  .ansiout {\n",
       "    display: block;\n",
       "    unicode-bidi: embed;\n",
       "    white-space: pre-wrap;\n",
       "    word-wrap: break-word;\n",
       "    word-break: break-all;\n",
       "    font-family: \"Source Code Pro\", \"Menlo\", monospace;;\n",
       "    font-size: 13px;\n",
       "    color: #555;\n",
       "    margin-left: 4px;\n",
       "    line-height: 19px;\n",
       "  }\n",
       "</style>\n",
       "<div class=\"ansiout\">Lr M11 = 0.8597775900031002\n",
       "</div>"
      ]
     },
     "metadata": {},
     "output_type": "display_data"
    }
   ],
   "source": [
    "# only category + location + time but day\n",
    "# StringIndexer transformer operates only on a single column at the time so you'll need a single indexer and a single encoder for each column you want to transform.\n",
    "lr_m11 = Pipeline(stages=[\n",
    "                 feature.StringIndexer(inputCol=\"DayOfWeek\", outputCol=\"day_wk_ind\"),\n",
    "                 feature.StringIndexer(inputCol=\"PdDistrict\",outputCol=\"dist_ind\"),\n",
    "                 feature.StringIndexer(inputCol=\"Category\",outputCol=\"cat_ind\"),\n",
    "                 feature.StringIndexer(inputCol=\"Month\",outputCol=\"mon_ind\"),\n",
    "                 feature.OneHotEncoderEstimator(inputCols=['day_wk_ind','dist_ind','cat_ind','mon_ind'],\n",
    "                                                           outputCols=['day_wk_hot','dist_hot','cat_hot','mon_hot']),\n",
    "                 feature.StringIndexer(inputCol=\"Res_num\", outputCol=\"label\"),\n",
    "                 feature.VectorAssembler(inputCols=['Near noon','Afternoon','evening','Night','day_wk_hot', 'dist_hot','cat_hot','mon_hot'],\n",
    "                                        outputCol='features'),\n",
    "     classification.LogisticRegression(labelCol='label', featuresCol='features', maxIter=10)])\n",
    "lr_m11_fit = lr_m11.fit(training_df)\n",
    "lr_m11_fitted_trans = lr_m11_fit.transform(validation_df)\n",
    "evaluator = evaluation.BinaryClassificationEvaluator(labelCol='label')\n",
    "lr_AUC11 = evaluator.evaluate(lr_m11_fitted_trans)\n",
    "#regParam=0, elasticNetParam=0\n",
    "print('Lr M11 =',lr_AUC11)\n"
   ]
  },
  {
   "cell_type": "code",
   "execution_count": 86,
   "metadata": {},
   "outputs": [],
   "source": [
    "# only category + location + time but day\n",
    "# StringIndexer transformer operates only on a single column at the time so you'll need a single indexer and a single encoder for each column you want to transform.\n",
    "gb_m11 = Pipeline(stages=[\n",
    "                 feature.StringIndexer(inputCol=\"DayOfWeek\", outputCol=\"day_wk_ind\"),\n",
    "                 feature.StringIndexer(inputCol=\"PdDistrict\",outputCol=\"dist_ind\"),\n",
    "                 feature.StringIndexer(inputCol=\"Category\",outputCol=\"cat_ind\"),\n",
    "                 feature.StringIndexer(inputCol=\"Month\",outputCol=\"mon_ind\"),\n",
    "                 feature.OneHotEncoderEstimator(inputCols=['day_wk_ind','dist_ind','cat_ind','mon_ind'],\n",
    "                                                           outputCols=['day_wk_hot','dist_hot','cat_hot','mon_hot']),\n",
    "                 feature.StringIndexer(inputCol=\"Res_num\", outputCol=\"label\"),\n",
    "                 feature.VectorAssembler(inputCols=['Near noon','Afternoon','evening','Night','day_wk_hot', 'dist_hot','cat_hot','mon_hot'],\n",
    "                                        outputCol='features'),\n",
    "     classification.GBTClassifier(labelCol='label', featuresCol='features', maxIter=10)])\n",
    "gb_m11_fit = gb_m11.fit(training_df)\n",
    "gb_m11_fitted_trans = gb_m11_fit.transform(validation_df)\n",
    "evaluator = evaluation.BinaryClassificationEvaluator(labelCol='label')\n",
    "gb_AUC11 = evaluator.evaluate(gb_m11_fitted_trans)\n",
    "#regParam=0, elasticNetParam=0\n",
    "print('gb M11 =',gb_AUC11)\n"
   ]
  },
  {
   "cell_type": "code",
   "execution_count": 87,
   "metadata": {},
   "outputs": [
    {
     "data": {
      "text/html": [
       "<style scoped>\n",
       "  .ansiout {\n",
       "    display: block;\n",
       "    unicode-bidi: embed;\n",
       "    white-space: pre-wrap;\n",
       "    word-wrap: break-word;\n",
       "    word-break: break-all;\n",
       "    font-family: \"Source Code Pro\", \"Menlo\", monospace;;\n",
       "    font-size: 13px;\n",
       "    color: #555;\n",
       "    margin-left: 4px;\n",
       "    line-height: 19px;\n",
       "  }\n",
       "</style>\n",
       "<div class=\"ansiout\">Model12 =  0.8376190033967231\n",
       "</div>"
      ]
     },
     "metadata": {},
     "output_type": "display_data"
    }
   ],
   "source": [
    "# category + location + time but not day and year\n",
    "# StringIndexer transformer operates only on a single column at the time so you'll need a single indexer and a single encoder for each column you want to transform.\n",
    "rf_m12 = Pipeline(stages=[\n",
    "                 feature.StringIndexer(inputCol=\"DayOfWeek\", outputCol=\"day_wk_ind\"),\n",
    "                 feature.StringIndexer(inputCol=\"PdDistrict\",outputCol=\"dist_ind\"),\n",
    "                 feature.StringIndexer(inputCol=\"Category\",outputCol=\"cat_ind\"),\n",
    "                   feature.StringIndexer(inputCol=\"Month\",outputCol=\"mon_ind\"),\n",
    "                 feature.OneHotEncoderEstimator(inputCols=['day_wk_ind','dist_ind','cat_ind','mon_ind'],\n",
    "                                                           outputCols=['day_wk_hot','dist_hot','cat_hot','mon_hot']),\n",
    "                 feature.StringIndexer(inputCol=\"Res_num\", outputCol=\"label\"),\n",
    "                 feature.VectorAssembler(inputCols=['Near noon','Afternoon','evening','Night','day_wk_hot', 'dist_hot','cat_hot','mon_hot'],\n",
    "                                        outputCol='features'),\n",
    "                 classification.RandomForestClassifier(labelCol='label', featuresCol='features',seed = 0,\n",
    "                            numTrees=10, cacheNodeIds = True)])\n",
    "rf_m12_fit = rf_m12.fit(training_df)\n",
    "rf_m12_fitted_trans = rf_m12_fit.transform(validation_df)\n",
    "evaluator = evaluation.BinaryClassificationEvaluator(labelCol='label')\n",
    "AUC12 = evaluator.evaluate(rf_m12_fitted_trans)\n",
    "print('Model12 = ',AUC12)\n"
   ]
  },
  {
   "cell_type": "code",
   "execution_count": 88,
   "metadata": {},
   "outputs": [
    {
     "data": {
      "text/html": [
       "<style scoped>\n",
       "  .ansiout {\n",
       "    display: block;\n",
       "    unicode-bidi: embed;\n",
       "    white-space: pre-wrap;\n",
       "    word-wrap: break-word;\n",
       "    word-break: break-all;\n",
       "    font-family: \"Source Code Pro\", \"Menlo\", monospace;;\n",
       "    font-size: 13px;\n",
       "    color: #555;\n",
       "    margin-left: 4px;\n",
       "    line-height: 19px;\n",
       "  }\n",
       "</style>\n",
       "<div class=\"ansiout\">Lr M12 = 0.859777590003102\n",
       "</div>"
      ]
     },
     "metadata": {},
     "output_type": "display_data"
    }
   ],
   "source": [
    "# category + location + time but not day and year\n",
    "# StringIndexer transformer operates only on a single column at the time so you'll need a single indexer and a single encoder for each column you want to transform.\n",
    "lr_m12 = Pipeline(stages=[\n",
    "                 feature.StringIndexer(inputCol=\"DayOfWeek\", outputCol=\"day_wk_ind\"),\n",
    "                 feature.StringIndexer(inputCol=\"PdDistrict\",outputCol=\"dist_ind\"),\n",
    "                 feature.StringIndexer(inputCol=\"Category\",outputCol=\"cat_ind\"),\n",
    "                   feature.StringIndexer(inputCol=\"Month\",outputCol=\"mon_ind\"),\n",
    "                 feature.OneHotEncoderEstimator(inputCols=['day_wk_ind','dist_ind','cat_ind','mon_ind'],\n",
    "                                                           outputCols=['day_wk_hot','dist_hot','cat_hot','mon_hot']),\n",
    "                 feature.StringIndexer(inputCol=\"Res_num\", outputCol=\"label\"),\n",
    "                 feature.VectorAssembler(inputCols=['Near noon','Afternoon','evening','Night','day_wk_hot', 'dist_hot','cat_hot','mon_hot'],\n",
    "                                        outputCol='features'),\n",
    "     classification.LogisticRegression(labelCol='label', featuresCol='features', maxIter=10)])\n",
    "lr_m12_fit = lr_m12.fit(training_df)\n",
    "lr_m12_fitted_trans = lr_m12_fit.transform(validation_df)\n",
    "evaluator = evaluation.BinaryClassificationEvaluator(labelCol='label')\n",
    "lr_AUC12 = evaluator.evaluate(lr_m12_fitted_trans)\n",
    "#regParam=0, elasticNetParam=0\n",
    "print('Lr M12 =',lr_AUC12)\n"
   ]
  },
  {
   "cell_type": "code",
   "execution_count": 89,
   "metadata": {},
   "outputs": [],
   "source": [
    "# category + location + time but not day and year\n",
    "# StringIndexer transformer operates only on a single column at the time so you'll need a single indexer and a single encoder for each column you want to transform.\n",
    "gb_m12 = Pipeline(stages=[\n",
    "                 feature.StringIndexer(inputCol=\"DayOfWeek\", outputCol=\"day_wk_ind\"),\n",
    "                 feature.StringIndexer(inputCol=\"PdDistrict\",outputCol=\"dist_ind\"),\n",
    "                 feature.StringIndexer(inputCol=\"Category\",outputCol=\"cat_ind\"),\n",
    "                   feature.StringIndexer(inputCol=\"Month\",outputCol=\"mon_ind\"),\n",
    "                 feature.OneHotEncoderEstimator(inputCols=['day_wk_ind','dist_ind','cat_ind','mon_ind'],\n",
    "                                                           outputCols=['day_wk_hot','dist_hot','cat_hot','mon_hot']),\n",
    "                 feature.StringIndexer(inputCol=\"Res_num\", outputCol=\"label\"),\n",
    "                 feature.VectorAssembler(inputCols=['Near noon','Afternoon','evening','Night','day_wk_hot', 'dist_hot','cat_hot','mon_hot'],\n",
    "                                        outputCol='features'),\n",
    "     classification.GBTClassifier(labelCol='label', featuresCol='features', maxIter=10)])\n",
    "gb_m12_fit = gb_m12.fit(training_df)\n",
    "gb_m12_fitted_trans = gb_m12_fit.transform(validation_df)\n",
    "evaluator = evaluation.BinaryClassificationEvaluator(labelCol='label')\n",
    "gb_AUC12 = evaluator.evaluate(gb_m12_fitted_trans)\n",
    "#regParam=0, elasticNetParam=0\n",
    "print('gb M12 =',gb_AUC12)\n"
   ]
  },
  {
   "cell_type": "code",
   "execution_count": 90,
   "metadata": {},
   "outputs": [
    {
     "data": {
      "text/html": [
       "<style scoped>\n",
       "  .ansiout {\n",
       "    display: block;\n",
       "    unicode-bidi: embed;\n",
       "    white-space: pre-wrap;\n",
       "    word-wrap: break-word;\n",
       "    word-break: break-all;\n",
       "    font-family: \"Source Code Pro\", \"Menlo\", monospace;;\n",
       "    font-size: 13px;\n",
       "    color: #555;\n",
       "    margin-left: 4px;\n",
       "    line-height: 19px;\n",
       "  }\n",
       "</style>\n",
       "<div class=\"ansiout\">Model13 =  0.8487878394661252\n",
       "</div>"
      ]
     },
     "metadata": {},
     "output_type": "display_data"
    }
   ],
   "source": [
    "# category + location + time but not day and year and month\n",
    "# StringIndexer transformer operates only on a single column at the time so you'll need a single indexer and a single encoder for each column you want to transform.\n",
    "rf_m13 = Pipeline(stages=[\n",
    "                 feature.StringIndexer(inputCol=\"DayOfWeek\", outputCol=\"day_wk_ind\"),\n",
    "                 feature.StringIndexer(inputCol=\"PdDistrict\",outputCol=\"dist_ind\"),\n",
    "                 feature.StringIndexer(inputCol=\"Category\",outputCol=\"cat_ind\"),\n",
    "                 feature.OneHotEncoderEstimator(inputCols=['day_wk_ind','dist_ind','cat_ind'],\n",
    "                                                           outputCols=['day_wk_hot','dist_hot','cat_hot']),\n",
    "                 feature.StringIndexer(inputCol=\"Res_num\", outputCol=\"label\"),\n",
    "                 feature.VectorAssembler(inputCols=['Near noon','Afternoon','evening','Night','day_wk_hot', 'dist_hot','cat_hot'],\n",
    "                                        outputCol='features'),\n",
    "                 classification.RandomForestClassifier(labelCol='label', featuresCol='features',seed = 0,\n",
    "                            numTrees=10, cacheNodeIds = True)])\n",
    "rf_m13_fit = rf_m13.fit(training_df)\n",
    "rf_m13_fitted_trans = rf_m13_fit.transform(validation_df)\n",
    "evaluator = evaluation.BinaryClassificationEvaluator(labelCol='Res_num')\n",
    "AUC13 = evaluator.evaluate(rf_m13_fitted_trans)\n",
    "print('Model13 = ',AUC13)\n"
   ]
  },
  {
   "cell_type": "code",
   "execution_count": 91,
   "metadata": {},
   "outputs": [
    {
     "data": {
      "text/html": [
       "<style scoped>\n",
       "  .ansiout {\n",
       "    display: block;\n",
       "    unicode-bidi: embed;\n",
       "    white-space: pre-wrap;\n",
       "    word-wrap: break-word;\n",
       "    word-break: break-all;\n",
       "    font-family: \"Source Code Pro\", \"Menlo\", monospace;;\n",
       "    font-size: 13px;\n",
       "    color: #555;\n",
       "    margin-left: 4px;\n",
       "    line-height: 19px;\n",
       "  }\n",
       "</style>\n",
       "<div class=\"ansiout\">Lr M13 = 0.8596619487622039\n",
       "</div>"
      ]
     },
     "metadata": {},
     "output_type": "display_data"
    }
   ],
   "source": [
    "# category + location + time but not day and year and month\n",
    "# StringIndexer transformer operates only on a single column at the time so you'll need a single indexer and a single encoder for each column you want to transform.\n",
    "lr_m13 = Pipeline(stages=[\n",
    "                 feature.StringIndexer(inputCol=\"DayOfWeek\", outputCol=\"day_wk_ind\"),\n",
    "                 feature.StringIndexer(inputCol=\"PdDistrict\",outputCol=\"dist_ind\"),\n",
    "                 feature.StringIndexer(inputCol=\"Category\",outputCol=\"cat_ind\"),\n",
    "                 feature.OneHotEncoderEstimator(inputCols=['day_wk_ind','dist_ind','cat_ind'],\n",
    "                                                           outputCols=['day_wk_hot','dist_hot','cat_hot']),\n",
    "                 feature.StringIndexer(inputCol=\"Res_num\", outputCol=\"label\"),\n",
    "                 feature.VectorAssembler(inputCols=['Near noon','Afternoon','evening','Night','day_wk_hot', 'dist_hot','cat_hot'],\n",
    "                                        outputCol='features'),\n",
    "     classification.LogisticRegression(labelCol='Res_num', featuresCol='features', maxIter=10)])\n",
    "lr_m13_fit = lr_m13.fit(training_df)\n",
    "lr_m13_fitted_trans = lr_m13_fit.transform(validation_df)\n",
    "evaluator = evaluation.BinaryClassificationEvaluator(labelCol='Res_num')\n",
    "lr_AUC13 = evaluator.evaluate(lr_m13_fitted_trans)\n",
    "#regParam=0, elasticNetParam=0\n",
    "print('Lr M13 =',lr_AUC13)\n"
   ]
  },
  {
   "cell_type": "code",
   "execution_count": 92,
   "metadata": {},
   "outputs": [
    {
     "data": {
      "text/html": [
       "<style scoped>\n",
       "  .ansiout {\n",
       "    display: block;\n",
       "    unicode-bidi: embed;\n",
       "    white-space: pre-wrap;\n",
       "    word-wrap: break-word;\n",
       "    word-break: break-all;\n",
       "    font-family: \"Source Code Pro\", \"Menlo\", monospace;;\n",
       "    font-size: 13px;\n",
       "    color: #555;\n",
       "    margin-left: 4px;\n",
       "    line-height: 19px;\n",
       "  }\n",
       "</style>\n",
       "<div class=\"ansiout\">gb M13 = 0.8539577849657428\n",
       "</div>"
      ]
     },
     "metadata": {},
     "output_type": "display_data"
    }
   ],
   "source": [
    "# category + location + time but not day and year and month\n",
    "# StringIndexer transformer operates only on a single column at the time so you'll need a single indexer and a single encoder for each column you want to transform.\n",
    "gb_m13 = Pipeline(stages=[\n",
    "                 feature.StringIndexer(inputCol=\"DayOfWeek\", outputCol=\"day_wk_ind\"),\n",
    "                 feature.StringIndexer(inputCol=\"PdDistrict\",outputCol=\"dist_ind\"),\n",
    "                 feature.StringIndexer(inputCol=\"Category\",outputCol=\"cat_ind\"),\n",
    "                 feature.OneHotEncoderEstimator(inputCols=['day_wk_ind','dist_ind','cat_ind'],\n",
    "                                                           outputCols=['day_wk_hot','dist_hot','cat_hot']),\n",
    "                 feature.StringIndexer(inputCol=\"Res_num\", outputCol=\"label\"),\n",
    "                 feature.VectorAssembler(inputCols=['Near noon','Afternoon','evening','Night','day_wk_hot', 'dist_hot','cat_hot'],\n",
    "                                        outputCol='features'),\n",
    "     classification.GBTClassifier(labelCol='Res_num', featuresCol='features', maxIter=10)])\n",
    "gb_m13_fit = gb_m13.fit(training_df)\n",
    "gb_m13_fitted_trans = gb_m13_fit.transform(validation_df)\n",
    "evaluator = evaluation.BinaryClassificationEvaluator(labelCol='Res_num')\n",
    "gb_AUC13 = evaluator.evaluate(gb_m13_fitted_trans)\n",
    "#regParam=0, elasticNetParam=0\n",
    "print('gb M13 =',gb_AUC13)\n"
   ]
  },
  {
   "cell_type": "code",
   "execution_count": 93,
   "metadata": {},
   "outputs": [
    {
     "data": {
      "text/html": [
       "<style scoped>\n",
       "  .ansiout {\n",
       "    display: block;\n",
       "    unicode-bidi: embed;\n",
       "    white-space: pre-wrap;\n",
       "    word-wrap: break-word;\n",
       "    word-break: break-all;\n",
       "    font-family: \"Source Code Pro\", \"Menlo\", monospace;;\n",
       "    font-size: 13px;\n",
       "    color: #555;\n",
       "    margin-left: 4px;\n",
       "    line-height: 19px;\n",
       "  }\n",
       "</style>\n",
       "<div class=\"ansiout\">Model15 =  0.832515743266794\n",
       "</div>"
      ]
     },
     "metadata": {},
     "output_type": "display_data"
    }
   ],
   "source": [
    "# category + location + time but not day and hour\n",
    "# StringIndexer transformer operates only on a single column at the time so you'll need a single indexer and a single encoder for each column you want to transform.\n",
    "rf_m15 = Pipeline(stages=[\n",
    "                 feature.StringIndexer(inputCol=\"DayOfWeek\", outputCol=\"day_wk_ind\"),\n",
    "                 feature.StringIndexer(inputCol=\"PdDistrict\",outputCol=\"dist_ind\"),\n",
    "                 feature.StringIndexer(inputCol=\"Category\",outputCol=\"cat_ind\"),\n",
    "                 feature.StringIndexer(inputCol=\"Month\",outputCol=\"mon_ind\"),\n",
    "                 feature.OneHotEncoderEstimator(inputCols=['day_wk_ind','dist_ind','cat_ind','mon_ind'],\n",
    "                                                           outputCols=['day_wk_hot','dist_hot','cat_hot','mon_hot']),\n",
    "                 feature.StringIndexer(inputCol=\"Res_num\", outputCol=\"label\"),\n",
    "                 feature.VectorAssembler(inputCols=['day_wk_hot','dist_hot','cat_hot','mon_hot'],\n",
    "                                        outputCol='features'),\n",
    "                 classification.RandomForestClassifier(labelCol='label', featuresCol='features',seed = 0,\n",
    "                            numTrees=10, cacheNodeIds = True)])\n",
    "rf_m15_fit = rf_m15.fit(training_df)\n",
    "rf_m15_fitted_trans = rf_m15_fit.transform(validation_df)\n",
    "evaluator = evaluation.BinaryClassificationEvaluator(labelCol='label')\n",
    "AUC15 = evaluator.evaluate(rf_m15_fitted_trans)\n",
    "print('Model15 = ',AUC15)\n"
   ]
  },
  {
   "cell_type": "code",
   "execution_count": 94,
   "metadata": {},
   "outputs": [
    {
     "data": {
      "text/html": [
       "<style scoped>\n",
       "  .ansiout {\n",
       "    display: block;\n",
       "    unicode-bidi: embed;\n",
       "    white-space: pre-wrap;\n",
       "    word-wrap: break-word;\n",
       "    word-break: break-all;\n",
       "    font-family: \"Source Code Pro\", \"Menlo\", monospace;;\n",
       "    font-size: 13px;\n",
       "    color: #555;\n",
       "    margin-left: 4px;\n",
       "    line-height: 19px;\n",
       "  }\n",
       "</style>\n",
       "<div class=\"ansiout\">Lr M15 = 0.85933708639072\n",
       "</div>"
      ]
     },
     "metadata": {},
     "output_type": "display_data"
    }
   ],
   "source": [
    "# category + location + time but not day and hour\n",
    "# StringIndexer transformer operates only on a single column at the time so you'll need a single indexer and a single encoder for each column you want to transform.\n",
    "lr_m15 = Pipeline(stages=[\n",
    "                 feature.StringIndexer(inputCol=\"DayOfWeek\", outputCol=\"day_wk_ind\"),\n",
    "                 feature.StringIndexer(inputCol=\"PdDistrict\",outputCol=\"dist_ind\"),\n",
    "                 feature.StringIndexer(inputCol=\"Category\",outputCol=\"cat_ind\"),\n",
    "                 feature.StringIndexer(inputCol=\"Month\",outputCol=\"mon_ind\"),\n",
    "                 feature.OneHotEncoderEstimator(inputCols=['day_wk_ind','dist_ind','cat_ind','mon_ind'],\n",
    "                                                           outputCols=['day_wk_hot','dist_hot','cat_hot','mon_hot']),\n",
    "                 feature.StringIndexer(inputCol=\"Res_num\", outputCol=\"label\"),\n",
    "                 feature.VectorAssembler(inputCols=['day_wk_hot','dist_hot','cat_hot','mon_hot'],\n",
    "                                        outputCol='features'),\n",
    "     classification.LogisticRegression(labelCol='label', featuresCol='features', maxIter=10)])\n",
    "lr_m15_fit = lr_m15.fit(training_df)\n",
    "lr_m15_fitted_trans = lr_m15_fit.transform(validation_df)\n",
    "evaluator = evaluation.BinaryClassificationEvaluator(labelCol='label')\n",
    "lr_AUC15 = evaluator.evaluate(lr_m15_fitted_trans)\n",
    "#regParam=0, elasticNetParam=0\n",
    "print('Lr M15 =',lr_AUC15)"
   ]
  },
  {
   "cell_type": "code",
   "execution_count": 95,
   "metadata": {},
   "outputs": [
    {
     "data": {
      "text/html": [
       "<style scoped>\n",
       "  .ansiout {\n",
       "    display: block;\n",
       "    unicode-bidi: embed;\n",
       "    white-space: pre-wrap;\n",
       "    word-wrap: break-word;\n",
       "    word-break: break-all;\n",
       "    font-family: \"Source Code Pro\", \"Menlo\", monospace;;\n",
       "    font-size: 13px;\n",
       "    color: #555;\n",
       "    margin-left: 4px;\n",
       "    line-height: 19px;\n",
       "  }\n",
       "</style>\n",
       "<div class=\"ansiout\">gb M15 = 0.8529567997467483\n",
       "</div>"
      ]
     },
     "metadata": {},
     "output_type": "display_data"
    }
   ],
   "source": [
    "# category + location + time but not day and hour\n",
    "# StringIndexer transformer operates only on a single column at the time so you'll need a single indexer and a single encoder for each column you want to transform.\n",
    "gb_m15 = Pipeline(stages=[\n",
    "                 feature.StringIndexer(inputCol=\"DayOfWeek\", outputCol=\"day_wk_ind\"),\n",
    "                 feature.StringIndexer(inputCol=\"PdDistrict\",outputCol=\"dist_ind\"),\n",
    "                 feature.StringIndexer(inputCol=\"Category\",outputCol=\"cat_ind\"),\n",
    "                 feature.StringIndexer(inputCol=\"Month\",outputCol=\"mon_ind\"),\n",
    "                 feature.OneHotEncoderEstimator(inputCols=['day_wk_ind','dist_ind','cat_ind','mon_ind'],\n",
    "                                                           outputCols=['day_wk_hot','dist_hot','cat_hot','mon_hot']),\n",
    "                 feature.StringIndexer(inputCol=\"Res_num\", outputCol=\"label\"),\n",
    "                 feature.VectorAssembler(inputCols=['day_wk_hot','dist_hot','cat_hot','mon_hot'],\n",
    "                                        outputCol='features'),\n",
    "     classification.GBTClassifier(labelCol='label', featuresCol='features', maxIter=10)])\n",
    "gb_m15_fit = gb_m15.fit(training_df)\n",
    "gb_m15_fitted_trans = gb_m15_fit.transform(validation_df)\n",
    "evaluator = evaluation.BinaryClassificationEvaluator(labelCol='label')\n",
    "gb_AUC15 = evaluator.evaluate(gb_m15_fitted_trans)\n",
    "#regParam=0, elasticNetParam=0\n",
    "print('gb M15 =',gb_AUC15)"
   ]
  },
  {
   "cell_type": "markdown",
   "metadata": {},
   "source": [
    "## Evaluate models and get feature importance"
   ]
  },
  {
   "cell_type": "code",
   "execution_count": 96,
   "metadata": {},
   "outputs": [
    {
     "data": {
      "text/html": [
       "<style scoped>\n",
       "  .ansiout {\n",
       "    display: block;\n",
       "    unicode-bidi: embed;\n",
       "    white-space: pre-wrap;\n",
       "    word-wrap: break-word;\n",
       "    word-break: break-all;\n",
       "    font-family: \"Source Code Pro\", \"Menlo\", monospace;;\n",
       "    font-size: 13px;\n",
       "    color: #555;\n",
       "    margin-left: 4px;\n",
       "    line-height: 19px;\n",
       "  }\n",
       "</style>\n",
       "<div class=\"ansiout\"></div>"
      ]
     },
     "metadata": {},
     "output_type": "display_data"
    }
   ],
   "source": [
    "rf_m13_fit_model = rf_m13_fit.stages[-1]"
   ]
  },
  {
   "cell_type": "code",
   "execution_count": 97,
   "metadata": {},
   "outputs": [
    {
     "data": {
      "text/html": [
       "<style scoped>\n",
       "  .ansiout {\n",
       "    display: block;\n",
       "    unicode-bidi: embed;\n",
       "    white-space: pre-wrap;\n",
       "    word-wrap: break-word;\n",
       "    word-break: break-all;\n",
       "    font-family: \"Source Code Pro\", \"Menlo\", monospace;;\n",
       "    font-size: 13px;\n",
       "    color: #555;\n",
       "    margin-left: 4px;\n",
       "    line-height: 19px;\n",
       "  }\n",
       "</style>\n",
       "<div class=\"ansiout\"></div>"
      ]
     },
     "metadata": {},
     "output_type": "display_data"
    }
   ],
   "source": [
    "m13_trans = rf_m13_fit.transform(validation_df)"
   ]
  },
  {
   "cell_type": "code",
   "execution_count": 98,
   "metadata": {},
   "outputs": [
    {
     "data": {
      "text/html": [
       "<style scoped>\n",
       "  .ansiout {\n",
       "    display: block;\n",
       "    unicode-bidi: embed;\n",
       "    white-space: pre-wrap;\n",
       "    word-wrap: break-word;\n",
       "    word-break: break-all;\n",
       "    font-family: \"Source Code Pro\", \"Menlo\", monospace;;\n",
       "    font-size: 13px;\n",
       "    color: #555;\n",
       "    margin-left: 4px;\n",
       "    line-height: 19px;\n",
       "  }\n",
       "</style>\n",
       "<div class=\"ansiout\"></div>"
      ]
     },
     "metadata": {},
     "output_type": "display_data"
    }
   ],
   "source": [
    "# define function that extract features that are inside Onehotencoder\n",
    "def ExtractFeatureImp(featureImp, dataset, featuresCol):\n",
    "    list_extract = []\n",
    "    for i in dataset.schema[featuresCol].metadata[\"ml_attr\"][\"attrs\"]:\n",
    "        list_extract = list_extract + dataset.schema[featuresCol].metadata[\"ml_attr\"][\"attrs\"][i]\n",
    "    varlist = pd.DataFrame(list_extract)\n",
    "    varlist['score'] = varlist['idx'].apply(lambda x: featureImp[x])\n",
    "    return(varlist.sort_values('score', ascending = False))"
   ]
  },
  {
   "cell_type": "code",
   "execution_count": 99,
   "metadata": {},
   "outputs": [
    {
     "data": {
      "text/html": [
       "<style scoped>\n",
       "  .ansiout {\n",
       "    display: block;\n",
       "    unicode-bidi: embed;\n",
       "    white-space: pre-wrap;\n",
       "    word-wrap: break-word;\n",
       "    word-break: break-all;\n",
       "    font-family: \"Source Code Pro\", \"Menlo\", monospace;;\n",
       "    font-size: 13px;\n",
       "    color: #555;\n",
       "    margin-left: 4px;\n",
       "    line-height: 19px;\n",
       "  }\n",
       "</style>\n",
       "<div class=\"ansiout\"><span class=\"ansired\">Out[</span><span class=\"ansired\">110</span><span class=\"ansired\">]: </span>\n",
       "    idx                       name     score\n",
       "15   19      cat_hot_LARCENY/THEFT  0.350807\n",
       "21   25           cat_hot_WARRANTS  0.212003\n",
       "19   23      cat_hot_DRUG/NARCOTIC  0.168421\n",
       "16   20     cat_hot_OTHER OFFENSES  0.082641\n",
       "24   28      cat_hot_VEHICLE THEFT  0.030740\n",
       "20   24          cat_hot_VANDALISM  0.028742\n",
       "32   36       cat_hot_PROSTITUTION  0.025000\n",
       "23   27     cat_hot_SUSPICIOUS OCC  0.023657\n",
       "25   29     cat_hot_MISSING PERSON  0.016674\n",
       "10   14        dist_hot_TENDERLOIN  0.014631\n",
       "17   21       cat_hot_NON-CRIMINAL  0.013147\n",
       "22   26           cat_hot_BURGLARY  0.010811\n",
       "11   15           dist_hot_CENTRAL  0.006464\n",
       "29   33        cat_hot_WEAPON LAWS  0.005833\n",
       "33   37    cat_hot_STOLEN PROPERTY  0.003080\n",
       "26   30            cat_hot_ROBBERY  0.002869\n",
       "35   39        cat_hot_DRUNKENNESS  0.001826\n",
       "37   41  cat_hot_RECOVERED VEHICLE  0.000983\n",
       "31   35           cat_hot_TRESPASS  0.000870\n",
       "53    0                  Near noon  0.000469\n",
       "</div>"
      ]
     },
     "metadata": {},
     "output_type": "display_data"
    }
   ],
   "source": [
    "# random forest\n",
    "ExtractFeatureImp(rf_m13_fit_model.featureImportances, m13_trans, \"features\").head(20)\n"
   ]
  },
  {
   "cell_type": "code",
   "execution_count": 100,
   "metadata": {},
   "outputs": [
    {
     "data": {
      "text/html": [
       "<style scoped>\n",
       "  .ansiout {\n",
       "    display: block;\n",
       "    unicode-bidi: embed;\n",
       "    white-space: pre-wrap;\n",
       "    word-wrap: break-word;\n",
       "    word-break: break-all;\n",
       "    font-family: \"Source Code Pro\", \"Menlo\", monospace;;\n",
       "    font-size: 13px;\n",
       "    color: #555;\n",
       "    margin-left: 4px;\n",
       "    line-height: 19px;\n",
       "  }\n",
       "</style>\n",
       "<div class=\"ansiout\"><span class=\"ansired\">Out[</span><span class=\"ansired\">99</span><span class=\"ansired\">]: </span>\n",
       "    idx                                 name     score\n",
       "32   36                 cat_hot_PROSTITUTION  3.384937\n",
       "38   42  cat_hot_DRIVING UNDER THE INFLUENCE  3.300505\n",
       "21   25                     cat_hot_WARRANTS  3.205798\n",
       "44   48                    cat_hot_LOITERING  2.656262\n",
       "33   37              cat_hot_STOLEN PROPERTY  2.579907\n",
       "19   23                cat_hot_DRUG/NARCOTIC  2.552084\n",
       "40   44                  cat_hot_LIQUOR LAWS  2.247362\n",
       "35   39                  cat_hot_DRUNKENNESS  1.859955\n",
       "29   33                  cat_hot_WEAPON LAWS  1.601925\n",
       "16   20               cat_hot_OTHER OFFENSES  1.435104\n",
       "31   35                     cat_hot_TRESPASS  1.288321\n",
       "34   38           cat_hot_DISORDERLY CONDUCT  1.285137\n",
       "25   29               cat_hot_MISSING PERSON  1.191855\n",
       "47   51                      cat_hot_BRIBERY  0.956689\n",
       "41   45                      cat_hot_RUNAWAY  0.915593\n",
       "51   55                     cat_hot_GAMBLING  0.900370\n",
       "10   14                  dist_hot_TENDERLOIN  0.856712\n",
       "52   56      cat_hot_PORNOGRAPHY/OBSCENE MAT  0.720851\n",
       "39   43                   cat_hot_KIDNAPPING  0.648959\n",
       "50   54   cat_hot_SEX OFFENSES, NON FORCIBLE  0.586569\n",
       "28   32              cat_hot_SECONDARY CODES  0.432485\n",
       "7    11                     dist_hot_MISSION  0.253153\n",
       "36   40       cat_hot_SEX OFFENSES, FORCIBLE  0.248660\n",
       "6    10                    dist_hot_SOUTHERN  0.223013\n",
       "18   22                      cat_hot_ASSAULT  0.173095\n",
       "65    1                            Afternoon  0.096704\n",
       "9    13                     dist_hot_BAYVIEW  0.076757\n",
       "14   18                        dist_hot_PARK  0.026728\n",
       "66    2                              evening  0.009979\n",
       "12   16                   dist_hot_INGLESIDE  0.008584\n",
       "56   60                            mon_hot_3 -0.006701\n",
       "58   62                            mon_hot_5 -0.020146\n",
       "1     5                 day_wk_hot_Wednesday -0.030002\n",
       "2     6                  day_wk_hot_Saturday -0.038504\n",
       "57   61                            mon_hot_1 -0.041462\n",
       "5     9                    day_wk_hot_Monday -0.041582\n",
       "61   65                            mon_hot_4 -0.045327\n",
       "54   58                            mon_hot_9 -0.045798\n",
       "3     7                   day_wk_hot_Tuesday -0.052801\n",
       "4     8                  day_wk_hot_Thursday -0.062922\n",
       "46   50              cat_hot_FAMILY OFFENSES -0.063468\n",
       "8    12                    dist_hot_NORTHERN -0.066092\n",
       "53   57                           mon_hot_10 -0.071281\n",
       "60   64                           mon_hot_11 -0.077105\n",
       "67    3                                Night -0.077713\n",
       "59   63                            mon_hot_7 -0.082013\n",
       "13   17                     dist_hot_TARAVAL -0.087213\n",
       "55   59                            mon_hot_8 -0.088748\n",
       "62   66                           mon_hot_12 -0.103471\n",
       "63   67                            mon_hot_6 -0.113699\n",
       "0     4                    day_wk_hot_Friday -0.121721\n",
       "11   15                     dist_hot_CENTRAL -0.155084\n",
       "64    0                            Near noon -0.176915\n",
       "30   34       cat_hot_FORGERY/COUNTERFEITING -0.283465\n",
       "45   49                      cat_hot_SUICIDE -0.320238\n",
       "17   21                 cat_hot_NON-CRIMINAL -0.532588\n",
       "43   47                 cat_hot_EMBEZZLEMENT -0.542211\n",
       "49   53                    cat_hot_EXTORTION -0.564321\n",
       "26   30                      cat_hot_ROBBERY -0.853877\n",
       "42   46                        cat_hot_ARSON -1.003143\n",
       "</div>"
      ]
     },
     "metadata": {},
     "output_type": "display_data"
    }
   ],
   "source": [
    "# logistic regression\n",
    "lr_m2_fit_model = lr_m2_fit.stages[-1]\n",
    "m2_trans = lr_m2_fit.transform(validation_df)\n",
    "ExtractFeatureImp(lr_m2_fit_model.coefficients, m2_trans, \"features\").head(60)"
   ]
  },
  {
   "cell_type": "code",
   "execution_count": 101,
   "metadata": {},
   "outputs": [
    {
     "data": {
      "text/html": [
       "<style scoped>\n",
       "  .ansiout {\n",
       "    display: block;\n",
       "    unicode-bidi: embed;\n",
       "    white-space: pre-wrap;\n",
       "    word-wrap: break-word;\n",
       "    word-break: break-all;\n",
       "    font-family: \"Source Code Pro\", \"Menlo\", monospace;;\n",
       "    font-size: 13px;\n",
       "    color: #555;\n",
       "    margin-left: 4px;\n",
       "    line-height: 19px;\n",
       "  }\n",
       "</style>\n",
       "<div class=\"ansiout\"><span class=\"ansired\">Out[</span><span class=\"ansired\">115</span><span class=\"ansired\">]: </span>10\n",
       "</div>"
      ]
     },
     "metadata": {},
     "output_type": "display_data"
    }
   ],
   "source": [
    "len(rf_m13_fit_model.trees)"
   ]
  },
  {
   "cell_type": "code",
   "execution_count": 102,
   "metadata": {},
   "outputs": [
    {
     "data": {
      "text/html": [
       "<style scoped>\n",
       "  .ansiout {\n",
       "    display: block;\n",
       "    unicode-bidi: embed;\n",
       "    white-space: pre-wrap;\n",
       "    word-wrap: break-word;\n",
       "    word-break: break-all;\n",
       "    font-family: \"Source Code Pro\", \"Menlo\", monospace;;\n",
       "    font-size: 13px;\n",
       "    color: #555;\n",
       "    margin-left: 4px;\n",
       "    line-height: 19px;\n",
       "  }\n",
       "</style>\n",
       "<div class=\"ansiout\">DecisionTreeClassificationModel (uid=dtc_266541dc7cd2) of depth 5 with 13 nodes\n",
       "  If (feature 26 in {1.0})\n",
       "   Predict: 0.0\n",
       "  Else (feature 26 not in {1.0})\n",
       "   If (feature 27 in {1.0})\n",
       "    Predict: 0.0\n",
       "   Else (feature 27 not in {1.0})\n",
       "    If (feature 15 in {1.0})\n",
       "     If (feature 23 in {1.0})\n",
       "      Predict: 1.0\n",
       "     Else (feature 23 not in {1.0})\n",
       "      Predict: 0.0\n",
       "    Else (feature 15 not in {1.0})\n",
       "     If (feature 23 in {1.0})\n",
       "      Predict: 1.0\n",
       "     Else (feature 23 not in {1.0})\n",
       "      If (feature 25 in {1.0})\n",
       "       Predict: 1.0\n",
       "      Else (feature 25 not in {1.0})\n",
       "       Predict: 0.0\n",
       "\n",
       "</div>"
      ]
     },
     "metadata": {},
     "output_type": "display_data"
    }
   ],
   "source": [
    "# view a random tree\n",
    "print(rf_m13_fit_model.trees[1].toDebugString)"
   ]
  },
  {
   "cell_type": "code",
   "execution_count": 103,
   "metadata": {},
   "outputs": [
    {
     "data": {
      "text/html": [
       "<style scoped>\n",
       "  .ansiout {\n",
       "    display: block;\n",
       "    unicode-bidi: embed;\n",
       "    white-space: pre-wrap;\n",
       "    word-wrap: break-word;\n",
       "    word-break: break-all;\n",
       "    font-family: \"Source Code Pro\", \"Menlo\", monospace;;\n",
       "    font-size: 13px;\n",
       "    color: #555;\n",
       "    margin-left: 4px;\n",
       "    line-height: 19px;\n",
       "  }\n",
       "</style>\n",
       "<div class=\"ansiout\"><span class=\"ansired\">Out[</span><span class=\"ansired\">105</span><span class=\"ansired\">]: </span>\n",
       "    idx                                 name     score\n",
       "32   36                 cat_hot_PROSTITUTION  0.111098\n",
       "24   28                cat_hot_VEHICLE THEFT  0.099832\n",
       "15   19                cat_hot_LARCENY/THEFT  0.089903\n",
       "20   24                    cat_hot_VANDALISM  0.075816\n",
       "29   33                  cat_hot_WEAPON LAWS  0.075182\n",
       "38   42  cat_hot_DRIVING UNDER THE INFLUENCE  0.060009\n",
       "35   39                  cat_hot_DRUNKENNESS  0.059306\n",
       "33   37              cat_hot_STOLEN PROPERTY  0.056200\n",
       "23   27               cat_hot_SUSPICIOUS OCC  0.054313\n",
       "18   22                      cat_hot_ASSAULT  0.053592\n",
       "34   38           cat_hot_DISORDERLY CONDUCT  0.044280\n",
       "22   26                     cat_hot_BURGLARY  0.043448\n",
       "10   14                  dist_hot_TENDERLOIN  0.042777\n",
       "31   35                     cat_hot_TRESPASS  0.042353\n",
       "21   25                     cat_hot_WARRANTS  0.021260\n",
       "16   20               cat_hot_OTHER OFFENSES  0.021025\n",
       "19   23                cat_hot_DRUG/NARCOTIC  0.016832\n",
       "40   44                  cat_hot_LIQUOR LAWS  0.015970\n",
       "25   29               cat_hot_MISSING PERSON  0.005203\n",
       "54    1                            Afternoon  0.002132\n",
       "</div>"
      ]
     },
     "metadata": {},
     "output_type": "display_data"
    }
   ],
   "source": [
    "# extract features for gradient boosting\n",
    "gb_m13_fit_model = gb_m13_fit.stages[-1]\n",
    "m13_trans = gb_m13_fit.transform(validation_df)\n",
    "ExtractFeatureImp(gb_m13_fit_model.featureImportances, m13_trans, \"features\").head(20)\n"
   ]
  },
  {
   "cell_type": "code",
   "execution_count": 104,
   "metadata": {},
   "outputs": [
    {
     "data": {
      "text/html": [
       "<style scoped>\n",
       "  .ansiout {\n",
       "    display: block;\n",
       "    unicode-bidi: embed;\n",
       "    white-space: pre-wrap;\n",
       "    word-wrap: break-word;\n",
       "    word-break: break-all;\n",
       "    font-family: \"Source Code Pro\", \"Menlo\", monospace;;\n",
       "    font-size: 13px;\n",
       "    color: #555;\n",
       "    margin-left: 4px;\n",
       "    line-height: 19px;\n",
       "  }\n",
       "</style>\n",
       "<div class=\"ansiout\"><span class=\"ansired\">Out[</span><span class=\"ansired\">107</span><span class=\"ansired\">]: </span>0.8499752229075384\n",
       "</div>"
      ]
     },
     "metadata": {},
     "output_type": "display_data"
    }
   ],
   "source": [
    "# randomForest - category + location + time but not day\n",
    "rf_AUC_best = evaluator.evaluate(rf_m13_fit.transform(testing_df))\n",
    "rf_AUC_best"
   ]
  },
  {
   "cell_type": "code",
   "execution_count": 105,
   "metadata": {},
   "outputs": [
    {
     "data": {
      "text/html": [
       "<style scoped>\n",
       "  .ansiout {\n",
       "    display: block;\n",
       "    unicode-bidi: embed;\n",
       "    white-space: pre-wrap;\n",
       "    word-wrap: break-word;\n",
       "    word-break: break-all;\n",
       "    font-family: \"Source Code Pro\", \"Menlo\", monospace;;\n",
       "    font-size: 13px;\n",
       "    color: #555;\n",
       "    margin-left: 4px;\n",
       "    line-height: 19px;\n",
       "  }\n",
       "</style>\n",
       "<div class=\"ansiout\"><span class=\"ansired\">Out[</span><span class=\"ansired\">106</span><span class=\"ansired\">]: </span>0.8543893908932496\n",
       "</div>"
      ]
     },
     "metadata": {},
     "output_type": "display_data"
    }
   ],
   "source": [
    "# best model from gradient boosting\n",
    "gb_AUC_best = evaluator.evaluate(gb_m13_fit.transform(testing_df))\n",
    "gb_AUC_best"
   ]
  },
  {
   "cell_type": "code",
   "execution_count": 106,
   "metadata": {},
   "outputs": [
    {
     "data": {
      "text/html": [
       "<style scoped>\n",
       "  .ansiout {\n",
       "    display: block;\n",
       "    unicode-bidi: embed;\n",
       "    white-space: pre-wrap;\n",
       "    word-wrap: break-word;\n",
       "    word-break: break-all;\n",
       "    font-family: \"Source Code Pro\", \"Menlo\", monospace;;\n",
       "    font-size: 13px;\n",
       "    color: #555;\n",
       "    margin-left: 4px;\n",
       "    line-height: 19px;\n",
       "  }\n",
       "</style>\n",
       "<div class=\"ansiout\"><span class=\"ansired\">Out[</span><span class=\"ansired\">103</span><span class=\"ansired\">]: </span>0.8564411406900194\n",
       "</div>"
      ]
     },
     "metadata": {},
     "output_type": "display_data"
    }
   ],
   "source": [
    "# Logistic Regression - category + location + time but not day and year\n",
    "lr_AUC_best = evaluator.evaluate(lr_m12_fit.transform(testing_df))\n",
    "lr_AUC_best"
   ]
  },
  {
   "cell_type": "markdown",
   "metadata": {},
   "source": [
    "## Evaluate models by confustion matrix \n",
    "- Calculating recall and precision for each best model respectively"
   ]
  },
  {
   "cell_type": "code",
   "execution_count": 107,
   "metadata": {},
   "outputs": [
    {
     "data": {
      "text/html": [
       "<style scoped>\n",
       "  .ansiout {\n",
       "    display: block;\n",
       "    unicode-bidi: embed;\n",
       "    white-space: pre-wrap;\n",
       "    word-wrap: break-word;\n",
       "    word-break: break-all;\n",
       "    font-family: \"Source Code Pro\", \"Menlo\", monospace;;\n",
       "    font-size: 13px;\n",
       "    color: #555;\n",
       "    margin-left: 4px;\n",
       "    line-height: 19px;\n",
       "  }\n",
       "</style>\n",
       "<div class=\"ansiout\"></div>"
      ]
     },
     "metadata": {},
     "output_type": "display_data"
    }
   ],
   "source": [
    "rf_model_13 = rf_m13_fit.transform(testing_df)\n",
    "#.select((fn.col('prediction') == fn.col('Res_num'))).show()\n",
    "rf_TP = int(rf_model_13.filter((rf_model_13[\"label\"] == 1) & (rf_model_13[\"prediction\"] == 1)).count())\n",
    "rf_TP_FN = int(rf_model_13.filter(rf_model_13[\"label\"] == 1).count())\n",
    "rf_TP_FP = int(rf_model_13.filter(rf_model_13[\"prediction\"] == 1).count())\n",
    "rf_recall = int(rf_TP) / int(rf_TP_FN)\n",
    "rf_precision = int(rf_TP) / int(rf_TP_FP)\n",
    "\n",
    "\n",
    "#rf_m4_fitted_trans = rf_m4_fit.transform(validation_df)\n"
   ]
  },
  {
   "cell_type": "code",
   "execution_count": 108,
   "metadata": {},
   "outputs": [
    {
     "data": {
      "text/html": [
       "<style scoped>\n",
       "  .ansiout {\n",
       "    display: block;\n",
       "    unicode-bidi: embed;\n",
       "    white-space: pre-wrap;\n",
       "    word-wrap: break-word;\n",
       "    word-break: break-all;\n",
       "    font-family: \"Source Code Pro\", \"Menlo\", monospace;;\n",
       "    font-size: 13px;\n",
       "    color: #555;\n",
       "    margin-left: 4px;\n",
       "    line-height: 19px;\n",
       "  }\n",
       "</style>\n",
       "<div class=\"ansiout\"></div>"
      ]
     },
     "metadata": {},
     "output_type": "display_data"
    }
   ],
   "source": [
    "gb_model_13 = gb_m13_fit.transform(testing_df)\n",
    "#.select((fn.col('prediction') == fn.col('Res_num'))).show()\n",
    "gb_TP = int(gb_model_13.filter((gb_model_13[\"label\"] == 1) & (gb_model_13[\"prediction\"] == 1)).count())\n",
    "gb_TP_FN = int(gb_model_13.filter(gb_model_13[\"label\"] == 1).count())\n",
    "gb_TP_FP = int(gb_model_13.filter(gb_model_13[\"prediction\"] == 1).count())\n",
    "gb_recall = int(gb_TP) / int(gb_TP_FN)\n",
    "gb_precision = int(gb_TP) / int(gb_TP_FP)\n",
    "\n",
    "\n",
    "#rf_m4_fitted_trans = rf_m4_fit.transform(validation_df)\n"
   ]
  },
  {
   "cell_type": "code",
   "execution_count": 109,
   "metadata": {},
   "outputs": [
    {
     "data": {
      "text/html": [
       "<style scoped>\n",
       "  .ansiout {\n",
       "    display: block;\n",
       "    unicode-bidi: embed;\n",
       "    white-space: pre-wrap;\n",
       "    word-wrap: break-word;\n",
       "    word-break: break-all;\n",
       "    font-family: \"Source Code Pro\", \"Menlo\", monospace;;\n",
       "    font-size: 13px;\n",
       "    color: #555;\n",
       "    margin-left: 4px;\n",
       "    line-height: 19px;\n",
       "  }\n",
       "</style>\n",
       "<div class=\"ansiout\"></div>"
      ]
     },
     "metadata": {},
     "output_type": "display_data"
    }
   ],
   "source": [
    "lr_model_2 = lr_m2_fit.transform(testing_df)\n",
    "#.select((fn.col('prediction') == fn.col('Res_num'))).show()\n",
    "lr_TP = int(lr_model_2.filter((lr_model_2[\"label\"] == 1) & (lr_model_2[\"prediction\"] == 1)).count())\n",
    "lr_TP_FN = int(lr_model_2.filter(lr_model_2[\"label\"] == 1).count())\n",
    "lr_TP_FP = int(lr_model_2.filter(lr_model_2[\"prediction\"] == 1).count())\n",
    "lr_recall = int(rf_TP) / int(rf_TP_FN)\n",
    "lr_precision = int(rf_TP) / int(rf_TP_FP)\n",
    "\n",
    "\n",
    "#rf_m4_fitted_trans = rf_m4_fit.transform(validation_df)\n"
   ]
  },
  {
   "cell_type": "code",
   "execution_count": 110,
   "metadata": {},
   "outputs": [
    {
     "data": {
      "text/html": [
       "<style scoped>\n",
       "  .ansiout {\n",
       "    display: block;\n",
       "    unicode-bidi: embed;\n",
       "    white-space: pre-wrap;\n",
       "    word-wrap: break-word;\n",
       "    word-break: break-all;\n",
       "    font-family: \"Source Code Pro\", \"Menlo\", monospace;;\n",
       "    font-size: 13px;\n",
       "    color: #555;\n",
       "    margin-left: 4px;\n",
       "    line-height: 19px;\n",
       "  }\n",
       "</style>\n",
       "<div class=\"ansiout\">RF 0.4321784450865491\n",
       "RF-P 0.7638047057700568\n",
       "LR 0.4321784450865491\n",
       "LR-P 0.7638047057700568\n",
       "GB 0.6007399206070589\n",
       "GB-P 0.633410210415421\n",
       "</div>"
      ]
     },
     "metadata": {},
     "output_type": "display_data"
    }
   ],
   "source": [
    "print('RF',rf_recall)\n",
    "print('RF-P',rf_precision)\n",
    "print('LR',lr_recall)\n",
    "print('LR-P',lr_precision)\n",
    "print('GB',gb_recall)\n",
    "print('GB-P',gb_precision)\n"
   ]
  },
  {
   "cell_type": "markdown",
   "metadata": {},
   "source": [
    "### Review prediction for best model"
   ]
  },
  {
   "cell_type": "code",
   "execution_count": 111,
   "metadata": {},
   "outputs": [
    {
     "data": {
      "text/html": [
       "<style scoped>\n",
       "  .ansiout {\n",
       "    display: block;\n",
       "    unicode-bidi: embed;\n",
       "    white-space: pre-wrap;\n",
       "    word-wrap: break-word;\n",
       "    word-break: break-all;\n",
       "    font-family: \"Source Code Pro\", \"Menlo\", monospace;;\n",
       "    font-size: 13px;\n",
       "    color: #555;\n",
       "    margin-left: 4px;\n",
       "    line-height: 19px;\n",
       "  }\n",
       "</style>\n",
       "<div class=\"ansiout\">+-------+----------+\n",
       "Res_num|prediction|\n",
       "+-------+----------+\n",
       "      0|       0.0|\n",
       "      0|       0.0|\n",
       "      0|       0.0|\n",
       "      0|       0.0|\n",
       "      0|       0.0|\n",
       "      0|       0.0|\n",
       "      0|       0.0|\n",
       "      0|       0.0|\n",
       "      0|       0.0|\n",
       "      0|       0.0|\n",
       "      0|       0.0|\n",
       "      0|       0.0|\n",
       "      0|       0.0|\n",
       "      0|       0.0|\n",
       "      0|       0.0|\n",
       "      0|       0.0|\n",
       "      0|       0.0|\n",
       "      0|       0.0|\n",
       "      0|       0.0|\n",
       "      0|       0.0|\n",
       "      0|       0.0|\n",
       "      0|       0.0|\n",
       "      0|       0.0|\n",
       "      0|       0.0|\n",
       "      0|       0.0|\n",
       "      0|       0.0|\n",
       "      0|       0.0|\n",
       "      0|       0.0|\n",
       "      0|       0.0|\n",
       "      0|       0.0|\n",
       "+-------+----------+\n",
       "only showing top 30 rows\n",
       "\n",
       "</div>"
      ]
     },
     "metadata": {},
     "output_type": "display_data"
    }
   ],
   "source": [
    "lr_m12_fit.transform(testing_df).select('Res_num', 'prediction').show(30)"
   ]
  },
  {
   "cell_type": "code",
   "execution_count": 112,
   "metadata": {},
   "outputs": [
    {
     "data": {
      "text/html": [
       "<style scoped>\n",
       "  .ansiout {\n",
       "    display: block;\n",
       "    unicode-bidi: embed;\n",
       "    white-space: pre-wrap;\n",
       "    word-wrap: break-word;\n",
       "    word-break: break-all;\n",
       "    font-family: \"Source Code Pro\", \"Menlo\", monospace;;\n",
       "    font-size: 13px;\n",
       "    color: #555;\n",
       "    margin-left: 4px;\n",
       "    line-height: 19px;\n",
       "  }\n",
       "</style>\n",
       "<div class=\"ansiout\">+-------+----------+\n",
       "Res_num|prediction|\n",
       "+-------+----------+\n",
       "      0|       0.0|\n",
       "      0|       0.0|\n",
       "      0|       0.0|\n",
       "      0|       0.0|\n",
       "      0|       0.0|\n",
       "      0|       0.0|\n",
       "      0|       0.0|\n",
       "      0|       0.0|\n",
       "      0|       0.0|\n",
       "      0|       0.0|\n",
       "      0|       0.0|\n",
       "      0|       0.0|\n",
       "      0|       0.0|\n",
       "      0|       0.0|\n",
       "      0|       0.0|\n",
       "      0|       0.0|\n",
       "      0|       0.0|\n",
       "      0|       0.0|\n",
       "      0|       0.0|\n",
       "      0|       0.0|\n",
       "      0|       0.0|\n",
       "      0|       0.0|\n",
       "      0|       0.0|\n",
       "      0|       0.0|\n",
       "      0|       0.0|\n",
       "      0|       0.0|\n",
       "      0|       0.0|\n",
       "      0|       0.0|\n",
       "      0|       0.0|\n",
       "      0|       0.0|\n",
       "+-------+----------+\n",
       "only showing top 30 rows\n",
       "\n",
       "</div>"
      ]
     },
     "metadata": {},
     "output_type": "display_data"
    }
   ],
   "source": [
    "rf_m4_fit.transform(testing_df).select('Res_num', 'prediction').show(30)"
   ]
  },
  {
   "cell_type": "code",
   "execution_count": 113,
   "metadata": {},
   "outputs": [
    {
     "data": {
      "text/html": [
       "<style scoped>\n",
       "  .ansiout {\n",
       "    display: block;\n",
       "    unicode-bidi: embed;\n",
       "    white-space: pre-wrap;\n",
       "    word-wrap: break-word;\n",
       "    word-break: break-all;\n",
       "    font-family: \"Source Code Pro\", \"Menlo\", monospace;;\n",
       "    font-size: 13px;\n",
       "    color: #555;\n",
       "    margin-left: 4px;\n",
       "    line-height: 19px;\n",
       "  }\n",
       "</style>\n",
       "<div class=\"ansiout\">+------------------------------------+\n",
       "avg(CAST((prediction = 1) AS FLOAT))|\n",
       "+------------------------------------+\n",
       "                 0.17674271352238438|\n",
       "+------------------------------------+\n",
       "\n",
       "</div>"
      ]
     },
     "metadata": {},
     "output_type": "display_data"
    }
   ],
   "source": [
    "rf_m12_fit.transform(testing_df).select(fn.avg(fn.expr('prediction = 1').cast('float'))).show()\n"
   ]
  },
  {
   "cell_type": "code",
   "execution_count": 114,
   "metadata": {},
   "outputs": [
    {
     "data": {
      "text/html": [
       "<style scoped>\n",
       "  .ansiout {\n",
       "    display: block;\n",
       "    unicode-bidi: embed;\n",
       "    white-space: pre-wrap;\n",
       "    word-wrap: break-word;\n",
       "    word-break: break-all;\n",
       "    font-family: \"Source Code Pro\", \"Menlo\", monospace;;\n",
       "    font-size: 13px;\n",
       "    color: #555;\n",
       "    margin-left: 4px;\n",
       "    line-height: 19px;\n",
       "  }\n",
       "</style>\n",
       "<div class=\"ansiout\">+-------------------+\n",
       "    avg(prediction)|\n",
       "+-------------------+\n",
       "0.18681552984047606|\n",
       "+-------------------+\n",
       "\n",
       "</div>"
      ]
     },
     "metadata": {},
     "output_type": "display_data"
    }
   ],
   "source": [
    "rf_m4_fit.transform(testing_df).select(fn.avg('prediction')).show()\n"
   ]
  },
  {
   "cell_type": "markdown",
   "metadata": {},
   "source": [
    "### Inference\n",
    "- Feature importance for random forest and gradient boosting\n",
    "- coefficients for logistic regression"
   ]
  },
  {
   "cell_type": "code",
   "execution_count": 115,
   "metadata": {},
   "outputs": [
    {
     "data": {
      "text/html": [
       "<style scoped>\n",
       "  .ansiout {\n",
       "    display: block;\n",
       "    unicode-bidi: embed;\n",
       "    white-space: pre-wrap;\n",
       "    word-wrap: break-word;\n",
       "    word-break: break-all;\n",
       "    font-family: \"Source Code Pro\", \"Menlo\", monospace;;\n",
       "    font-size: 13px;\n",
       "    color: #555;\n",
       "    margin-left: 4px;\n",
       "    line-height: 19px;\n",
       "  }\n",
       "</style>\n",
       "<div class=\"ansiout\"><span class=\"ansired\">Out[</span><span class=\"ansired\">100</span><span class=\"ansired\">]: </span>Param(parent=&apos;RandomForestClassifier_3b0bf4630e3c&apos;, name=&apos;predictionCol&apos;, doc=&apos;prediction column name&apos;)\n",
       "</div>"
      ]
     },
     "metadata": {},
     "output_type": "display_data"
    }
   ],
   "source": [
    "rf_m12_model = rf_m12_fit.stages[-1]\n",
    "rf_m12_model.predictionCol"
   ]
  },
  {
   "cell_type": "code",
   "execution_count": 116,
   "metadata": {},
   "outputs": [
    {
     "data": {
      "text/html": [
       "<style scoped>\n",
       "  .ansiout {\n",
       "    display: block;\n",
       "    unicode-bidi: embed;\n",
       "    white-space: pre-wrap;\n",
       "    word-wrap: break-word;\n",
       "    word-break: break-all;\n",
       "    font-family: \"Source Code Pro\", \"Menlo\", monospace;;\n",
       "    font-size: 13px;\n",
       "    color: #555;\n",
       "    margin-left: 4px;\n",
       "    line-height: 19px;\n",
       "  }\n",
       "</style>\n",
       "<div class=\"ansiout\"><span class=\"ansired\">Out[</span><span class=\"ansired\">99</span><span class=\"ansired\">]: </span>Param(parent=&apos;RandomForestClassifier_3b0bf4630e3c&apos;, name=&apos;minInfoGain&apos;, doc=&apos;Minimum information gain for a split to be considered at a tree node.&apos;)\n",
       "</div>"
      ]
     },
     "metadata": {},
     "output_type": "display_data"
    }
   ],
   "source": [
    "rf_m12_model.minInfoGain"
   ]
  },
  {
   "cell_type": "code",
   "execution_count": 117,
   "metadata": {},
   "outputs": [
    {
     "data": {
      "text/html": [
       "<style scoped>\n",
       "  .ansiout {\n",
       "    display: block;\n",
       "    unicode-bidi: embed;\n",
       "    white-space: pre-wrap;\n",
       "    word-wrap: break-word;\n",
       "    word-break: break-all;\n",
       "    font-family: \"Source Code Pro\", \"Menlo\", monospace;;\n",
       "    font-size: 13px;\n",
       "    color: #555;\n",
       "    margin-left: 4px;\n",
       "    line-height: 19px;\n",
       "  }\n",
       "</style>\n",
       "<div class=\"ansiout\"><span class=\"ansired\">Out[</span><span class=\"ansired\">83</span><span class=\"ansired\">]: </span>DenseVector([0.27, -0.3321, -0.1588, 0.4346, 0.0002, -0.0038, -0.0077, 0.0045, 0.0129, 0.0049, -0.0286, -0.0131, -0.028, 0.0427, -0.0318, -0.0218, -0.0024, 0.068, -0.0856, -0.1353, 0.0226, 0.3068, -0.0408, -0.0928, -0.0278])\n",
       "</div>"
      ]
     },
     "metadata": {},
     "output_type": "display_data"
    }
   ],
   "source": [
    "crime_m4_fitted.stages[-1].coefficients"
   ]
  },
  {
   "cell_type": "code",
   "execution_count": 118,
   "metadata": {},
   "outputs": [
    {
     "data": {
      "text/html": [
       "<style scoped>\n",
       "  .ansiout {\n",
       "    display: block;\n",
       "    unicode-bidi: embed;\n",
       "    white-space: pre-wrap;\n",
       "    word-wrap: break-word;\n",
       "    word-break: break-all;\n",
       "    font-family: \"Source Code Pro\", \"Menlo\", monospace;;\n",
       "    font-size: 13px;\n",
       "    color: #555;\n",
       "    margin-left: 4px;\n",
       "    line-height: 19px;\n",
       "  }\n",
       "</style>\n",
       "<div class=\"ansiout\"><span class=\"ansired\">Out[</span><span class=\"ansired\">78</span><span class=\"ansired\">]: </span>DenseVector([0.6332, -1.1305, -0.5377, 1.3286, 0.0001, -0.0059, 0.0, 0.0, 0.0027, 0.0, -0.0383, -0.0004, -0.0492, 0.0816, -0.0465, -0.026, 0.0, 0.1957, -0.1619, -0.2749, 0.022, 0.7229, -0.059, -0.1746, -0.0224])\n",
       "</div>"
      ]
     },
     "metadata": {},
     "output_type": "display_data"
    }
   ],
   "source": [
    "\n",
    "lr_m12_fit = lr_m12.fit(training_df)\n",
    "lr_m12_fitted_trans = lr_m12_fit.transform(validation_df)\n",
    "evaluator = evaluation.BinaryClassificationEvaluator(labelCol='Res_num')\n",
    "lr_AUC12 = evaluator.evaluate(lr_m12_fitted_trans)\n",
    "#regParam=0, elasticNetParam=0\n",
    "print('Lr M12 =',lr_AUC12)\n"
   ]
  },
  {
   "cell_type": "code",
   "execution_count": 119,
   "metadata": {},
   "outputs": [
    {
     "data": {
      "text/html": [
       "<style scoped>\n",
       "  .ansiout {\n",
       "    display: block;\n",
       "    unicode-bidi: embed;\n",
       "    white-space: pre-wrap;\n",
       "    word-wrap: break-word;\n",
       "    word-break: break-all;\n",
       "    font-family: \"Source Code Pro\", \"Menlo\", monospace;;\n",
       "    font-size: 13px;\n",
       "    color: #555;\n",
       "    margin-left: 4px;\n",
       "    line-height: 19px;\n",
       "  }\n",
       "</style>\n",
       "<div class=\"ansiout\">-0.4908571834442874\n",
       "<span class=\"ansired\">Out[</span><span class=\"ansired\">103</span><span class=\"ansired\">]: </span>DenseVector([-0.0069, 0.0089, -0.1605, -0.0641, -0.0737, -0.0884, -0.1005, -0.077, 0.2207, 0.2526, -0.0685, 0.0687, 0.862, -0.1568, 0.002, -0.0964, 0.023, -1.8593, 1.3697, -0.5937, 0.1206, 2.4594, -1.4991, 3.0922, -1.1491, -1.7755, -2.9787, 1.1041, -0.9193, -1.1515, 0.3322, 1.5278, -0.3427, 1.2455, 3.2909, 2.502, 1.2411, 1.7899, 0.1833, -2.076, 3.1942, 0.5598, 2.1776, 0.7998, -1.0441, -0.6197, 2.5696, -0.3895, -0.1073, 0.8573, -1.2596, -0.6441, 0.4554, 0.8096, 0.6362])\n",
       "</div>"
      ]
     },
     "metadata": {},
     "output_type": "display_data"
    }
   ],
   "source": [
    "print(lr_m12_fit.stages[-1].intercept)\n",
    "lr_m12_fit.stages[-1].coefficients\n"
   ]
  },
  {
   "cell_type": "code",
   "execution_count": 120,
   "metadata": {},
   "outputs": [
    {
     "data": {
      "text/html": [
       "<style scoped>\n",
       "  .ansiout {\n",
       "    display: block;\n",
       "    unicode-bidi: embed;\n",
       "    white-space: pre-wrap;\n",
       "    word-wrap: break-word;\n",
       "    word-break: break-all;\n",
       "    font-family: \"Source Code Pro\", \"Menlo\", monospace;;\n",
       "    font-size: 13px;\n",
       "    color: #555;\n",
       "    margin-left: 4px;\n",
       "    line-height: 19px;\n",
       "  }\n",
       "</style>\n",
       "<div class=\"ansiout\"></div>"
      ]
     },
     "metadata": {},
     "output_type": "display_data"
    }
   ],
   "source": [
    "m12_coe = lr_m12_fit.stages[-1].coefficients.tolist()\n"
   ]
  },
  {
   "cell_type": "code",
   "execution_count": 121,
   "metadata": {},
   "outputs": [
    {
     "data": {
      "text/html": [
       "<style scoped>\n",
       "  .ansiout {\n",
       "    display: block;\n",
       "    unicode-bidi: embed;\n",
       "    white-space: pre-wrap;\n",
       "    word-wrap: break-word;\n",
       "    word-break: break-all;\n",
       "    font-family: \"Source Code Pro\", \"Menlo\", monospace;;\n",
       "    font-size: 13px;\n",
       "    color: #555;\n",
       "    margin-left: 4px;\n",
       "    line-height: 19px;\n",
       "  }\n",
       "</style>\n",
       "<div class=\"ansiout\"></div>"
      ]
     },
     "metadata": {},
     "output_type": "display_data"
    }
   ],
   "source": [
    "m9_feature = ['Minor', 'Medium', 'Servere',\n",
    "                    'Very Servere','Year','Month','SOUTHERN','MISSION','NORTHERN','CENTRAL',\n",
    "                    'BAYVIEW','TENDERLOIN', 'INGLESIDE','TARAVAL','PARK','Near noon','Afternoon',\n",
    "                    'evening','Night']\n"
   ]
  },
  {
   "cell_type": "code",
   "execution_count": 122,
   "metadata": {},
   "outputs": [
    {
     "data": {
      "text/html": [
       "<style scoped>\n",
       "  .ansiout {\n",
       "    display: block;\n",
       "    unicode-bidi: embed;\n",
       "    white-space: pre-wrap;\n",
       "    word-wrap: break-word;\n",
       "    word-break: break-all;\n",
       "    font-family: \"Source Code Pro\", \"Menlo\", monospace;;\n",
       "    font-size: 13px;\n",
       "    color: #555;\n",
       "    margin-left: 4px;\n",
       "    line-height: 19px;\n",
       "  }\n",
       "</style>\n",
       "<div class=\"ansiout\"><span class=\"ansired\">Out[</span><span class=\"ansired\">103</span><span class=\"ansired\">]: </span>\n",
       "[0.22644129500098237,\n",
       " -0.6332503450258404,\n",
       " -0.33315970958658664,\n",
       " 0.3803914702280019,\n",
       " -0.015564122619145509,\n",
       " -0.03491069352191061,\n",
       " 0.1934361995317587,\n",
       " 0.22158473472567505,\n",
       " 0.0667441385217473,\n",
       " 0.01468476917589344,\n",
       " 0.1478832745378798,\n",
       " 0.3968968857130216,\n",
       " 0.08410132023341964,\n",
       " 0.03734384029064087,\n",
       " 0.09178230424490473,\n",
       " -0.08605693993766726,\n",
       " 0.00487850770197081,\n",
       " -0.03783218252061373,\n",
       " -0.053186133940743736]\n",
       "</div>"
      ]
     },
     "metadata": {},
     "output_type": "display_data"
    }
   ],
   "source": [
    "m9_coe"
   ]
  },
  {
   "cell_type": "code",
   "execution_count": 123,
   "metadata": {},
   "outputs": [
    {
     "data": {
      "text/html": [
       "<style scoped>\n",
       "  .ansiout {\n",
       "    display: block;\n",
       "    unicode-bidi: embed;\n",
       "    white-space: pre-wrap;\n",
       "    word-wrap: break-word;\n",
       "    word-break: break-all;\n",
       "    font-family: \"Source Code Pro\", \"Menlo\", monospace;;\n",
       "    font-size: 13px;\n",
       "    color: #555;\n",
       "    margin-left: 4px;\n",
       "    line-height: 19px;\n",
       "  }\n",
       "</style>\n",
       "<div class=\"ansiout\"><span class=\"ansired\">Out[</span><span class=\"ansired\">123</span><span class=\"ansired\">]: </span>\n",
       "{&apos;INGLESIDE&apos;: 0.08410132023341964,\n",
       " &apos;Minor&apos;: 0.22644129500098237,\n",
       " &apos;Near noon&apos;: -0.08605693993766726,\n",
       " &apos;Year&apos;: -0.015564122619145509,\n",
       " &apos;MISSION&apos;: 0.22158473472567505,\n",
       " &apos;Servere&apos;: -0.33315970958658664,\n",
       " &apos;Very Servere&apos;: 0.3803914702280019,\n",
       " &apos;NORTHERN&apos;: 0.0667441385217473,\n",
       " &apos;Afternoon&apos;: 0.00487850770197081,\n",
       " &apos;Medium&apos;: -0.6332503450258404,\n",
       " &apos;TARAVAL&apos;: 0.03734384029064087,\n",
       " &apos;Night&apos;: -0.053186133940743736,\n",
       " &apos;CENTRAL&apos;: 0.01468476917589344,\n",
       " &apos;SOUTHERN&apos;: 0.1934361995317587,\n",
       " &apos;TENDERLOIN&apos;: 0.3968968857130216,\n",
       " &apos;evening&apos;: -0.03783218252061373,\n",
       " &apos;PARK&apos;: 0.09178230424490473,\n",
       " &apos;BAYVIEW&apos;: 0.1478832745378798,\n",
       " &apos;Month&apos;: -0.03491069352191061}\n",
       "</div>"
      ]
     },
     "metadata": {},
     "output_type": "display_data"
    }
   ],
   "source": [
    "mapping = dict(zip(m9_feature, m9_coe))\n",
    "mapping"
   ]
  },
  {
   "cell_type": "code",
   "execution_count": 124,
   "metadata": {},
   "outputs": [
    {
     "data": {
      "text/html": [
       "<style scoped>\n",
       "  .ansiout {\n",
       "    display: block;\n",
       "    unicode-bidi: embed;\n",
       "    white-space: pre-wrap;\n",
       "    word-wrap: break-word;\n",
       "    word-break: break-all;\n",
       "    font-family: \"Source Code Pro\", \"Menlo\", monospace;;\n",
       "    font-size: 13px;\n",
       "    color: #555;\n",
       "    margin-left: 4px;\n",
       "    line-height: 19px;\n",
       "  }\n",
       "</style>\n",
       "<div class=\"ansiout\"></div>"
      ]
     },
     "metadata": {},
     "output_type": "display_data"
    }
   ],
   "source": [
    "m9_feature_df = spark.createDataFrame(m9_feature, StringType()).toPandas()\n",
    "m9_feature_df.head(3)\n",
    "m9_feature_df.rename(columns={'value':'feature'},inplace=True)"
   ]
  },
  {
   "cell_type": "code",
   "execution_count": 125,
   "metadata": {},
   "outputs": [
    {
     "data": {
      "text/html": [
       "<style scoped>\n",
       "  .ansiout {\n",
       "    display: block;\n",
       "    unicode-bidi: embed;\n",
       "    white-space: pre-wrap;\n",
       "    word-wrap: break-word;\n",
       "    word-break: break-all;\n",
       "    font-family: \"Source Code Pro\", \"Menlo\", monospace;;\n",
       "    font-size: 13px;\n",
       "    color: #555;\n",
       "    margin-left: 4px;\n",
       "    line-height: 19px;\n",
       "  }\n",
       "</style>\n",
       "<div class=\"ansiout\"></div>"
      ]
     },
     "metadata": {},
     "output_type": "display_data"
    }
   ],
   "source": [
    "#from pyspark.sql.types import IntegerType\n",
    "\n",
    "# notice the parens after the type name\n",
    "m9_coe_df = spark.createDataFrame(m9_coe, FloatType()).toPandas()"
   ]
  },
  {
   "cell_type": "code",
   "execution_count": 126,
   "metadata": {},
   "outputs": [
    {
     "data": {
      "text/html": [
       "<style scoped>\n",
       "  .ansiout {\n",
       "    display: block;\n",
       "    unicode-bidi: embed;\n",
       "    white-space: pre-wrap;\n",
       "    word-wrap: break-word;\n",
       "    word-break: break-all;\n",
       "    font-family: \"Source Code Pro\", \"Menlo\", monospace;;\n",
       "    font-size: 13px;\n",
       "    color: #555;\n",
       "    margin-left: 4px;\n",
       "    line-height: 19px;\n",
       "  }\n",
       "</style>\n",
       "<div class=\"ansiout\"></div>"
      ]
     },
     "metadata": {},
     "output_type": "display_data"
    }
   ],
   "source": [
    "type(m9_coe_df)\n",
    "m9_coe_df.rename(columns={'value':'coefficients'},inplace=True)"
   ]
  },
  {
   "cell_type": "code",
   "execution_count": 127,
   "metadata": {},
   "outputs": [
    {
     "data": {
      "text/html": [
       "<style scoped>\n",
       "  .ansiout {\n",
       "    display: block;\n",
       "    unicode-bidi: embed;\n",
       "    white-space: pre-wrap;\n",
       "    word-wrap: break-word;\n",
       "    word-break: break-all;\n",
       "    font-family: \"Source Code Pro\", \"Menlo\", monospace;;\n",
       "    font-size: 13px;\n",
       "    color: #555;\n",
       "    margin-left: 4px;\n",
       "    line-height: 19px;\n",
       "  }\n",
       "</style>\n",
       "<div class=\"ansiout\"></div>"
      ]
     },
     "metadata": {},
     "output_type": "display_data"
    }
   ],
   "source": [
    "result = pd.concat([m9_feature_df, m9_coe_df], axis=1)\n",
    "result['weights'] = (result['coefficients'] / 4)"
   ]
  },
  {
   "cell_type": "code",
   "execution_count": 128,
   "metadata": {},
   "outputs": [
    {
     "data": {
      "text/html": [
       "<style scoped>\n",
       "  .ansiout {\n",
       "    display: block;\n",
       "    unicode-bidi: embed;\n",
       "    white-space: pre-wrap;\n",
       "    word-wrap: break-word;\n",
       "    word-break: break-all;\n",
       "    font-family: \"Source Code Pro\", \"Menlo\", monospace;;\n",
       "    font-size: 13px;\n",
       "    color: #555;\n",
       "    margin-left: 4px;\n",
       "    line-height: 19px;\n",
       "  }\n",
       "</style>\n",
       "<div class=\"ansiout\"><span class=\"ansired\">Out[</span><span class=\"ansired\">133</span><span class=\"ansired\">]: </span>\n",
       "         feature  coefficients   weights\n",
       "0          Minor      0.226441  0.056610\n",
       "1         Medium     -0.633250 -0.158313\n",
       "2        Servere     -0.333160 -0.083290\n",
       "3   Very Servere      0.380391  0.095098\n",
       "4           Year     -0.015564 -0.003891\n",
       "5          Month     -0.034911 -0.008728\n",
       "6       SOUTHERN      0.193436  0.048359\n",
       "7        MISSION      0.221585  0.055396\n",
       "8       NORTHERN      0.066744  0.016686\n",
       "9        CENTRAL      0.014685  0.003671\n",
       "10       BAYVIEW      0.147883  0.036971\n",
       "11    TENDERLOIN      0.396897  0.099224\n",
       "12     INGLESIDE      0.084101  0.021025\n",
       "13       TARAVAL      0.037344  0.009336\n",
       "14          PARK      0.091782  0.022946\n",
       "15     Near noon     -0.086057 -0.021514\n",
       "16     Afternoon      0.004879  0.001220\n",
       "17       evening     -0.037832 -0.009458\n",
       "18         Night     -0.053186 -0.013297\n",
       "</div>"
      ]
     },
     "metadata": {},
     "output_type": "display_data"
    }
   ],
   "source": [
    "result"
   ]
  },
  {
   "cell_type": "code",
   "execution_count": 129,
   "metadata": {},
   "outputs": [],
   "source": [
    "lr_m12_fit = lr_m12.fit(training_df)\n",
    "lr_m12_fitted_trans = lr_m12_fit.transform(validation_df)\n",
    "evaluator = evaluation.BinaryClassificationEvaluator(labelCol='Res_num')\n",
    "lr_AUC12 = evaluator.evaluate(lr_m12_fitted_trans)\n",
    "#regParam=0, elasticNetParam=0\n",
    "print('Lr M12 =',lr_AUC12)\n"
   ]
  }
 ],
 "metadata": {
  "kernelspec": {
   "display_name": "Python 3",
   "language": "python",
   "name": "python3"
  },
  "language_info": {
   "codemirror_mode": {
    "name": "ipython",
    "version": 3
   },
   "file_extension": ".py",
   "mimetype": "text/x-python",
   "name": "python",
   "nbconvert_exporter": "python",
   "pygments_lexer": "ipython3",
   "version": "3.6.5"
  },
  "name": "SF_crime_onehotencoder_final",
  "notebookId": 512887485180774
 },
 "nbformat": 4,
 "nbformat_minor": 1
}
