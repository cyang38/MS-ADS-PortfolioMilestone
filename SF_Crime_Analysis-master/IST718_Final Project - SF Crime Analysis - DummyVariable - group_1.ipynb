{
 "cells": [
  {
   "cell_type": "markdown",
   "metadata": {},
   "source": [
    "# IST718 Big Data Final Project - SF_crime\n",
    "##### Project1 - Chiau Yin Yang, Qing Chen, Zilong Chen\n",
    "\n",
    "We ran our models on databricks and download the python notebook for submission"
   ]
  },
  {
   "cell_type": "code",
   "execution_count": 2,
   "metadata": {},
   "outputs": [
    {
     "data": {
      "text/html": [
       "<style scoped>\n",
       "  .ansiout {\n",
       "    display: block;\n",
       "    unicode-bidi: embed;\n",
       "    white-space: pre-wrap;\n",
       "    word-wrap: break-word;\n",
       "    word-break: break-all;\n",
       "    font-family: \"Source Code Pro\", \"Menlo\", monospace;;\n",
       "    font-size: 13px;\n",
       "    color: #555;\n",
       "    margin-left: 4px;\n",
       "    line-height: 19px;\n",
       "  }\n",
       "</style>\n",
       "<div class=\"ansiout\"></div>"
      ]
     },
     "metadata": {},
     "output_type": "display_data"
    }
   ],
   "source": [
    "# import package\n",
    "from csv import reader\n",
    "from pyspark.sql import SparkSession\n",
    "import pyspark\n",
    "\n",
    "spark = SparkSession.builder.getOrCreate()\n",
    "sc = spark.sparkContext\n",
    "\n",
    "from pyspark.ml import feature, regression, Pipeline\n",
    "from pyspark.ml.clustering import KMeans\n",
    "from pyspark.ml.feature import VectorAssembler\n",
    "from pyspark.sql import functions as fn, Row\n",
    "from pyspark.sql.types import *\n",
    "from pyspark import sql\n",
    "from pyspark.ml.classification import LogisticRegression, RandomForestClassifier\n",
    "from pyspark.ml.classification import GBTClassifier\n",
    "\n",
    "import numpy as np\n",
    "import pandas as pd\n",
    "import seaborn as sb\n",
    "import matplotlib.pyplot as plt\n",
    "import warnings\n",
    "\n",
    "import os"
   ]
  },
  {
   "cell_type": "markdown",
   "metadata": {},
   "source": [
    "## Convert Data to Spark DataFrame"
   ]
  },
  {
   "cell_type": "code",
   "execution_count": 4,
   "metadata": {},
   "outputs": [
    {
     "data": {
      "text/html": [
       "<style scoped>\n",
       "  .ansiout {\n",
       "    display: block;\n",
       "    unicode-bidi: embed;\n",
       "    white-space: pre-wrap;\n",
       "    word-wrap: break-word;\n",
       "    word-break: break-all;\n",
       "    font-family: \"Source Code Pro\", \"Menlo\", monospace;;\n",
       "    font-size: 13px;\n",
       "    color: #555;\n",
       "    margin-left: 4px;\n",
       "    line-height: 19px;\n",
       "  }\n",
       "</style>\n",
       "<div class=\"ansiout\"></div>"
      ]
     },
     "metadata": {},
     "output_type": "display_data"
    }
   ],
   "source": [
    "# Load dataset\n",
    "from pyspark.sql import SparkSession\n",
    "spark = SparkSession \\\n",
    "    .builder \\\n",
    "    .appName(\"crime analysis\") \\\n",
    "    .config(\"spark.some.config.option\", \"some-value\") \\\n",
    "    .getOrCreate()\n",
    "\n",
    "df = spark.read.format(\"csv\").option(\"header\", \"true\").load(\"FileStore/tables/Police_Department_Incident_Reports__Historical_2003_to_May_2018.csv\")\n"
   ]
  },
  {
   "cell_type": "code",
   "execution_count": 5,
   "metadata": {},
   "outputs": [
    {
     "data": {
      "text/html": [
       "<style scoped>\n",
       "  .table-result-container {\n",
       "    max-height: 300px;\n",
       "    overflow: auto;\n",
       "  }\n",
       "  table, th, td {\n",
       "    border: 1px solid black;\n",
       "    border-collapse: collapse;\n",
       "  }\n",
       "  th, td {\n",
       "    padding: 5px;\n",
       "  }\n",
       "  th {\n",
       "    text-align: left;\n",
       "  }\n",
       "</style><div class='table-result-container'><table class='table-result'><thead style='background-color: white'><tr><th>path</th><th>name</th><th>size</th></tr></thead><tbody><tr><td>dbfs:/FileStore/tables/Police_Department_Incident_Reports__Historical_2003_to_May_2018.csv</td><td>Police_Department_Incident_Reports__Historical_2003_to_May_2018.csv</td><td>300601428</td></tr><tr><td>dbfs:/FileStore/tables/crime_type_predefined-1fa1e.csv</td><td>crime_type_predefined-1fa1e.csv</td><td>615</td></tr></tbody></table></div>"
      ]
     },
     "metadata": {},
     "output_type": "display_data"
    }
   ],
   "source": [
    "# check files path\n",
    "%fs ls FileStore/tables"
   ]
  },
  {
   "cell_type": "code",
   "execution_count": 6,
   "metadata": {},
   "outputs": [
    {
     "data": {
      "text/html": [
       "<style scoped>\n",
       "  .ansiout {\n",
       "    display: block;\n",
       "    unicode-bidi: embed;\n",
       "    white-space: pre-wrap;\n",
       "    word-wrap: break-word;\n",
       "    word-break: break-all;\n",
       "    font-family: \"Source Code Pro\", \"Menlo\", monospace;;\n",
       "    font-size: 13px;\n",
       "    color: #555;\n",
       "    margin-left: 4px;\n",
       "    line-height: 19px;\n",
       "  }\n",
       "</style>\n",
       "<div class=\"ansiout\">+----------+---------------+--------------------+---------+----------+-----+----------+----------+--------------------+-----------------+----------------+--------------------+--------------+\n",
       "IncidntNum|       Category|            Descript|DayOfWeek|      Date| Time|PdDistrict|Resolution|             Address|                X|               Y|            Location|          PdId|\n",
       "+----------+---------------+--------------------+---------+----------+-----+----------+----------+--------------------+-----------------+----------------+--------------------+--------------+\n",
       " 150060275|   NON-CRIMINAL|       LOST PROPERTY|   Monday|01/19/2015|14:00|   MISSION|      NONE|18TH ST / VALENCI...| -122.42158168137|37.7617007179518|(37.7617007179518...|15006027571000|\n",
       " 150098210|        ROBBERY|ROBBERY, BODILY F...|   Sunday|02/01/2015|15:45|TENDERLOIN|      NONE|300 Block of LEAV...|-122.414406029855|37.7841907151119|(37.7841907151119...|15009821003074|\n",
       " 150098210|        ASSAULT|AGGRAVATED ASSAUL...|   Sunday|02/01/2015|15:45|TENDERLOIN|      NONE|300 Block of LEAV...|-122.414406029855|37.7841907151119|(37.7841907151119...|15009821004014|\n",
       " 150098210|SECONDARY CODES|   DOMESTIC VIOLENCE|   Sunday|02/01/2015|15:45|TENDERLOIN|      NONE|300 Block of LEAV...|-122.414406029855|37.7841907151119|(37.7841907151119...|15009821015200|\n",
       " 150098226|      VANDALISM|MALICIOUS MISCHIE...|  Tuesday|01/27/2015|19:00|  NORTHERN|      NONE|LOMBARD ST / LAGU...|-122.431118543788|37.8004687042875|(37.8004687042875...|15009822628160|\n",
       "+----------+---------------+--------------------+---------+----------+-----+----------+----------+--------------------+-----------------+----------------+--------------------+--------------+\n",
       "only showing top 5 rows\n",
       "\n",
       "1453354\n",
       "</div>"
      ]
     },
     "metadata": {},
     "output_type": "display_data"
    }
   ],
   "source": [
    "# view dataframe\n",
    "df.show(5)\n",
    "print(df.count())"
   ]
  },
  {
   "cell_type": "code",
   "execution_count": 7,
   "metadata": {},
   "outputs": [
    {
     "data": {
      "text/html": [
       "<style scoped>\n",
       "  .ansiout {\n",
       "    display: block;\n",
       "    unicode-bidi: embed;\n",
       "    white-space: pre-wrap;\n",
       "    word-wrap: break-word;\n",
       "    word-break: break-all;\n",
       "    font-family: \"Source Code Pro\", \"Menlo\", monospace;;\n",
       "    font-size: 13px;\n",
       "    color: #555;\n",
       "    margin-left: 4px;\n",
       "    line-height: 19px;\n",
       "  }\n",
       "</style>\n",
       "<div class=\"ansiout\"><span class=\"ansired\">Out[</span><span class=\"ansired\">12</span><span class=\"ansired\">]: </span>1453353\n",
       "</div>"
      ]
     },
     "metadata": {},
     "output_type": "display_data"
    }
   ],
   "source": [
    "# data-processing: drop 1 NA\n",
    "df1 = df.na.drop()\n",
    "df1.count()"
   ]
  },
  {
   "cell_type": "code",
   "execution_count": 8,
   "metadata": {},
   "outputs": [
    {
     "data": {
      "text/html": [
       "<style scoped>\n",
       "  .ansiout {\n",
       "    display: block;\n",
       "    unicode-bidi: embed;\n",
       "    white-space: pre-wrap;\n",
       "    word-wrap: break-word;\n",
       "    word-break: break-all;\n",
       "    font-family: \"Source Code Pro\", \"Menlo\", monospace;;\n",
       "    font-size: 13px;\n",
       "    color: #555;\n",
       "    margin-left: 4px;\n",
       "    line-height: 19px;\n",
       "  }\n",
       "</style>\n",
       "<div class=\"ansiout\"></div>"
      ]
     },
     "metadata": {},
     "output_type": "display_data"
    }
   ],
   "source": [
    "from pyspark.sql.types import DateType\n",
    "from pyspark.sql.functions import year, month, dayofmonth\n",
    "from pyspark.sql.functions import udf\n",
    "from datetime import datetime\n",
    "# Convert Date type from string to unix_timestamp\n",
    "func = udf (lambda x: datetime.strptime(x, '%m/%d/%Y'), DateType())\n",
    "# Add 'Year', 'Month', 'Day' columns to the dataframe\n",
    "df_with_timestamp = df1.withColumn('Spark_Date', func(df.Date))\n",
    "df_with_timestamp = df_with_timestamp.withColumn('Year', year(df_with_timestamp.Spark_Date)).withColumn('Month', month(df_with_timestamp.Spark_Date))\n",
    "df_with_timestamp = df_with_timestamp.withColumn('Day', dayofmonth(df_with_timestamp.Spark_Date))\n"
   ]
  },
  {
   "cell_type": "code",
   "execution_count": 9,
   "metadata": {},
   "outputs": [
    {
     "data": {
      "text/html": [
       "<style scoped>\n",
       "  .ansiout {\n",
       "    display: block;\n",
       "    unicode-bidi: embed;\n",
       "    white-space: pre-wrap;\n",
       "    word-wrap: break-word;\n",
       "    word-break: break-all;\n",
       "    font-family: \"Source Code Pro\", \"Menlo\", monospace;;\n",
       "    font-size: 13px;\n",
       "    color: #555;\n",
       "    margin-left: 4px;\n",
       "    line-height: 19px;\n",
       "  }\n",
       "</style>\n",
       "<div class=\"ansiout\">+----------+---------------+--------------------+---------+----------+-----+----------+----------+--------------------+-----------------+----------------+--------------------+--------------+----------+----+-----+---+\n",
       "IncidntNum|       Category|            Descript|DayOfWeek|      Date| Time|PdDistrict|Resolution|             Address|                X|               Y|            Location|          PdId|Spark_Date|Year|Month|Day|\n",
       "+----------+---------------+--------------------+---------+----------+-----+----------+----------+--------------------+-----------------+----------------+--------------------+--------------+----------+----+-----+---+\n",
       " 150060275|   NON-CRIMINAL|       LOST PROPERTY|   Monday|01/19/2015|14:00|   MISSION|      NONE|18TH ST / VALENCI...| -122.42158168137|37.7617007179518|(37.7617007179518...|15006027571000|2015-01-19|2015|    1| 19|\n",
       " 150098210|        ROBBERY|ROBBERY, BODILY F...|   Sunday|02/01/2015|15:45|TENDERLOIN|      NONE|300 Block of LEAV...|-122.414406029855|37.7841907151119|(37.7841907151119...|15009821003074|2015-02-01|2015|    2|  1|\n",
       " 150098210|        ASSAULT|AGGRAVATED ASSAUL...|   Sunday|02/01/2015|15:45|TENDERLOIN|      NONE|300 Block of LEAV...|-122.414406029855|37.7841907151119|(37.7841907151119...|15009821004014|2015-02-01|2015|    2|  1|\n",
       " 150098210|SECONDARY CODES|   DOMESTIC VIOLENCE|   Sunday|02/01/2015|15:45|TENDERLOIN|      NONE|300 Block of LEAV...|-122.414406029855|37.7841907151119|(37.7841907151119...|15009821015200|2015-02-01|2015|    2|  1|\n",
       " 150098226|      VANDALISM|MALICIOUS MISCHIE...|  Tuesday|01/27/2015|19:00|  NORTHERN|      NONE|LOMBARD ST / LAGU...|-122.431118543788|37.8004687042875|(37.8004687042875...|15009822628160|2015-01-27|2015|    1| 27|\n",
       "+----------+---------------+--------------------+---------+----------+-----+----------+----------+--------------------+-----------------+----------------+--------------------+--------------+----------+----+-----+---+\n",
       "only showing top 5 rows\n",
       "\n",
       "</div>"
      ]
     },
     "metadata": {},
     "output_type": "display_data"
    }
   ],
   "source": [
    "df_with_timestamp.show(5)"
   ]
  },
  {
   "cell_type": "markdown",
   "metadata": {},
   "source": [
    "### Quick analysis for crime incidents by time \n",
    "- rank of crime by year"
   ]
  },
  {
   "cell_type": "code",
   "execution_count": 11,
   "metadata": {},
   "outputs": [
    {
     "data": {
      "text/html": [
       "<style scoped>\n",
       "  .ansiout {\n",
       "    display: block;\n",
       "    unicode-bidi: embed;\n",
       "    white-space: pre-wrap;\n",
       "    word-wrap: break-word;\n",
       "    word-break: break-all;\n",
       "    font-family: \"Source Code Pro\", \"Menlo\", monospace;;\n",
       "    font-size: 13px;\n",
       "    color: #555;\n",
       "    margin-left: 4px;\n",
       "    line-height: 19px;\n",
       "  }\n",
       "</style>\n",
       "<div class=\"ansiout\"><span class=\"ansired\">Out[</span><span class=\"ansired\">7</span><span class=\"ansired\">]: </span>DataFrame[Year: int, count: bigint]\n",
       "</div>"
      ]
     },
     "metadata": {},
     "output_type": "display_data"
    }
   ],
   "source": [
    "df_crimes_2003_to_2018_yearly = df_with_timestamp.groupBy('Year').count().orderBy('count', ascending=False)\n",
    "df_crimes_2003_to_2018_yearly.cache()"
   ]
  },
  {
   "cell_type": "code",
   "execution_count": 12,
   "metadata": {},
   "outputs": [],
   "source": [
    "df_crimes_2003_to_2018_yearly.show(10)"
   ]
  },
  {
   "cell_type": "code",
   "execution_count": 13,
   "metadata": {},
   "outputs": [],
   "source": [
    "Crime_by_month = df_with_timestamp.groupBy('Month').count().orderBy('count', ascending=False)\n",
    "Crime_by_month.show()"
   ]
  },
  {
   "cell_type": "code",
   "execution_count": 14,
   "metadata": {},
   "outputs": [],
   "source": [
    "Crime_by_month2 = df_with_timestamp.groupBy('Month').count().orderBy('Month', ascending=True)\n",
    "Crime_by_month2.show()"
   ]
  },
  {
   "cell_type": "code",
   "execution_count": 15,
   "metadata": {},
   "outputs": [
    {
     "data": {
      "text/html": [
       "<style scoped>\n",
       "  .ansiout {\n",
       "    display: block;\n",
       "    unicode-bidi: embed;\n",
       "    white-space: pre-wrap;\n",
       "    word-wrap: break-word;\n",
       "    word-break: break-all;\n",
       "    font-family: \"Source Code Pro\", \"Menlo\", monospace;;\n",
       "    font-size: 13px;\n",
       "    color: #555;\n",
       "    margin-left: 4px;\n",
       "    line-height: 19px;\n",
       "  }\n",
       "</style>\n",
       "<div class=\"ansiout\"></div>"
      ]
     },
     "metadata": {},
     "output_type": "display_data"
    }
   ],
   "source": [
    "# Convert the Date and Time from String to Integer\n",
    "from pyspark.sql.types import TimestampType\n",
    "from pyspark.sql.functions import year, month, dayofmonth, hour, minute\n",
    "from datetime import datetime\n",
    "# Convert Time type from string to timestamp\n",
    "func_timestamp = udf (lambda x: datetime.strptime(x, '%H:%M'), TimestampType())\n",
    "# Add 'Year', 'Month', 'Day' columns to the dataframe\n",
    "df_with_timestamp = df_with_timestamp.withColumn('Spark_Time', func_timestamp(df_with_timestamp.Time))\n",
    "df_with_timestamp = df_with_timestamp.withColumn('Hour', hour(df_with_timestamp.Spark_Time)).withColumn('Minute', minute(df_with_timestamp.Spark_Time))"
   ]
  },
  {
   "cell_type": "code",
   "execution_count": 16,
   "metadata": {},
   "outputs": [],
   "source": [
    "show_timestamp = df_with_timestamp.select('IncidntNum', 'Category', 'Year', 'Month', 'Day', 'Hour', 'Minute')\n",
    "show_timestamp.show(5)"
   ]
  },
  {
   "cell_type": "code",
   "execution_count": 17,
   "metadata": {},
   "outputs": [],
   "source": [
    "show_timestamp2=df_with_timestamp.select('Category', 'PdDistrict', 'Year', 'Month', 'Day', 'Hour','Resolution')\n",
    "show_timestamp2.show(10)"
   ]
  },
  {
   "cell_type": "code",
   "execution_count": 18,
   "metadata": {},
   "outputs": [
    {
     "data": {
      "text/html": [
       "<style scoped>\n",
       "  .ansiout {\n",
       "    display: block;\n",
       "    unicode-bidi: embed;\n",
       "    white-space: pre-wrap;\n",
       "    word-wrap: break-word;\n",
       "    word-break: break-all;\n",
       "    font-family: \"Source Code Pro\", \"Menlo\", monospace;;\n",
       "    font-size: 13px;\n",
       "    color: #555;\n",
       "    margin-left: 4px;\n",
       "    line-height: 19px;\n",
       "  }\n",
       "</style>\n",
       "<div class=\"ansiout\"></div>"
      ]
     },
     "metadata": {},
     "output_type": "display_data"
    }
   ],
   "source": [
    "# covert target attribute - resolution to numeric\n",
    "df_with_timestamp = df_with_timestamp.withColumn(\n",
    "    'Res_num', fn.when((fn.col('Resolution') == 'NONE') | (fn.col('Resolution') == 'UNFOUNDED'), 0).otherwise(1))"
   ]
  },
  {
   "cell_type": "code",
   "execution_count": 19,
   "metadata": {},
   "outputs": [
    {
     "data": {
      "text/html": [
       "<style scoped>\n",
       "  .ansiout {\n",
       "    display: block;\n",
       "    unicode-bidi: embed;\n",
       "    white-space: pre-wrap;\n",
       "    word-wrap: break-word;\n",
       "    word-break: break-all;\n",
       "    font-family: \"Source Code Pro\", \"Menlo\", monospace;;\n",
       "    font-size: 13px;\n",
       "    color: #555;\n",
       "    margin-left: 4px;\n",
       "    line-height: 19px;\n",
       "  }\n",
       "</style>\n",
       "<div class=\"ansiout\">+-------+------+\n",
       "Res_num| count|\n",
       "+-------+------+\n",
       "      1|515964|\n",
       "      0|937389|\n",
       "+-------+------+\n",
       "\n",
       "</div>"
      ]
     },
     "metadata": {},
     "output_type": "display_data"
    }
   ],
   "source": [
    "df_with_timestamp.groupby('Res_num').count().show()"
   ]
  },
  {
   "cell_type": "markdown",
   "metadata": {},
   "source": [
    "## Feature Engineering\n",
    "##### Create labeled dummy variables for categorical columns\n",
    "- Location (PD District)\n",
    "- Day of week\n",
    "- Crime category (broken into 5 levels by the degree of the crime, defined by us)\n",
    "- Incident hour (broken into 5 levels to even out the number of incidents)\n",
    "- Month as 12 levels"
   ]
  },
  {
   "cell_type": "code",
   "execution_count": 20,
   "metadata": {},
   "outputs": [
    {
     "data": {
      "text/html": [
       "<style scoped>\n",
       "  .ansiout {\n",
       "    display: block;\n",
       "    unicode-bidi: embed;\n",
       "    white-space: pre-wrap;\n",
       "    word-wrap: break-word;\n",
       "    word-break: break-all;\n",
       "    font-family: \"Source Code Pro\", \"Menlo\", monospace;;\n",
       "    font-size: 13px;\n",
       "    color: #555;\n",
       "    margin-left: 4px;\n",
       "    line-height: 19px;\n",
       "  }\n",
       "</style>\n",
       "<div class=\"ansiout\"></div>"
      ]
     },
     "metadata": {},
     "output_type": "display_data"
    }
   ],
   "source": [
    "# location\n",
    "df_with_timestamp = df_with_timestamp.withColumn('SOUTHERN',(fn.col('PdDistrict')== 'SOUTHERN').cast('int'))\n",
    "df_with_timestamp = df_with_timestamp.withColumn('MISSION',(fn.col('PdDistrict')== 'MISSION').cast('int'))\n",
    "df_with_timestamp = df_with_timestamp.withColumn('NORTHERN',(fn.col('PdDistrict')== 'NORTHERN').cast('int'))\n",
    "df_with_timestamp = df_with_timestamp.withColumn('CENTRAL',(fn.col('PdDistrict')== 'CENTRAL').cast('int'))\n",
    "df_with_timestamp = df_with_timestamp.withColumn('BAYVIEW',(fn.col('PdDistrict')== 'BAYVIEW').cast('int'))\n",
    "df_with_timestamp = df_with_timestamp.withColumn('TENDERLOIN',(fn.col('PdDistrict')== 'TENDERLOIN').cast('int'))\n",
    "df_with_timestamp = df_with_timestamp.withColumn('INGLESIDE',(fn.col('PdDistrict')== 'INGLESIDE').cast('int'))\n",
    "df_with_timestamp = df_with_timestamp.withColumn('TARAVAL',(fn.col('PdDistrict')== 'TARAVAL').cast('int'))\n",
    "df_with_timestamp = df_with_timestamp.withColumn('PARK',(fn.col('PdDistrict')== 'PARK').cast('int'))\n",
    "#df_with_timestamp = df_with_timestamp.withColumn('RICHMOND',(fn.col('PdDistrict')== 'RICHMOND').cast('int'))\n",
    "# use Richmond as reference for inference"
   ]
  },
  {
   "cell_type": "code",
   "execution_count": 21,
   "metadata": {},
   "outputs": [
    {
     "data": {
      "text/html": [
       "<style scoped>\n",
       "  .ansiout {\n",
       "    display: block;\n",
       "    unicode-bidi: embed;\n",
       "    white-space: pre-wrap;\n",
       "    word-wrap: break-word;\n",
       "    word-break: break-all;\n",
       "    font-family: \"Source Code Pro\", \"Menlo\", monospace;;\n",
       "    font-size: 13px;\n",
       "    color: #555;\n",
       "    margin-left: 4px;\n",
       "    line-height: 19px;\n",
       "  }\n",
       "</style>\n",
       "<div class=\"ansiout\">+----------+---------------+--------------------+---------+----------+-----+----------+----------+--------------------+-----------------+----------------+--------------------+--------------+----------+----+-----+---+-------------------+----+------+-------+--------+-------+--------+-------+-------+----------+---------+-------+----+\n",
       "IncidntNum|       Category|            Descript|DayOfWeek|      Date| Time|PdDistrict|Resolution|             Address|                X|               Y|            Location|          PdId|Spark_Date|Year|Month|Day|         Spark_Time|Hour|Minute|Res_num|SOUTHERN|MISSION|NORTHERN|CENTRAL|BAYVIEW|TENDERLOIN|INGLESIDE|TARAVAL|PARK|\n",
       "+----------+---------------+--------------------+---------+----------+-----+----------+----------+--------------------+-----------------+----------------+--------------------+--------------+----------+----+-----+---+-------------------+----+------+-------+--------+-------+--------+-------+-------+----------+---------+-------+----+\n",
       " 150060275|   NON-CRIMINAL|       LOST PROPERTY|   Monday|01/19/2015|14:00|   MISSION|      NONE|18TH ST / VALENCI...| -122.42158168137|37.7617007179518|(37.7617007179518...|15006027571000|2015-01-19|2015|    1| 19|1900-01-01 14:00:00|  14|     0|      0|       0|      1|       0|      0|      0|         0|        0|      0|   0|\n",
       " 150098210|        ROBBERY|ROBBERY, BODILY F...|   Sunday|02/01/2015|15:45|TENDERLOIN|      NONE|300 Block of LEAV...|-122.414406029855|37.7841907151119|(37.7841907151119...|15009821003074|2015-02-01|2015|    2|  1|1900-01-01 15:45:00|  15|    45|      0|       0|      0|       0|      0|      0|         1|        0|      0|   0|\n",
       " 150098210|        ASSAULT|AGGRAVATED ASSAUL...|   Sunday|02/01/2015|15:45|TENDERLOIN|      NONE|300 Block of LEAV...|-122.414406029855|37.7841907151119|(37.7841907151119...|15009821004014|2015-02-01|2015|    2|  1|1900-01-01 15:45:00|  15|    45|      0|       0|      0|       0|      0|      0|         1|        0|      0|   0|\n",
       " 150098210|SECONDARY CODES|   DOMESTIC VIOLENCE|   Sunday|02/01/2015|15:45|TENDERLOIN|      NONE|300 Block of LEAV...|-122.414406029855|37.7841907151119|(37.7841907151119...|15009821015200|2015-02-01|2015|    2|  1|1900-01-01 15:45:00|  15|    45|      0|       0|      0|       0|      0|      0|         1|        0|      0|   0|\n",
       " 150098226|      VANDALISM|MALICIOUS MISCHIE...|  Tuesday|01/27/2015|19:00|  NORTHERN|      NONE|LOMBARD ST / LAGU...|-122.431118543788|37.8004687042875|(37.8004687042875...|15009822628160|2015-01-27|2015|    1| 27|1900-01-01 19:00:00|  19|     0|      0|       0|      0|       1|      0|      0|         0|        0|      0|   0|\n",
       "+----------+---------------+--------------------+---------+----------+-----+----------+----------+--------------------+-----------------+----------------+--------------------+--------------+----------+----+-----+---+-------------------+----+------+-------+--------+-------+--------+-------+-------+----------+---------+-------+----+\n",
       "only showing top 5 rows\n",
       "\n",
       "</div>"
      ]
     },
     "metadata": {},
     "output_type": "display_data"
    }
   ],
   "source": [
    "df_with_timestamp.show(5)"
   ]
  },
  {
   "cell_type": "code",
   "execution_count": 22,
   "metadata": {},
   "outputs": [
    {
     "data": {
      "text/html": [
       "<style scoped>\n",
       "  .ansiout {\n",
       "    display: block;\n",
       "    unicode-bidi: embed;\n",
       "    white-space: pre-wrap;\n",
       "    word-wrap: break-word;\n",
       "    word-break: break-all;\n",
       "    font-family: \"Source Code Pro\", \"Menlo\", monospace;;\n",
       "    font-size: 13px;\n",
       "    color: #555;\n",
       "    margin-left: 4px;\n",
       "    line-height: 19px;\n",
       "  }\n",
       "</style>\n",
       "<div class=\"ansiout\"></div>"
      ]
     },
     "metadata": {},
     "output_type": "display_data"
    }
   ],
   "source": [
    "# Load the pre-defined crime level dataset\n",
    "df_crime_type = spark.read.format(\"csv\").option(\"header\", \"true\").load(\"FileStore/tables/crime_type_predefined-1fa1e.csv\")"
   ]
  },
  {
   "cell_type": "code",
   "execution_count": 23,
   "metadata": {},
   "outputs": [
    {
     "data": {
      "text/html": [
       "<style scoped>\n",
       "  .ansiout {\n",
       "    display: block;\n",
       "    unicode-bidi: embed;\n",
       "    white-space: pre-wrap;\n",
       "    word-wrap: break-word;\n",
       "    word-break: break-all;\n",
       "    font-family: \"Source Code Pro\", \"Menlo\", monospace;;\n",
       "    font-size: 13px;\n",
       "    color: #555;\n",
       "    margin-left: 4px;\n",
       "    line-height: 19px;\n",
       "  }\n",
       "</style>\n",
       "<div class=\"ansiout\"><span class=\"ansired\">Out[</span><span class=\"ansired\">20</span><span class=\"ansired\">]: </span>\n",
       "[Row(crime_type=&apos;NON-CRIMINAL&apos;, level=&apos;1&apos;),\n",
       " Row(crime_type=&apos;WARRANTS&apos;, level=&apos;1&apos;),\n",
       " Row(crime_type=&apos;GAMBLING&apos;, level=&apos;1&apos;)]\n",
       "</div>"
      ]
     },
     "metadata": {},
     "output_type": "display_data"
    }
   ],
   "source": [
    "#df_crime_type.drop(index=0, inplace = True)\n",
    "df_crime_type.head(3)"
   ]
  },
  {
   "cell_type": "code",
   "execution_count": 24,
   "metadata": {},
   "outputs": [
    {
     "data": {
      "text/html": [
       "<style scoped>\n",
       "  .ansiout {\n",
       "    display: block;\n",
       "    unicode-bidi: embed;\n",
       "    white-space: pre-wrap;\n",
       "    word-wrap: break-word;\n",
       "    word-break: break-all;\n",
       "    font-family: \"Source Code Pro\", \"Menlo\", monospace;;\n",
       "    font-size: 13px;\n",
       "    color: #555;\n",
       "    margin-left: 4px;\n",
       "    line-height: 19px;\n",
       "  }\n",
       "</style>\n",
       "<div class=\"ansiout\"></div>"
      ]
     },
     "metadata": {},
     "output_type": "display_data"
    }
   ],
   "source": [
    "import pyspark.sql\n",
    "from pyspark.sql import functions as fn\n"
   ]
  },
  {
   "cell_type": "code",
   "execution_count": 25,
   "metadata": {},
   "outputs": [],
   "source": [
    "#df_with_timestamp.printSchema()"
   ]
  },
  {
   "cell_type": "code",
   "execution_count": 26,
   "metadata": {},
   "outputs": [
    {
     "data": {
      "text/html": [
       "<style scoped>\n",
       "  .ansiout {\n",
       "    display: block;\n",
       "    unicode-bidi: embed;\n",
       "    white-space: pre-wrap;\n",
       "    word-wrap: break-word;\n",
       "    word-break: break-all;\n",
       "    font-family: \"Source Code Pro\", \"Menlo\", monospace;;\n",
       "    font-size: 13px;\n",
       "    color: #555;\n",
       "    margin-left: 4px;\n",
       "    line-height: 19px;\n",
       "  }\n",
       "</style>\n",
       "<div class=\"ansiout\">+---------------+----+-----+----+-------+--------+-------+--------+-------+-------+----------+---------+-------+----+---------+\n",
       "       Category|Year|Month|Hour|Res_num|SOUTHERN|MISSION|NORTHERN|CENTRAL|BAYVIEW|TENDERLOIN|INGLESIDE|TARAVAL|PARK|DayOfWeek|\n",
       "+---------------+----+-----+----+-------+--------+-------+--------+-------+-------+----------+---------+-------+----+---------+\n",
       "   NON-CRIMINAL|2015|    1|  14|      0|       0|      1|       0|      0|      0|         0|        0|      0|   0|   Monday|\n",
       "        ROBBERY|2015|    2|  15|      0|       0|      0|       0|      0|      0|         1|        0|      0|   0|   Sunday|\n",
       "        ASSAULT|2015|    2|  15|      0|       0|      0|       0|      0|      0|         1|        0|      0|   0|   Sunday|\n",
       "SECONDARY CODES|2015|    2|  15|      0|       0|      0|       0|      0|      0|         1|        0|      0|   0|   Sunday|\n",
       "      VANDALISM|2015|    1|  19|      0|       0|      0|       1|      0|      0|         0|        0|      0|   0|  Tuesday|\n",
       "+---------------+----+-----+----+-------+--------+-------+--------+-------+-------+----------+---------+-------+----+---------+\n",
       "only showing top 5 rows\n",
       "\n",
       "</div>"
      ]
     },
     "metadata": {},
     "output_type": "display_data"
    }
   ],
   "source": [
    "# only save necessary columns to save some spaces\n",
    "df_final = df_with_timestamp.select('Category', 'Year', 'Month', 'Hour','Res_num',\n",
    "                            'SOUTHERN','MISSION','NORTHERN','CENTRAL','BAYVIEW',\n",
    "                            'TENDERLOIN','INGLESIDE','TARAVAL','PARK','DayOfWeek')\n",
    "df_final.show(5)"
   ]
  },
  {
   "cell_type": "code",
   "execution_count": 27,
   "metadata": {},
   "outputs": [
    {
     "data": {
      "text/html": [
       "<style scoped>\n",
       "  .ansiout {\n",
       "    display: block;\n",
       "    unicode-bidi: embed;\n",
       "    white-space: pre-wrap;\n",
       "    word-wrap: break-word;\n",
       "    word-break: break-all;\n",
       "    font-family: \"Source Code Pro\", \"Menlo\", monospace;;\n",
       "    font-size: 13px;\n",
       "    color: #555;\n",
       "    margin-left: 4px;\n",
       "    line-height: 19px;\n",
       "  }\n",
       "</style>\n",
       "<div class=\"ansiout\">+------------+----+-----+----+-------+--------+-------+--------+-------+-------+----------+---------+-------+----+---------+------+------+-------+--------+------+--------+\n",
       "    Category|Year|Month|Hour|Res_num|SOUTHERN|MISSION|NORTHERN|CENTRAL|BAYVIEW|TENDERLOIN|INGLESIDE|TARAVAL|PARK|DayOfWeek|Sunday|Monday|Tuesday|Thursday|Friday|Saturday|\n",
       "+------------+----+-----+----+-------+--------+-------+--------+-------+-------+----------+---------+-------+----+---------+------+------+-------+--------+------+--------+\n",
       "NON-CRIMINAL|2015|    1|  14|      0|       0|      1|       0|      0|      0|         0|        0|      0|   0|   Monday|     0|     1|      0|       0|     0|       0|\n",
       "     ROBBERY|2015|    2|  15|      0|       0|      0|       0|      0|      0|         1|        0|      0|   0|   Sunday|     1|     0|      0|       0|     0|       0|\n",
       "     ASSAULT|2015|    2|  15|      0|       0|      0|       0|      0|      0|         1|        0|      0|   0|   Sunday|     1|     0|      0|       0|     0|       0|\n",
       "+------------+----+-----+----+-------+--------+-------+--------+-------+-------+----------+---------+-------+----+---------+------+------+-------+--------+------+--------+\n",
       "only showing top 3 rows\n",
       "\n",
       "</div>"
      ]
     },
     "metadata": {},
     "output_type": "display_data"
    }
   ],
   "source": [
    "#create dummy variable for day of the week - use wednesday as our reference \n",
    "df_final = df_final.withColumn('Sunday', fn.when(fn.col('DayOfWeek') == 'Sunday', 1).otherwise(0))\n",
    "df_final = df_final.withColumn('Monday', fn.when(fn.col('DayOfWeek') == 'Monday', 1).otherwise(0))\n",
    "df_final = df_final.withColumn('Tuesday', fn.when(fn.col('DayOfWeek') == 'Tuesday', 1).otherwise(0))\n",
    "df_final = df_final.withColumn('Thursday', fn.when(fn.col('DayOfWeek') == 'Thursday', 1).otherwise(0))\n",
    "df_final = df_final.withColumn('Friday', fn.when(fn.col('DayOfWeek') == 'Friday', 1).otherwise(0))\n",
    "df_final = df_final.withColumn('Saturday', fn.when(fn.col('DayOfWeek') == 'Saturday', 1).otherwise(0))\n",
    "\n",
    "df_final.show(3)"
   ]
  },
  {
   "cell_type": "code",
   "execution_count": 28,
   "metadata": {},
   "outputs": [
    {
     "data": {
      "text/html": [
       "<style scoped>\n",
       "  .ansiout {\n",
       "    display: block;\n",
       "    unicode-bidi: embed;\n",
       "    white-space: pre-wrap;\n",
       "    word-wrap: break-word;\n",
       "    word-break: break-all;\n",
       "    font-family: \"Source Code Pro\", \"Menlo\", monospace;;\n",
       "    font-size: 13px;\n",
       "    color: #555;\n",
       "    margin-left: 4px;\n",
       "    line-height: 19px;\n",
       "  }\n",
       "</style>\n",
       "<div class=\"ansiout\"></div>"
      ]
     },
     "metadata": {},
     "output_type": "display_data"
    }
   ],
   "source": [
    "# morning as reference\n",
    "df_final = df_final.withColumn('Morning', fn.when((fn.col('Hour') == 1) | (fn.col('Hour') == 2) |\n",
    "                                                  (fn.col('Hour') == 3) |(fn.col('Hour') == 4) |\n",
    "                                                  (fn.col('Hour') == 5) |(fn.col('Hour') == 6) |\n",
    "                                                  (fn.col('Hour') == 7) | (fn.col('Hour') == 8), 1).otherwise(0))\n"
   ]
  },
  {
   "cell_type": "code",
   "execution_count": 29,
   "metadata": {},
   "outputs": [
    {
     "data": {
      "text/html": [
       "<style scoped>\n",
       "  .ansiout {\n",
       "    display: block;\n",
       "    unicode-bidi: embed;\n",
       "    white-space: pre-wrap;\n",
       "    word-wrap: break-word;\n",
       "    word-break: break-all;\n",
       "    font-family: \"Source Code Pro\", \"Menlo\", monospace;;\n",
       "    font-size: 13px;\n",
       "    color: #555;\n",
       "    margin-left: 4px;\n",
       "    line-height: 19px;\n",
       "  }\n",
       "</style>\n",
       "<div class=\"ansiout\">+------------+----+-----+----+-------+--------+-------+--------+-------+-------+----------+---------+-------+----+---------+------+------+-------+--------+------+--------+---------+---------+-------+-----+\n",
       "    Category|Year|Month|Hour|Res_num|SOUTHERN|MISSION|NORTHERN|CENTRAL|BAYVIEW|TENDERLOIN|INGLESIDE|TARAVAL|PARK|DayOfWeek|Sunday|Monday|Tuesday|Thursday|Friday|Saturday|Near noon|Afternoon|evening|Night|\n",
       "+------------+----+-----+----+-------+--------+-------+--------+-------+-------+----------+---------+-------+----+---------+------+------+-------+--------+------+--------+---------+---------+-------+-----+\n",
       "NON-CRIMINAL|2015|    1|  14|      0|       0|      1|       0|      0|      0|         0|        0|      0|   0|   Monday|     0|     1|      0|       0|     0|       0|        0|        1|      0|    0|\n",
       "     ROBBERY|2015|    2|  15|      0|       0|      0|       0|      0|      0|         1|        0|      0|   0|   Sunday|     1|     0|      0|       0|     0|       0|        0|        1|      0|    0|\n",
       "     ASSAULT|2015|    2|  15|      0|       0|      0|       0|      0|      0|         1|        0|      0|   0|   Sunday|     1|     0|      0|       0|     0|       0|        0|        1|      0|    0|\n",
       "+------------+----+-----+----+-------+--------+-------+--------+-------+-------+----------+---------+-------+----+---------+------+------+-------+--------+------+--------+---------+---------+-------+-----+\n",
       "only showing top 3 rows\n",
       "\n",
       "</div>"
      ]
     },
     "metadata": {},
     "output_type": "display_data"
    }
   ],
   "source": [
    "#create dummy variable for day of the week - use wednesday as our reference\n",
    "df_final = df_final.withColumn('Near noon', fn.when((fn.col('Hour') == 9) | (fn.col('Hour') == 10) |\n",
    "                                              (fn.col('Hour') == 11) | (fn.col('Hour') == 12), 1).otherwise(0))\n",
    "df_final = df_final.withColumn('Afternoon', fn.when((fn.col('Hour') == 13) | (fn.col('Hour') == 14) |\n",
    "                                            (fn.col('Hour') == 15) | (fn.col('Hour') == 16) |\n",
    "                                             (fn.col('Hour') == 17), 1).otherwise(0))\n",
    "df_final = df_final.withColumn('evening', fn.when((fn.col('Hour') >= 18) & (fn.col('Hour') <= 20), 1).otherwise(0))\n",
    "df_final = df_final.withColumn('Night', fn.when((fn.col('Hour') == 21) | (fn.col('Hour') == 22) |\n",
    "                                                 (fn.col('Hour') == 23) | (fn.col('Hour') == 0), 1).otherwise(0))\n",
    "\n",
    "df_final.show(3)\n",
    "#training_df = df_final.where('Year >= 2008 and Year < 2014')                       "
   ]
  },
  {
   "cell_type": "code",
   "execution_count": 30,
   "metadata": {},
   "outputs": [
    {
     "data": {
      "text/html": [
       "<style scoped>\n",
       "  .ansiout {\n",
       "    display: block;\n",
       "    unicode-bidi: embed;\n",
       "    white-space: pre-wrap;\n",
       "    word-wrap: break-word;\n",
       "    word-break: break-all;\n",
       "    font-family: \"Source Code Pro\", \"Menlo\", monospace;;\n",
       "    font-size: 13px;\n",
       "    color: #555;\n",
       "    margin-left: 4px;\n",
       "    line-height: 19px;\n",
       "  }\n",
       "</style>\n",
       "<div class=\"ansiout\">+------------+----+-----+---+----+-------+--------+-------+--------+-------+-------+----------+---------+-------+----+---------+------+------+-------+--------+------+--------+---------+---------+-------+-----+\n",
       "    Category|Year|Month|Day|Hour|Res_num|SOUTHERN|MISSION|NORTHERN|CENTRAL|BAYVIEW|TENDERLOIN|INGLESIDE|TARAVAL|PARK|DayOfWeek|Sunday|Monday|Tuesday|Thursday|Friday|Saturday|Near noon|Afternoon|evening|Night|\n",
       "+------------+----+-----+---+----+-------+--------+-------+--------+-------+-------+----------+---------+-------+----+---------+------+------+-------+--------+------+--------+---------+---------+-------+-----+\n",
       "NON-CRIMINAL|2015|    1| 19|  14|      0|       0|      1|       0|      0|      0|         0|        0|      0|   0|   Monday|     0|     1|      0|       0|     0|       0|        0|        1|      0|    0|\n",
       "     ROBBERY|2015|    2|  1|  15|      0|       0|      0|       0|      0|      0|         1|        0|      0|   0|   Sunday|     1|     0|      0|       0|     0|       0|        0|        1|      0|    0|\n",
       "+------------+----+-----+---+----+-------+--------+-------+--------+-------+-------+----------+---------+-------+----+---------+------+------+-------+--------+------+--------+---------+---------+-------+-----+\n",
       "only showing top 2 rows\n",
       "\n",
       "</div>"
      ]
     },
     "metadata": {},
     "output_type": "display_data"
    }
   ],
   "source": [
    "# dropping morning cuz it is baseline reference\n",
    "df_final = df_final.drop('Morning')\n",
    "df_final.show(2)"
   ]
  },
  {
   "cell_type": "code",
   "execution_count": 31,
   "metadata": {},
   "outputs": [
    {
     "data": {
      "text/html": [
       "<style scoped>\n",
       "  .ansiout {\n",
       "    display: block;\n",
       "    unicode-bidi: embed;\n",
       "    white-space: pre-wrap;\n",
       "    word-wrap: break-word;\n",
       "    word-break: break-all;\n",
       "    font-family: \"Source Code Pro\", \"Menlo\", monospace;;\n",
       "    font-size: 13px;\n",
       "    color: #555;\n",
       "    margin-left: 4px;\n",
       "    line-height: 19px;\n",
       "  }\n",
       "</style>\n",
       "<div class=\"ansiout\">+------------+----+-----+-------+--------+-------+--------+-------+-------+----------+---------+-------+----+------+------+-------+--------+------+--------+---------+---------+-------+-----+\n",
       "    Category|Year|Month|Res_num|SOUTHERN|MISSION|NORTHERN|CENTRAL|BAYVIEW|TENDERLOIN|INGLESIDE|TARAVAL|PARK|Sunday|Monday|Tuesday|Thursday|Friday|Saturday|Near noon|Afternoon|evening|Night|\n",
       "+------------+----+-----+-------+--------+-------+--------+-------+-------+----------+---------+-------+----+------+------+-------+--------+------+--------+---------+---------+-------+-----+\n",
       "NON-CRIMINAL|2015|    1|      0|       0|      1|       0|      0|      0|         0|        0|      0|   0|     0|     1|      0|       0|     0|       0|        0|        1|      0|    0|\n",
       "     ROBBERY|2015|    2|      0|       0|      0|       0|      0|      0|         1|        0|      0|   0|     1|     0|      0|       0|     0|       0|        0|        1|      0|    0|\n",
       "+------------+----+-----+-------+--------+-------+--------+-------+-------+----------+---------+-------+----+------+------+-------+--------+------+--------+---------+---------+-------+-----+\n",
       "only showing top 2 rows\n",
       "\n",
       "</div>"
      ]
     },
     "metadata": {},
     "output_type": "display_data"
    }
   ],
   "source": [
    "# dropping columns that we dont need for modeling\n",
    "df_final = df_final.drop('Hour')\n",
    "df_final = df_final.drop('DayOfWeek')\n",
    "df_final.show(2)"
   ]
  },
  {
   "cell_type": "code",
   "execution_count": 32,
   "metadata": {},
   "outputs": [
    {
     "data": {
      "text/html": [
       "<style scoped>\n",
       "  .ansiout {\n",
       "    display: block;\n",
       "    unicode-bidi: embed;\n",
       "    white-space: pre-wrap;\n",
       "    word-wrap: break-word;\n",
       "    word-break: break-all;\n",
       "    font-family: \"Source Code Pro\", \"Menlo\", monospace;;\n",
       "    font-size: 13px;\n",
       "    color: #555;\n",
       "    margin-left: 4px;\n",
       "    line-height: 19px;\n",
       "  }\n",
       "</style>\n",
       "<div class=\"ansiout\">(1453353, 24)\n",
       "</div>"
      ]
     },
     "metadata": {},
     "output_type": "display_data"
    }
   ],
   "source": [
    "# checking the size of the dataframe\n",
    "print((df_final.count(), len(df_final.columns)))"
   ]
  },
  {
   "cell_type": "code",
   "execution_count": 33,
   "metadata": {},
   "outputs": [
    {
     "data": {
      "text/html": [
       "<style scoped>\n",
       "  .ansiout {\n",
       "    display: block;\n",
       "    unicode-bidi: embed;\n",
       "    white-space: pre-wrap;\n",
       "    word-wrap: break-word;\n",
       "    word-break: break-all;\n",
       "    font-family: \"Source Code Pro\", \"Menlo\", monospace;;\n",
       "    font-size: 13px;\n",
       "    color: #555;\n",
       "    margin-left: 4px;\n",
       "    line-height: 19px;\n",
       "  }\n",
       "</style>\n",
       "<div class=\"ansiout\">+------------+-----+\n",
       "    Category|Level|\n",
       "+------------+-----+\n",
       "NON-CRIMINAL|    1|\n",
       "    WARRANTS|    1|\n",
       "+------------+-----+\n",
       "only showing top 2 rows\n",
       "\n",
       "</div>"
      ]
     },
     "metadata": {},
     "output_type": "display_data"
    }
   ],
   "source": [
    "df_crime_type = df_crime_type.selectExpr(\"crime_type as Category\", \"level as Level\")\n",
    "df_crime_type.show(2)"
   ]
  },
  {
   "cell_type": "code",
   "execution_count": 34,
   "metadata": {},
   "outputs": [
    {
     "data": {
      "text/html": [
       "<style scoped>\n",
       "  .ansiout {\n",
       "    display: block;\n",
       "    unicode-bidi: embed;\n",
       "    white-space: pre-wrap;\n",
       "    word-wrap: break-word;\n",
       "    word-break: break-all;\n",
       "    font-family: \"Source Code Pro\", \"Menlo\", monospace;;\n",
       "    font-size: 13px;\n",
       "    color: #555;\n",
       "    margin-left: 4px;\n",
       "    line-height: 19px;\n",
       "  }\n",
       "</style>\n",
       "<div class=\"ansiout\">+------------+----+-----+-------+--------+-------+--------+-------+-------+----------+---------+-------+----+------+------+-------+--------+------+--------+---------+---------+-------+-----+-----+\n",
       "    Category|Year|Month|Res_num|SOUTHERN|MISSION|NORTHERN|CENTRAL|BAYVIEW|TENDERLOIN|INGLESIDE|TARAVAL|PARK|Sunday|Monday|Tuesday|Thursday|Friday|Saturday|Near noon|Afternoon|evening|Night|Level|\n",
       "+------------+----+-----+-------+--------+-------+--------+-------+-------+----------+---------+-------+----+------+------+-------+--------+------+--------+---------+---------+-------+-----+-----+\n",
       "NON-CRIMINAL|2015|    1|      0|       0|      1|       0|      0|      0|         0|        0|      0|   0|     0|     1|      0|       0|     0|       0|        0|        1|      0|    0|    1|\n",
       "     ROBBERY|2015|    2|      0|       0|      0|       0|      0|      0|         1|        0|      0|   0|     1|     0|      0|       0|     0|       0|        0|        1|      0|    0|    4|\n",
       "     ASSAULT|2015|    2|      0|       0|      0|       0|      0|      0|         1|        0|      0|   0|     1|     0|      0|       0|     0|       0|        0|        1|      0|    0|    4|\n",
       "+------------+----+-----+-------+--------+-------+--------+-------+-------+----------+---------+-------+----+------+------+-------+--------+------+--------+---------+---------+-------+-----+-----+\n",
       "only showing top 3 rows\n",
       "\n",
       "</div>"
      ]
     },
     "metadata": {},
     "output_type": "display_data"
    }
   ],
   "source": [
    "\n",
    "crime_join = df_final.join(df_crime_type, on='Category',how='left')\n",
    "# Could also use 'right_outer'\n",
    "crime_join.show(3)\n"
   ]
  },
  {
   "cell_type": "code",
   "execution_count": 35,
   "metadata": {},
   "outputs": [
    {
     "data": {
      "text/html": [
       "<style scoped>\n",
       "  .ansiout {\n",
       "    display: block;\n",
       "    unicode-bidi: embed;\n",
       "    white-space: pre-wrap;\n",
       "    word-wrap: break-word;\n",
       "    word-break: break-all;\n",
       "    font-family: \"Source Code Pro\", \"Menlo\", monospace;;\n",
       "    font-size: 13px;\n",
       "    color: #555;\n",
       "    margin-left: 4px;\n",
       "    line-height: 19px;\n",
       "  }\n",
       "</style>\n",
       "<div class=\"ansiout\">+------------+----+-----+-------+--------+-------+--------+-------+-------+----------+---------+-------+----+------+------+-------+--------+------+--------+---------+---------+-------+-----+-----+-----+------+-------+------------+\n",
       "    Category|Year|Month|Res_num|SOUTHERN|MISSION|NORTHERN|CENTRAL|BAYVIEW|TENDERLOIN|INGLESIDE|TARAVAL|PARK|Sunday|Monday|Tuesday|Thursday|Friday|Saturday|Near noon|Afternoon|evening|Night|Level|Minor|Medium|Servere|Very Servere|\n",
       "+------------+----+-----+-------+--------+-------+--------+-------+-------+----------+---------+-------+----+------+------+-------+--------+------+--------+---------+---------+-------+-----+-----+-----+------+-------+------------+\n",
       "NON-CRIMINAL|2015|    1|      0|       0|      1|       0|      0|      0|         0|        0|      0|   0|     0|     1|      0|       0|     0|       0|        0|        1|      0|    0|    1|    0|     0|      0|           0|\n",
       "     ROBBERY|2015|    2|      0|       0|      0|       0|      0|      0|         1|        0|      0|   0|     1|     0|      0|       0|     0|       0|        0|        1|      0|    0|    4|    0|     0|      1|           0|\n",
       "     ASSAULT|2015|    2|      0|       0|      0|       0|      0|      0|         1|        0|      0|   0|     1|     0|      0|       0|     0|       0|        0|        1|      0|    0|    4|    0|     0|      1|           0|\n",
       "+------------+----+-----+-------+--------+-------+--------+-------+-------+----------+---------+-------+----+------+------+-------+--------+------+--------+---------+---------+-------+-----+-----+-----+------+-------+------------+\n",
       "only showing top 3 rows\n",
       "\n",
       "</div>"
      ]
     },
     "metadata": {},
     "output_type": "display_data"
    }
   ],
   "source": [
    "#df_final = df_final.withColumn('Very Minor', fn.when(fn.col('Level') == '1', 1).otherwise(0)) \n",
    "# as our reference \n",
    "crime_join = crime_join.withColumn('Minor', fn.when(fn.col('Level') == '2', 1).otherwise(0))\n",
    "crime_join = crime_join.withColumn('Medium', fn.when(fn.col('Level') == '3', 1).otherwise(0))\n",
    "crime_join = crime_join.withColumn('Servere', fn.when(fn.col('Level') == '4', 1).otherwise(0))\n",
    "crime_join = crime_join.withColumn('Very Servere', fn.when(fn.col('Level') == '5', 1).otherwise(0))\n",
    "\n",
    "crime_join.show(3)"
   ]
  },
  {
   "cell_type": "code",
   "execution_count": 36,
   "metadata": {},
   "outputs": [
    {
     "data": {
      "text/html": [
       "<style scoped>\n",
       "  .ansiout {\n",
       "    display: block;\n",
       "    unicode-bidi: embed;\n",
       "    white-space: pre-wrap;\n",
       "    word-wrap: break-word;\n",
       "    word-break: break-all;\n",
       "    font-family: \"Source Code Pro\", \"Menlo\", monospace;;\n",
       "    font-size: 13px;\n",
       "    color: #555;\n",
       "    margin-left: 4px;\n",
       "    line-height: 19px;\n",
       "  }\n",
       "</style>\n",
       "<div class=\"ansiout\">+-----+------+\n",
       "Level| count|\n",
       "+-----+------+\n",
       "    3|489779|\n",
       "    5|118431|\n",
       "    1|249718|\n",
       "    4|301876|\n",
       "    2|293549|\n",
       "+-----+------+\n",
       "\n",
       "</div>"
      ]
     },
     "metadata": {},
     "output_type": "display_data"
    }
   ],
   "source": [
    "crime_join.groupby('Level').count().show()\n",
    "# why is there missing values?? yay it is all fixed!!"
   ]
  },
  {
   "cell_type": "code",
   "execution_count": 37,
   "metadata": {},
   "outputs": [
    {
     "data": {
      "text/html": [
       "<style scoped>\n",
       "  .ansiout {\n",
       "    display: block;\n",
       "    unicode-bidi: embed;\n",
       "    white-space: pre-wrap;\n",
       "    word-wrap: break-word;\n",
       "    word-break: break-all;\n",
       "    font-family: \"Source Code Pro\", \"Menlo\", monospace;;\n",
       "    font-size: 13px;\n",
       "    color: #555;\n",
       "    margin-left: 4px;\n",
       "    line-height: 19px;\n",
       "  }\n",
       "</style>\n",
       "<div class=\"ansiout\">+----+-----+-------+--------+-------+--------+-------+-------+----------+---------+-------+----+------+------+-------+--------+------+--------+---------+---------+-------+-----+-----+------+-------+------------+\n",
       "Year|Month|Res_num|SOUTHERN|MISSION|NORTHERN|CENTRAL|BAYVIEW|TENDERLOIN|INGLESIDE|TARAVAL|PARK|Sunday|Monday|Tuesday|Thursday|Friday|Saturday|Near noon|Afternoon|evening|Night|Minor|Medium|Servere|Very Servere|\n",
       "+----+-----+-------+--------+-------+--------+-------+-------+----------+---------+-------+----+------+------+-------+--------+------+--------+---------+---------+-------+-----+-----+------+-------+------------+\n",
       "2015|    1|      0|       0|      1|       0|      0|      0|         0|        0|      0|   0|     0|     1|      0|       0|     0|       0|        0|        1|      0|    0|    0|     0|      0|           0|\n",
       "2015|    2|      0|       0|      0|       0|      0|      0|         1|        0|      0|   0|     1|     0|      0|       0|     0|       0|        0|        1|      0|    0|    0|     0|      1|           0|\n",
       "2015|    2|      0|       0|      0|       0|      0|      0|         1|        0|      0|   0|     1|     0|      0|       0|     0|       0|        0|        1|      0|    0|    0|     0|      1|           0|\n",
       "2015|    2|      0|       0|      0|       0|      0|      0|         1|        0|      0|   0|     1|     0|      0|       0|     0|       0|        0|        1|      0|    0|    0|     0|      0|           1|\n",
       "2015|    1|      0|       0|      0|       1|      0|      0|         0|        0|      0|   0|     0|     0|      1|       0|     0|       0|        0|        0|      1|    0|    0|     0|      1|           0|\n",
       "2015|    2|      0|       0|      0|       0|      0|      0|         0|        0|      0|   0|     1|     0|      0|       0|     0|       0|        0|        1|      0|    0|    0|     0|      0|           0|\n",
       "2015|    1|      0|       0|      0|       0|      0|      1|         0|        0|      0|   0|     0|     0|      0|       0|     0|       1|        0|        0|      0|    1|    0|     0|      0|           1|\n",
       "2015|    1|      0|       0|      0|       0|      0|      1|         0|        0|      0|   0|     0|     0|      0|       0|     0|       1|        0|        0|      0|    1|    0|     0|      1|           0|\n",
       "2015|    1|      0|       0|      0|       0|      1|      0|         0|        0|      0|   0|     0|     0|      0|       0|     0|       1|        0|        1|      0|    0|    0|     0|      1|           0|\n",
       "2015|    1|      0|       0|      0|       0|      1|      0|         0|        0|      0|   0|     0|     0|      0|       0|     0|       1|        0|        1|      0|    0|    0|     1|      0|           0|\n",
       "2015|    2|      1|       0|      1|       0|      0|      0|         0|        0|      0|   0|     1|     0|      0|       0|     0|       0|        0|        1|      0|    0|    0|     1|      0|           0|\n",
       "2015|    2|      1|       0|      1|       0|      0|      0|         0|        0|      0|   0|     1|     0|      0|       0|     0|       0|        0|        1|      0|    0|    0|     0|      0|           1|\n",
       "2015|    2|      1|       0|      1|       0|      0|      0|         0|        0|      0|   0|     1|     0|      0|       0|     0|       0|        0|        1|      0|    0|    0|     0|      0|           1|\n",
       "2015|    2|      1|       0|      1|       0|      0|      0|         0|        0|      0|   0|     1|     0|      0|       0|     0|       0|        0|        1|      0|    0|    0|     0|      0|           0|\n",
       "2015|    2|      0|       0|      1|       0|      0|      0|         0|        0|      0|   0|     1|     0|      0|       0|     0|       0|        0|        1|      0|    0|    0|     0|      1|           0|\n",
       "2015|    2|      0|       0|      0|       1|      0|      0|         0|        0|      0|   0|     1|     0|      0|       0|     0|       0|        1|        0|      0|    0|    0|     1|      0|           0|\n",
       "2015|    2|      0|       0|      0|       1|      0|      0|         0|        0|      0|   0|     1|     0|      0|       0|     0|       0|        1|        0|      0|    0|    0|     0|      0|           0|\n",
       "2015|    2|      1|       0|      0|       0|      0|      1|         0|        0|      0|   0|     1|     0|      0|       0|     0|       0|        0|        1|      0|    0|    0|     0|      0|           0|\n",
       "2015|    2|      0|       0|      0|       0|      0|      0|         0|        0|      0|   1|     1|     0|      0|       0|     0|       0|        0|        1|      0|    0|    0|     1|      0|           0|\n",
       "2015|    2|      1|       0|      0|       0|      0|      1|         0|        0|      0|   0|     1|     0|      0|       0|     0|       0|        0|        1|      0|    0|    1|     0|      0|           0|\n",
       "+----+-----+-------+--------+-------+--------+-------+-------+----------+---------+-------+----+------+------+-------+--------+------+--------+---------+---------+-------+-----+-----+------+-------+------------+\n",
       "only showing top 20 rows\n",
       "\n",
       "</div>"
      ]
     },
     "metadata": {},
     "output_type": "display_data"
    }
   ],
   "source": [
    "df_final = crime_join.drop('Level')\n",
    "df_final = df_final.drop('Category')\n",
    "df_final.show()"
   ]
  },
  {
   "cell_type": "code",
   "execution_count": 38,
   "metadata": {},
   "outputs": [
    {
     "data": {
      "text/html": [
       "<style scoped>\n",
       "  .ansiout {\n",
       "    display: block;\n",
       "    unicode-bidi: embed;\n",
       "    white-space: pre-wrap;\n",
       "    word-wrap: break-word;\n",
       "    word-break: break-all;\n",
       "    font-family: \"Source Code Pro\", \"Menlo\", monospace;;\n",
       "    font-size: 13px;\n",
       "    color: #555;\n",
       "    margin-left: 4px;\n",
       "    line-height: 19px;\n",
       "  }\n",
       "</style>\n",
       "<div class=\"ansiout\">+----+-----+-------+--------+-------+--------+-------+-------+----------+---------+-------+----+------+------+-------+--------+------+--------+---------+---------+-------+-----+-----+------+-------+------------+---+---+---+---+---+---+---+---+---+---+---+\n",
       "Year|Month|Res_num|SOUTHERN|MISSION|NORTHERN|CENTRAL|BAYVIEW|TENDERLOIN|INGLESIDE|TARAVAL|PARK|Sunday|Monday|Tuesday|Thursday|Friday|Saturday|Near noon|Afternoon|evening|Night|Minor|Medium|Servere|Very Servere|Jan|Feb|Mar|Apr|May|Jun|Jul|Aug|Sep|Oct|Nov|\n",
       "+----+-----+-------+--------+-------+--------+-------+-------+----------+---------+-------+----+------+------+-------+--------+------+--------+---------+---------+-------+-----+-----+------+-------+------------+---+---+---+---+---+---+---+---+---+---+---+\n",
       "2015|    1|      0|       0|      1|       0|      0|      0|         0|        0|      0|   0|     0|     1|      0|       0|     0|       0|        0|        1|      0|    0|    0|     0|      0|           0|  1|  0|  0|  0|  0|  0|  0|  0|  0|  0|  0|\n",
       "2015|    2|      0|       0|      0|       0|      0|      0|         1|        0|      0|   0|     1|     0|      0|       0|     0|       0|        0|        1|      0|    0|    0|     0|      1|           0|  0|  1|  0|  0|  0|  0|  0|  0|  0|  0|  0|\n",
       "2015|    2|      0|       0|      0|       0|      0|      0|         1|        0|      0|   0|     1|     0|      0|       0|     0|       0|        0|        1|      0|    0|    0|     0|      1|           0|  0|  1|  0|  0|  0|  0|  0|  0|  0|  0|  0|\n",
       "+----+-----+-------+--------+-------+--------+-------+-------+----------+---------+-------+----+------+------+-------+--------+------+--------+---------+---------+-------+-----+-----+------+-------+------------+---+---+---+---+---+---+---+---+---+---+---+\n",
       "only showing top 3 rows\n",
       "\n",
       "</div>"
      ]
     },
     "metadata": {},
     "output_type": "display_data"
    }
   ],
   "source": [
    "# create month category - dec as reference\n",
    "df_final = df_final.withColumn('Jan', fn.when(fn.col('Month') == '1', 1).otherwise(0))\n",
    "df_final = df_final.withColumn('Feb', fn.when(fn.col('Month') == '2', 1).otherwise(0))\n",
    "df_final = df_final.withColumn('Mar', fn.when(fn.col('Month') == '3', 1).otherwise(0))\n",
    "df_final = df_final.withColumn('Apr', fn.when(fn.col('Month') == '4', 1).otherwise(0))\n",
    "df_final = df_final.withColumn('May', fn.when(fn.col('Month') == '5', 1).otherwise(0))\n",
    "df_final = df_final.withColumn('Jun', fn.when(fn.col('Month') == '6', 1).otherwise(0))\n",
    "df_final = df_final.withColumn('Jul', fn.when(fn.col('Month') == '7', 1).otherwise(0))\n",
    "df_final = df_final.withColumn('Aug', fn.when(fn.col('Month') == '8', 1).otherwise(0))\n",
    "df_final = df_final.withColumn('Sep', fn.when(fn.col('Month') == '9', 1).otherwise(0))\n",
    "df_final = df_final.withColumn('Oct', fn.when(fn.col('Month') == '10', 1).otherwise(0))\n",
    "df_final = df_final.withColumn('Nov', fn.when(fn.col('Month') == '11', 1).otherwise(0))\n",
    "df_final.show(3)"
   ]
  },
  {
   "cell_type": "code",
   "execution_count": 39,
   "metadata": {},
   "outputs": [],
   "source": [
    "# create year category - 2008 as reference\n",
    "df_final = df_final.withColumn('Year_09', fn.when(fn.col('Year') == '2009', 1).otherwise(0))\n",
    "df_final = df_final.withColumn('Year_10', fn.when(fn.col('Year') == '2010', 1).otherwise(0))\n",
    "df_final = df_final.withColumn('Year_11', fn.when(fn.col('Year') == '2011', 1).otherwise(0))\n",
    "df_final = df_final.withColumn('Year_12', fn.when(fn.col('Year') == '2012', 1).otherwise(0))\n",
    "df_final = df_final.withColumn('Year_13', fn.when(fn.col('Year') == '2013', 1).otherwise(0))\n",
    "df_final = df_final.withColumn('Year_14', fn.when(fn.col('Month') == '6', 1).otherwise(0))\n",
    "df_final = df_final.withColumn('Year_15', fn.when(fn.col('Month') == '7', 1).otherwise(0))\n",
    "df_final = df_final.withColumn('Year_16', fn.when(fn.col('Month') == '8', 1).otherwise(0))\n",
    "df_final = df_final.withColumn('Year_17', fn.when(fn.col('Month') == '9', 1).otherwise(0))\n",
    "df_final = df_final.withColumn('Month', fn.when(fn.col('Month') == '10', 1).otherwise(0))\n",
    "df_final = df_final.withColumn('Month', fn.when(fn.col('Month') == '11', 1).otherwise(0))\n",
    "df_final.show(3)"
   ]
  },
  {
   "cell_type": "markdown",
   "metadata": {},
   "source": [
    "## Split dataset into training, validation and testing by the year of the incidents\n",
    "- Follow 0.6, 0.3, and 0.1 rule to split (6 years of data as training etc)"
   ]
  },
  {
   "cell_type": "code",
   "execution_count": 40,
   "metadata": {},
   "outputs": [
    {
     "data": {
      "text/html": [
       "<style scoped>\n",
       "  .ansiout {\n",
       "    display: block;\n",
       "    unicode-bidi: embed;\n",
       "    white-space: pre-wrap;\n",
       "    word-wrap: break-word;\n",
       "    word-break: break-all;\n",
       "    font-family: \"Source Code Pro\", \"Menlo\", monospace;;\n",
       "    font-size: 13px;\n",
       "    color: #555;\n",
       "    margin-left: 4px;\n",
       "    line-height: 19px;\n",
       "  }\n",
       "</style>\n",
       "<div class=\"ansiout\"></div>"
      ]
     },
     "metadata": {},
     "output_type": "display_data"
    }
   ],
   "source": [
    "# or split by year\n",
    "training_df = df_final.where('Year >= 2008 and Year < 2014')\n",
    "validation_df = df_final.where('Year >= 2014 and Year < 2017')\n",
    "testing_df = df_final.where('Year >= 2017')"
   ]
  },
  {
   "cell_type": "code",
   "execution_count": 41,
   "metadata": {},
   "outputs": [
    {
     "data": {
      "text/html": [
       "<style scoped>\n",
       "  .ansiout {\n",
       "    display: block;\n",
       "    unicode-bidi: embed;\n",
       "    white-space: pre-wrap;\n",
       "    word-wrap: break-word;\n",
       "    word-break: break-all;\n",
       "    font-family: \"Source Code Pro\", \"Menlo\", monospace;;\n",
       "    font-size: 13px;\n",
       "    color: #555;\n",
       "    margin-left: 4px;\n",
       "    line-height: 19px;\n",
       "  }\n",
       "</style>\n",
       "<div class=\"ansiout\"># points in training:  841044\n",
       "# points in validation:  457536\n",
       "# points in testing:  154773\n",
       "</div>"
      ]
     },
     "metadata": {},
     "output_type": "display_data"
    }
   ],
   "source": [
    "print(\"# points in training: \", training_df.count())\n",
    "print(\"# points in validation: \", validation_df.count())\n",
    "print(\"# points in testing: \", testing_df.count())"
   ]
  },
  {
   "cell_type": "code",
   "execution_count": 42,
   "metadata": {},
   "outputs": [
    {
     "data": {
      "text/html": [
       "<style scoped>\n",
       "  .ansiout {\n",
       "    display: block;\n",
       "    unicode-bidi: embed;\n",
       "    white-space: pre-wrap;\n",
       "    word-wrap: break-word;\n",
       "    word-break: break-all;\n",
       "    font-family: \"Source Code Pro\", \"Menlo\", monospace;;\n",
       "    font-size: 13px;\n",
       "    color: #555;\n",
       "    margin-left: 4px;\n",
       "    line-height: 19px;\n",
       "  }\n",
       "</style>\n",
       "<div class=\"ansiout\">+-------+------+\n",
       "Res_num| count|\n",
       "+-------+------+\n",
       "      1| 37031|\n",
       "      0|117742|\n",
       "+-------+------+\n",
       "\n",
       "</div>"
      ]
     },
     "metadata": {},
     "output_type": "display_data"
    }
   ],
   "source": [
    "testing_df.groupby('Res_num').count().show()\n",
    "# points in training: 841044 # points in validation: 457536 # points in testing: 154773"
   ]
  },
  {
   "cell_type": "markdown",
   "metadata": {},
   "source": [
    "# Modeling - run with different variables\n",
    "- Random Forest (refere as rf)\n",
    "- Logistic regression (refer as lr)\n",
    "- Gradient boosting (refer as gb)\n",
    "\n",
    "model# differentiates the number of variables"
   ]
  },
  {
   "cell_type": "markdown",
   "metadata": {},
   "source": [
    "#### Variables that are considered:\n",
    "- location\n",
    "- Crime category\n",
    "- Incident time\n",
    "    - Hour (5 levels)\n",
    "    - Month (12 levels)\n",
    "    - Day of the week (7 levels)\n",
    "    \n",
    "Parameters used in model if any:\n",
    "1. (RF) number of trees (10, 20, 30, 50, 80, 100)\n",
    "2. (RF) cachenodeID\n",
    "3. (GB, RF) seed = 0 for same result\n",
    "4. (GB, LR) maxIter=10\n",
    "5. (LR) regParam, elasticNetParam"
   ]
  },
  {
   "cell_type": "code",
   "execution_count": 43,
   "metadata": {},
   "outputs": [
    {
     "data": {
      "text/html": [
       "<style scoped>\n",
       "  .ansiout {\n",
       "    display: block;\n",
       "    unicode-bidi: embed;\n",
       "    white-space: pre-wrap;\n",
       "    word-wrap: break-word;\n",
       "    word-break: break-all;\n",
       "    font-family: \"Source Code Pro\", \"Menlo\", monospace;;\n",
       "    font-size: 13px;\n",
       "    color: #555;\n",
       "    margin-left: 4px;\n",
       "    line-height: 19px;\n",
       "  }\n",
       "</style>\n",
       "<div class=\"ansiout\"></div>"
      ]
     },
     "metadata": {},
     "output_type": "display_data"
    }
   ],
   "source": [
    "# Functionality for computing features\n",
    "from pyspark.ml import feature\n",
    "# Functionality for regression\n",
    "from pyspark.ml import regression\n",
    "# Funcionality for classification\n",
    "from pyspark.ml import classification\n",
    "# Object for creating sequences of transformations\n",
    "from pyspark.ml import Pipeline, evaluation"
   ]
  },
  {
   "cell_type": "code",
   "execution_count": 44,
   "metadata": {},
   "outputs": [
    {
     "data": {
      "text/html": [
       "<style scoped>\n",
       "  .ansiout {\n",
       "    display: block;\n",
       "    unicode-bidi: embed;\n",
       "    white-space: pre-wrap;\n",
       "    word-wrap: break-word;\n",
       "    word-break: break-all;\n",
       "    font-family: \"Source Code Pro\", \"Menlo\", monospace;;\n",
       "    font-size: 13px;\n",
       "    color: #555;\n",
       "    margin-left: 4px;\n",
       "    line-height: 19px;\n",
       "  }\n",
       "</style>\n",
       "<div class=\"ansiout\"></div>"
      ]
     },
     "metadata": {},
     "output_type": "display_data"
    }
   ],
   "source": [
    "from pyspark.mllib.classification import LogisticRegressionWithLBFGS\n",
    "from pyspark.mllib.util import MLUtils\n",
    "from pyspark.mllib.evaluation import MulticlassMetrics"
   ]
  },
  {
   "cell_type": "code",
   "execution_count": 45,
   "metadata": {},
   "outputs": [
    {
     "data": {
      "text/html": [
       "<style scoped>\n",
       "  .ansiout {\n",
       "    display: block;\n",
       "    unicode-bidi: embed;\n",
       "    white-space: pre-wrap;\n",
       "    word-wrap: break-word;\n",
       "    word-break: break-all;\n",
       "    font-family: \"Source Code Pro\", \"Menlo\", monospace;;\n",
       "    font-size: 13px;\n",
       "    color: #555;\n",
       "    margin-left: 4px;\n",
       "    line-height: 19px;\n",
       "  }\n",
       "</style>\n",
       "<div class=\"ansiout\"></div>"
      ]
     },
     "metadata": {},
     "output_type": "display_data"
    }
   ],
   "source": [
    "from pyspark.sql.functions import isnan\n",
    "from pyspark.ml.feature import OneHotEncoderEstimator\n",
    "from pyspark.ml.feature import StringIndexer"
   ]
  },
  {
   "cell_type": "code",
   "execution_count": 46,
   "metadata": {},
   "outputs": [
    {
     "data": {
      "text/html": [
       "<style scoped>\n",
       "  .ansiout {\n",
       "    display: block;\n",
       "    unicode-bidi: embed;\n",
       "    white-space: pre-wrap;\n",
       "    word-wrap: break-word;\n",
       "    word-break: break-all;\n",
       "    font-family: \"Source Code Pro\", \"Menlo\", monospace;;\n",
       "    font-size: 13px;\n",
       "    color: #555;\n",
       "    margin-left: 4px;\n",
       "    line-height: 19px;\n",
       "  }\n",
       "</style>\n",
       "<div class=\"ansiout\">lr_m1 =  0.752094343928631\n",
       "</div>"
      ]
     },
     "metadata": {},
     "output_type": "display_data"
    }
   ],
   "source": [
    "# category only\n",
    "crime_m1 = Pipeline(stages=[feature.VectorAssembler(inputCols=['Minor', 'Medium',\n",
    "                                                               'Servere', 'Very Servere'],\n",
    "                                        outputCol='features'),\n",
    "                 classification.LogisticRegression(labelCol='Res_num', featuresCol='features', maxIter=10)])\n",
    "crime_m1_fitted = crime_m1.fit(training_df)\n",
    "transformer_m1 = crime_m1_fitted.transform(validation_df)\n",
    "evaluator = evaluation.BinaryClassificationEvaluator(labelCol='Res_num')\n",
    "lr_AUC1 = evaluator.evaluate(transformer_m1)\n",
    "#regParam=0, elasticNetParam=0\n",
    "print('lr_m1 = ',lr_AUC1)"
   ]
  },
  {
   "cell_type": "code",
   "execution_count": 47,
   "metadata": {},
   "outputs": [
    {
     "data": {
      "text/html": [
       "<style scoped>\n",
       "  .ansiout {\n",
       "    display: block;\n",
       "    unicode-bidi: embed;\n",
       "    white-space: pre-wrap;\n",
       "    word-wrap: break-word;\n",
       "    word-break: break-all;\n",
       "    font-family: \"Source Code Pro\", \"Menlo\", monospace;;\n",
       "    font-size: 13px;\n",
       "    color: #555;\n",
       "    margin-left: 4px;\n",
       "    line-height: 19px;\n",
       "  }\n",
       "</style>\n",
       "<div class=\"ansiout\">gb_m1 =  0.7520943439286308\n",
       "</div>"
      ]
     },
     "metadata": {},
     "output_type": "display_data"
    }
   ],
   "source": [
    "# category only\n",
    "gb_m1 = Pipeline(stages=[feature.VectorAssembler(inputCols=['Minor', 'Medium',\n",
    "                                                               'Servere', 'Very Servere'],\n",
    "                                        outputCol='features'),\n",
    "                 classification.GBTClassifier(labelCol='Res_num', featuresCol='features', maxIter=10)])\n",
    "gb_m1_fitted = gb_m1.fit(training_df)\n",
    "gb_transformer_m1 = gb_m1_fitted.transform(validation_df)\n",
    "evaluator = evaluation.BinaryClassificationEvaluator(labelCol='Res_num')\n",
    "gb_AUC1 = evaluator.evaluate(gb_transformer_m1)\n",
    "#regParam=0, elasticNetParam=0\n",
    "print('gb_m1 = ',gb_AUC1)"
   ]
  },
  {
   "cell_type": "code",
   "execution_count": 48,
   "metadata": {},
   "outputs": [
    {
     "data": {
      "text/html": [
       "<style scoped>\n",
       "  .ansiout {\n",
       "    display: block;\n",
       "    unicode-bidi: embed;\n",
       "    white-space: pre-wrap;\n",
       "    word-wrap: break-word;\n",
       "    word-break: break-all;\n",
       "    font-family: \"Source Code Pro\", \"Menlo\", monospace;;\n",
       "    font-size: 13px;\n",
       "    color: #555;\n",
       "    margin-left: 4px;\n",
       "    line-height: 19px;\n",
       "  }\n",
       "</style>\n",
       "<div class=\"ansiout\">rf_m1 =  0.752094343928631\n",
       "</div>"
      ]
     },
     "metadata": {},
     "output_type": "display_data"
    }
   ],
   "source": [
    "# category only\n",
    "rf_m1 = Pipeline(stages=[feature.VectorAssembler(inputCols=['Minor', 'Medium',\n",
    "                                                               'Servere', 'Very Servere'],\n",
    "                                        outputCol='features'),\n",
    "                classification.RandomForestClassifier(labelCol='Res_num', featuresCol='features', seed = 0,\n",
    "                            numTrees=10, cacheNodeIds = True)])\n",
    "rf_m1_fitted = rf_m1.fit(training_df)\n",
    "rf_m1_trans = rf_m1_fitted.transform(validation_df)\n",
    "evaluator = evaluation.BinaryClassificationEvaluator(labelCol='Res_num')\n",
    "rf_AUC1 = evaluator.evaluate(rf_m1_trans)\n",
    "print('rf_m1 = ',rf_AUC1)"
   ]
  },
  {
   "cell_type": "code",
   "execution_count": 49,
   "metadata": {},
   "outputs": [
    {
     "data": {
      "text/html": [
       "<style scoped>\n",
       "  .ansiout {\n",
       "    display: block;\n",
       "    unicode-bidi: embed;\n",
       "    white-space: pre-wrap;\n",
       "    word-wrap: break-word;\n",
       "    word-break: break-all;\n",
       "    font-family: \"Source Code Pro\", \"Menlo\", monospace;;\n",
       "    font-size: 13px;\n",
       "    color: #555;\n",
       "    margin-left: 4px;\n",
       "    line-height: 19px;\n",
       "  }\n",
       "</style>\n",
       "<div class=\"ansiout\">lr_AUC2 =  0.7636711022971836\n",
       "</div>"
      ]
     },
     "metadata": {},
     "output_type": "display_data"
    }
   ],
   "source": [
    "# crime type + location\n",
    "crime_m2 = Pipeline(stages=[feature.VectorAssembler(inputCols=['Minor', 'Medium', 'Servere',\n",
    "                    'Very Servere','SOUTHERN','MISSION','NORTHERN','CENTRAL','BAYVIEW','TENDERLOIN',\n",
    "                    'INGLESIDE','TARAVAL','PARK'],\n",
    "                                        outputCol='features'),\n",
    "                 classification.LogisticRegression(labelCol='Res_num', featuresCol='features', maxIter=10)])\n",
    "crime_m2_fitted = crime_m2.fit(training_df)\n",
    "transformer_m2 = crime_m2_fitted.transform(validation_df)\n",
    "from pyspark.ml.evaluation import BinaryClassificationEvaluator\n",
    "\n",
    "evaluator = BinaryClassificationEvaluator(labelCol=\"Res_num\")\n",
    "print('lr_AUC2 = ', evaluator.evaluate(transformer_m2))"
   ]
  },
  {
   "cell_type": "code",
   "execution_count": 50,
   "metadata": {},
   "outputs": [
    {
     "data": {
      "text/html": [
       "<style scoped>\n",
       "  .ansiout {\n",
       "    display: block;\n",
       "    unicode-bidi: embed;\n",
       "    white-space: pre-wrap;\n",
       "    word-wrap: break-word;\n",
       "    word-break: break-all;\n",
       "    font-family: \"Source Code Pro\", \"Menlo\", monospace;;\n",
       "    font-size: 13px;\n",
       "    color: #555;\n",
       "    margin-left: 4px;\n",
       "    line-height: 19px;\n",
       "  }\n",
       "</style>\n",
       "<div class=\"ansiout\">gb_AUC2 =  0.7629948863156344\n",
       "</div>"
      ]
     },
     "metadata": {},
     "output_type": "display_data"
    }
   ],
   "source": [
    "# crime type + location\n",
    "gb_m2 = Pipeline(stages=[feature.VectorAssembler(inputCols=['Minor', 'Medium', 'Servere',\n",
    "                    'Very Servere','SOUTHERN','MISSION','NORTHERN','CENTRAL','BAYVIEW','TENDERLOIN',\n",
    "                    'INGLESIDE','TARAVAL','PARK'], outputCol='features'),\n",
    "                 classification.GBTClassifier(labelCol='Res_num', featuresCol='features', maxIter=10)])\n",
    "gb_m2_fitted = gb_m2.fit(training_df)\n",
    "gb_transformer_m2 = gb_m2_fitted.transform(validation_df)\n",
    "from pyspark.ml.evaluation import BinaryClassificationEvaluator\n",
    "\n",
    "evaluator = BinaryClassificationEvaluator(labelCol=\"Res_num\")\n",
    "print('gb_AUC2 = ', evaluator.evaluate(gb_transformer_m2))"
   ]
  },
  {
   "cell_type": "code",
   "execution_count": 51,
   "metadata": {},
   "outputs": [
    {
     "data": {
      "text/html": [
       "<style scoped>\n",
       "  .ansiout {\n",
       "    display: block;\n",
       "    unicode-bidi: embed;\n",
       "    white-space: pre-wrap;\n",
       "    word-wrap: break-word;\n",
       "    word-break: break-all;\n",
       "    font-family: \"Source Code Pro\", \"Menlo\", monospace;;\n",
       "    font-size: 13px;\n",
       "    color: #555;\n",
       "    margin-left: 4px;\n",
       "    line-height: 19px;\n",
       "  }\n",
       "</style>\n",
       "<div class=\"ansiout\">rf_m2 =  0.7576967542235056\n",
       "</div>"
      ]
     },
     "metadata": {},
     "output_type": "display_data"
    }
   ],
   "source": [
    "rf_m2 = Pipeline(stages=[feature.VectorAssembler(inputCols=['Minor', 'Medium', 'Servere',\n",
    "                    'Very Servere','SOUTHERN','MISSION','NORTHERN','CENTRAL','BAYVIEW','TENDERLOIN',\n",
    "                    'INGLESIDE','TARAVAL','PARK'], outputCol='features'),\n",
    "            classification.RandomForestClassifier(labelCol='Res_num', featuresCol='features', seed = 0,\n",
    "                            numTrees=10, cacheNodeIds = True)])\n",
    "rf_m2_fitted = rf_m2.fit(training_df)\n",
    "rf_m2_trans = rf_m2_fitted.transform(validation_df)\n",
    "evaluator = evaluation.BinaryClassificationEvaluator(labelCol='Res_num')\n",
    "rf_AUC2 = evaluator.evaluate(rf_m2_trans)\n",
    "print('rf_m2 = ',rf_AUC2)"
   ]
  },
  {
   "cell_type": "code",
   "execution_count": 52,
   "metadata": {},
   "outputs": [
    {
     "data": {
      "text/html": [
       "<style scoped>\n",
       "  .ansiout {\n",
       "    display: block;\n",
       "    unicode-bidi: embed;\n",
       "    white-space: pre-wrap;\n",
       "    word-wrap: break-word;\n",
       "    word-break: break-all;\n",
       "    font-family: \"Source Code Pro\", \"Menlo\", monospace;;\n",
       "    font-size: 13px;\n",
       "    color: #555;\n",
       "    margin-left: 4px;\n",
       "    line-height: 19px;\n",
       "  }\n",
       "</style>\n",
       "<div class=\"ansiout\">AUC9 =  0.7649703312563588\n",
       "</div>"
      ]
     },
     "metadata": {},
     "output_type": "display_data"
    }
   ],
   "source": [
    "# crime level + year + month + location + hour level --> updated: removed year\n",
    "crime_m9 = Pipeline(stages=[feature.VectorAssembler(inputCols=['Minor', 'Medium', 'Servere',\n",
    "                    'Very Servere','Jan','Feb','Mar','Apr','May','Jun','Jul','Aug', 'Sep','Oct','Nov','SOUTHERN','MISSION','NORTHERN','CENTRAL',\n",
    "                    'BAYVIEW','TENDERLOIN', 'INGLESIDE','TARAVAL','PARK','Near noon','Afternoon',\n",
    "                    'evening','Night'], outputCol='features'),\n",
    "                 classification.LogisticRegression(labelCol='Res_num', featuresCol='features')])\n",
    "crime_m9_fitted = crime_m9.fit(training_df)\n",
    "# removed day of the week\n",
    "transformer_m9 = crime_m9_fitted.transform(validation_df)\n",
    "\n",
    "print('AUC9 = ', evaluator.evaluate(transformer_m9))"
   ]
  },
  {
   "cell_type": "code",
   "execution_count": 53,
   "metadata": {},
   "outputs": [
    {
     "data": {
      "text/html": [
       "<style scoped>\n",
       "  .ansiout {\n",
       "    display: block;\n",
       "    unicode-bidi: embed;\n",
       "    white-space: pre-wrap;\n",
       "    word-wrap: break-word;\n",
       "    word-break: break-all;\n",
       "    font-family: \"Source Code Pro\", \"Menlo\", monospace;;\n",
       "    font-size: 13px;\n",
       "    color: #555;\n",
       "    margin-left: 4px;\n",
       "    line-height: 19px;\n",
       "  }\n",
       "</style>\n",
       "<div class=\"ansiout\">AUC9 =  0.7665906305842367\n",
       "</div>"
      ]
     },
     "metadata": {},
     "output_type": "display_data"
    }
   ],
   "source": [
    "\n",
    "# crime level + year + month + location + hour level\n",
    "gb_m9 = Pipeline(stages=[feature.VectorAssembler(inputCols=['Minor', 'Medium', 'Servere',\n",
    "                    'Very Servere', 'Jan','Feb','Mar','Apr','May','Jun','Jul','Aug', 'Sep','Oct','Nov','SOUTHERN','MISSION','NORTHERN','CENTRAL',\n",
    "                    'BAYVIEW','TENDERLOIN', 'INGLESIDE','TARAVAL','PARK','Near noon','Afternoon',\n",
    "                    'evening','Night'], outputCol='features'),\n",
    "                 classification.GBTClassifier(labelCol='Res_num', featuresCol='features',maxIter=10)])\n",
    "gb_m9_fitted = gb_m9.fit(training_df)\n",
    "# removed day of the week\n",
    "gb_transformer_m9 = gb_m9_fitted.transform(validation_df)\n",
    "\n",
    "print('AUC9 = ', evaluator.evaluate(gb_transformer_m9))"
   ]
  },
  {
   "cell_type": "code",
   "execution_count": 54,
   "metadata": {},
   "outputs": [
    {
     "data": {
      "text/html": [
       "<style scoped>\n",
       "  .ansiout {\n",
       "    display: block;\n",
       "    unicode-bidi: embed;\n",
       "    white-space: pre-wrap;\n",
       "    word-wrap: break-word;\n",
       "    word-break: break-all;\n",
       "    font-family: \"Source Code Pro\", \"Menlo\", monospace;;\n",
       "    font-size: 13px;\n",
       "    color: #555;\n",
       "    margin-left: 4px;\n",
       "    line-height: 19px;\n",
       "  }\n",
       "</style>\n",
       "<div class=\"ansiout\">rf_m9 =  0.7439949632659307\n",
       "</div>"
      ]
     },
     "metadata": {},
     "output_type": "display_data"
    }
   ],
   "source": [
    "# crime level + year + month + location + hour level\n",
    "rf_m9 = Pipeline(stages=[feature.VectorAssembler(inputCols=['Minor', 'Medium', 'Servere',\n",
    "                    'Very Servere','Jan','Feb','Mar','Apr','May','Jun','Jul','Aug', 'Sep','Oct','Nov','SOUTHERN','MISSION','NORTHERN','CENTRAL',\n",
    "                    'BAYVIEW','TENDERLOIN', 'INGLESIDE','TARAVAL','PARK','Near noon','Afternoon',\n",
    "                    'evening','Night'], outputCol='features'),\n",
    "         classification.RandomForestClassifier(labelCol='Res_num', featuresCol='features', seed = 0,\n",
    "                            numTrees=10, cacheNodeIds = True)])\n",
    "rf_m9_fitted = rf_m9.fit(training_df)\n",
    "rf_m9_trans = rf_m9_fitted.transform(validation_df)\n",
    "evaluator = evaluation.BinaryClassificationEvaluator(labelCol='Res_num')\n",
    "rf_AUC9 = evaluator.evaluate(rf_m9_trans)\n",
    "print('rf_m9 = ',rf_AUC9)"
   ]
  },
  {
   "cell_type": "code",
   "execution_count": 55,
   "metadata": {},
   "outputs": [
    {
     "data": {
      "text/html": [
       "<style scoped>\n",
       "  .ansiout {\n",
       "    display: block;\n",
       "    unicode-bidi: embed;\n",
       "    white-space: pre-wrap;\n",
       "    word-wrap: break-word;\n",
       "    word-break: break-all;\n",
       "    font-family: \"Source Code Pro\", \"Menlo\", monospace;;\n",
       "    font-size: 13px;\n",
       "    color: #555;\n",
       "    margin-left: 4px;\n",
       "    line-height: 19px;\n",
       "  }\n",
       "</style>\n",
       "<div class=\"ansiout\">lr_AUC3 =  0.7567503055955304\n",
       "</div>"
      ]
     },
     "metadata": {},
     "output_type": "display_data"
    }
   ],
   "source": [
    "# crime level + year + month + day + hour\n",
    "crime_m3 = Pipeline(stages=[feature.VectorAssembler(inputCols=['Minor', 'Medium', 'Servere',\n",
    "                    'Very Servere','Jan','Feb','Mar','Apr','May','Jun','Jul','Aug', 'Sep','Oct','Nov','Sunday','Monday','Tuesday','Thursday','Friday','Saturday',\n",
    "                    'Near noon','Afternoon','evening','Night'],\n",
    "                                        outputCol='features'),\n",
    "                 classification.LogisticRegression(labelCol='Res_num', featuresCol='features', maxIter=10)])\n",
    "crime_m3_fitted = crime_m3.fit(training_df)\n",
    "transformer_m3 = crime_m3_fitted.transform(validation_df)\n",
    "print('lr_AUC3 = ', evaluator.evaluate(transformer_m3))"
   ]
  },
  {
   "cell_type": "code",
   "execution_count": 56,
   "metadata": {},
   "outputs": [
    {
     "data": {
      "text/html": [
       "<style scoped>\n",
       "  .ansiout {\n",
       "    display: block;\n",
       "    unicode-bidi: embed;\n",
       "    white-space: pre-wrap;\n",
       "    word-wrap: break-word;\n",
       "    word-break: break-all;\n",
       "    font-family: \"Source Code Pro\", \"Menlo\", monospace;;\n",
       "    font-size: 13px;\n",
       "    color: #555;\n",
       "    margin-left: 4px;\n",
       "    line-height: 19px;\n",
       "  }\n",
       "</style>\n",
       "<div class=\"ansiout\">lr_AUC3 =  0.760084956337706\n",
       "</div>"
      ]
     },
     "metadata": {},
     "output_type": "display_data"
    }
   ],
   "source": [
    "#GBTClassifier\n",
    "# crime level + year + month + day + hour\n",
    "gb_m3 = Pipeline(stages=[feature.VectorAssembler(inputCols=['Minor', 'Medium', 'Servere',\n",
    "                    'Very Servere','Year','Month','Sunday','Monday','Tuesday','Thursday','Friday','Saturday',\n",
    "                    'Near noon','Afternoon','evening','Night'],\n",
    "                                        outputCol='features'),\n",
    "                 classification.GBTClassifier(labelCol='Res_num', featuresCol='features', maxIter=10)])\n",
    "gb_m3_fitted = gb_m3.fit(training_df)\n",
    "gb_transformer_m3 = gb_m3_fitted.transform(validation_df)\n",
    "print('lr_AUC3 = ', evaluator.evaluate(gb_transformer_m3))"
   ]
  },
  {
   "cell_type": "code",
   "execution_count": 57,
   "metadata": {},
   "outputs": [
    {
     "data": {
      "text/html": [
       "<style scoped>\n",
       "  .ansiout {\n",
       "    display: block;\n",
       "    unicode-bidi: embed;\n",
       "    white-space: pre-wrap;\n",
       "    word-wrap: break-word;\n",
       "    word-break: break-all;\n",
       "    font-family: \"Source Code Pro\", \"Menlo\", monospace;;\n",
       "    font-size: 13px;\n",
       "    color: #555;\n",
       "    margin-left: 4px;\n",
       "    line-height: 19px;\n",
       "  }\n",
       "</style>\n",
       "<div class=\"ansiout\">rf_m3 =  0.7544324712555827\n",
       "</div>"
      ]
     },
     "metadata": {},
     "output_type": "display_data"
    }
   ],
   "source": [
    "# crime level + year + month + day + hour\n",
    "rf_m3 = Pipeline(stages=[feature.VectorAssembler(inputCols=['Minor', 'Medium', 'Servere',\n",
    "                    'Very Servere','Jan','Feb','Mar','Apr','May','Jun','Jul','Aug', 'Sep','Oct','Nov','Sunday','Monday','Tuesday','Thursday','Friday','Saturday',\n",
    "                    'Near noon','Afternoon','evening','Night'],\n",
    "                                        outputCol='features'),\n",
    "            classification.RandomForestClassifier(labelCol='Res_num', featuresCol='features', seed = 0,\n",
    "                            numTrees=10, cacheNodeIds = True)])\n",
    "rf_m3_fitted = rf_m3.fit(training_df)\n",
    "rf_m3_trans = rf_m3_fitted.transform(validation_df)\n",
    "evaluator = evaluation.BinaryClassificationEvaluator(labelCol='Res_num')\n",
    "rf_AUC3 = evaluator.evaluate(rf_m3_trans)\n",
    "print('rf_m3 = ',rf_AUC3)"
   ]
  },
  {
   "cell_type": "code",
   "execution_count": 58,
   "metadata": {},
   "outputs": [
    {
     "data": {
      "text/html": [
       "<style scoped>\n",
       "  .ansiout {\n",
       "    display: block;\n",
       "    unicode-bidi: embed;\n",
       "    white-space: pre-wrap;\n",
       "    word-wrap: break-word;\n",
       "    word-break: break-all;\n",
       "    font-family: \"Source Code Pro\", \"Menlo\", monospace;;\n",
       "    font-size: 13px;\n",
       "    color: #555;\n",
       "    margin-left: 4px;\n",
       "    line-height: 19px;\n",
       "  }\n",
       "</style>\n",
       "<div class=\"ansiout\">lr_AUC4 =  0.7645646655730021\n",
       "</div>"
      ]
     },
     "metadata": {},
     "output_type": "display_data"
    }
   ],
   "source": [
    "# crime level + day, year month, hour, location = all\n",
    "crime_m4 = Pipeline(stages=[feature.VectorAssembler(inputCols=['Minor', 'Medium', 'Servere',\n",
    "                    'Very Servere','Jan','Feb','Mar','Apr','May','Jun','Jul','Aug', 'Sep','Oct','Nov','Sunday','Monday','Tuesday','Thursday','Friday','Saturday',\n",
    "                    'Near noon','Afternoon','evening','Night','SOUTHERN','MISSION','NORTHERN','CENTRAL',\n",
    "                    'BAYVIEW','TENDERLOIN', 'INGLESIDE','TARAVAL','PARK'],\n",
    "                                        outputCol='features'),\n",
    "                 classification.LogisticRegression(labelCol='Res_num', featuresCol='features', maxIter=10)])\n",
    "crime_m4_fitted = crime_m4.fit(training_df)\n",
    "transformer_m4 = crime_m4_fitted.transform(validation_df)\n",
    "print('lr_AUC4 = ', evaluator.evaluate(transformer_m4))"
   ]
  },
  {
   "cell_type": "code",
   "execution_count": 59,
   "metadata": {},
   "outputs": [
    {
     "data": {
      "text/html": [
       "<style scoped>\n",
       "  .ansiout {\n",
       "    display: block;\n",
       "    unicode-bidi: embed;\n",
       "    white-space: pre-wrap;\n",
       "    word-wrap: break-word;\n",
       "    word-break: break-all;\n",
       "    font-family: \"Source Code Pro\", \"Menlo\", monospace;;\n",
       "    font-size: 13px;\n",
       "    color: #555;\n",
       "    margin-left: 4px;\n",
       "    line-height: 19px;\n",
       "  }\n",
       "</style>\n",
       "<div class=\"ansiout\">lr_AUC4 =  0.7665909570024958\n",
       "</div>"
      ]
     },
     "metadata": {},
     "output_type": "display_data"
    }
   ],
   "source": [
    "\n",
    "# crime level + day, year month, hour, location = all\n",
    "gb_m4 = Pipeline(stages=[feature.VectorAssembler(inputCols=['Minor', 'Medium', 'Servere',\n",
    "                    'Very Servere','Jan','Feb','Mar','Apr','May','Jun','Jul','Aug', 'Sep','Oct','Nov','Sunday','Monday','Tuesday','Thursday','Friday','Saturday',\n",
    "                    'Near noon','Afternoon','evening','Night','SOUTHERN','MISSION','NORTHERN','CENTRAL',\n",
    "                    'BAYVIEW','TENDERLOIN', 'INGLESIDE','TARAVAL','PARK'],\n",
    "                                        outputCol='features'),\n",
    "                 classification.GBTClassifier(labelCol='Res_num', featuresCol='features', maxIter=10)])\n",
    "gb_m4_fitted = gb_m4.fit(training_df)\n",
    "gb_transformer_m4 = gb_m4_fitted.transform(validation_df)\n",
    "print('lr_AUC4 = ', evaluator.evaluate(gb_transformer_m4))"
   ]
  },
  {
   "cell_type": "code",
   "execution_count": 60,
   "metadata": {},
   "outputs": [
    {
     "data": {
      "text/html": [
       "<style scoped>\n",
       "  .ansiout {\n",
       "    display: block;\n",
       "    unicode-bidi: embed;\n",
       "    white-space: pre-wrap;\n",
       "    word-wrap: break-word;\n",
       "    word-break: break-all;\n",
       "    font-family: \"Source Code Pro\", \"Menlo\", monospace;;\n",
       "    font-size: 13px;\n",
       "    color: #555;\n",
       "    margin-left: 4px;\n",
       "    line-height: 19px;\n",
       "  }\n",
       "</style>\n",
       "<div class=\"ansiout\">rf_m4 =  0.7561433260785806\n",
       "</div>"
      ]
     },
     "metadata": {},
     "output_type": "display_data"
    }
   ],
   "source": [
    "# crime level + day, year month, hour, location = all\n",
    "rf_m4 = Pipeline(stages=[feature.VectorAssembler(inputCols=['Minor', 'Medium', 'Servere',\n",
    "                    'Very Servere','Jan','Feb','Mar','Apr','May','Jun','Jul','Aug', 'Sep','Oct','Nov','Sunday','Monday','Tuesday','Thursday','Friday','Saturday',\n",
    "                    'Near noon','Afternoon','evening','Night','SOUTHERN','MISSION','NORTHERN','CENTRAL',\n",
    "                    'BAYVIEW','TENDERLOIN', 'INGLESIDE','TARAVAL','PARK'],\n",
    "                                        outputCol='features'),\n",
    "            classification.RandomForestClassifier(labelCol='Res_num', featuresCol='features', seed = 0,\n",
    "                            numTrees=10, cacheNodeIds = True)])\n",
    "rf_m4_fitted = rf_m4.fit(training_df)\n",
    "rf_m4_trans = rf_m4_fitted.transform(validation_df)\n",
    "evaluator = evaluation.BinaryClassificationEvaluator(labelCol='Res_num')\n",
    "rf_AUC4 = evaluator.evaluate(rf_m4_trans)\n",
    "print('rf_m4 = ',rf_AUC4)"
   ]
  },
  {
   "cell_type": "code",
   "execution_count": 61,
   "metadata": {},
   "outputs": [
    {
     "data": {
      "text/html": [
       "<style scoped>\n",
       "  .ansiout {\n",
       "    display: block;\n",
       "    unicode-bidi: embed;\n",
       "    white-space: pre-wrap;\n",
       "    word-wrap: break-word;\n",
       "    word-break: break-all;\n",
       "    font-family: \"Source Code Pro\", \"Menlo\", monospace;;\n",
       "    font-size: 13px;\n",
       "    color: #555;\n",
       "    margin-left: 4px;\n",
       "    line-height: 19px;\n",
       "  }\n",
       "</style>\n",
       "<div class=\"ansiout\">rf_m21 =  0.7610003610178669\n",
       "</div>"
      ]
     },
     "metadata": {},
     "output_type": "display_data"
    }
   ],
   "source": [
    "rf_m21 = Pipeline(stages=[feature.VectorAssembler(inputCols=['Minor', 'Medium', 'Servere',\n",
    "                    'Very Servere','SOUTHERN','MISSION','NORTHERN','CENTRAL','BAYVIEW','TENDERLOIN',\n",
    "                    'INGLESIDE','TARAVAL','PARK'], outputCol='features'),\n",
    "            classification.RandomForestClassifier(labelCol='Res_num', featuresCol='features', seed = 0,\n",
    "                            numTrees=50, cacheNodeIds = True)])\n",
    "rf_m21_fitted = rf_m21.fit(training_df)\n",
    "rf_m21_trans = rf_m21_fitted.transform(validation_df)\n",
    "evaluator = evaluation.BinaryClassificationEvaluator(labelCol='Res_num')\n",
    "rf_AUC21 = evaluator.evaluate(rf_m21_trans)\n",
    "print('rf_m21 = ',rf_AUC21)"
   ]
  },
  {
   "cell_type": "code",
   "execution_count": 62,
   "metadata": {},
   "outputs": [
    {
     "data": {
      "text/html": [
       "<style scoped>\n",
       "  .ansiout {\n",
       "    display: block;\n",
       "    unicode-bidi: embed;\n",
       "    white-space: pre-wrap;\n",
       "    word-wrap: break-word;\n",
       "    word-break: break-all;\n",
       "    font-family: \"Source Code Pro\", \"Menlo\", monospace;;\n",
       "    font-size: 13px;\n",
       "    color: #555;\n",
       "    margin-left: 4px;\n",
       "    line-height: 19px;\n",
       "  }\n",
       "</style>\n",
       "<div class=\"ansiout\">rf_m22 =  0.7637457819693152\n",
       "</div>"
      ]
     },
     "metadata": {},
     "output_type": "display_data"
    }
   ],
   "source": [
    "rf_m22 = Pipeline(stages=[feature.VectorAssembler(inputCols=['Minor', 'Medium', 'Servere',\n",
    "                    'Very Servere','SOUTHERN','MISSION','NORTHERN','CENTRAL','BAYVIEW','TENDERLOIN',\n",
    "                    'INGLESIDE','TARAVAL','PARK'], outputCol='features'),\n",
    "            classification.RandomForestClassifier(labelCol='Res_num', featuresCol='features', seed = 0,\n",
    "                            numTrees=30, cacheNodeIds = True)])\n",
    "rf_m22_fitted = rf_m22.fit(training_df)\n",
    "rf_m22_trans = rf_m22_fitted.transform(validation_df)\n",
    "evaluator = evaluation.BinaryClassificationEvaluator(labelCol='Res_num')\n",
    "rf_AUC22 = evaluator.evaluate(rf_m22_trans)\n",
    "print('rf_m22 = ',rf_AUC22)"
   ]
  },
  {
   "cell_type": "code",
   "execution_count": 63,
   "metadata": {},
   "outputs": [
    {
     "data": {
      "text/html": [
       "<style scoped>\n",
       "  .ansiout {\n",
       "    display: block;\n",
       "    unicode-bidi: embed;\n",
       "    white-space: pre-wrap;\n",
       "    word-wrap: break-word;\n",
       "    word-break: break-all;\n",
       "    font-family: \"Source Code Pro\", \"Menlo\", monospace;;\n",
       "    font-size: 13px;\n",
       "    color: #555;\n",
       "    margin-left: 4px;\n",
       "    line-height: 19px;\n",
       "  }\n",
       "</style>\n",
       "<div class=\"ansiout\">rf_m23 =  0.7621921476810491\n",
       "</div>"
      ]
     },
     "metadata": {},
     "output_type": "display_data"
    }
   ],
   "source": [
    "rf_m23 = Pipeline(stages=[feature.VectorAssembler(inputCols=['Minor', 'Medium', 'Servere',\n",
    "                    'Very Servere','SOUTHERN','MISSION','NORTHERN','CENTRAL','BAYVIEW','TENDERLOIN',\n",
    "                    'INGLESIDE','TARAVAL','PARK'], outputCol='features'),\n",
    "            classification.RandomForestClassifier(labelCol='Res_num', featuresCol='features', seed = 0,\n",
    "                            numTrees=40, cacheNodeIds = True)])\n",
    "rf_m23_fitted = rf_m23.fit(training_df)\n",
    "rf_m23_trans = rf_m23_fitted.transform(validation_df)\n",
    "evaluator = evaluation.BinaryClassificationEvaluator(labelCol='Res_num')\n",
    "rf_AUC23 = evaluator.evaluate(rf_m23_trans)\n",
    "print('rf_m23 = ',rf_AUC23)"
   ]
  },
  {
   "cell_type": "code",
   "execution_count": 64,
   "metadata": {},
   "outputs": [
    {
     "data": {
      "text/html": [
       "<style scoped>\n",
       "  .ansiout {\n",
       "    display: block;\n",
       "    unicode-bidi: embed;\n",
       "    white-space: pre-wrap;\n",
       "    word-wrap: break-word;\n",
       "    word-break: break-all;\n",
       "    font-family: \"Source Code Pro\", \"Menlo\", monospace;;\n",
       "    font-size: 13px;\n",
       "    color: #555;\n",
       "    margin-left: 4px;\n",
       "    line-height: 19px;\n",
       "  }\n",
       "</style>\n",
       "<div class=\"ansiout\">rf_m24 =  0.7635109835212445\n",
       "</div>"
      ]
     },
     "metadata": {},
     "output_type": "display_data"
    }
   ],
   "source": [
    "rf_m24 = Pipeline(stages=[feature.VectorAssembler(inputCols=['Minor', 'Medium', 'Servere',\n",
    "                    'Very Servere','SOUTHERN','MISSION','NORTHERN','CENTRAL','BAYVIEW','TENDERLOIN',\n",
    "                    'INGLESIDE','TARAVAL','PARK'], outputCol='features'),\n",
    "            classification.RandomForestClassifier(labelCol='Res_num', featuresCol='features', seed = 0,\n",
    "                            numTrees=80, cacheNodeIds = True)])\n",
    "rf_m24_fitted = rf_m24.fit(training_df)\n",
    "rf_m24_trans = rf_m24_fitted.transform(validation_df)\n",
    "evaluator = evaluation.BinaryClassificationEvaluator(labelCol='Res_num')\n",
    "rf_AUC24 = evaluator.evaluate(rf_m24_trans)\n",
    "print('rf_m24 = ',rf_AUC24)"
   ]
  },
  {
   "cell_type": "code",
   "execution_count": 65,
   "metadata": {},
   "outputs": [
    {
     "data": {
      "text/html": [
       "<style scoped>\n",
       "  .ansiout {\n",
       "    display: block;\n",
       "    unicode-bidi: embed;\n",
       "    white-space: pre-wrap;\n",
       "    word-wrap: break-word;\n",
       "    word-break: break-all;\n",
       "    font-family: \"Source Code Pro\", \"Menlo\", monospace;;\n",
       "    font-size: 13px;\n",
       "    color: #555;\n",
       "    margin-left: 4px;\n",
       "    line-height: 19px;\n",
       "  }\n",
       "</style>\n",
       "<div class=\"ansiout\">rf_m25 =  0.7634092093029908\n",
       "</div>"
      ]
     },
     "metadata": {},
     "output_type": "display_data"
    }
   ],
   "source": [
    "rf_m25 = Pipeline(stages=[feature.VectorAssembler(inputCols=['Minor', 'Medium', 'Servere',\n",
    "                    'Very Servere','SOUTHERN','MISSION','NORTHERN','CENTRAL','BAYVIEW','TENDERLOIN',\n",
    "                    'INGLESIDE','TARAVAL','PARK'], outputCol='features'),\n",
    "            classification.RandomForestClassifier(labelCol='Res_num', featuresCol='features', seed = 0,\n",
    "                            numTrees=100, cacheNodeIds = True)])\n",
    "rf_m25_fitted = rf_m25.fit(training_df)\n",
    "rf_m25_trans = rf_m25_fitted.transform(validation_df)\n",
    "evaluator = evaluation.BinaryClassificationEvaluator(labelCol='Res_num')\n",
    "rf_AUC25 = evaluator.evaluate(rf_m25_trans)\n",
    "print('rf_m25 = ',rf_AUC25)"
   ]
  },
  {
   "cell_type": "code",
   "execution_count": 66,
   "metadata": {},
   "outputs": [
    {
     "data": {
      "text/html": [
       "<style scoped>\n",
       "  .ansiout {\n",
       "    display: block;\n",
       "    unicode-bidi: embed;\n",
       "    white-space: pre-wrap;\n",
       "    word-wrap: break-word;\n",
       "    word-break: break-all;\n",
       "    font-family: \"Source Code Pro\", \"Menlo\", monospace;;\n",
       "    font-size: 13px;\n",
       "    color: #555;\n",
       "    margin-left: 4px;\n",
       "    line-height: 19px;\n",
       "  }\n",
       "</style>\n",
       "<div class=\"ansiout\"></div>"
      ]
     },
     "metadata": {},
     "output_type": "display_data"
    }
   ],
   "source": [
    "# just pick the highest AUC \n",
    "# crime level + year + month + location + hour level\n",
    "crime_m9_1 = Pipeline(stages=[feature.VectorAssembler(inputCols=['Minor', 'Medium', 'Servere',\n",
    "                    'Very Servere','Jan','Feb','Mar','Apr','May','Jun','Jul','Aug', 'Sep','Oct','Nov','SOUTHERN','MISSION','NORTHERN','CENTRAL',\n",
    "                    'BAYVIEW','TENDERLOIN', 'INGLESIDE','TARAVAL','PARK','Near noon','Afternoon',\n",
    "                    'evening','Night'], outputCol='features'),\n",
    "                 classification.LogisticRegression(labelCol='Res_num', featuresCol='features', maxIter=10,\n",
    "                                                  regParam=0.3, elasticNetParam=0.8)])\n",
    "crime_m9_1_fitted = crime_m9_1.fit(training_df)\n"
   ]
  },
  {
   "cell_type": "code",
   "execution_count": 67,
   "metadata": {},
   "outputs": [
    {
     "data": {
      "text/html": [
       "<style scoped>\n",
       "  .ansiout {\n",
       "    display: block;\n",
       "    unicode-bidi: embed;\n",
       "    white-space: pre-wrap;\n",
       "    word-wrap: break-word;\n",
       "    word-break: break-all;\n",
       "    font-family: \"Source Code Pro\", \"Menlo\", monospace;;\n",
       "    font-size: 13px;\n",
       "    color: #555;\n",
       "    margin-left: 4px;\n",
       "    line-height: 19px;\n",
       "  }\n",
       "</style>\n",
       "<div class=\"ansiout\"></div>"
      ]
     },
     "metadata": {},
     "output_type": "display_data"
    }
   ],
   "source": [
    "# crime level + day, year month, hour, location = all\n",
    "crime_m4_1 = Pipeline(stages=[feature.VectorAssembler(inputCols=['Minor', 'Medium', 'Servere',\n",
    "                    'Very Servere','Jan','Feb','Mar','Apr','May','Jun','Jul','Aug', 'Sep','Oct','Nov','Sunday','Monday','Tuesday','Thursday','Friday','Saturday',\n",
    "                    'Near noon','Afternoon','evening','Night','SOUTHERN','MISSION','NORTHERN','CENTRAL',\n",
    "                    'BAYVIEW','TENDERLOIN', 'INGLESIDE','TARAVAL','PARK'],\n",
    "                                        outputCol='features'),\n",
    "                 classification.LogisticRegression(labelCol='Res_num', featuresCol='features', maxIter=10,\n",
    "                                                  regParam=0.3, elasticNetParam=0.8)])\n",
    "crime_m4_1_fitted = crime_m4_1.fit(training_df)"
   ]
  },
  {
   "cell_type": "code",
   "execution_count": 68,
   "metadata": {},
   "outputs": [
    {
     "data": {
      "text/html": [
       "<style scoped>\n",
       "  .ansiout {\n",
       "    display: block;\n",
       "    unicode-bidi: embed;\n",
       "    white-space: pre-wrap;\n",
       "    word-wrap: break-word;\n",
       "    word-break: break-all;\n",
       "    font-family: \"Source Code Pro\", \"Menlo\", monospace;;\n",
       "    font-size: 13px;\n",
       "    color: #555;\n",
       "    margin-left: 4px;\n",
       "    line-height: 19px;\n",
       "  }\n",
       "</style>\n",
       "<div class=\"ansiout\">Model 4 - ALL + parameters AUC:  0.5\n",
       "Model 9_1 - category + time + parameters AUC:  0.5\n",
       "Model 4 - ALL AUC:  0.7645646655730022\n",
       "Model 9 - category + location + time AUC:  0.7646654151462846\n",
       "</div>"
      ]
     },
     "metadata": {},
     "output_type": "display_data"
    }
   ],
   "source": [
    "AUC9_1 = evaluator.evaluate(crime_m9_1_fitted.transform(validation_df))\n",
    "AUC4_1 = evaluator.evaluate(crime_m4_1_fitted.transform(validation_df))\n",
    "\n",
    "print(\"Model 4 - ALL + parameters AUC: \", AUC4_1)\n",
    "print(\"Model 9_1 - category + time + parameters AUC: \", AUC9_1)\n",
    "print(\"Model 4 - ALL AUC: \", evaluator.evaluate(transformer_m4))\n",
    "print(\"Model 9 - category + location + time AUC: \", evaluator.evaluate(transformer_m9))\n"
   ]
  },
  {
   "cell_type": "code",
   "execution_count": 69,
   "metadata": {},
   "outputs": [
    {
     "data": {
      "text/html": [
       "<style scoped>\n",
       "  .ansiout {\n",
       "    display: block;\n",
       "    unicode-bidi: embed;\n",
       "    white-space: pre-wrap;\n",
       "    word-wrap: break-word;\n",
       "    word-break: break-all;\n",
       "    font-family: \"Source Code Pro\", \"Menlo\", monospace;;\n",
       "    font-size: 13px;\n",
       "    color: #555;\n",
       "    margin-left: 4px;\n",
       "    line-height: 19px;\n",
       "  }\n",
       "</style>\n",
       "<div class=\"ansiout\"></div>"
      ]
     },
     "metadata": {},
     "output_type": "display_data"
    }
   ],
   "source": [
    "# crime level + day, year month, hour, location = all\n",
    "crime_m4_2 = Pipeline(stages=[feature.VectorAssembler(inputCols=['Minor', 'Medium', 'Servere',\n",
    "                    'Very Servere','Year','Month','Sunday','Monday','Tuesday','Thursday','Friday','Saturday',\n",
    "                    'Near noon','Afternoon','evening','Night','SOUTHERN','MISSION','NORTHERN','CENTRAL',\n",
    "                    'BAYVIEW','TENDERLOIN', 'INGLESIDE','TARAVAL','PARK'],\n",
    "                                        outputCol='features'),\n",
    "                 classification.LogisticRegression(labelCol='Res_num', featuresCol='features', maxIter=10,\n",
    "                                                  regParam=0.1, elasticNetParam=0.4)])\n",
    "crime_m4_2_fitted = crime_m4_2.fit(training_df)"
   ]
  },
  {
   "cell_type": "code",
   "execution_count": 70,
   "metadata": {},
   "outputs": [
    {
     "data": {
      "text/html": [
       "<style scoped>\n",
       "  .ansiout {\n",
       "    display: block;\n",
       "    unicode-bidi: embed;\n",
       "    white-space: pre-wrap;\n",
       "    word-wrap: break-word;\n",
       "    word-break: break-all;\n",
       "    font-family: \"Source Code Pro\", \"Menlo\", monospace;;\n",
       "    font-size: 13px;\n",
       "    color: #555;\n",
       "    margin-left: 4px;\n",
       "    line-height: 19px;\n",
       "  }\n",
       "</style>\n",
       "<div class=\"ansiout\"></div>"
      ]
     },
     "metadata": {},
     "output_type": "display_data"
    }
   ],
   "source": [
    "# just pick the highest AUC \n",
    "# crime level + year + month + location + hour level\n",
    "crime_m9_2 = Pipeline(stages=[feature.VectorAssembler(inputCols=['Minor', 'Medium', 'Servere',\n",
    "                    'Very Servere','Year','Month','SOUTHERN','MISSION','NORTHERN','CENTRAL',\n",
    "                    'BAYVIEW','TENDERLOIN', 'INGLESIDE','TARAVAL','PARK','Near noon','Afternoon',\n",
    "                    'evening','Night'], outputCol='features'),\n",
    "                 classification.LogisticRegression(labelCol='Res_num', featuresCol='features', maxIter=10,\n",
    "                                                  regParam=0.1, elasticNetParam=0.4)])\n",
    "crime_m9_2_fitted = crime_m9_2.fit(training_df)\n"
   ]
  },
  {
   "cell_type": "code",
   "execution_count": 71,
   "metadata": {},
   "outputs": [
    {
     "data": {
      "text/html": [
       "<style scoped>\n",
       "  .ansiout {\n",
       "    display: block;\n",
       "    unicode-bidi: embed;\n",
       "    white-space: pre-wrap;\n",
       "    word-wrap: break-word;\n",
       "    word-break: break-all;\n",
       "    font-family: \"Source Code Pro\", \"Menlo\", monospace;;\n",
       "    font-size: 13px;\n",
       "    color: #555;\n",
       "    margin-left: 4px;\n",
       "    line-height: 19px;\n",
       "  }\n",
       "</style>\n",
       "<div class=\"ansiout\">Model 4_2 - ALL + parameters AUC:  0.7488183414900433\n",
       "Model 9_2 - category + time + parameters AUC:  0.7488183414900434\n",
       "</div>"
      ]
     },
     "metadata": {},
     "output_type": "display_data"
    }
   ],
   "source": [
    "AUC9_2 = evaluator.evaluate(crime_m9_2_fitted.transform(validation_df))\n",
    "AUC4_2 = evaluator.evaluate(crime_m4_2_fitted.transform(validation_df))\n",
    "\n",
    "print(\"Model 4_2 - ALL + parameters AUC: \", AUC4_2)\n",
    "print(\"Model 9_2 - category + time + parameters AUC: \", AUC9_2)"
   ]
  },
  {
   "cell_type": "code",
   "execution_count": 72,
   "metadata": {},
   "outputs": [
    {
     "data": {
      "text/html": [
       "<style scoped>\n",
       "  .ansiout {\n",
       "    display: block;\n",
       "    unicode-bidi: embed;\n",
       "    white-space: pre-wrap;\n",
       "    word-wrap: break-word;\n",
       "    word-break: break-all;\n",
       "    font-family: \"Source Code Pro\", \"Menlo\", monospace;;\n",
       "    font-size: 13px;\n",
       "    color: #555;\n",
       "    margin-left: 4px;\n",
       "    line-height: 19px;\n",
       "  }\n",
       "</style>\n",
       "<div class=\"ansiout\"></div>"
      ]
     },
     "metadata": {},
     "output_type": "display_data"
    }
   ],
   "source": [
    "# crime level + day, year month, hour, location = all\n",
    "crime_m4_3 = Pipeline(stages=[feature.VectorAssembler(inputCols=['Minor', 'Medium', 'Servere',\n",
    "                    'Very Servere','Year','Month','Sunday','Monday','Tuesday','Thursday','Friday','Saturday',\n",
    "                    'Near noon','Afternoon','evening','Night','SOUTHERN','MISSION','NORTHERN','CENTRAL',\n",
    "                    'BAYVIEW','TENDERLOIN', 'INGLESIDE','TARAVAL','PARK'],\n",
    "                                        outputCol='features'),\n",
    "                 classification.LogisticRegression(labelCol='Res_num', featuresCol='features', maxIter=10,\n",
    "                                                  regParam=0.02, elasticNetParam=0.2)])\n",
    "crime_m4_3_fitted = crime_m4_3.fit(training_df)"
   ]
  },
  {
   "cell_type": "code",
   "execution_count": 73,
   "metadata": {},
   "outputs": [
    {
     "data": {
      "text/html": [
       "<style scoped>\n",
       "  .ansiout {\n",
       "    display: block;\n",
       "    unicode-bidi: embed;\n",
       "    white-space: pre-wrap;\n",
       "    word-wrap: break-word;\n",
       "    word-break: break-all;\n",
       "    font-family: \"Source Code Pro\", \"Menlo\", monospace;;\n",
       "    font-size: 13px;\n",
       "    color: #555;\n",
       "    margin-left: 4px;\n",
       "    line-height: 19px;\n",
       "  }\n",
       "</style>\n",
       "<div class=\"ansiout\"></div>"
      ]
     },
     "metadata": {},
     "output_type": "display_data"
    }
   ],
   "source": [
    "# just pick the highest AUC \n",
    "# crime level + year + month + location + hour level\n",
    "crime_m9_3 = Pipeline(stages=[feature.VectorAssembler(inputCols=['Minor', 'Medium', 'Servere',\n",
    "                    'Very Servere','Year','Month','SOUTHERN','MISSION','NORTHERN','CENTRAL',\n",
    "                    'BAYVIEW','TENDERLOIN', 'INGLESIDE','TARAVAL','PARK','Near noon','Afternoon',\n",
    "                    'evening','Night'], outputCol='features'),\n",
    "                 classification.LogisticRegression(labelCol='Res_num', featuresCol='features', maxIter=10,\n",
    "                                                  regParam=0.02, elasticNetParam=0.2)])\n",
    "crime_m9_3_fitted = crime_m9_3.fit(training_df)\n"
   ]
  },
  {
   "cell_type": "code",
   "execution_count": 74,
   "metadata": {},
   "outputs": [
    {
     "data": {
      "text/html": [
       "<style scoped>\n",
       "  .ansiout {\n",
       "    display: block;\n",
       "    unicode-bidi: embed;\n",
       "    white-space: pre-wrap;\n",
       "    word-wrap: break-word;\n",
       "    word-break: break-all;\n",
       "    font-family: \"Source Code Pro\", \"Menlo\", monospace;;\n",
       "    font-size: 13px;\n",
       "    color: #555;\n",
       "    margin-left: 4px;\n",
       "    line-height: 19px;\n",
       "  }\n",
       "</style>\n",
       "<div class=\"ansiout\">Model 4_3 - ALL + parameters AUC:  0.7647424100366792\n",
       "Model 9_3 - category + time + parameters AUC:  0.7642961044272933\n",
       "</div>"
      ]
     },
     "metadata": {},
     "output_type": "display_data"
    }
   ],
   "source": [
    "AUC9_3 = evaluator.evaluate(crime_m9_3_fitted.transform(validation_df))\n",
    "AUC4_3 = evaluator.evaluate(crime_m4_3_fitted.transform(validation_df))\n",
    "\n",
    "print(\"Model 4_3 - ALL + parameters AUC: \", AUC4_3)\n",
    "print(\"Model 9_3 - category + time + parameters AUC: \", AUC9_3)"
   ]
  },
  {
   "cell_type": "code",
   "execution_count": 75,
   "metadata": {},
   "outputs": [
    {
     "data": {
      "text/html": [
       "<style scoped>\n",
       "  .ansiout {\n",
       "    display: block;\n",
       "    unicode-bidi: embed;\n",
       "    white-space: pre-wrap;\n",
       "    word-wrap: break-word;\n",
       "    word-break: break-all;\n",
       "    font-family: \"Source Code Pro\", \"Menlo\", monospace;;\n",
       "    font-size: 13px;\n",
       "    color: #555;\n",
       "    margin-left: 4px;\n",
       "    line-height: 19px;\n",
       "  }\n",
       "</style>\n",
       "<div class=\"ansiout\"></div>"
      ]
     },
     "metadata": {},
     "output_type": "display_data"
    }
   ],
   "source": [
    "# crime level + day, year month, hour, location = all\n",
    "crime_m4_4 = Pipeline(stages=[feature.VectorAssembler(inputCols=['Minor', 'Medium', 'Servere',\n",
    "                    'Very Servere','Year','Month','Sunday','Monday','Tuesday','Thursday','Friday','Saturday',\n",
    "                    'Near noon','Afternoon','evening','Night','SOUTHERN','MISSION','NORTHERN','CENTRAL',\n",
    "                    'BAYVIEW','TENDERLOIN', 'INGLESIDE','TARAVAL','PARK'],\n",
    "                                        outputCol='features'),\n",
    "                 classification.LogisticRegression(labelCol='Res_num', featuresCol='features', maxIter=10,\n",
    "                                                  regParam=0.01, elasticNetParam=0.1)])\n",
    "crime_m4_4_fitted = crime_m4_4.fit(training_df)"
   ]
  },
  {
   "cell_type": "code",
   "execution_count": 76,
   "metadata": {},
   "outputs": [
    {
     "data": {
      "text/html": [
       "<style scoped>\n",
       "  .ansiout {\n",
       "    display: block;\n",
       "    unicode-bidi: embed;\n",
       "    white-space: pre-wrap;\n",
       "    word-wrap: break-word;\n",
       "    word-break: break-all;\n",
       "    font-family: \"Source Code Pro\", \"Menlo\", monospace;;\n",
       "    font-size: 13px;\n",
       "    color: #555;\n",
       "    margin-left: 4px;\n",
       "    line-height: 19px;\n",
       "  }\n",
       "</style>\n",
       "<div class=\"ansiout\"></div>"
      ]
     },
     "metadata": {},
     "output_type": "display_data"
    }
   ],
   "source": [
    "# just pick the highest AUC \n",
    "# crime level + year + month + location + hour level\n",
    "crime_m9_4 = Pipeline(stages=[feature.VectorAssembler(inputCols=['Minor', 'Medium', 'Servere',\n",
    "                    'Very Servere','Year','Month','SOUTHERN','MISSION','NORTHERN','CENTRAL',\n",
    "                    'BAYVIEW','TENDERLOIN', 'INGLESIDE','TARAVAL','PARK','Near noon','Afternoon',\n",
    "                    'evening','Night'], outputCol='features'),\n",
    "                 classification.LogisticRegression(labelCol='Res_num', featuresCol='features', maxIter=10,\n",
    "                                                  regParam=0.01, elasticNetParam=0.1)])\n",
    "crime_m9_4_fitted = crime_m9_4.fit(training_df)\n"
   ]
  },
  {
   "cell_type": "code",
   "execution_count": 77,
   "metadata": {},
   "outputs": [
    {
     "data": {
      "text/html": [
       "<style scoped>\n",
       "  .ansiout {\n",
       "    display: block;\n",
       "    unicode-bidi: embed;\n",
       "    white-space: pre-wrap;\n",
       "    word-wrap: break-word;\n",
       "    word-break: break-all;\n",
       "    font-family: \"Source Code Pro\", \"Menlo\", monospace;;\n",
       "    font-size: 13px;\n",
       "    color: #555;\n",
       "    margin-left: 4px;\n",
       "    line-height: 19px;\n",
       "  }\n",
       "</style>\n",
       "<div class=\"ansiout\">Model 4_4 - ALL + parameters AUC:  0.7644687919435298\n",
       "Model 9_4 - category + time + parameters AUC:  0.7640214452477342\n",
       "</div>"
      ]
     },
     "metadata": {},
     "output_type": "display_data"
    }
   ],
   "source": [
    "AUC9_4 = evaluator.evaluate(crime_m9_4_fitted.transform(validation_df))\n",
    "AUC4_4 = evaluator.evaluate(crime_m4_4_fitted.transform(validation_df))\n",
    "\n",
    "print(\"Model 4_4 - ALL + parameters AUC: \", AUC4_4)\n",
    "print(\"Model 9_4 - category + time + parameters AUC: \", AUC9_4)"
   ]
  },
  {
   "cell_type": "markdown",
   "metadata": {},
   "source": [
    "## Evaluate the best models on testing df\n",
    "- one for each model"
   ]
  },
  {
   "cell_type": "code",
   "execution_count": 78,
   "metadata": {},
   "outputs": [
    {
     "data": {
      "text/html": [
       "<style scoped>\n",
       "  .ansiout {\n",
       "    display: block;\n",
       "    unicode-bidi: embed;\n",
       "    white-space: pre-wrap;\n",
       "    word-wrap: break-word;\n",
       "    word-break: break-all;\n",
       "    font-family: \"Source Code Pro\", \"Menlo\", monospace;;\n",
       "    font-size: 13px;\n",
       "    color: #555;\n",
       "    margin-left: 4px;\n",
       "    line-height: 19px;\n",
       "  }\n",
       "</style>\n",
       "<div class=\"ansiout\"><span class=\"ansired\">Out[</span><span class=\"ansired\">158</span><span class=\"ansired\">]: </span>0.7686324149521971\n",
       "</div>"
      ]
     },
     "metadata": {},
     "output_type": "display_data"
    }
   ],
   "source": [
    "# L1 = 0.02, L3 = 0.2 - m4 (all variable + parameter)\n",
    "lr_AUC_best = evaluator.evaluate(crime_m9_fitted.transform(testing_df))\n",
    "lr_AUC_best"
   ]
  },
  {
   "cell_type": "code",
   "execution_count": 79,
   "metadata": {},
   "outputs": [
    {
     "data": {
      "text/html": [
       "<style scoped>\n",
       "  .ansiout {\n",
       "    display: block;\n",
       "    unicode-bidi: embed;\n",
       "    white-space: pre-wrap;\n",
       "    word-wrap: break-word;\n",
       "    word-break: break-all;\n",
       "    font-family: \"Source Code Pro\", \"Menlo\", monospace;;\n",
       "    font-size: 13px;\n",
       "    color: #555;\n",
       "    margin-left: 4px;\n",
       "    line-height: 19px;\n",
       "  }\n",
       "</style>\n",
       "<div class=\"ansiout\"><span class=\"ansired\">Out[</span><span class=\"ansired\">157</span><span class=\"ansired\">]: </span>0.7641741337985635\n",
       "</div>"
      ]
     },
     "metadata": {},
     "output_type": "display_data"
    }
   ],
   "source": [
    "# all variables except day of the week without parameters\n",
    "rf_AUC_best = evaluator.evaluate(rf_m2_fitted.transform(testing_df))\n",
    "rf_AUC_best"
   ]
  },
  {
   "cell_type": "code",
   "execution_count": 80,
   "metadata": {},
   "outputs": [
    {
     "data": {
      "text/html": [
       "<style scoped>\n",
       "  .ansiout {\n",
       "    display: block;\n",
       "    unicode-bidi: embed;\n",
       "    white-space: pre-wrap;\n",
       "    word-wrap: break-word;\n",
       "    word-break: break-all;\n",
       "    font-family: \"Source Code Pro\", \"Menlo\", monospace;;\n",
       "    font-size: 13px;\n",
       "    color: #555;\n",
       "    margin-left: 4px;\n",
       "    line-height: 19px;\n",
       "  }\n",
       "</style>\n",
       "<div class=\"ansiout\"><span class=\"ansired\">Out[</span><span class=\"ansired\">156</span><span class=\"ansired\">]: </span>0.7717859729851462\n",
       "</div>"
      ]
     },
     "metadata": {},
     "output_type": "display_data"
    }
   ],
   "source": [
    "# all variables except day of the week without parameters\n",
    "gb_AUC_best = evaluator.evaluate(gb_m9_fitted.transform(testing_df))\n",
    "gb_AUC_best"
   ]
  },
  {
   "cell_type": "code",
   "execution_count": 81,
   "metadata": {},
   "outputs": [
    {
     "data": {
      "text/html": [
       "<style scoped>\n",
       "  .ansiout {\n",
       "    display: block;\n",
       "    unicode-bidi: embed;\n",
       "    white-space: pre-wrap;\n",
       "    word-wrap: break-word;\n",
       "    word-break: break-all;\n",
       "    font-family: \"Source Code Pro\", \"Menlo\", monospace;;\n",
       "    font-size: 13px;\n",
       "    color: #555;\n",
       "    margin-left: 4px;\n",
       "    line-height: 19px;\n",
       "  }\n",
       "</style>\n",
       "<div class=\"ansiout\">+-------+----------+\n",
       "Res_num|prediction|\n",
       "+-------+----------+\n",
       "      0|       0.0|\n",
       "      0|       0.0|\n",
       "      0|       0.0|\n",
       "      0|       0.0|\n",
       "      0|       1.0|\n",
       "      0|       0.0|\n",
       "      0|       0.0|\n",
       "      0|       0.0|\n",
       "      0|       0.0|\n",
       "      0|       0.0|\n",
       "+-------+----------+\n",
       "only showing top 10 rows\n",
       "\n",
       "</div>"
      ]
     },
     "metadata": {},
     "output_type": "display_data"
    }
   ],
   "source": [
    "crime_m9_fitted.transform(testing_df).select('Res_num', 'prediction').show(10)"
   ]
  },
  {
   "cell_type": "code",
   "execution_count": 82,
   "metadata": {},
   "outputs": [
    {
     "data": {
      "text/html": [
       "<style scoped>\n",
       "  .ansiout {\n",
       "    display: block;\n",
       "    unicode-bidi: embed;\n",
       "    white-space: pre-wrap;\n",
       "    word-wrap: break-word;\n",
       "    word-break: break-all;\n",
       "    font-family: \"Source Code Pro\", \"Menlo\", monospace;;\n",
       "    font-size: 13px;\n",
       "    color: #555;\n",
       "    margin-left: 4px;\n",
       "    line-height: 19px;\n",
       "  }\n",
       "</style>\n",
       "<div class=\"ansiout\">+-------+----------+\n",
       "Res_num|prediction|\n",
       "+-------+----------+\n",
       "      0|       0.0|\n",
       "      0|       0.0|\n",
       "      0|       0.0|\n",
       "      0|       0.0|\n",
       "      0|       1.0|\n",
       "      0|       0.0|\n",
       "      0|       0.0|\n",
       "      0|       0.0|\n",
       "      0|       0.0|\n",
       "      0|       0.0|\n",
       "+-------+----------+\n",
       "only showing top 10 rows\n",
       "\n",
       "</div>"
      ]
     },
     "metadata": {},
     "output_type": "display_data"
    }
   ],
   "source": [
    "crime_m4_3_fitted.transform(testing_df).select('Res_num', 'prediction').show(10)"
   ]
  },
  {
   "cell_type": "code",
   "execution_count": 83,
   "metadata": {},
   "outputs": [
    {
     "data": {
      "text/html": [
       "<style scoped>\n",
       "  .ansiout {\n",
       "    display: block;\n",
       "    unicode-bidi: embed;\n",
       "    white-space: pre-wrap;\n",
       "    word-wrap: break-word;\n",
       "    word-break: break-all;\n",
       "    font-family: \"Source Code Pro\", \"Menlo\", monospace;;\n",
       "    font-size: 13px;\n",
       "    color: #555;\n",
       "    margin-left: 4px;\n",
       "    line-height: 19px;\n",
       "  }\n",
       "</style>\n",
       "<div class=\"ansiout\">+---------------------------------------------------------+\n",
       "(count((prediction = Res_num)) / count((prediction = 1)))|\n",
       "+---------------------------------------------------------+\n",
       "                                                      1.0|\n",
       "+---------------------------------------------------------+\n",
       "\n",
       "</div>"
      ]
     },
     "metadata": {},
     "output_type": "display_data"
    }
   ],
   "source": [
    "crime_m9_fitted.transform(testing_df).select(fn.count(fn.col('prediction') == fn.col('Res_num')) / (fn.count(fn.expr('prediction = 1')))).show()\n"
   ]
  },
  {
   "cell_type": "markdown",
   "metadata": {},
   "source": [
    "# Evaluate the performance by confusion matrixs\n",
    "- calculate precision and recall for each model"
   ]
  },
  {
   "cell_type": "code",
   "execution_count": 84,
   "metadata": {},
   "outputs": [
    {
     "data": {
      "text/html": [
       "<style scoped>\n",
       "  .ansiout {\n",
       "    display: block;\n",
       "    unicode-bidi: embed;\n",
       "    white-space: pre-wrap;\n",
       "    word-wrap: break-word;\n",
       "    word-break: break-all;\n",
       "    font-family: \"Source Code Pro\", \"Menlo\", monospace;;\n",
       "    font-size: 13px;\n",
       "    color: #555;\n",
       "    margin-left: 4px;\n",
       "    line-height: 19px;\n",
       "  }\n",
       "</style>\n",
       "<div class=\"ansiout\"></div>"
      ]
     },
     "metadata": {},
     "output_type": "display_data"
    }
   ],
   "source": [
    "lr_model_9 = crime_m9_fitted.transform(testing_df)\n",
    "#.select((fn.col('prediction') == fn.col('Res_num'))).show()\n",
    "\n",
    "TP = int(lr_model_9.filter((lr_model_9[\"Res_num\"] == 1) & (lr_model_9[\"prediction\"] == 1)).count())\n"
   ]
  },
  {
   "cell_type": "code",
   "execution_count": 85,
   "metadata": {},
   "outputs": [
    {
     "data": {
      "text/html": [
       "<style scoped>\n",
       "  .ansiout {\n",
       "    display: block;\n",
       "    unicode-bidi: embed;\n",
       "    white-space: pre-wrap;\n",
       "    word-wrap: break-word;\n",
       "    word-break: break-all;\n",
       "    font-family: \"Source Code Pro\", \"Menlo\", monospace;;\n",
       "    font-size: 13px;\n",
       "    color: #555;\n",
       "    margin-left: 4px;\n",
       "    line-height: 19px;\n",
       "  }\n",
       "</style>\n",
       "<div class=\"ansiout\"></div>"
      ]
     },
     "metadata": {},
     "output_type": "display_data"
    }
   ],
   "source": [
    "TP_FN = int(lr_model_9.filter(lr_model_9[\"Res_num\"] == 1).count())\n",
    "TP_FP = int(lr_model_9.filter(lr_model_9[\"prediction\"] == 1).count())"
   ]
  },
  {
   "cell_type": "code",
   "execution_count": 86,
   "metadata": {},
   "outputs": [
    {
     "data": {
      "text/html": [
       "<style scoped>\n",
       "  .ansiout {\n",
       "    display: block;\n",
       "    unicode-bidi: embed;\n",
       "    white-space: pre-wrap;\n",
       "    word-wrap: break-word;\n",
       "    word-break: break-all;\n",
       "    font-family: \"Source Code Pro\", \"Menlo\", monospace;;\n",
       "    font-size: 13px;\n",
       "    color: #555;\n",
       "    margin-left: 4px;\n",
       "    line-height: 19px;\n",
       "  }\n",
       "</style>\n",
       "<div class=\"ansiout\"></div>"
      ]
     },
     "metadata": {},
     "output_type": "display_data"
    }
   ],
   "source": [
    "lr_recall = int(TP) / int(TP_FN)\n",
    "lr_precision = int(TP) / int(TP_FP)"
   ]
  },
  {
   "cell_type": "code",
   "execution_count": 87,
   "metadata": {},
   "outputs": [
    {
     "data": {
      "text/html": [
       "<style scoped>\n",
       "  .ansiout {\n",
       "    display: block;\n",
       "    unicode-bidi: embed;\n",
       "    white-space: pre-wrap;\n",
       "    word-wrap: break-word;\n",
       "    word-break: break-all;\n",
       "    font-family: \"Source Code Pro\", \"Menlo\", monospace;;\n",
       "    font-size: 13px;\n",
       "    color: #555;\n",
       "    margin-left: 4px;\n",
       "    line-height: 19px;\n",
       "  }\n",
       "</style>\n",
       "<div class=\"ansiout\"></div>"
      ]
     },
     "metadata": {},
     "output_type": "display_data"
    }
   ],
   "source": [
    "gb_model_9 = gb_m9_fitted.transform(testing_df)\n",
    "#.select((fn.col('prediction') == fn.col('Res_num'))).show()\n",
    "gb_TP = int(gb_model_9.filter((gb_model_9[\"Res_num\"] == 1) & (gb_model_9[\"prediction\"] == 1)).count())\n",
    "gb_TP_FN = int(gb_model_9.filter(gb_model_9[\"Res_num\"] == 1).count())\n",
    "gb_TP_FP = int(gb_model_9.filter(gb_model_9[\"prediction\"] == 1).count())"
   ]
  },
  {
   "cell_type": "code",
   "execution_count": 88,
   "metadata": {},
   "outputs": [
    {
     "data": {
      "text/html": [
       "<style scoped>\n",
       "  .ansiout {\n",
       "    display: block;\n",
       "    unicode-bidi: embed;\n",
       "    white-space: pre-wrap;\n",
       "    word-wrap: break-word;\n",
       "    word-break: break-all;\n",
       "    font-family: \"Source Code Pro\", \"Menlo\", monospace;;\n",
       "    font-size: 13px;\n",
       "    color: #555;\n",
       "    margin-left: 4px;\n",
       "    line-height: 19px;\n",
       "  }\n",
       "</style>\n",
       "<div class=\"ansiout\"></div>"
      ]
     },
     "metadata": {},
     "output_type": "display_data"
    }
   ],
   "source": [
    "gb_recall = int(gb_TP) / int(gb_TP_FN)\n",
    "gb_precision = int(gb_TP) / int(gb_TP_FP)"
   ]
  },
  {
   "cell_type": "code",
   "execution_count": 89,
   "metadata": {},
   "outputs": [
    {
     "data": {
      "text/html": [
       "<style scoped>\n",
       "  .ansiout {\n",
       "    display: block;\n",
       "    unicode-bidi: embed;\n",
       "    white-space: pre-wrap;\n",
       "    word-wrap: break-word;\n",
       "    word-break: break-all;\n",
       "    font-family: \"Source Code Pro\", \"Menlo\", monospace;;\n",
       "    font-size: 13px;\n",
       "    color: #555;\n",
       "    margin-left: 4px;\n",
       "    line-height: 19px;\n",
       "  }\n",
       "</style>\n",
       "<div class=\"ansiout\"></div>"
      ]
     },
     "metadata": {},
     "output_type": "display_data"
    }
   ],
   "source": [
    "rf_model_2 = rf_m2_fitted.transform(testing_df)\n",
    "#.select((fn.col('prediction') == fn.col('Res_num'))).show()\n",
    "rf_TP = int(rf_model_2.filter((rf_model_2[\"Res_num\"] == 1) & (rf_model_2[\"prediction\"] == 1)).count())\n",
    "rf_TP_FN = int(rf_model_2.filter(rf_model_2[\"Res_num\"] == 1).count())\n",
    "rf_TP_FP = int(rf_model_2.filter(rf_model_2[\"prediction\"] == 1).count())"
   ]
  },
  {
   "cell_type": "code",
   "execution_count": 90,
   "metadata": {},
   "outputs": [
    {
     "data": {
      "text/html": [
       "<style scoped>\n",
       "  .ansiout {\n",
       "    display: block;\n",
       "    unicode-bidi: embed;\n",
       "    white-space: pre-wrap;\n",
       "    word-wrap: break-word;\n",
       "    word-break: break-all;\n",
       "    font-family: \"Source Code Pro\", \"Menlo\", monospace;;\n",
       "    font-size: 13px;\n",
       "    color: #555;\n",
       "    margin-left: 4px;\n",
       "    line-height: 19px;\n",
       "  }\n",
       "</style>\n",
       "<div class=\"ansiout\"></div>"
      ]
     },
     "metadata": {},
     "output_type": "display_data"
    }
   ],
   "source": [
    "rf_recall = int(rf_TP) / int(rf_TP_FN)\n",
    "rf_precision = int(rf_TP) / int(rf_TP_FP)"
   ]
  },
  {
   "cell_type": "code",
   "execution_count": 91,
   "metadata": {},
   "outputs": [
    {
     "data": {
      "text/html": [
       "<style scoped>\n",
       "  .ansiout {\n",
       "    display: block;\n",
       "    unicode-bidi: embed;\n",
       "    white-space: pre-wrap;\n",
       "    word-wrap: break-word;\n",
       "    word-break: break-all;\n",
       "    font-family: \"Source Code Pro\", \"Menlo\", monospace;;\n",
       "    font-size: 13px;\n",
       "    color: #555;\n",
       "    margin-left: 4px;\n",
       "    line-height: 19px;\n",
       "  }\n",
       "</style>\n",
       "<div class=\"ansiout\">RF 0.49056196159974075\n",
       "RF-P 0.5185396626038307\n",
       "LR 0.5432745537522616\n",
       "LR-P 0.4912700544553247\n",
       "GB 0.5262887850719667\n",
       "GB-P 0.5044650946082365\n",
       "</div>"
      ]
     },
     "metadata": {},
     "output_type": "display_data"
    }
   ],
   "source": [
    "print('RF',rf_recall)\n",
    "print('RF-P',rf_precision)\n",
    "print('LR',lr_recall)\n",
    "print('LR-P',lr_precision)\n",
    "print('GB',gb_recall)\n",
    "print('GB-P',gb_precision)\n"
   ]
  },
  {
   "cell_type": "code",
   "execution_count": 92,
   "metadata": {},
   "outputs": [
    {
     "data": {
      "text/html": [
       "<style scoped>\n",
       "  .ansiout {\n",
       "    display: block;\n",
       "    unicode-bidi: embed;\n",
       "    white-space: pre-wrap;\n",
       "    word-wrap: break-word;\n",
       "    word-break: break-all;\n",
       "    font-family: \"Source Code Pro\", \"Menlo\", monospace;;\n",
       "    font-size: 13px;\n",
       "    color: #555;\n",
       "    margin-left: 4px;\n",
       "    line-height: 19px;\n",
       "  }\n",
       "</style>\n",
       "<div class=\"ansiout\"><span class=\"ansired\">Out[</span><span class=\"ansired\">63</span><span class=\"ansired\">]: </span>154773\n",
       "</div>"
      ]
     },
     "metadata": {},
     "output_type": "display_data"
    }
   ],
   "source": [
    "testing_df.count()"
   ]
  },
  {
   "cell_type": "code",
   "execution_count": 93,
   "metadata": {},
   "outputs": [
    {
     "data": {
      "text/html": [
       "<style scoped>\n",
       "  .ansiout {\n",
       "    display: block;\n",
       "    unicode-bidi: embed;\n",
       "    white-space: pre-wrap;\n",
       "    word-wrap: break-word;\n",
       "    word-break: break-all;\n",
       "    font-family: \"Source Code Pro\", \"Menlo\", monospace;;\n",
       "    font-size: 13px;\n",
       "    color: #555;\n",
       "    margin-left: 4px;\n",
       "    line-height: 19px;\n",
       "  }\n",
       "</style>\n",
       "<div class=\"ansiout\"><span class=\"ansired\">Out[</span><span class=\"ansired\">54</span><span class=\"ansired\">]: </span>DataFrame[Year: int, Month: int, Day: int, Res_num: int, SOUTHERN: int, MISSION: int, NORTHERN: int, CENTRAL: int, BAYVIEW: int, TENDERLOIN: int, INGLESIDE: int, TARAVAL: int, PARK: int, Sunday: int, Monday: int, Tuesday: int, Thursday: int, Friday: int, Saturday: int, Near noon: int, Afternoon: int, evening: int, Night: int, Minor: int, Medium: int, Servere: int, Very Servere: int, features: vector, rawPrediction: vector, probability: vector, prediction: double]\n",
       "</div>"
      ]
     },
     "metadata": {},
     "output_type": "display_data"
    }
   ],
   "source": [
    "# calculating recall, the higher the recall, the lower the false negative is\n",
    "\n",
    "crime_m9_fitted.transform(testing_df).select(fn.sum('prediction = 1'))"
   ]
  },
  {
   "cell_type": "code",
   "execution_count": 94,
   "metadata": {},
   "outputs": [
    {
     "data": {
      "text/html": [
       "<style scoped>\n",
       "  .ansiout {\n",
       "    display: block;\n",
       "    unicode-bidi: embed;\n",
       "    white-space: pre-wrap;\n",
       "    word-wrap: break-word;\n",
       "    word-break: break-all;\n",
       "    font-family: \"Source Code Pro\", \"Menlo\", monospace;;\n",
       "    font-size: 13px;\n",
       "    color: #555;\n",
       "    margin-left: 4px;\n",
       "    line-height: 19px;\n",
       "  }\n",
       "</style>\n",
       "<div class=\"ansiout\">+------------------+\n",
       "   avg(prediction)|\n",
       "+------------------+\n",
       "0.2722309446738126|\n",
       "+------------------+\n",
       "\n",
       "</div>"
      ]
     },
     "metadata": {},
     "output_type": "display_data"
    }
   ],
   "source": [
    "crime_m9_fitted.transform(testing_df).select(fn.avg('prediction')).show()\n"
   ]
  },
  {
   "cell_type": "code",
   "execution_count": 95,
   "metadata": {},
   "outputs": [
    {
     "data": {
      "text/html": [
       "<style scoped>\n",
       "  .ansiout {\n",
       "    display: block;\n",
       "    unicode-bidi: embed;\n",
       "    white-space: pre-wrap;\n",
       "    word-wrap: break-word;\n",
       "    word-break: break-all;\n",
       "    font-family: \"Source Code Pro\", \"Menlo\", monospace;;\n",
       "    font-size: 13px;\n",
       "    color: #555;\n",
       "    margin-left: 4px;\n",
       "    line-height: 19px;\n",
       "  }\n",
       "</style>\n",
       "<div class=\"ansiout\"><span class=\"ansired\">Out[</span><span class=\"ansired\">75</span><span class=\"ansired\">]: </span>DenseVector([0.5714, -1.4023, -0.8335, 1.2617, 0.0, -0.0103, 0.4389, 0.5892, 0.1894, -0.0141, 0.4621, 1.2776, 0.2503, 0.0873, 0.3964, -0.2521, -0.0001, -0.1078, -0.151])\n",
       "</div>"
      ]
     },
     "metadata": {},
     "output_type": "display_data"
    }
   ],
   "source": [
    "crime_m9_fitted.stages[-1].coefficients"
   ]
  },
  {
   "cell_type": "code",
   "execution_count": 96,
   "metadata": {},
   "outputs": [
    {
     "data": {
      "text/html": [
       "<style scoped>\n",
       "  .ansiout {\n",
       "    display: block;\n",
       "    unicode-bidi: embed;\n",
       "    white-space: pre-wrap;\n",
       "    word-wrap: break-word;\n",
       "    word-break: break-all;\n",
       "    font-family: \"Source Code Pro\", \"Menlo\", monospace;;\n",
       "    font-size: 13px;\n",
       "    color: #555;\n",
       "    margin-left: 4px;\n",
       "    line-height: 19px;\n",
       "  }\n",
       "</style>\n",
       "<div class=\"ansiout\"><span class=\"ansired\">Out[</span><span class=\"ansired\">76</span><span class=\"ansired\">]: </span>-0.3795459617913322\n",
       "</div>"
      ]
     },
     "metadata": {},
     "output_type": "display_data"
    }
   ],
   "source": [
    "crime_m9_fitted.stages[-1].intercept"
   ]
  },
  {
   "cell_type": "code",
   "execution_count": 97,
   "metadata": {},
   "outputs": [
    {
     "data": {
      "text/html": [
       "<style scoped>\n",
       "  .ansiout {\n",
       "    display: block;\n",
       "    unicode-bidi: embed;\n",
       "    white-space: pre-wrap;\n",
       "    word-wrap: break-word;\n",
       "    word-break: break-all;\n",
       "    font-family: \"Source Code Pro\", \"Menlo\", monospace;;\n",
       "    font-size: 13px;\n",
       "    color: #555;\n",
       "    margin-left: 4px;\n",
       "    line-height: 19px;\n",
       "  }\n",
       "</style>\n",
       "<div class=\"ansiout\"><span class=\"ansired\">Out[</span><span class=\"ansired\">83</span><span class=\"ansired\">]: </span>DenseVector([0.27, -0.3321, -0.1588, 0.4346, 0.0002, -0.0038, -0.0077, 0.0045, 0.0129, 0.0049, -0.0286, -0.0131, -0.028, 0.0427, -0.0318, -0.0218, -0.0024, 0.068, -0.0856, -0.1353, 0.0226, 0.3068, -0.0408, -0.0928, -0.0278])\n",
       "</div>"
      ]
     },
     "metadata": {},
     "output_type": "display_data"
    }
   ],
   "source": [
    "crime_m4_fitted.stages[-1].coefficients"
   ]
  },
  {
   "cell_type": "code",
   "execution_count": 98,
   "metadata": {},
   "outputs": [
    {
     "data": {
      "text/html": [
       "<style scoped>\n",
       "  .ansiout {\n",
       "    display: block;\n",
       "    unicode-bidi: embed;\n",
       "    white-space: pre-wrap;\n",
       "    word-wrap: break-word;\n",
       "    word-break: break-all;\n",
       "    font-family: \"Source Code Pro\", \"Menlo\", monospace;;\n",
       "    font-size: 13px;\n",
       "    color: #555;\n",
       "    margin-left: 4px;\n",
       "    line-height: 19px;\n",
       "  }\n",
       "</style>\n",
       "<div class=\"ansiout\"><span class=\"ansired\">Out[</span><span class=\"ansired\">77</span><span class=\"ansired\">]: </span>-0.3798297190777381\n",
       "</div>"
      ]
     },
     "metadata": {},
     "output_type": "display_data"
    }
   ],
   "source": [
    "crime_m4_3_fitted.stages[-1].intercept"
   ]
  },
  {
   "cell_type": "code",
   "execution_count": 99,
   "metadata": {},
   "outputs": [
    {
     "data": {
      "text/html": [
       "<style scoped>\n",
       "  .ansiout {\n",
       "    display: block;\n",
       "    unicode-bidi: embed;\n",
       "    white-space: pre-wrap;\n",
       "    word-wrap: break-word;\n",
       "    word-break: break-all;\n",
       "    font-family: \"Source Code Pro\", \"Menlo\", monospace;;\n",
       "    font-size: 13px;\n",
       "    color: #555;\n",
       "    margin-left: 4px;\n",
       "    line-height: 19px;\n",
       "  }\n",
       "</style>\n",
       "<div class=\"ansiout\"><span class=\"ansired\">Out[</span><span class=\"ansired\">78</span><span class=\"ansired\">]: </span>DenseVector([0.6332, -1.1305, -0.5377, 1.3286, 0.0001, -0.0059, 0.0, 0.0, 0.0027, 0.0, -0.0383, -0.0004, -0.0492, 0.0816, -0.0465, -0.026, 0.0, 0.1957, -0.1619, -0.2749, 0.022, 0.7229, -0.059, -0.1746, -0.0224])\n",
       "</div>"
      ]
     },
     "metadata": {},
     "output_type": "display_data"
    }
   ],
   "source": [
    "crime_m4_3_fitted.stages[-1].coefficients"
   ]
  },
  {
   "cell_type": "markdown",
   "metadata": {},
   "source": [
    "### Check if standard scalar and other paramters will change the results"
   ]
  },
  {
   "cell_type": "code",
   "execution_count": 100,
   "metadata": {},
   "outputs": [
    {
     "data": {
      "text/html": [
       "<style scoped>\n",
       "  .ansiout {\n",
       "    display: block;\n",
       "    unicode-bidi: embed;\n",
       "    white-space: pre-wrap;\n",
       "    word-wrap: break-word;\n",
       "    word-break: break-all;\n",
       "    font-family: \"Source Code Pro\", \"Menlo\", monospace;;\n",
       "    font-size: 13px;\n",
       "    color: #555;\n",
       "    margin-left: 4px;\n",
       "    line-height: 19px;\n",
       "  }\n",
       "</style>\n",
       "<div class=\"ansiout\"></div>"
      ]
     },
     "metadata": {},
     "output_type": "display_data"
    }
   ],
   "source": [
    "crime_m4_5 = Pipeline(stages=[feature.VectorAssembler(inputCols=['Minor', 'Medium', 'Servere',\n",
    "                    'Very Servere','Jan','Feb','Mar','Apr','May','Jun','Jul','Aug', 'Sep','Oct','Nov','Sunday','Monday','Tuesday','Thursday','Friday','Saturday',\n",
    "                    'Near noon','Afternoon','evening','Night','SOUTHERN','MISSION','NORTHERN','CENTRAL',\n",
    "                    'BAYVIEW','TENDERLOIN', 'INGLESIDE','TARAVAL','PARK'],\n",
    "                                        outputCol='features'),\n",
    "                 feature.StandardScaler(inputCol='features', outputCol= 'scalar_features', withMean = True, withStd = True),\n",
    "                 classification.LogisticRegression(labelCol='Res_num', featuresCol='scalar_features', maxIter=10,\n",
    "                                                  regParam=0.02, elasticNetParam=0.2)])\n",
    "crime_m4_5_fitted = crime_m4_5.fit(training_df)"
   ]
  },
  {
   "cell_type": "code",
   "execution_count": 101,
   "metadata": {},
   "outputs": [
    {
     "data": {
      "text/html": [
       "<style scoped>\n",
       "  .ansiout {\n",
       "    display: block;\n",
       "    unicode-bidi: embed;\n",
       "    white-space: pre-wrap;\n",
       "    word-wrap: break-word;\n",
       "    word-break: break-all;\n",
       "    font-family: \"Source Code Pro\", \"Menlo\", monospace;;\n",
       "    font-size: 13px;\n",
       "    color: #555;\n",
       "    margin-left: 4px;\n",
       "    line-height: 19px;\n",
       "  }\n",
       "</style>\n",
       "<div class=\"ansiout\"></div>"
      ]
     },
     "metadata": {},
     "output_type": "display_data"
    }
   ],
   "source": [
    "#GBTClassifier\n",
    "gb_m4_5 = Pipeline(stages=[feature.VectorAssembler(inputCols=['Minor', 'Medium', 'Servere',\n",
    "                    'Very Servere','Jan','Feb','Mar','Apr','May','Jun','Jul','Aug', 'Sep','Oct','Nov','Sunday','Monday','Tuesday','Thursday','Friday','Saturday',\n",
    "                    'Near noon','Afternoon','evening','Night','SOUTHERN','MISSION','NORTHERN','CENTRAL',\n",
    "                    'BAYVIEW','TENDERLOIN', 'INGLESIDE','TARAVAL','PARK'],\n",
    "                                        outputCol='features'),\n",
    "                 feature.StandardScaler(inputCol='features', outputCol= 'scalar_features', withMean = True, withStd = True),\n",
    "                 classification.GBTClassifier(labelCol='Res_num', featuresCol='scalar_features', maxIter=10)])\n",
    "gb_m4_5_fitted = gb_m4_5.fit(training_df)"
   ]
  },
  {
   "cell_type": "code",
   "execution_count": 102,
   "metadata": {},
   "outputs": [
    {
     "data": {
      "text/html": [
       "<style scoped>\n",
       "  .ansiout {\n",
       "    display: block;\n",
       "    unicode-bidi: embed;\n",
       "    white-space: pre-wrap;\n",
       "    word-wrap: break-word;\n",
       "    word-break: break-all;\n",
       "    font-family: \"Source Code Pro\", \"Menlo\", monospace;;\n",
       "    font-size: 13px;\n",
       "    color: #555;\n",
       "    margin-left: 4px;\n",
       "    line-height: 19px;\n",
       "  }\n",
       "</style>\n",
       "<div class=\"ansiout\"></div>"
      ]
     },
     "metadata": {},
     "output_type": "display_data"
    }
   ],
   "source": [
    "rf_m4_5 = Pipeline(stages=[feature.VectorAssembler(inputCols=['Minor', 'Medium', 'Servere',\n",
    "                    'Very Servere','Jan','Feb','Mar','Apr','May','Jun','Jul','Aug', 'Sep','Oct','Nov','Sunday','Monday','Tuesday','Thursday','Friday','Saturday',\n",
    "                    'Near noon','Afternoon','evening','Night','SOUTHERN','MISSION','NORTHERN','CENTRAL',\n",
    "                    'BAYVIEW','TENDERLOIN', 'INGLESIDE','TARAVAL','PARK'],\n",
    "                                        outputCol='features'),\n",
    "                 feature.StandardScaler(inputCol='features', outputCol= 'scalar_features', withMean = True, withStd = True),\n",
    "                 classification.RandomForestClassifier(labelCol='Res_num', featuresCol='features', seed = 0,\n",
    "                            numTrees=10, cacheNodeIds = True)])\n",
    "rf_m4_5_fitted = rf_m4_5.fit(training_df)"
   ]
  },
  {
   "cell_type": "code",
   "execution_count": 103,
   "metadata": {},
   "outputs": [
    {
     "data": {
      "text/html": [
       "<style scoped>\n",
       "  .ansiout {\n",
       "    display: block;\n",
       "    unicode-bidi: embed;\n",
       "    white-space: pre-wrap;\n",
       "    word-wrap: break-word;\n",
       "    word-break: break-all;\n",
       "    font-family: \"Source Code Pro\", \"Menlo\", monospace;;\n",
       "    font-size: 13px;\n",
       "    color: #555;\n",
       "    margin-left: 4px;\n",
       "    line-height: 19px;\n",
       "  }\n",
       "</style>\n",
       "<div class=\"ansiout\"></div>"
      ]
     },
     "metadata": {},
     "output_type": "display_data"
    }
   ],
   "source": [
    "# crime level + year + month + location + hour level\n",
    "crime_m9_5 = Pipeline(stages=[feature.VectorAssembler(inputCols=['Minor', 'Medium', 'Servere',\n",
    "                    'Very Servere','Jan','Feb','Mar','Apr','May','Jun','Jul','Aug', 'Sep','Oct','Nov','SOUTHERN','MISSION','NORTHERN','CENTRAL',\n",
    "                    'BAYVIEW','TENDERLOIN', 'INGLESIDE','TARAVAL','PARK','Near noon','Afternoon',\n",
    "                    'evening','Night'], outputCol='features'),\n",
    "                 feature.StandardScaler(inputCol='features', outputCol= 'scalar_features',withMean = True, withStd = True),\n",
    "                 classification.LogisticRegression(labelCol='Res_num', featuresCol='scalar_features', maxIter=10,\n",
    "                                                  regParam=0.02, elasticNetParam=0.2)])\n",
    "crime_m9_5_fitted = crime_m9_5.fit(training_df)"
   ]
  },
  {
   "cell_type": "code",
   "execution_count": 104,
   "metadata": {},
   "outputs": [
    {
     "data": {
      "text/html": [
       "<style scoped>\n",
       "  .ansiout {\n",
       "    display: block;\n",
       "    unicode-bidi: embed;\n",
       "    white-space: pre-wrap;\n",
       "    word-wrap: break-word;\n",
       "    word-break: break-all;\n",
       "    font-family: \"Source Code Pro\", \"Menlo\", monospace;;\n",
       "    font-size: 13px;\n",
       "    color: #555;\n",
       "    margin-left: 4px;\n",
       "    line-height: 19px;\n",
       "  }\n",
       "</style>\n",
       "<div class=\"ansiout\"></div>"
      ]
     },
     "metadata": {},
     "output_type": "display_data"
    }
   ],
   "source": [
    "# crime level + year + month + location + hour level\n",
    "gb_m9_5 = Pipeline(stages=[feature.VectorAssembler(inputCols=['Minor', 'Medium', 'Servere',\n",
    "                    'Very Servere','Jan','Feb','Mar','Apr','May','Jun','Jul','Aug', 'Sep','Oct','Nov','SOUTHERN','MISSION','NORTHERN','CENTRAL',\n",
    "                    'BAYVIEW','TENDERLOIN', 'INGLESIDE','TARAVAL','PARK','Near noon','Afternoon',\n",
    "                    'evening','Night'], outputCol='features'),\n",
    "                 feature.StandardScaler(inputCol='features', outputCol= 'scalar_features',withMean = True, withStd = True),\n",
    "                 classification.GBTClassifier(labelCol='Res_num', featuresCol='scalar_features', maxIter=10)])\n",
    "gb_m9_5_fitted = gb_m9_5.fit(training_df)"
   ]
  },
  {
   "cell_type": "code",
   "execution_count": 105,
   "metadata": {},
   "outputs": [
    {
     "data": {
      "text/html": [
       "<style scoped>\n",
       "  .ansiout {\n",
       "    display: block;\n",
       "    unicode-bidi: embed;\n",
       "    white-space: pre-wrap;\n",
       "    word-wrap: break-word;\n",
       "    word-break: break-all;\n",
       "    font-family: \"Source Code Pro\", \"Menlo\", monospace;;\n",
       "    font-size: 13px;\n",
       "    color: #555;\n",
       "    margin-left: 4px;\n",
       "    line-height: 19px;\n",
       "  }\n",
       "</style>\n",
       "<div class=\"ansiout\"></div>"
      ]
     },
     "metadata": {},
     "output_type": "display_data"
    }
   ],
   "source": [
    "# crime level + year + month + location + hour level\n",
    "rf_m9_5 = Pipeline(stages=[feature.VectorAssembler(inputCols=['Minor', 'Medium', 'Servere',\n",
    "                    'Very Servere','Jan','Feb','Mar','Apr','May','Jun','Jul','Aug', 'Sep','Oct','Nov','SOUTHERN','MISSION','NORTHERN','CENTRAL',\n",
    "                    'BAYVIEW','TENDERLOIN', 'INGLESIDE','TARAVAL','PARK','Near noon','Afternoon',\n",
    "                    'evening','Night'], outputCol='features'),\n",
    "                 feature.StandardScaler(inputCol='features', outputCol= 'scalar_features',withMean = True, withStd = True),\n",
    "                 classification.RandomForestClassifier(labelCol='Res_num', featuresCol='features', seed = 0,\n",
    "                            numTrees=10, cacheNodeIds = True)])\n",
    "rf_m9_5_fitted = rf_m9_5.fit(training_df)"
   ]
  },
  {
   "cell_type": "code",
   "execution_count": 106,
   "metadata": {},
   "outputs": [
    {
     "data": {
      "text/html": [
       "<style scoped>\n",
       "  .ansiout {\n",
       "    display: block;\n",
       "    unicode-bidi: embed;\n",
       "    white-space: pre-wrap;\n",
       "    word-wrap: break-word;\n",
       "    word-break: break-all;\n",
       "    font-family: \"Source Code Pro\", \"Menlo\", monospace;;\n",
       "    font-size: 13px;\n",
       "    color: #555;\n",
       "    margin-left: 4px;\n",
       "    line-height: 19px;\n",
       "  }\n",
       "</style>\n",
       "<div class=\"ansiout\">Model 4_5 - ALL + parameters AUC:  0.76431467359888\n",
       "Model 9_5 - category + time + parameters AUC:  0.7643229693504273\n",
       "</div>"
      ]
     },
     "metadata": {},
     "output_type": "display_data"
    }
   ],
   "source": [
    "AUC9_5 = evaluator.evaluate(crime_m9_5_fitted.transform(validation_df))\n",
    "AUC4_5 = evaluator.evaluate(crime_m4_5_fitted.transform(validation_df))\n",
    "\n",
    "print(\"Model 4_5 - ALL + parameters AUC: \", AUC4_5)\n",
    "print(\"Model 9_5 - category + time + parameters AUC: \", AUC9_5)"
   ]
  },
  {
   "cell_type": "code",
   "execution_count": 107,
   "metadata": {},
   "outputs": [
    {
     "data": {
      "text/html": [
       "<style scoped>\n",
       "  .ansiout {\n",
       "    display: block;\n",
       "    unicode-bidi: embed;\n",
       "    white-space: pre-wrap;\n",
       "    word-wrap: break-word;\n",
       "    word-break: break-all;\n",
       "    font-family: \"Source Code Pro\", \"Menlo\", monospace;;\n",
       "    font-size: 13px;\n",
       "    color: #555;\n",
       "    margin-left: 4px;\n",
       "    line-height: 19px;\n",
       "  }\n",
       "</style>\n",
       "<div class=\"ansiout\">Model 4_5 - ALL + parameters AUC:  0.7665909570024959\n",
       "Model 9_5 - category + time + parameters AUC:  0.7663867773102793\n",
       "</div>"
      ]
     },
     "metadata": {},
     "output_type": "display_data"
    }
   ],
   "source": [
    "gb_AUC9_5 = evaluator.evaluate(gb_m9_5_fitted.transform(validation_df))\n",
    "gb_AUC4_5 = evaluator.evaluate(gb_m4_5_fitted.transform(validation_df))\n",
    "\n",
    "print(\"Model 4_5 - ALL + parameters AUC: \", gb_AUC4_5)\n",
    "print(\"Model 9_5 - category + time + parameters AUC: \", gb_AUC9_5)"
   ]
  },
  {
   "cell_type": "code",
   "execution_count": 108,
   "metadata": {},
   "outputs": [
    {
     "data": {
      "text/html": [
       "<style scoped>\n",
       "  .ansiout {\n",
       "    display: block;\n",
       "    unicode-bidi: embed;\n",
       "    white-space: pre-wrap;\n",
       "    word-wrap: break-word;\n",
       "    word-break: break-all;\n",
       "    font-family: \"Source Code Pro\", \"Menlo\", monospace;;\n",
       "    font-size: 13px;\n",
       "    color: #555;\n",
       "    margin-left: 4px;\n",
       "    line-height: 19px;\n",
       "  }\n",
       "</style>\n",
       "<div class=\"ansiout\">rf_Model 4_5 - ALL AUC:  0.7561433260785807\n",
       "rf_Model 9_5 - category + time AUC:  0.7439949632659305\n",
       "</div>"
      ]
     },
     "metadata": {},
     "output_type": "display_data"
    }
   ],
   "source": [
    "rf_AUC9_5 = evaluator.evaluate(rf_m9_5_fitted.transform(validation_df))\n",
    "rf_AUC4_5 = evaluator.evaluate(rf_m4_5_fitted.transform(validation_df))\n",
    "\n",
    "print(\"rf_Model 4_5 - ALL AUC: \", rf_AUC4_5)\n",
    "print(\"rf_Model 9_5 - category + time AUC: \", rf_AUC9_5)"
   ]
  },
  {
   "cell_type": "code",
   "execution_count": 109,
   "metadata": {},
   "outputs": [
    {
     "data": {
      "text/html": [
       "<style scoped>\n",
       "  .ansiout {\n",
       "    display: block;\n",
       "    unicode-bidi: embed;\n",
       "    white-space: pre-wrap;\n",
       "    word-wrap: break-word;\n",
       "    word-break: break-all;\n",
       "    font-family: \"Source Code Pro\", \"Menlo\", monospace;;\n",
       "    font-size: 13px;\n",
       "    color: #555;\n",
       "    margin-left: 4px;\n",
       "    line-height: 19px;\n",
       "  }\n",
       "</style>\n",
       "<div class=\"ansiout\">+-------+\n",
       "Res_num|\n",
       "+-------+\n",
       "      1|\n",
       "      0|\n",
       "+-------+\n",
       "\n",
       "</div>"
      ]
     },
     "metadata": {},
     "output_type": "display_data"
    }
   ],
   "source": [
    "df_final.select('Res_num').distinct().show()"
   ]
  },
  {
   "cell_type": "code",
   "execution_count": 110,
   "metadata": {},
   "outputs": [
    {
     "data": {
      "text/html": [
       "<style scoped>\n",
       "  .ansiout {\n",
       "    display: block;\n",
       "    unicode-bidi: embed;\n",
       "    white-space: pre-wrap;\n",
       "    word-wrap: break-word;\n",
       "    word-break: break-all;\n",
       "    font-family: \"Source Code Pro\", \"Menlo\", monospace;;\n",
       "    font-size: 13px;\n",
       "    color: #555;\n",
       "    margin-left: 4px;\n",
       "    line-height: 19px;\n",
       "  }\n",
       "</style>\n",
       "<div class=\"ansiout\"></div>"
      ]
     },
     "metadata": {},
     "output_type": "display_data"
    }
   ],
   "source": [
    "crime_m4_6 = Pipeline(stages=[feature.VectorAssembler(inputCols=['Minor', 'Medium', 'Servere',\n",
    "                    'Very Servere','Year','Month','Sunday','Monday','Tuesday','Thursday','Friday','Saturday',\n",
    "                    'Near noon','Afternoon','evening','Night','SOUTHERN','MISSION','NORTHERN','CENTRAL',\n",
    "                    'BAYVIEW','TENDERLOIN', 'INGLESIDE','TARAVAL','PARK'],\n",
    "                                        outputCol='features'),\n",
    "                 feature.StandardScaler(inputCol='features', outputCol= 'scalar_features', withMean = True, withStd = True),\n",
    "                 classification.LogisticRegression(labelCol='Res_num', featuresCol='scalar_features', maxIter=10)])\n",
    "crime_m4_6_fitted = crime_m4_6.fit(training_df)"
   ]
  },
  {
   "cell_type": "code",
   "execution_count": 111,
   "metadata": {},
   "outputs": [
    {
     "data": {
      "text/html": [
       "<style scoped>\n",
       "  .ansiout {\n",
       "    display: block;\n",
       "    unicode-bidi: embed;\n",
       "    white-space: pre-wrap;\n",
       "    word-wrap: break-word;\n",
       "    word-break: break-all;\n",
       "    font-family: \"Source Code Pro\", \"Menlo\", monospace;;\n",
       "    font-size: 13px;\n",
       "    color: #555;\n",
       "    margin-left: 4px;\n",
       "    line-height: 19px;\n",
       "  }\n",
       "</style>\n",
       "<div class=\"ansiout\"></div>"
      ]
     },
     "metadata": {},
     "output_type": "display_data"
    }
   ],
   "source": [
    "# crime level + year + month + location + hour level\n",
    "crime_m9_6 = Pipeline(stages=[feature.VectorAssembler(inputCols=['Minor', 'Medium', 'Servere',\n",
    "                    'Very Servere','Year','Month','SOUTHERN','MISSION','NORTHERN','CENTRAL',\n",
    "                    'BAYVIEW','TENDERLOIN', 'INGLESIDE','TARAVAL','PARK','Near noon','Afternoon',\n",
    "                    'evening','Night'], outputCol='features'),\n",
    "                 feature.StandardScaler(inputCol='features', outputCol= 'scalar_features',withMean = True, withStd = True),\n",
    "                 classification.LogisticRegression(labelCol='Res_num', featuresCol='scalar_features', maxIter=10)])\n",
    "crime_m9_6_fitted = crime_m9_6.fit(training_df)"
   ]
  },
  {
   "cell_type": "code",
   "execution_count": 112,
   "metadata": {},
   "outputs": [
    {
     "data": {
      "text/html": [
       "<style scoped>\n",
       "  .ansiout {\n",
       "    display: block;\n",
       "    unicode-bidi: embed;\n",
       "    white-space: pre-wrap;\n",
       "    word-wrap: break-word;\n",
       "    word-break: break-all;\n",
       "    font-family: \"Source Code Pro\", \"Menlo\", monospace;;\n",
       "    font-size: 13px;\n",
       "    color: #555;\n",
       "    margin-left: 4px;\n",
       "    line-height: 19px;\n",
       "  }\n",
       "</style>\n",
       "<div class=\"ansiout\">Model 4_6 - ALL + parameters AUC:  0.7652731332658433\n",
       "Model 9_6 - category + time + parameters AUC:  0.7653104659499966\n",
       "</div>"
      ]
     },
     "metadata": {},
     "output_type": "display_data"
    }
   ],
   "source": [
    "AUC9_6 = evaluator.evaluate(crime_m9_6_fitted.transform(validation_df))\n",
    "AUC4_6 = evaluator.evaluate(crime_m4_6_fitted.transform(validation_df))\n",
    "\n",
    "print(\"Model 4_6 - ALL + parameters AUC: \", AUC4_6)\n",
    "print(\"Model 9_6 - category + time + parameters AUC: \", AUC9_6)"
   ]
  },
  {
   "cell_type": "code",
   "execution_count": 113,
   "metadata": {},
   "outputs": [
    {
     "data": {
      "text/html": [
       "<style scoped>\n",
       "  .ansiout {\n",
       "    display: block;\n",
       "    unicode-bidi: embed;\n",
       "    white-space: pre-wrap;\n",
       "    word-wrap: break-word;\n",
       "    word-break: break-all;\n",
       "    font-family: \"Source Code Pro\", \"Menlo\", monospace;;\n",
       "    font-size: 13px;\n",
       "    color: #555;\n",
       "    margin-left: 4px;\n",
       "    line-height: 19px;\n",
       "  }\n",
       "</style>\n",
       "<div class=\"ansiout\"><span class=\"ansired\">Out[</span><span class=\"ansired\">94</span><span class=\"ansired\">]: </span>-0.4473666413923585\n",
       "</div>"
      ]
     },
     "metadata": {},
     "output_type": "display_data"
    }
   ],
   "source": [
    "crime_m9_6_fitted.stages[-1].intercept"
   ]
  },
  {
   "cell_type": "markdown",
   "metadata": {},
   "source": [
    "### Inference\n",
    "- Feature importance for random forest and gradient boosting\n",
    "- coefficients for logistic regression"
   ]
  },
  {
   "cell_type": "code",
   "execution_count": 114,
   "metadata": {},
   "outputs": [
    {
     "data": {
      "text/html": [
       "<style scoped>\n",
       "  .ansiout {\n",
       "    display: block;\n",
       "    unicode-bidi: embed;\n",
       "    white-space: pre-wrap;\n",
       "    word-wrap: break-word;\n",
       "    word-break: break-all;\n",
       "    font-family: \"Source Code Pro\", \"Menlo\", monospace;;\n",
       "    font-size: 13px;\n",
       "    color: #555;\n",
       "    margin-left: 4px;\n",
       "    line-height: 19px;\n",
       "  }\n",
       "</style>\n",
       "<div class=\"ansiout\"></div>"
      ]
     },
     "metadata": {},
     "output_type": "display_data"
    }
   ],
   "source": [
    "m9_coe = crime_m9_fitted.stages[-1].coefficients.tolist()\n"
   ]
  },
  {
   "cell_type": "code",
   "execution_count": 115,
   "metadata": {},
   "outputs": [
    {
     "data": {
      "text/html": [
       "<style scoped>\n",
       "  .ansiout {\n",
       "    display: block;\n",
       "    unicode-bidi: embed;\n",
       "    white-space: pre-wrap;\n",
       "    word-wrap: break-word;\n",
       "    word-break: break-all;\n",
       "    font-family: \"Source Code Pro\", \"Menlo\", monospace;;\n",
       "    font-size: 13px;\n",
       "    color: #555;\n",
       "    margin-left: 4px;\n",
       "    line-height: 19px;\n",
       "  }\n",
       "</style>\n",
       "<div class=\"ansiout\"></div>"
      ]
     },
     "metadata": {},
     "output_type": "display_data"
    }
   ],
   "source": [
    "# 4 level + 11 month + 9 location + 4 hour = 28\n",
    "m9_feature = ['Minor', 'Medium', 'Servere',\n",
    "                    'Very Servere','Jan','Feb','Mar','Apr','May','Jun','Jul','Aug', 'Sep','Oct','Nov','SOUTHERN','MISSION','NORTHERN','CENTRAL',\n",
    "                    'BAYVIEW','TENDERLOIN', 'INGLESIDE','TARAVAL','PARK','Near noon','Afternoon',\n",
    "                    'evening','Night']\n"
   ]
  },
  {
   "cell_type": "code",
   "execution_count": 116,
   "metadata": {},
   "outputs": [
    {
     "data": {
      "text/html": [
       "<style scoped>\n",
       "  .ansiout {\n",
       "    display: block;\n",
       "    unicode-bidi: embed;\n",
       "    white-space: pre-wrap;\n",
       "    word-wrap: break-word;\n",
       "    word-break: break-all;\n",
       "    font-family: \"Source Code Pro\", \"Menlo\", monospace;;\n",
       "    font-size: 13px;\n",
       "    color: #555;\n",
       "    margin-left: 4px;\n",
       "    line-height: 19px;\n",
       "  }\n",
       "</style>\n",
       "<div class=\"ansiout\"><span class=\"ansired\">Out[</span><span class=\"ansired\">148</span><span class=\"ansired\">]: </span>28\n",
       "</div>"
      ]
     },
     "metadata": {},
     "output_type": "display_data"
    }
   ],
   "source": [
    "len(m9_coe)"
   ]
  },
  {
   "cell_type": "code",
   "execution_count": 117,
   "metadata": {},
   "outputs": [
    {
     "data": {
      "text/html": [
       "<style scoped>\n",
       "  .ansiout {\n",
       "    display: block;\n",
       "    unicode-bidi: embed;\n",
       "    white-space: pre-wrap;\n",
       "    word-wrap: break-word;\n",
       "    word-break: break-all;\n",
       "    font-family: \"Source Code Pro\", \"Menlo\", monospace;;\n",
       "    font-size: 13px;\n",
       "    color: #555;\n",
       "    margin-left: 4px;\n",
       "    line-height: 19px;\n",
       "  }\n",
       "</style>\n",
       "<div class=\"ansiout\"><span class=\"ansired\">Out[</span><span class=\"ansired\">149</span><span class=\"ansired\">]: </span>\n",
       "{&apos;Afternoon&apos;: 0.01199115462013647,\n",
       " &apos;Apr&apos;: 0.0,\n",
       " &apos;May&apos;: 0.0,\n",
       " &apos;BAYVIEW&apos;: 0.49754645331235137,\n",
       " &apos;SOUTHERN&apos;: 0.5014951815162885,\n",
       " &apos;MISSION&apos;: 0.6524428839878921,\n",
       " &apos;Medium&apos;: -1.3797986046888415,\n",
       " &apos;Mar&apos;: 0.0,\n",
       " &apos;Near noon&apos;: -0.22121125020509014,\n",
       " &apos;TENDERLOIN&apos;: 1.3200871373838685,\n",
       " &apos;Nov&apos;: 0.0,\n",
       " &apos;Oct&apos;: 0.0,\n",
       " &apos;Jan&apos;: 0.0,\n",
       " &apos;Servere&apos;: -0.8160834161199783,\n",
       " &apos;Jul&apos;: 0.0,\n",
       " &apos;Feb&apos;: 0.0,\n",
       " &apos;Sep&apos;: 0.0,\n",
       " &apos;NORTHERN&apos;: 0.21790531801434798,\n",
       " &apos;CENTRAL&apos;: 0.057285399872398474,\n",
       " &apos;Jun&apos;: 0.0,\n",
       " &apos;Very Servere&apos;: 1.2942751127905416,\n",
       " &apos;INGLESIDE&apos;: 0.3034257893255847,\n",
       " &apos;Aug&apos;: 0.0,\n",
       " &apos;TARAVAL&apos;: 0.1512499835818672,\n",
       " &apos;evening&apos;: -0.10139070895698639,\n",
       " &apos;Minor&apos;: 0.5597343606159563,\n",
       " &apos;PARK&apos;: 0.40445615084804204,\n",
       " &apos;Night&apos;: -0.13146209171085055}\n",
       "</div>"
      ]
     },
     "metadata": {},
     "output_type": "display_data"
    }
   ],
   "source": [
    "mapping = dict(zip(m9_feature, m9_coe))\n",
    "mapping"
   ]
  },
  {
   "cell_type": "code",
   "execution_count": 118,
   "metadata": {},
   "outputs": [
    {
     "data": {
      "text/html": [
       "<style scoped>\n",
       "  .ansiout {\n",
       "    display: block;\n",
       "    unicode-bidi: embed;\n",
       "    white-space: pre-wrap;\n",
       "    word-wrap: break-word;\n",
       "    word-break: break-all;\n",
       "    font-family: \"Source Code Pro\", \"Menlo\", monospace;;\n",
       "    font-size: 13px;\n",
       "    color: #555;\n",
       "    margin-left: 4px;\n",
       "    line-height: 19px;\n",
       "  }\n",
       "</style>\n",
       "<div class=\"ansiout\"></div>"
      ]
     },
     "metadata": {},
     "output_type": "display_data"
    }
   ],
   "source": [
    "m9_feature_df = spark.createDataFrame(m9_feature, StringType()).toPandas()\n",
    "m9_feature_df.head(3)\n",
    "m9_feature_df.rename(columns={'value':'feature'},inplace=True)"
   ]
  },
  {
   "cell_type": "code",
   "execution_count": 119,
   "metadata": {},
   "outputs": [
    {
     "data": {
      "text/html": [
       "<style scoped>\n",
       "  .ansiout {\n",
       "    display: block;\n",
       "    unicode-bidi: embed;\n",
       "    white-space: pre-wrap;\n",
       "    word-wrap: break-word;\n",
       "    word-break: break-all;\n",
       "    font-family: \"Source Code Pro\", \"Menlo\", monospace;;\n",
       "    font-size: 13px;\n",
       "    color: #555;\n",
       "    margin-left: 4px;\n",
       "    line-height: 19px;\n",
       "  }\n",
       "</style>\n",
       "<div class=\"ansiout\"></div>"
      ]
     },
     "metadata": {},
     "output_type": "display_data"
    }
   ],
   "source": [
    "#from pyspark.sql.types import IntegerType\n",
    "\n",
    "# notice the parens after the type name\n",
    "m9_coe_df = spark.createDataFrame(m9_coe, FloatType()).toPandas()"
   ]
  },
  {
   "cell_type": "code",
   "execution_count": 120,
   "metadata": {},
   "outputs": [
    {
     "data": {
      "text/html": [
       "<style scoped>\n",
       "  .ansiout {\n",
       "    display: block;\n",
       "    unicode-bidi: embed;\n",
       "    white-space: pre-wrap;\n",
       "    word-wrap: break-word;\n",
       "    word-break: break-all;\n",
       "    font-family: \"Source Code Pro\", \"Menlo\", monospace;;\n",
       "    font-size: 13px;\n",
       "    color: #555;\n",
       "    margin-left: 4px;\n",
       "    line-height: 19px;\n",
       "  }\n",
       "</style>\n",
       "<div class=\"ansiout\"></div>"
      ]
     },
     "metadata": {},
     "output_type": "display_data"
    }
   ],
   "source": [
    "type(m9_coe_df)\n",
    "m9_coe_df.rename(columns={'value':'coefficients'},inplace=True)"
   ]
  },
  {
   "cell_type": "code",
   "execution_count": 121,
   "metadata": {},
   "outputs": [
    {
     "data": {
      "text/html": [
       "<style scoped>\n",
       "  .ansiout {\n",
       "    display: block;\n",
       "    unicode-bidi: embed;\n",
       "    white-space: pre-wrap;\n",
       "    word-wrap: break-word;\n",
       "    word-break: break-all;\n",
       "    font-family: \"Source Code Pro\", \"Menlo\", monospace;;\n",
       "    font-size: 13px;\n",
       "    color: #555;\n",
       "    margin-left: 4px;\n",
       "    line-height: 19px;\n",
       "  }\n",
       "</style>\n",
       "<div class=\"ansiout\"></div>"
      ]
     },
     "metadata": {},
     "output_type": "display_data"
    }
   ],
   "source": [
    "result = pd.concat([m9_feature_df, m9_coe_df], axis=1)\n",
    "result['weights'] = (result['coefficients'] / 4)"
   ]
  },
  {
   "cell_type": "code",
   "execution_count": 122,
   "metadata": {},
   "outputs": [
    {
     "data": {
      "text/html": [
       "<style scoped>\n",
       "  .ansiout {\n",
       "    display: block;\n",
       "    unicode-bidi: embed;\n",
       "    white-space: pre-wrap;\n",
       "    word-wrap: break-word;\n",
       "    word-break: break-all;\n",
       "    font-family: \"Source Code Pro\", \"Menlo\", monospace;;\n",
       "    font-size: 13px;\n",
       "    color: #555;\n",
       "    margin-left: 4px;\n",
       "    line-height: 19px;\n",
       "  }\n",
       "</style>\n",
       "<div class=\"ansiout\"><span class=\"ansired\">Out[</span><span class=\"ansired\">133</span><span class=\"ansired\">]: </span>\n",
       "         feature  coefficients   weights\n",
       "0          Minor      0.226441  0.056610\n",
       "1         Medium     -0.633250 -0.158313\n",
       "2        Servere     -0.333160 -0.083290\n",
       "3   Very Servere      0.380391  0.095098\n",
       "4           Year     -0.015564 -0.003891\n",
       "5          Month     -0.034911 -0.008728\n",
       "6       SOUTHERN      0.193436  0.048359\n",
       "7        MISSION      0.221585  0.055396\n",
       "8       NORTHERN      0.066744  0.016686\n",
       "9        CENTRAL      0.014685  0.003671\n",
       "10       BAYVIEW      0.147883  0.036971\n",
       "11    TENDERLOIN      0.396897  0.099224\n",
       "12     INGLESIDE      0.084101  0.021025\n",
       "13       TARAVAL      0.037344  0.009336\n",
       "14          PARK      0.091782  0.022946\n",
       "15     Near noon     -0.086057 -0.021514\n",
       "16     Afternoon      0.004879  0.001220\n",
       "17       evening     -0.037832 -0.009458\n",
       "18         Night     -0.053186 -0.013297\n",
       "</div>"
      ]
     },
     "metadata": {},
     "output_type": "display_data"
    }
   ],
   "source": [
    "result"
   ]
  },
  {
   "cell_type": "code",
   "execution_count": 123,
   "metadata": {},
   "outputs": [
    {
     "data": {
      "text/html": [
       "<style scoped>\n",
       "  .ansiout {\n",
       "    display: block;\n",
       "    unicode-bidi: embed;\n",
       "    white-space: pre-wrap;\n",
       "    word-wrap: break-word;\n",
       "    word-break: break-all;\n",
       "    font-family: \"Source Code Pro\", \"Menlo\", monospace;;\n",
       "    font-size: 13px;\n",
       "    color: #555;\n",
       "    margin-left: 4px;\n",
       "    line-height: 19px;\n",
       "  }\n",
       "</style>\n",
       "<div class=\"ansiout\"></div>"
      ]
     },
     "metadata": {},
     "output_type": "display_data"
    }
   ],
   "source": [
    "def ExtractFeatureImp(featureImp, dataset, featuresCol):\n",
    "    list_extract = []\n",
    "    for i in dataset.schema[featuresCol].metadata[\"ml_attr\"][\"attrs\"]:\n",
    "        list_extract = list_extract + dataset.schema[featuresCol].metadata[\"ml_attr\"][\"attrs\"][i]\n",
    "    varlist = pd.DataFrame(list_extract)\n",
    "    varlist['score'] = varlist['idx'].apply(lambda x: featureImp[x])\n",
    "    return(varlist.sort_values('score', ascending = False))"
   ]
  },
  {
   "cell_type": "code",
   "execution_count": 124,
   "metadata": {},
   "outputs": [
    {
     "data": {
      "text/html": [
       "<style scoped>\n",
       "  .ansiout {\n",
       "    display: block;\n",
       "    unicode-bidi: embed;\n",
       "    white-space: pre-wrap;\n",
       "    word-wrap: break-word;\n",
       "    word-break: break-all;\n",
       "    font-family: \"Source Code Pro\", \"Menlo\", monospace;;\n",
       "    font-size: 13px;\n",
       "    color: #555;\n",
       "    margin-left: 4px;\n",
       "    line-height: 19px;\n",
       "  }\n",
       "</style>\n",
       "<div class=\"ansiout\"><span class=\"ansired\">Out[</span><span class=\"ansired\">151</span><span class=\"ansired\">]: </span>\n",
       "    idx          name     score\n",
       "1     1        Medium  0.198055\n",
       "2     2       Servere  0.109800\n",
       "24   24     Near noon  0.093585\n",
       "16   16       MISSION  0.091373\n",
       "0     0         Minor  0.063193\n",
       "19   19       BAYVIEW  0.062820\n",
       "18   18       CENTRAL  0.059466\n",
       "20   20    TENDERLOIN  0.055668\n",
       "22   22       TARAVAL  0.052691\n",
       "3     3  Very Servere  0.048936\n",
       "15   15      SOUTHERN  0.047045\n",
       "26   26       evening  0.035096\n",
       "27   27         Night  0.030860\n",
       "25   25     Afternoon  0.020313\n",
       "17   17      NORTHERN  0.017993\n",
       "21   21     INGLESIDE  0.007367\n",
       "23   23          PARK  0.005739\n",
       "13   13           Oct  0.000000\n",
       "12   12           Sep  0.000000\n",
       "11   11           Aug  0.000000\n",
       "</div>"
      ]
     },
     "metadata": {},
     "output_type": "display_data"
    }
   ],
   "source": [
    "gb_m9_fit_model = gb_m9_fitted.stages[-1]\n",
    "gb_m9_trans = gb_m9_fitted.transform(validation_df)\n",
    "\n",
    "ExtractFeatureImp(gb_m9_fit_model.featureImportances, gb_m9_trans, \"features\").head(20)"
   ]
  },
  {
   "cell_type": "code",
   "execution_count": 125,
   "metadata": {},
   "outputs": [
    {
     "data": {
      "text/html": [
       "<style scoped>\n",
       "  .ansiout {\n",
       "    display: block;\n",
       "    unicode-bidi: embed;\n",
       "    white-space: pre-wrap;\n",
       "    word-wrap: break-word;\n",
       "    word-break: break-all;\n",
       "    font-family: \"Source Code Pro\", \"Menlo\", monospace;;\n",
       "    font-size: 13px;\n",
       "    color: #555;\n",
       "    margin-left: 4px;\n",
       "    line-height: 19px;\n",
       "  }\n",
       "</style>\n",
       "<div class=\"ansiout\"><span class=\"ansired\">Out[</span><span class=\"ansired\">152</span><span class=\"ansired\">]: </span>\n",
       "    idx          name     score\n",
       "3     3  Very Servere  0.423025\n",
       "0     0         Minor  0.265727\n",
       "1     1        Medium  0.216403\n",
       "2     2       Servere  0.052833\n",
       "9     9    TENDERLOIN  0.028345\n",
       "7     7       CENTRAL  0.006011\n",
       "11   11       TARAVAL  0.004311\n",
       "6     6      NORTHERN  0.002045\n",
       "5     5       MISSION  0.001300\n",
       "4     4      SOUTHERN  0.000000\n",
       "8     8       BAYVIEW  0.000000\n",
       "10   10     INGLESIDE  0.000000\n",
       "12   12          PARK  0.000000\n",
       "</div>"
      ]
     },
     "metadata": {},
     "output_type": "display_data"
    }
   ],
   "source": [
    "rf_m2_fit_model = rf_m2_fitted.stages[-1]\n",
    "m2_trans = rf_m2_fitted.transform(validation_df)\n",
    "\n",
    "ExtractFeatureImp(rf_m2_fit_model.featureImportances, m2_trans, \"features\").head(20)"
   ]
  },
  {
   "cell_type": "code",
   "execution_count": 126,
   "metadata": {},
   "outputs": [],
   "source": []
  }
 ],
 "metadata": {
  "kernelspec": {
   "display_name": "Python 3",
   "language": "python",
   "name": "python3"
  },
  "language_info": {
   "codemirror_mode": {
    "name": "ipython",
    "version": 3
   },
   "file_extension": ".py",
   "mimetype": "text/x-python",
   "name": "python",
   "nbconvert_exporter": "python",
   "pygments_lexer": "ipython3",
   "version": "3.6.5"
  },
  "name": "SF_crime_dummy_final",
  "notebookId": 1852922410933292
 },
 "nbformat": 4,
 "nbformat_minor": 1
}
